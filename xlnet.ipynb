{
  "nbformat": 4,
  "nbformat_minor": 0,
  "metadata": {
    "colab": {
      "name": "xlnet.ipynb",
      "provenance": [],
      "collapsed_sections": []
    },
    "kernelspec": {
      "name": "python3",
      "display_name": "Python 3"
    },
    "accelerator": "GPU",
    "widgets": {
      "application/vnd.jupyter.widget-state+json": {
        "11d6add5d7cf41cfbb5ee39691dbbc26": {
          "model_module": "@jupyter-widgets/controls",
          "model_name": "HBoxModel",
          "state": {
            "_view_name": "HBoxView",
            "_dom_classes": [],
            "_model_name": "HBoxModel",
            "_view_module": "@jupyter-widgets/controls",
            "_model_module_version": "1.5.0",
            "_view_count": null,
            "_view_module_version": "1.5.0",
            "box_style": "",
            "layout": "IPY_MODEL_ce03b715bc724cd3bda8727f49f2e999",
            "_model_module": "@jupyter-widgets/controls",
            "children": [
              "IPY_MODEL_dcaa4301d46547cf8f1eaf266a6abb02",
              "IPY_MODEL_59308c3e36ab4161a271613985ad2901"
            ]
          }
        },
        "ce03b715bc724cd3bda8727f49f2e999": {
          "model_module": "@jupyter-widgets/base",
          "model_name": "LayoutModel",
          "state": {
            "_view_name": "LayoutView",
            "grid_template_rows": null,
            "right": null,
            "justify_content": null,
            "_view_module": "@jupyter-widgets/base",
            "overflow": null,
            "_model_module_version": "1.2.0",
            "_view_count": null,
            "flex_flow": null,
            "width": null,
            "min_width": null,
            "border": null,
            "align_items": null,
            "bottom": null,
            "_model_module": "@jupyter-widgets/base",
            "top": null,
            "grid_column": null,
            "overflow_y": null,
            "overflow_x": null,
            "grid_auto_flow": null,
            "grid_area": null,
            "grid_template_columns": null,
            "flex": null,
            "_model_name": "LayoutModel",
            "justify_items": null,
            "grid_row": null,
            "max_height": null,
            "align_content": null,
            "visibility": null,
            "align_self": null,
            "height": null,
            "min_height": null,
            "padding": null,
            "grid_auto_rows": null,
            "grid_gap": null,
            "max_width": null,
            "order": null,
            "_view_module_version": "1.2.0",
            "grid_template_areas": null,
            "object_position": null,
            "object_fit": null,
            "grid_auto_columns": null,
            "margin": null,
            "display": null,
            "left": null
          }
        },
        "dcaa4301d46547cf8f1eaf266a6abb02": {
          "model_module": "@jupyter-widgets/controls",
          "model_name": "FloatProgressModel",
          "state": {
            "_view_name": "ProgressView",
            "style": "IPY_MODEL_9924ff06fdaf430a997c9a57b9582fda",
            "_dom_classes": [],
            "description": "Downloading: 100%",
            "_model_name": "FloatProgressModel",
            "bar_style": "success",
            "max": 798011,
            "_view_module": "@jupyter-widgets/controls",
            "_model_module_version": "1.5.0",
            "value": 798011,
            "_view_count": null,
            "_view_module_version": "1.5.0",
            "orientation": "horizontal",
            "min": 0,
            "description_tooltip": null,
            "_model_module": "@jupyter-widgets/controls",
            "layout": "IPY_MODEL_7225ab56cc604553b700584918d363ea"
          }
        },
        "59308c3e36ab4161a271613985ad2901": {
          "model_module": "@jupyter-widgets/controls",
          "model_name": "HTMLModel",
          "state": {
            "_view_name": "HTMLView",
            "style": "IPY_MODEL_a09b19b502cc435b90cc7cb239db0b96",
            "_dom_classes": [],
            "description": "",
            "_model_name": "HTMLModel",
            "placeholder": "​",
            "_view_module": "@jupyter-widgets/controls",
            "_model_module_version": "1.5.0",
            "value": " 798k/798k [00:15&lt;00:00, 51.9kB/s]",
            "_view_count": null,
            "_view_module_version": "1.5.0",
            "description_tooltip": null,
            "_model_module": "@jupyter-widgets/controls",
            "layout": "IPY_MODEL_8faa5f50f510463696abf2c1ab7cd241"
          }
        },
        "9924ff06fdaf430a997c9a57b9582fda": {
          "model_module": "@jupyter-widgets/controls",
          "model_name": "ProgressStyleModel",
          "state": {
            "_view_name": "StyleView",
            "_model_name": "ProgressStyleModel",
            "description_width": "initial",
            "_view_module": "@jupyter-widgets/base",
            "_model_module_version": "1.5.0",
            "_view_count": null,
            "_view_module_version": "1.2.0",
            "bar_color": null,
            "_model_module": "@jupyter-widgets/controls"
          }
        },
        "7225ab56cc604553b700584918d363ea": {
          "model_module": "@jupyter-widgets/base",
          "model_name": "LayoutModel",
          "state": {
            "_view_name": "LayoutView",
            "grid_template_rows": null,
            "right": null,
            "justify_content": null,
            "_view_module": "@jupyter-widgets/base",
            "overflow": null,
            "_model_module_version": "1.2.0",
            "_view_count": null,
            "flex_flow": null,
            "width": null,
            "min_width": null,
            "border": null,
            "align_items": null,
            "bottom": null,
            "_model_module": "@jupyter-widgets/base",
            "top": null,
            "grid_column": null,
            "overflow_y": null,
            "overflow_x": null,
            "grid_auto_flow": null,
            "grid_area": null,
            "grid_template_columns": null,
            "flex": null,
            "_model_name": "LayoutModel",
            "justify_items": null,
            "grid_row": null,
            "max_height": null,
            "align_content": null,
            "visibility": null,
            "align_self": null,
            "height": null,
            "min_height": null,
            "padding": null,
            "grid_auto_rows": null,
            "grid_gap": null,
            "max_width": null,
            "order": null,
            "_view_module_version": "1.2.0",
            "grid_template_areas": null,
            "object_position": null,
            "object_fit": null,
            "grid_auto_columns": null,
            "margin": null,
            "display": null,
            "left": null
          }
        },
        "a09b19b502cc435b90cc7cb239db0b96": {
          "model_module": "@jupyter-widgets/controls",
          "model_name": "DescriptionStyleModel",
          "state": {
            "_view_name": "StyleView",
            "_model_name": "DescriptionStyleModel",
            "description_width": "",
            "_view_module": "@jupyter-widgets/base",
            "_model_module_version": "1.5.0",
            "_view_count": null,
            "_view_module_version": "1.2.0",
            "_model_module": "@jupyter-widgets/controls"
          }
        },
        "8faa5f50f510463696abf2c1ab7cd241": {
          "model_module": "@jupyter-widgets/base",
          "model_name": "LayoutModel",
          "state": {
            "_view_name": "LayoutView",
            "grid_template_rows": null,
            "right": null,
            "justify_content": null,
            "_view_module": "@jupyter-widgets/base",
            "overflow": null,
            "_model_module_version": "1.2.0",
            "_view_count": null,
            "flex_flow": null,
            "width": null,
            "min_width": null,
            "border": null,
            "align_items": null,
            "bottom": null,
            "_model_module": "@jupyter-widgets/base",
            "top": null,
            "grid_column": null,
            "overflow_y": null,
            "overflow_x": null,
            "grid_auto_flow": null,
            "grid_area": null,
            "grid_template_columns": null,
            "flex": null,
            "_model_name": "LayoutModel",
            "justify_items": null,
            "grid_row": null,
            "max_height": null,
            "align_content": null,
            "visibility": null,
            "align_self": null,
            "height": null,
            "min_height": null,
            "padding": null,
            "grid_auto_rows": null,
            "grid_gap": null,
            "max_width": null,
            "order": null,
            "_view_module_version": "1.2.0",
            "grid_template_areas": null,
            "object_position": null,
            "object_fit": null,
            "grid_auto_columns": null,
            "margin": null,
            "display": null,
            "left": null
          }
        },
        "4e97e9523e1e44ff9b7793489df1402e": {
          "model_module": "@jupyter-widgets/controls",
          "model_name": "HBoxModel",
          "state": {
            "_view_name": "HBoxView",
            "_dom_classes": [],
            "_model_name": "HBoxModel",
            "_view_module": "@jupyter-widgets/controls",
            "_model_module_version": "1.5.0",
            "_view_count": null,
            "_view_module_version": "1.5.0",
            "box_style": "",
            "layout": "IPY_MODEL_d37826a0699a490c9bf566541fbb8dcf",
            "_model_module": "@jupyter-widgets/controls",
            "children": [
              "IPY_MODEL_ffd3a6b93e17421eb65c173947f46526",
              "IPY_MODEL_ed8b42e12a784dada23cc81b9ae0da58"
            ]
          }
        },
        "d37826a0699a490c9bf566541fbb8dcf": {
          "model_module": "@jupyter-widgets/base",
          "model_name": "LayoutModel",
          "state": {
            "_view_name": "LayoutView",
            "grid_template_rows": null,
            "right": null,
            "justify_content": null,
            "_view_module": "@jupyter-widgets/base",
            "overflow": null,
            "_model_module_version": "1.2.0",
            "_view_count": null,
            "flex_flow": null,
            "width": null,
            "min_width": null,
            "border": null,
            "align_items": null,
            "bottom": null,
            "_model_module": "@jupyter-widgets/base",
            "top": null,
            "grid_column": null,
            "overflow_y": null,
            "overflow_x": null,
            "grid_auto_flow": null,
            "grid_area": null,
            "grid_template_columns": null,
            "flex": null,
            "_model_name": "LayoutModel",
            "justify_items": null,
            "grid_row": null,
            "max_height": null,
            "align_content": null,
            "visibility": null,
            "align_self": null,
            "height": null,
            "min_height": null,
            "padding": null,
            "grid_auto_rows": null,
            "grid_gap": null,
            "max_width": null,
            "order": null,
            "_view_module_version": "1.2.0",
            "grid_template_areas": null,
            "object_position": null,
            "object_fit": null,
            "grid_auto_columns": null,
            "margin": null,
            "display": null,
            "left": null
          }
        },
        "ffd3a6b93e17421eb65c173947f46526": {
          "model_module": "@jupyter-widgets/controls",
          "model_name": "FloatProgressModel",
          "state": {
            "_view_name": "ProgressView",
            "style": "IPY_MODEL_aa46b58df51644c0bfcaa5adee9568ec",
            "_dom_classes": [],
            "description": "Downloading: 100%",
            "_model_name": "FloatProgressModel",
            "bar_style": "success",
            "max": 760,
            "_view_module": "@jupyter-widgets/controls",
            "_model_module_version": "1.5.0",
            "value": 760,
            "_view_count": null,
            "_view_module_version": "1.5.0",
            "orientation": "horizontal",
            "min": 0,
            "description_tooltip": null,
            "_model_module": "@jupyter-widgets/controls",
            "layout": "IPY_MODEL_90b6df8e732f4fbe9dec302dd2feecd9"
          }
        },
        "ed8b42e12a784dada23cc81b9ae0da58": {
          "model_module": "@jupyter-widgets/controls",
          "model_name": "HTMLModel",
          "state": {
            "_view_name": "HTMLView",
            "style": "IPY_MODEL_0ad92a4c8bd345e59263aa0f13fb6b46",
            "_dom_classes": [],
            "description": "",
            "_model_name": "HTMLModel",
            "placeholder": "​",
            "_view_module": "@jupyter-widgets/controls",
            "_model_module_version": "1.5.0",
            "value": " 760/760 [00:00&lt;00:00, 3.87kB/s]",
            "_view_count": null,
            "_view_module_version": "1.5.0",
            "description_tooltip": null,
            "_model_module": "@jupyter-widgets/controls",
            "layout": "IPY_MODEL_9eec18804d4e4e009d40dc5421ff70fb"
          }
        },
        "aa46b58df51644c0bfcaa5adee9568ec": {
          "model_module": "@jupyter-widgets/controls",
          "model_name": "ProgressStyleModel",
          "state": {
            "_view_name": "StyleView",
            "_model_name": "ProgressStyleModel",
            "description_width": "initial",
            "_view_module": "@jupyter-widgets/base",
            "_model_module_version": "1.5.0",
            "_view_count": null,
            "_view_module_version": "1.2.0",
            "bar_color": null,
            "_model_module": "@jupyter-widgets/controls"
          }
        },
        "90b6df8e732f4fbe9dec302dd2feecd9": {
          "model_module": "@jupyter-widgets/base",
          "model_name": "LayoutModel",
          "state": {
            "_view_name": "LayoutView",
            "grid_template_rows": null,
            "right": null,
            "justify_content": null,
            "_view_module": "@jupyter-widgets/base",
            "overflow": null,
            "_model_module_version": "1.2.0",
            "_view_count": null,
            "flex_flow": null,
            "width": null,
            "min_width": null,
            "border": null,
            "align_items": null,
            "bottom": null,
            "_model_module": "@jupyter-widgets/base",
            "top": null,
            "grid_column": null,
            "overflow_y": null,
            "overflow_x": null,
            "grid_auto_flow": null,
            "grid_area": null,
            "grid_template_columns": null,
            "flex": null,
            "_model_name": "LayoutModel",
            "justify_items": null,
            "grid_row": null,
            "max_height": null,
            "align_content": null,
            "visibility": null,
            "align_self": null,
            "height": null,
            "min_height": null,
            "padding": null,
            "grid_auto_rows": null,
            "grid_gap": null,
            "max_width": null,
            "order": null,
            "_view_module_version": "1.2.0",
            "grid_template_areas": null,
            "object_position": null,
            "object_fit": null,
            "grid_auto_columns": null,
            "margin": null,
            "display": null,
            "left": null
          }
        },
        "0ad92a4c8bd345e59263aa0f13fb6b46": {
          "model_module": "@jupyter-widgets/controls",
          "model_name": "DescriptionStyleModel",
          "state": {
            "_view_name": "StyleView",
            "_model_name": "DescriptionStyleModel",
            "description_width": "",
            "_view_module": "@jupyter-widgets/base",
            "_model_module_version": "1.5.0",
            "_view_count": null,
            "_view_module_version": "1.2.0",
            "_model_module": "@jupyter-widgets/controls"
          }
        },
        "9eec18804d4e4e009d40dc5421ff70fb": {
          "model_module": "@jupyter-widgets/base",
          "model_name": "LayoutModel",
          "state": {
            "_view_name": "LayoutView",
            "grid_template_rows": null,
            "right": null,
            "justify_content": null,
            "_view_module": "@jupyter-widgets/base",
            "overflow": null,
            "_model_module_version": "1.2.0",
            "_view_count": null,
            "flex_flow": null,
            "width": null,
            "min_width": null,
            "border": null,
            "align_items": null,
            "bottom": null,
            "_model_module": "@jupyter-widgets/base",
            "top": null,
            "grid_column": null,
            "overflow_y": null,
            "overflow_x": null,
            "grid_auto_flow": null,
            "grid_area": null,
            "grid_template_columns": null,
            "flex": null,
            "_model_name": "LayoutModel",
            "justify_items": null,
            "grid_row": null,
            "max_height": null,
            "align_content": null,
            "visibility": null,
            "align_self": null,
            "height": null,
            "min_height": null,
            "padding": null,
            "grid_auto_rows": null,
            "grid_gap": null,
            "max_width": null,
            "order": null,
            "_view_module_version": "1.2.0",
            "grid_template_areas": null,
            "object_position": null,
            "object_fit": null,
            "grid_auto_columns": null,
            "margin": null,
            "display": null,
            "left": null
          }
        },
        "a551d40a1e5c43d5acf8fd17ce3b82eb": {
          "model_module": "@jupyter-widgets/controls",
          "model_name": "HBoxModel",
          "state": {
            "_view_name": "HBoxView",
            "_dom_classes": [],
            "_model_name": "HBoxModel",
            "_view_module": "@jupyter-widgets/controls",
            "_model_module_version": "1.5.0",
            "_view_count": null,
            "_view_module_version": "1.5.0",
            "box_style": "",
            "layout": "IPY_MODEL_99036cdb53414b248b386805d6c04998",
            "_model_module": "@jupyter-widgets/controls",
            "children": [
              "IPY_MODEL_bd36c69efa934ea29a637b99850b3e3e",
              "IPY_MODEL_29934891f6c4497b832c423976d86947"
            ]
          }
        },
        "99036cdb53414b248b386805d6c04998": {
          "model_module": "@jupyter-widgets/base",
          "model_name": "LayoutModel",
          "state": {
            "_view_name": "LayoutView",
            "grid_template_rows": null,
            "right": null,
            "justify_content": null,
            "_view_module": "@jupyter-widgets/base",
            "overflow": null,
            "_model_module_version": "1.2.0",
            "_view_count": null,
            "flex_flow": null,
            "width": null,
            "min_width": null,
            "border": null,
            "align_items": null,
            "bottom": null,
            "_model_module": "@jupyter-widgets/base",
            "top": null,
            "grid_column": null,
            "overflow_y": null,
            "overflow_x": null,
            "grid_auto_flow": null,
            "grid_area": null,
            "grid_template_columns": null,
            "flex": null,
            "_model_name": "LayoutModel",
            "justify_items": null,
            "grid_row": null,
            "max_height": null,
            "align_content": null,
            "visibility": null,
            "align_self": null,
            "height": null,
            "min_height": null,
            "padding": null,
            "grid_auto_rows": null,
            "grid_gap": null,
            "max_width": null,
            "order": null,
            "_view_module_version": "1.2.0",
            "grid_template_areas": null,
            "object_position": null,
            "object_fit": null,
            "grid_auto_columns": null,
            "margin": null,
            "display": null,
            "left": null
          }
        },
        "bd36c69efa934ea29a637b99850b3e3e": {
          "model_module": "@jupyter-widgets/controls",
          "model_name": "FloatProgressModel",
          "state": {
            "_view_name": "ProgressView",
            "style": "IPY_MODEL_ad4cb89f0f454b319b1d7b87bc1c1e06",
            "_dom_classes": [],
            "description": "Downloading: 100%",
            "_model_name": "FloatProgressModel",
            "bar_style": "success",
            "max": 467042463,
            "_view_module": "@jupyter-widgets/controls",
            "_model_module_version": "1.5.0",
            "value": 467042463,
            "_view_count": null,
            "_view_module_version": "1.5.0",
            "orientation": "horizontal",
            "min": 0,
            "description_tooltip": null,
            "_model_module": "@jupyter-widgets/controls",
            "layout": "IPY_MODEL_df9023cffb7c4483a068e7cff4203593"
          }
        },
        "29934891f6c4497b832c423976d86947": {
          "model_module": "@jupyter-widgets/controls",
          "model_name": "HTMLModel",
          "state": {
            "_view_name": "HTMLView",
            "style": "IPY_MODEL_0bdc457435dd4ccfbc0ebb5278033c47",
            "_dom_classes": [],
            "description": "",
            "_model_name": "HTMLModel",
            "placeholder": "​",
            "_view_module": "@jupyter-widgets/controls",
            "_model_module_version": "1.5.0",
            "value": " 467M/467M [00:05&lt;00:00, 79.4MB/s]",
            "_view_count": null,
            "_view_module_version": "1.5.0",
            "description_tooltip": null,
            "_model_module": "@jupyter-widgets/controls",
            "layout": "IPY_MODEL_7460155b617440b3a487037f4494896e"
          }
        },
        "ad4cb89f0f454b319b1d7b87bc1c1e06": {
          "model_module": "@jupyter-widgets/controls",
          "model_name": "ProgressStyleModel",
          "state": {
            "_view_name": "StyleView",
            "_model_name": "ProgressStyleModel",
            "description_width": "initial",
            "_view_module": "@jupyter-widgets/base",
            "_model_module_version": "1.5.0",
            "_view_count": null,
            "_view_module_version": "1.2.0",
            "bar_color": null,
            "_model_module": "@jupyter-widgets/controls"
          }
        },
        "df9023cffb7c4483a068e7cff4203593": {
          "model_module": "@jupyter-widgets/base",
          "model_name": "LayoutModel",
          "state": {
            "_view_name": "LayoutView",
            "grid_template_rows": null,
            "right": null,
            "justify_content": null,
            "_view_module": "@jupyter-widgets/base",
            "overflow": null,
            "_model_module_version": "1.2.0",
            "_view_count": null,
            "flex_flow": null,
            "width": null,
            "min_width": null,
            "border": null,
            "align_items": null,
            "bottom": null,
            "_model_module": "@jupyter-widgets/base",
            "top": null,
            "grid_column": null,
            "overflow_y": null,
            "overflow_x": null,
            "grid_auto_flow": null,
            "grid_area": null,
            "grid_template_columns": null,
            "flex": null,
            "_model_name": "LayoutModel",
            "justify_items": null,
            "grid_row": null,
            "max_height": null,
            "align_content": null,
            "visibility": null,
            "align_self": null,
            "height": null,
            "min_height": null,
            "padding": null,
            "grid_auto_rows": null,
            "grid_gap": null,
            "max_width": null,
            "order": null,
            "_view_module_version": "1.2.0",
            "grid_template_areas": null,
            "object_position": null,
            "object_fit": null,
            "grid_auto_columns": null,
            "margin": null,
            "display": null,
            "left": null
          }
        },
        "0bdc457435dd4ccfbc0ebb5278033c47": {
          "model_module": "@jupyter-widgets/controls",
          "model_name": "DescriptionStyleModel",
          "state": {
            "_view_name": "StyleView",
            "_model_name": "DescriptionStyleModel",
            "description_width": "",
            "_view_module": "@jupyter-widgets/base",
            "_model_module_version": "1.5.0",
            "_view_count": null,
            "_view_module_version": "1.2.0",
            "_model_module": "@jupyter-widgets/controls"
          }
        },
        "7460155b617440b3a487037f4494896e": {
          "model_module": "@jupyter-widgets/base",
          "model_name": "LayoutModel",
          "state": {
            "_view_name": "LayoutView",
            "grid_template_rows": null,
            "right": null,
            "justify_content": null,
            "_view_module": "@jupyter-widgets/base",
            "overflow": null,
            "_model_module_version": "1.2.0",
            "_view_count": null,
            "flex_flow": null,
            "width": null,
            "min_width": null,
            "border": null,
            "align_items": null,
            "bottom": null,
            "_model_module": "@jupyter-widgets/base",
            "top": null,
            "grid_column": null,
            "overflow_y": null,
            "overflow_x": null,
            "grid_auto_flow": null,
            "grid_area": null,
            "grid_template_columns": null,
            "flex": null,
            "_model_name": "LayoutModel",
            "justify_items": null,
            "grid_row": null,
            "max_height": null,
            "align_content": null,
            "visibility": null,
            "align_self": null,
            "height": null,
            "min_height": null,
            "padding": null,
            "grid_auto_rows": null,
            "grid_gap": null,
            "max_width": null,
            "order": null,
            "_view_module_version": "1.2.0",
            "grid_template_areas": null,
            "object_position": null,
            "object_fit": null,
            "grid_auto_columns": null,
            "margin": null,
            "display": null,
            "left": null
          }
        }
      }
    }
  },
  "cells": [
    {
      "cell_type": "code",
      "metadata": {
        "id": "SWn0pPMrYpBG",
        "colab": {
          "base_uri": "https://localhost:8080/"
        },
        "outputId": "2f09716b-e0ac-4707-bd45-81faa0332022"
      },
      "source": [
        "# this mounts your Google Drive to the Colab VM.\n",
        "from google.colab import drive\n",
        "drive.mount('/content/drive', force_remount=True)\n",
        "\n",
        "# enter the foldername in your Drive where you have saved the unzipped\n",
        "# assignment folder, e.g. 'CS221/Project/'\n",
        "FOLDERNAME = 'CS221/CS221Project/'\n",
        "assert FOLDERNAME is not None, \"[!] Enter the foldername.\"\n",
        "\n",
        "# now that we've mounted your Drive, this ensures that\n",
        "# the Python interpreter of the Colab VM can load\n",
        "# python files from within it.\n",
        "import sys\n",
        "sys.path.append('/{}'.format(FOLDERNAME))\n",
        "sys.path.append('/content/drive/My Drive/NonIntNLP/Python')\n",
        "sys.path.append('/content/drive/My Drive/NonIntNLP/Python/dataloaders')\n",
        "sys.path.append('/content/drive/My Drive/NonIntNLP/Python/trainers')\n",
        "sys.path.append('/content/drive/My Drive/apex')\n"
      ],
      "execution_count": 1,
      "outputs": [
        {
          "output_type": "stream",
          "text": [
            "Mounted at /content/drive\n"
          ],
          "name": "stdout"
        }
      ]
    },
    {
      "cell_type": "code",
      "metadata": {
        "colab": {
          "base_uri": "https://localhost:8080/"
        },
        "id": "tHBqPqPwYtiE",
        "outputId": "bffe12c2-4421-4272-d9bf-e03cd858ee67"
      },
      "source": [
        "! pip install transformers\n",
        "! pip install fluentcheck"
      ],
      "execution_count": 2,
      "outputs": [
        {
          "output_type": "stream",
          "text": [
            "Collecting transformers\n",
            "\u001b[?25l  Downloading https://files.pythonhosted.org/packages/3a/83/e74092e7f24a08d751aa59b37a9fc572b2e4af3918cb66f7766c3affb1b4/transformers-3.5.1-py3-none-any.whl (1.3MB)\n",
            "\r\u001b[K     |▎                               | 10kB 26.3MB/s eta 0:00:01\r\u001b[K     |▌                               | 20kB 34.6MB/s eta 0:00:01\r\u001b[K     |▊                               | 30kB 25.6MB/s eta 0:00:01\r\u001b[K     |█                               | 40kB 20.3MB/s eta 0:00:01\r\u001b[K     |█▎                              | 51kB 14.1MB/s eta 0:00:01\r\u001b[K     |█▌                              | 61kB 15.2MB/s eta 0:00:01\r\u001b[K     |█▊                              | 71kB 14.1MB/s eta 0:00:01\r\u001b[K     |██                              | 81kB 14.1MB/s eta 0:00:01\r\u001b[K     |██▎                             | 92kB 14.5MB/s eta 0:00:01\r\u001b[K     |██▌                             | 102kB 14.6MB/s eta 0:00:01\r\u001b[K     |██▊                             | 112kB 14.6MB/s eta 0:00:01\r\u001b[K     |███                             | 122kB 14.6MB/s eta 0:00:01\r\u001b[K     |███▎                            | 133kB 14.6MB/s eta 0:00:01\r\u001b[K     |███▌                            | 143kB 14.6MB/s eta 0:00:01\r\u001b[K     |███▉                            | 153kB 14.6MB/s eta 0:00:01\r\u001b[K     |████                            | 163kB 14.6MB/s eta 0:00:01\r\u001b[K     |████▎                           | 174kB 14.6MB/s eta 0:00:01\r\u001b[K     |████▌                           | 184kB 14.6MB/s eta 0:00:01\r\u001b[K     |████▉                           | 194kB 14.6MB/s eta 0:00:01\r\u001b[K     |█████                           | 204kB 14.6MB/s eta 0:00:01\r\u001b[K     |█████▎                          | 215kB 14.6MB/s eta 0:00:01\r\u001b[K     |█████▌                          | 225kB 14.6MB/s eta 0:00:01\r\u001b[K     |█████▉                          | 235kB 14.6MB/s eta 0:00:01\r\u001b[K     |██████                          | 245kB 14.6MB/s eta 0:00:01\r\u001b[K     |██████▎                         | 256kB 14.6MB/s eta 0:00:01\r\u001b[K     |██████▌                         | 266kB 14.6MB/s eta 0:00:01\r\u001b[K     |██████▉                         | 276kB 14.6MB/s eta 0:00:01\r\u001b[K     |███████                         | 286kB 14.6MB/s eta 0:00:01\r\u001b[K     |███████▎                        | 296kB 14.6MB/s eta 0:00:01\r\u001b[K     |███████▋                        | 307kB 14.6MB/s eta 0:00:01\r\u001b[K     |███████▉                        | 317kB 14.6MB/s eta 0:00:01\r\u001b[K     |████████                        | 327kB 14.6MB/s eta 0:00:01\r\u001b[K     |████████▎                       | 337kB 14.6MB/s eta 0:00:01\r\u001b[K     |████████▋                       | 348kB 14.6MB/s eta 0:00:01\r\u001b[K     |████████▉                       | 358kB 14.6MB/s eta 0:00:01\r\u001b[K     |█████████                       | 368kB 14.6MB/s eta 0:00:01\r\u001b[K     |█████████▎                      | 378kB 14.6MB/s eta 0:00:01\r\u001b[K     |█████████▋                      | 389kB 14.6MB/s eta 0:00:01\r\u001b[K     |█████████▉                      | 399kB 14.6MB/s eta 0:00:01\r\u001b[K     |██████████                      | 409kB 14.6MB/s eta 0:00:01\r\u001b[K     |██████████▎                     | 419kB 14.6MB/s eta 0:00:01\r\u001b[K     |██████████▋                     | 430kB 14.6MB/s eta 0:00:01\r\u001b[K     |██████████▉                     | 440kB 14.6MB/s eta 0:00:01\r\u001b[K     |███████████                     | 450kB 14.6MB/s eta 0:00:01\r\u001b[K     |███████████▍                    | 460kB 14.6MB/s eta 0:00:01\r\u001b[K     |███████████▋                    | 471kB 14.6MB/s eta 0:00:01\r\u001b[K     |███████████▉                    | 481kB 14.6MB/s eta 0:00:01\r\u001b[K     |████████████                    | 491kB 14.6MB/s eta 0:00:01\r\u001b[K     |████████████▍                   | 501kB 14.6MB/s eta 0:00:01\r\u001b[K     |████████████▋                   | 512kB 14.6MB/s eta 0:00:01\r\u001b[K     |████████████▉                   | 522kB 14.6MB/s eta 0:00:01\r\u001b[K     |█████████████                   | 532kB 14.6MB/s eta 0:00:01\r\u001b[K     |█████████████▍                  | 542kB 14.6MB/s eta 0:00:01\r\u001b[K     |█████████████▋                  | 552kB 14.6MB/s eta 0:00:01\r\u001b[K     |█████████████▉                  | 563kB 14.6MB/s eta 0:00:01\r\u001b[K     |██████████████                  | 573kB 14.6MB/s eta 0:00:01\r\u001b[K     |██████████████▍                 | 583kB 14.6MB/s eta 0:00:01\r\u001b[K     |██████████████▋                 | 593kB 14.6MB/s eta 0:00:01\r\u001b[K     |██████████████▉                 | 604kB 14.6MB/s eta 0:00:01\r\u001b[K     |███████████████▏                | 614kB 14.6MB/s eta 0:00:01\r\u001b[K     |███████████████▍                | 624kB 14.6MB/s eta 0:00:01\r\u001b[K     |███████████████▋                | 634kB 14.6MB/s eta 0:00:01\r\u001b[K     |███████████████▉                | 645kB 14.6MB/s eta 0:00:01\r\u001b[K     |████████████████▏               | 655kB 14.6MB/s eta 0:00:01\r\u001b[K     |████████████████▍               | 665kB 14.6MB/s eta 0:00:01\r\u001b[K     |████████████████▋               | 675kB 14.6MB/s eta 0:00:01\r\u001b[K     |████████████████▉               | 686kB 14.6MB/s eta 0:00:01\r\u001b[K     |█████████████████▏              | 696kB 14.6MB/s eta 0:00:01\r\u001b[K     |█████████████████▍              | 706kB 14.6MB/s eta 0:00:01\r\u001b[K     |█████████████████▋              | 716kB 14.6MB/s eta 0:00:01\r\u001b[K     |██████████████████              | 727kB 14.6MB/s eta 0:00:01\r\u001b[K     |██████████████████▏             | 737kB 14.6MB/s eta 0:00:01\r\u001b[K     |██████████████████▍             | 747kB 14.6MB/s eta 0:00:01\r\u001b[K     |██████████████████▋             | 757kB 14.6MB/s eta 0:00:01\r\u001b[K     |███████████████████             | 768kB 14.6MB/s eta 0:00:01\r\u001b[K     |███████████████████▏            | 778kB 14.6MB/s eta 0:00:01\r\u001b[K     |███████████████████▍            | 788kB 14.6MB/s eta 0:00:01\r\u001b[K     |███████████████████▋            | 798kB 14.6MB/s eta 0:00:01\r\u001b[K     |████████████████████            | 808kB 14.6MB/s eta 0:00:01\r\u001b[K     |████████████████████▏           | 819kB 14.6MB/s eta 0:00:01\r\u001b[K     |████████████████████▍           | 829kB 14.6MB/s eta 0:00:01\r\u001b[K     |████████████████████▋           | 839kB 14.6MB/s eta 0:00:01\r\u001b[K     |█████████████████████           | 849kB 14.6MB/s eta 0:00:01\r\u001b[K     |█████████████████████▏          | 860kB 14.6MB/s eta 0:00:01\r\u001b[K     |█████████████████████▍          | 870kB 14.6MB/s eta 0:00:01\r\u001b[K     |█████████████████████▊          | 880kB 14.6MB/s eta 0:00:01\r\u001b[K     |██████████████████████          | 890kB 14.6MB/s eta 0:00:01\r\u001b[K     |██████████████████████▏         | 901kB 14.6MB/s eta 0:00:01\r\u001b[K     |██████████████████████▍         | 911kB 14.6MB/s eta 0:00:01\r\u001b[K     |██████████████████████▊         | 921kB 14.6MB/s eta 0:00:01\r\u001b[K     |███████████████████████         | 931kB 14.6MB/s eta 0:00:01\r\u001b[K     |███████████████████████▏        | 942kB 14.6MB/s eta 0:00:01\r\u001b[K     |███████████████████████▍        | 952kB 14.6MB/s eta 0:00:01\r\u001b[K     |███████████████████████▊        | 962kB 14.6MB/s eta 0:00:01\r\u001b[K     |████████████████████████        | 972kB 14.6MB/s eta 0:00:01\r\u001b[K     |████████████████████████▏       | 983kB 14.6MB/s eta 0:00:01\r\u001b[K     |████████████████████████▍       | 993kB 14.6MB/s eta 0:00:01\r\u001b[K     |████████████████████████▊       | 1.0MB 14.6MB/s eta 0:00:01\r\u001b[K     |█████████████████████████       | 1.0MB 14.6MB/s eta 0:00:01\r\u001b[K     |█████████████████████████▏      | 1.0MB 14.6MB/s eta 0:00:01\r\u001b[K     |█████████████████████████▌      | 1.0MB 14.6MB/s eta 0:00:01\r\u001b[K     |█████████████████████████▊      | 1.0MB 14.6MB/s eta 0:00:01\r\u001b[K     |██████████████████████████      | 1.1MB 14.6MB/s eta 0:00:01\r\u001b[K     |██████████████████████████▏     | 1.1MB 14.6MB/s eta 0:00:01\r\u001b[K     |██████████████████████████▌     | 1.1MB 14.6MB/s eta 0:00:01\r\u001b[K     |██████████████████████████▊     | 1.1MB 14.6MB/s eta 0:00:01\r\u001b[K     |███████████████████████████     | 1.1MB 14.6MB/s eta 0:00:01\r\u001b[K     |███████████████████████████▏    | 1.1MB 14.6MB/s eta 0:00:01\r\u001b[K     |███████████████████████████▌    | 1.1MB 14.6MB/s eta 0:00:01\r\u001b[K     |███████████████████████████▊    | 1.1MB 14.6MB/s eta 0:00:01\r\u001b[K     |████████████████████████████    | 1.1MB 14.6MB/s eta 0:00:01\r\u001b[K     |████████████████████████████▏   | 1.1MB 14.6MB/s eta 0:00:01\r\u001b[K     |████████████████████████████▌   | 1.2MB 14.6MB/s eta 0:00:01\r\u001b[K     |████████████████████████████▊   | 1.2MB 14.6MB/s eta 0:00:01\r\u001b[K     |█████████████████████████████   | 1.2MB 14.6MB/s eta 0:00:01\r\u001b[K     |█████████████████████████████▎  | 1.2MB 14.6MB/s eta 0:00:01\r\u001b[K     |█████████████████████████████▌  | 1.2MB 14.6MB/s eta 0:00:01\r\u001b[K     |█████████████████████████████▊  | 1.2MB 14.6MB/s eta 0:00:01\r\u001b[K     |██████████████████████████████  | 1.2MB 14.6MB/s eta 0:00:01\r\u001b[K     |██████████████████████████████▎ | 1.2MB 14.6MB/s eta 0:00:01\r\u001b[K     |██████████████████████████████▌ | 1.2MB 14.6MB/s eta 0:00:01\r\u001b[K     |██████████████████████████████▊ | 1.2MB 14.6MB/s eta 0:00:01\r\u001b[K     |███████████████████████████████ | 1.3MB 14.6MB/s eta 0:00:01\r\u001b[K     |███████████████████████████████▎| 1.3MB 14.6MB/s eta 0:00:01\r\u001b[K     |███████████████████████████████▌| 1.3MB 14.6MB/s eta 0:00:01\r\u001b[K     |███████████████████████████████▊| 1.3MB 14.6MB/s eta 0:00:01\r\u001b[K     |████████████████████████████████| 1.3MB 14.6MB/s eta 0:00:01\r\u001b[K     |████████████████████████████████| 1.3MB 14.6MB/s \n",
            "\u001b[?25hRequirement already satisfied: numpy in /usr/local/lib/python3.6/dist-packages (from transformers) (1.18.5)\n",
            "Collecting sacremoses\n",
            "\u001b[?25l  Downloading https://files.pythonhosted.org/packages/7d/34/09d19aff26edcc8eb2a01bed8e98f13a1537005d31e95233fd48216eed10/sacremoses-0.0.43.tar.gz (883kB)\n",
            "\u001b[K     |████████████████████████████████| 890kB 57.6MB/s \n",
            "\u001b[?25hRequirement already satisfied: dataclasses; python_version < \"3.7\" in /usr/local/lib/python3.6/dist-packages (from transformers) (0.7)\n",
            "Collecting sentencepiece==0.1.91\n",
            "\u001b[?25l  Downloading https://files.pythonhosted.org/packages/d4/a4/d0a884c4300004a78cca907a6ff9a5e9fe4f090f5d95ab341c53d28cbc58/sentencepiece-0.1.91-cp36-cp36m-manylinux1_x86_64.whl (1.1MB)\n",
            "\u001b[K     |████████████████████████████████| 1.1MB 48.2MB/s \n",
            "\u001b[?25hRequirement already satisfied: protobuf in /usr/local/lib/python3.6/dist-packages (from transformers) (3.12.4)\n",
            "Collecting tokenizers==0.9.3\n",
            "\u001b[?25l  Downloading https://files.pythonhosted.org/packages/4c/34/b39eb9994bc3c999270b69c9eea40ecc6f0e97991dba28282b9fd32d44ee/tokenizers-0.9.3-cp36-cp36m-manylinux1_x86_64.whl (2.9MB)\n",
            "\u001b[K     |████████████████████████████████| 2.9MB 50.7MB/s \n",
            "\u001b[?25hRequirement already satisfied: tqdm>=4.27 in /usr/local/lib/python3.6/dist-packages (from transformers) (4.41.1)\n",
            "Requirement already satisfied: regex!=2019.12.17 in /usr/local/lib/python3.6/dist-packages (from transformers) (2019.12.20)\n",
            "Requirement already satisfied: filelock in /usr/local/lib/python3.6/dist-packages (from transformers) (3.0.12)\n",
            "Requirement already satisfied: packaging in /usr/local/lib/python3.6/dist-packages (from transformers) (20.4)\n",
            "Requirement already satisfied: requests in /usr/local/lib/python3.6/dist-packages (from transformers) (2.23.0)\n",
            "Requirement already satisfied: six in /usr/local/lib/python3.6/dist-packages (from sacremoses->transformers) (1.15.0)\n",
            "Requirement already satisfied: click in /usr/local/lib/python3.6/dist-packages (from sacremoses->transformers) (7.1.2)\n",
            "Requirement already satisfied: joblib in /usr/local/lib/python3.6/dist-packages (from sacremoses->transformers) (0.17.0)\n",
            "Requirement already satisfied: setuptools in /usr/local/lib/python3.6/dist-packages (from protobuf->transformers) (50.3.2)\n",
            "Requirement already satisfied: pyparsing>=2.0.2 in /usr/local/lib/python3.6/dist-packages (from packaging->transformers) (2.4.7)\n",
            "Requirement already satisfied: urllib3!=1.25.0,!=1.25.1,<1.26,>=1.21.1 in /usr/local/lib/python3.6/dist-packages (from requests->transformers) (1.24.3)\n",
            "Requirement already satisfied: chardet<4,>=3.0.2 in /usr/local/lib/python3.6/dist-packages (from requests->transformers) (3.0.4)\n",
            "Requirement already satisfied: certifi>=2017.4.17 in /usr/local/lib/python3.6/dist-packages (from requests->transformers) (2020.6.20)\n",
            "Requirement already satisfied: idna<3,>=2.5 in /usr/local/lib/python3.6/dist-packages (from requests->transformers) (2.10)\n",
            "Building wheels for collected packages: sacremoses\n",
            "  Building wheel for sacremoses (setup.py) ... \u001b[?25l\u001b[?25hdone\n",
            "  Created wheel for sacremoses: filename=sacremoses-0.0.43-cp36-none-any.whl size=893257 sha256=fae6739541ed825a8c97075af51a59642e3b1ad6ed2160abbaa65359c54474e3\n",
            "  Stored in directory: /root/.cache/pip/wheels/29/3c/fd/7ce5c3f0666dab31a50123635e6fb5e19ceb42ce38d4e58f45\n",
            "Successfully built sacremoses\n",
            "Installing collected packages: sacremoses, sentencepiece, tokenizers, transformers\n",
            "Successfully installed sacremoses-0.0.43 sentencepiece-0.1.91 tokenizers-0.9.3 transformers-3.5.1\n",
            "Collecting fluentcheck\n",
            "  Downloading https://files.pythonhosted.org/packages/a4/34/ff3bf36cad0f158e69c11c436990032cf3ab8503a2631186f482d4a8bcf0/fluentcheck-0.2.0-py3-none-any.whl\n",
            "Collecting pyyaml>=4.2b1\n",
            "\u001b[?25l  Downloading https://files.pythonhosted.org/packages/64/c2/b80047c7ac2478f9501676c988a5411ed5572f35d1beff9cae07d321512c/PyYAML-5.3.1.tar.gz (269kB)\n",
            "\u001b[K     |████████████████████████████████| 276kB 19.1MB/s \n",
            "\u001b[?25hBuilding wheels for collected packages: pyyaml\n",
            "  Building wheel for pyyaml (setup.py) ... \u001b[?25l\u001b[?25hdone\n",
            "  Created wheel for pyyaml: filename=PyYAML-5.3.1-cp36-cp36m-linux_x86_64.whl size=44619 sha256=84bbda3fe08fcda119c6cffe50a3f24a4f74c1782ff01bc3b07939e568da6264\n",
            "  Stored in directory: /root/.cache/pip/wheels/a7/c1/ea/cf5bd31012e735dc1dfea3131a2d5eae7978b251083d6247bd\n",
            "Successfully built pyyaml\n",
            "Installing collected packages: pyyaml, fluentcheck\n",
            "  Found existing installation: PyYAML 3.13\n",
            "    Uninstalling PyYAML-3.13:\n",
            "      Successfully uninstalled PyYAML-3.13\n",
            "Successfully installed fluentcheck-0.2.0 pyyaml-5.3.1\n"
          ],
          "name": "stdout"
        }
      ]
    },
    {
      "cell_type": "code",
      "metadata": {
        "id": "IduFMEOfjJrE"
      },
      "source": [
        "# %cd /content/drive/My Drive\n",
        "# ! git clone https://github.com/neonbjb/NonIntNLP.git\n",
        "# ! ls '/content/drive/My Drive/NonIntNLP/Python/dataloaders'\n",
        "# ! git clone https://www.github.com/nvidia/apex\n",
        "# ! ls '/content/drive/My Drive/apex'\n",
        "# ! python '/content/drive/My Drive/apex/setup.py'"
      ],
      "execution_count": 3,
      "outputs": []
    },
    {
      "cell_type": "code",
      "metadata": {
        "id": "MV1a4GUhY9PS"
      },
      "source": [
        "from chunked_language_model_trainer import ChunkedLMTrainer\n",
        "from chunked_text_dataloader import ChunkedTextDataset\n",
        "from transformers import XLNetConfig, XLNetLMHeadModel, XLNetTokenizer\n",
        "\n",
        "import json\n",
        "import math\n",
        "import os\n",
        "import pandas as pd\n",
        "import random\n",
        "import torch\n",
        "import transformers"
      ],
      "execution_count": 4,
      "outputs": []
    },
    {
      "cell_type": "code",
      "metadata": {
        "id": "V-jS9faYZbbY"
      },
      "source": [
        "dataset = pd.read_csv('/content/drive/My Drive/bbc_data_original.csv')"
      ],
      "execution_count": 5,
      "outputs": []
    },
    {
      "cell_type": "code",
      "metadata": {
        "id": "rWx63ja_ZV7U",
        "colab": {
          "base_uri": "https://localhost:8080/",
          "height": 120,
          "referenced_widgets": [
            "11d6add5d7cf41cfbb5ee39691dbbc26",
            "ce03b715bc724cd3bda8727f49f2e999",
            "dcaa4301d46547cf8f1eaf266a6abb02",
            "59308c3e36ab4161a271613985ad2901",
            "9924ff06fdaf430a997c9a57b9582fda",
            "7225ab56cc604553b700584918d363ea",
            "a09b19b502cc435b90cc7cb239db0b96",
            "8faa5f50f510463696abf2c1ab7cd241"
          ]
        },
        "outputId": "3e3d9eaa-132e-4e23-82bb-72604621445f"
      },
      "source": [
        "tok = XLNetTokenizer.from_pretrained(\"xlnet-base-cased\")\n",
        "output = []\n",
        "for i in range(dataset[\"Text\"].size):\n",
        "    text = dataset[\"Text\"].get(i)\n",
        "    text_enc = tok.encode(\n",
        "        text, add_special_tokens=False, max_length=None, pad_to_max_length=True\n",
        "    )\n",
        "    summary = dataset[\"Summary\"].get(i)\n",
        "    summary_enc = tok.encode(\n",
        "        summary, add_special_tokens=False, max_length=None, pad_to_max_length=True\n",
        "    )\n",
        "    output.append({\n",
        "        \"text\": torch.tensor(text_enc, dtype=torch.long).to('cuda'),\n",
        "        \"target\": torch.tensor(summary_enc, dtype=torch.long).to('cuda'),\n",
        "    })\n",
        "\n",
        "split_index = math.ceil(len(output) * 0.9)\n",
        "train = output[:split_index]\n",
        "val = output[split_index:]\n",
        "\n",
        "torch.save(train, \"train.pt\")\n",
        "torch.save(val, \"val.pt\")"
      ],
      "execution_count": 6,
      "outputs": [
        {
          "output_type": "display_data",
          "data": {
            "application/vnd.jupyter.widget-view+json": {
              "model_id": "11d6add5d7cf41cfbb5ee39691dbbc26",
              "version_minor": 0,
              "version_major": 2
            },
            "text/plain": [
              "HBox(children=(FloatProgress(value=0.0, description='Downloading', max=798011.0, style=ProgressStyle(descripti…"
            ]
          },
          "metadata": {
            "tags": []
          }
        },
        {
          "output_type": "stream",
          "text": [
            "\n"
          ],
          "name": "stdout"
        },
        {
          "output_type": "stream",
          "text": [
            "/usr/local/lib/python3.6/dist-packages/transformers/tokenization_utils_base.py:2022: FutureWarning: The `pad_to_max_length` argument is deprecated and will be removed in a future version, use `padding=True` or `padding='longest'` to pad to the longest sequence in the batch, or use `padding='max_length'` to pad to a max length. In this case, you can give a specific length with `max_length` (e.g. `max_length=45`) or leave max_length to None to pad to the maximal input size of the model (e.g. 512 for Bert).\n",
            "  FutureWarning,\n"
          ],
          "name": "stderr"
        }
      ]
    },
    {
      "cell_type": "code",
      "metadata": {
        "id": "jdcPZ5-7yY5D"
      },
      "source": [
        "chunked_model_config = {\n",
        "    \"name\": 'model_test',\n",
        "    \"max_seq_len\": 256,\n",
        "    \"model_name\": 'xlnet-base-cased',\n",
        "    \"predict_len\": 32,\n",
        "    \"batch_size\": 1,\n",
        "    \"starting_lr\": 0.01,\n",
        "    \"output_dir\": '',\n",
        "    \"mem_len\": 64,\n",
        "}"
      ],
      "execution_count": 7,
      "outputs": []
    },
    {
      "cell_type": "code",
      "metadata": {
        "id": "KSCTpeNcZXv-"
      },
      "source": [
        "# chunked_model_config is a dictionary initialized from command line arguments. Most fields\n",
        "# are self-explanatory or can be inferred from the ChunkedTextDataset docs.\n",
        "# Get the datasets\n",
        "input_folder = \"\" # current folder of this script\n",
        "\n",
        "train_set = ChunkedTextDataset(\n",
        "    os.path.join(input_folder, \"train.pt\"),\n",
        "    tok,\n",
        "    chunked_model_config['max_seq_len'],\n",
        "    chunked_model_config['predict_len'],\n",
        "    add_pads_to_target=True,\n",
        ")\n",
        "val_set = ChunkedTextDataset(\n",
        "    os.path.join(input_folder, \"val.pt\"),\n",
        "    tok,\n",
        "    chunked_model_config['max_seq_len'],\n",
        "    chunked_model_config['predict_len'],\n",
        "    add_pads_to_target=True,\n",
        ")\n",
        "train_loader = train_set.get_dataloader(chunked_model_config['batch_size'], num_workers=0)\n",
        "val_loader = val_set.get_dataloader(chunked_model_config['batch_size'], num_workers=0)"
      ],
      "execution_count": 8,
      "outputs": []
    },
    {
      "cell_type": "code",
      "metadata": {
        "id": "HkUleU4Bl7U1",
        "colab": {
          "base_uri": "https://localhost:8080/",
          "height": 115,
          "referenced_widgets": [
            "4e97e9523e1e44ff9b7793489df1402e",
            "d37826a0699a490c9bf566541fbb8dcf",
            "ffd3a6b93e17421eb65c173947f46526",
            "ed8b42e12a784dada23cc81b9ae0da58",
            "aa46b58df51644c0bfcaa5adee9568ec",
            "90b6df8e732f4fbe9dec302dd2feecd9",
            "0ad92a4c8bd345e59263aa0f13fb6b46",
            "9eec18804d4e4e009d40dc5421ff70fb",
            "a551d40a1e5c43d5acf8fd17ce3b82eb",
            "99036cdb53414b248b386805d6c04998",
            "bd36c69efa934ea29a637b99850b3e3e",
            "29934891f6c4497b832c423976d86947",
            "ad4cb89f0f454b319b1d7b87bc1c1e06",
            "df9023cffb7c4483a068e7cff4203593",
            "0bdc457435dd4ccfbc0ebb5278033c47",
            "7460155b617440b3a487037f4494896e"
          ]
        },
        "outputId": "63a35eef-4fad-4b2a-bd69-85f3a592bfc2"
      },
      "source": [
        "config = XLNetConfig.from_pretrained(chunked_model_config[\"model_name\"])\n",
        "config.mem_len = chunked_model_config[\"mem_len\"]\n",
        "model = XLNetLMHeadModel.from_pretrained(chunked_model_config[\"model_name\"]).cuda()"
      ],
      "execution_count": 9,
      "outputs": [
        {
          "output_type": "display_data",
          "data": {
            "application/vnd.jupyter.widget-view+json": {
              "model_id": "4e97e9523e1e44ff9b7793489df1402e",
              "version_minor": 0,
              "version_major": 2
            },
            "text/plain": [
              "HBox(children=(FloatProgress(value=0.0, description='Downloading', max=760.0, style=ProgressStyle(description_…"
            ]
          },
          "metadata": {
            "tags": []
          }
        },
        {
          "output_type": "stream",
          "text": [
            "\n"
          ],
          "name": "stdout"
        },
        {
          "output_type": "display_data",
          "data": {
            "application/vnd.jupyter.widget-view+json": {
              "model_id": "a551d40a1e5c43d5acf8fd17ce3b82eb",
              "version_minor": 0,
              "version_major": 2
            },
            "text/plain": [
              "HBox(children=(FloatProgress(value=0.0, description='Downloading', max=467042463.0, style=ProgressStyle(descri…"
            ]
          },
          "metadata": {
            "tags": []
          }
        },
        {
          "output_type": "stream",
          "text": [
            "\n"
          ],
          "name": "stdout"
        }
      ]
    },
    {
      "cell_type": "code",
      "metadata": {
        "id": "0IOBD1VVr4jk"
      },
      "source": [
        "no_decay = [\"bias\", \"LayerNorm.weight\"]\n",
        "optimizer_grouped_parameters = [\n",
        "    {\n",
        "        \"params\": [\n",
        "            p\n",
        "            for n, p in model.named_parameters()\n",
        "            if not any(nd in n for nd in no_decay)\n",
        "        ],\n",
        "        \"weight_decay\": 0,\n",
        "    },\n",
        "    {\n",
        "        \"params\": [\n",
        "            p\n",
        "            for n, p in model.named_parameters()\n",
        "            if any(nd in n for nd in no_decay)\n",
        "        ],\n",
        "        \"weight_decay\": 0.0,\n",
        "    },\n",
        "]\n",
        "epochs = 1\n",
        "aggregate_batch_size = 1\n",
        "optimizer = transformers.AdamW(optimizer_grouped_parameters, lr=0.1, eps=1e-6)\n",
        "scheduler = transformers.get_linear_schedule_with_warmup(\n",
        "    optimizer,\n",
        "    num_warmup_steps=0,\n",
        "    num_training_steps=epochs * len(train_set) / aggregate_batch_size,\n",
        ")"
      ],
      "execution_count": 10,
      "outputs": []
    },
    {
      "cell_type": "code",
      "metadata": {
        "colab": {
          "base_uri": "https://localhost:8080/"
        },
        "id": "cfToHUkdsSS4",
        "outputId": "5e66986b-0376-4917-bba3-32d2e43478d2"
      },
      "source": [
        "trainer = ChunkedLMTrainer(\n",
        "        model,\n",
        "        chunked_model_config,\n",
        "        train_loader,\n",
        "        val_loader,\n",
        "        optimizer,\n",
        "        scheduler,\n",
        "        device = 'cuda',\n",
        "        is_fp16 = False,\n",
        "        desired_batch_sz = aggregate_batch_size,\n",
        "        do_wandb = False,\n",
        ")\n",
        "\n",
        "for _ in range(epochs):\n",
        "    trainer.loop()"
      ],
      "execution_count": 11,
      "outputs": [
        {
          "output_type": "stream",
          "text": [
            "\rTrain Iteration:   0%|          | 0/2002 [00:00<?, ?it/s]/usr/local/lib/python3.6/dist-packages/torch/optim/lr_scheduler.py:247: UserWarning: To get the last learning rate computed by the scheduler, please use `get_last_lr()`.\n",
            "  warnings.warn(\"To get the last learning rate computed by the scheduler, \"\n"
          ],
          "name": "stderr"
        },
        {
          "output_type": "stream",
          "text": [
            "{'avg_chunks': 0.4, 'loss': 0.7438902854919434, 'learning_rate': 0.09995004995004995, 'optimizer_steps': 1}\n"
          ],
          "name": "stdout"
        },
        {
          "output_type": "stream",
          "text": [
            "\n",
            "Val Iteration:   0%|          | 0/222 [00:00<?, ?it/s]\u001b[A\n",
            "Val Iteration:   0%|          | 1/222 [00:00<00:28,  7.75it/s]\u001b[A"
          ],
          "name": "stderr"
        },
        {
          "output_type": "stream",
          "text": [
            "Save completed. xlnet_trainer_checkpoints/chkpt_0\n"
          ],
          "name": "stdout"
        },
        {
          "output_type": "stream",
          "text": [
            "\n",
            "Val Iteration:   5%|▍         | 10/222 [00:00<00:19, 10.66it/s]\u001b[A\n",
            "Val Iteration:   6%|▌         | 13/222 [00:00<00:18, 11.32it/s]\u001b[A\n",
            "Val Iteration:   9%|▉         | 21/222 [00:00<00:13, 14.90it/s]\u001b[A\n",
            "Val Iteration:  14%|█▍        | 31/222 [00:00<00:10, 18.82it/s]\u001b[A\n",
            "Val Iteration:  18%|█▊        | 41/222 [00:01<00:07, 23.13it/s]\u001b[A\n",
            "Val Iteration:  23%|██▎       | 51/222 [00:01<00:05, 28.85it/s]\u001b[A\n",
            "Val Iteration:  27%|██▋       | 61/222 [00:01<00:04, 34.73it/s]\u001b[A\n",
            "Val Iteration:  32%|███▏      | 71/222 [00:01<00:04, 37.70it/s]\u001b[A\n",
            "Val Iteration:  36%|███▋      | 81/222 [00:01<00:03, 43.45it/s]\u001b[A\n",
            "Val Iteration:  41%|████      | 91/222 [00:01<00:03, 40.95it/s]\u001b[A\n",
            "Val Iteration:  45%|████▌     | 101/222 [00:02<00:02, 45.51it/s]\u001b[A\n",
            "Val Iteration:  50%|█████     | 111/222 [00:02<00:02, 50.04it/s]\u001b[A\n",
            "Val Iteration:  54%|█████▎    | 119/222 [00:02<00:01, 55.91it/s]\u001b[A\n",
            "Val Iteration:  57%|█████▋    | 126/222 [00:02<00:01, 49.72it/s]\u001b[A\n",
            "Val Iteration:  59%|█████▉    | 132/222 [00:02<00:02, 44.29it/s]\u001b[A\n",
            "Val Iteration:  64%|██████▎   | 141/222 [00:02<00:01, 48.35it/s]\u001b[A\n",
            "Val Iteration:  68%|██████▊   | 151/222 [00:03<00:01, 52.14it/s]\u001b[A\n",
            "Val Iteration:  73%|███████▎  | 161/222 [00:03<00:01, 45.56it/s]\u001b[A\n",
            "Val Iteration:  77%|███████▋  | 171/222 [00:03<00:01, 42.07it/s]\u001b[A\n",
            "Val Iteration:  82%|████████▏ | 181/222 [00:03<00:00, 43.93it/s]\u001b[A\n",
            "Val Iteration:  86%|████████▌ | 191/222 [00:04<00:00, 41.20it/s]\u001b[A\n",
            "Val Iteration:  90%|████████▉ | 199/222 [00:04<00:00, 47.52it/s]\u001b[A\n",
            "Val Iteration:  92%|█████████▏| 205/222 [00:04<00:00, 36.43it/s]\u001b[A\n",
            "Val Iteration:  95%|█████████▌| 211/222 [00:04<00:00, 40.11it/s]\u001b[A\n",
            "Val Iteration: 100%|█████████▉| 221/222 [00:04<00:00, 46.59it/s]\n",
            "Train Iteration:   0%|          | 1/2002 [00:06<3:39:43,  6.59s/it]"
          ],
          "name": "stderr"
        },
        {
          "output_type": "stream",
          "text": [
            "Validation loss: 48.33228799571162\n"
          ],
          "name": "stdout"
        },
        {
          "output_type": "stream",
          "text": [
            "Train Iteration:   0%|          | 6/2002 [00:07<42:56,  1.29s/it]"
          ],
          "name": "stderr"
        },
        {
          "output_type": "stream",
          "text": [
            "{'avg_chunks': 2.4, 'loss': 103.04583511352538, 'learning_rate': 0.0997002997002997, 'optimizer_steps': 6}\n"
          ],
          "name": "stdout"
        },
        {
          "output_type": "stream",
          "text": [
            "Train Iteration:   1%|          | 11/2002 [00:08<13:37,  2.44it/s]"
          ],
          "name": "stderr"
        },
        {
          "output_type": "stream",
          "text": [
            "{'avg_chunks': 2.4, 'loss': 149.0715789794922, 'learning_rate': 0.09945054945054946, 'optimizer_steps': 11}\n"
          ],
          "name": "stdout"
        },
        {
          "output_type": "stream",
          "text": [
            "Train Iteration:   1%|          | 16/2002 [00:10<08:07,  4.07it/s]"
          ],
          "name": "stderr"
        },
        {
          "output_type": "stream",
          "text": [
            "{'avg_chunks': 2.4, 'loss': 215.9783142089844, 'learning_rate': 0.09920079920079922, 'optimizer_steps': 16}\n"
          ],
          "name": "stdout"
        },
        {
          "output_type": "stream",
          "text": [
            "Train Iteration:   1%|          | 21/2002 [00:11<07:39,  4.31it/s]"
          ],
          "name": "stderr"
        },
        {
          "output_type": "stream",
          "text": [
            "{'avg_chunks': 2.4, 'loss': 177.10672607421876, 'learning_rate': 0.09895104895104895, 'optimizer_steps': 21}\n"
          ],
          "name": "stdout"
        },
        {
          "output_type": "stream",
          "text": [
            "Train Iteration:   1%|▏         | 27/2002 [00:12<08:09,  4.04it/s]"
          ],
          "name": "stderr"
        },
        {
          "output_type": "stream",
          "text": [
            "{'avg_chunks': 3.2, 'loss': 144.3114807128906, 'learning_rate': 0.0987012987012987, 'optimizer_steps': 26}\n"
          ],
          "name": "stdout"
        },
        {
          "output_type": "stream",
          "text": [
            "Train Iteration:   2%|▏         | 31/2002 [00:14<08:13,  3.99it/s]"
          ],
          "name": "stderr"
        },
        {
          "output_type": "stream",
          "text": [
            "{'avg_chunks': 2.6, 'loss': 118.37667999267578, 'learning_rate': 0.09845154845154847, 'optimizer_steps': 31}\n"
          ],
          "name": "stdout"
        },
        {
          "output_type": "stream",
          "text": [
            "Train Iteration:   2%|▏         | 36/2002 [00:15<09:45,  3.36it/s]"
          ],
          "name": "stderr"
        },
        {
          "output_type": "stream",
          "text": [
            "{'avg_chunks': 2.8, 'loss': 55.73115234375, 'learning_rate': 0.09820179820179821, 'optimizer_steps': 36}\n"
          ],
          "name": "stdout"
        },
        {
          "output_type": "stream",
          "text": [
            "Train Iteration:   2%|▏         | 41/2002 [00:16<08:31,  3.83it/s]"
          ],
          "name": "stderr"
        },
        {
          "output_type": "stream",
          "text": [
            "{'avg_chunks': 2.6, 'loss': 53.54200820922851, 'learning_rate': 0.09795204795204795, 'optimizer_steps': 41}\n"
          ],
          "name": "stdout"
        },
        {
          "output_type": "stream",
          "text": [
            "Train Iteration:   2%|▏         | 46/2002 [00:17<08:32,  3.81it/s]"
          ],
          "name": "stderr"
        },
        {
          "output_type": "stream",
          "text": [
            "{'avg_chunks': 2.4, 'loss': 46.70757904052734, 'learning_rate': 0.09770229770229771, 'optimizer_steps': 46}\n"
          ],
          "name": "stdout"
        },
        {
          "output_type": "stream",
          "text": [
            "Train Iteration:   3%|▎         | 51/2002 [00:18<07:03,  4.61it/s]"
          ],
          "name": "stderr"
        },
        {
          "output_type": "stream",
          "text": [
            "{'avg_chunks': 2.0, 'loss': 36.16923141479492, 'learning_rate': 0.09745254745254746, 'optimizer_steps': 51}\n"
          ],
          "name": "stdout"
        },
        {
          "output_type": "stream",
          "text": [
            "Train Iteration:   3%|▎         | 57/2002 [00:20<07:16,  4.46it/s]"
          ],
          "name": "stderr"
        },
        {
          "output_type": "stream",
          "text": [
            "{'avg_chunks': 2.4, 'loss': 25.05093994140625, 'learning_rate': 0.0972027972027972, 'optimizer_steps': 56}\n"
          ],
          "name": "stdout"
        },
        {
          "output_type": "stream",
          "text": [
            "Train Iteration:   3%|▎         | 61/2002 [00:20<06:12,  5.21it/s]"
          ],
          "name": "stderr"
        },
        {
          "output_type": "stream",
          "text": [
            "{'avg_chunks': 1.6, 'loss': 25.31758842468262, 'learning_rate': 0.09695304695304696, 'optimizer_steps': 61}\n"
          ],
          "name": "stdout"
        },
        {
          "output_type": "stream",
          "text": [
            "Train Iteration:   3%|▎         | 66/2002 [00:22<07:12,  4.48it/s]"
          ],
          "name": "stderr"
        },
        {
          "output_type": "stream",
          "text": [
            "{'avg_chunks': 2.2, 'loss': 19.213733673095703, 'learning_rate': 0.0967032967032967, 'optimizer_steps': 66}\n"
          ],
          "name": "stdout"
        },
        {
          "output_type": "stream",
          "text": [
            "Train Iteration:   4%|▎         | 71/2002 [00:23<08:01,  4.01it/s]"
          ],
          "name": "stderr"
        },
        {
          "output_type": "stream",
          "text": [
            "{'avg_chunks': 2.8, 'loss': 20.511669921875, 'learning_rate': 0.09645354645354647, 'optimizer_steps': 71}\n"
          ],
          "name": "stdout"
        },
        {
          "output_type": "stream",
          "text": [
            "Train Iteration:   4%|▍         | 76/2002 [00:24<08:07,  3.95it/s]"
          ],
          "name": "stderr"
        },
        {
          "output_type": "stream",
          "text": [
            "{'avg_chunks': 2.4, 'loss': 22.820590591430665, 'learning_rate': 0.09620379620379621, 'optimizer_steps': 76}\n"
          ],
          "name": "stdout"
        },
        {
          "output_type": "stream",
          "text": [
            "Train Iteration:   4%|▍         | 81/2002 [00:26<09:27,  3.39it/s]"
          ],
          "name": "stderr"
        },
        {
          "output_type": "stream",
          "text": [
            "{'avg_chunks': 3.4, 'loss': 20.448147201538085, 'learning_rate': 0.09595404595404596, 'optimizer_steps': 81}\n"
          ],
          "name": "stdout"
        },
        {
          "output_type": "stream",
          "text": [
            "Train Iteration:   4%|▍         | 86/2002 [00:27<08:28,  3.77it/s]"
          ],
          "name": "stderr"
        },
        {
          "output_type": "stream",
          "text": [
            "{'avg_chunks': 2.6, 'loss': 20.763956832885743, 'learning_rate': 0.09570429570429571, 'optimizer_steps': 86}\n"
          ],
          "name": "stdout"
        },
        {
          "output_type": "stream",
          "text": [
            "Train Iteration:   5%|▍         | 91/2002 [00:28<07:26,  4.28it/s]"
          ],
          "name": "stderr"
        },
        {
          "output_type": "stream",
          "text": [
            "{'avg_chunks': 2.4, 'loss': 17.77301445007324, 'learning_rate': 0.09545454545454546, 'optimizer_steps': 91}\n"
          ],
          "name": "stdout"
        },
        {
          "output_type": "stream",
          "text": [
            "Train Iteration:   5%|▍         | 96/2002 [00:29<07:52,  4.03it/s]"
          ],
          "name": "stderr"
        },
        {
          "output_type": "stream",
          "text": [
            "{'avg_chunks': 2.4, 'loss': 18.1457576751709, 'learning_rate': 0.0952047952047952, 'optimizer_steps': 96}\n"
          ],
          "name": "stdout"
        },
        {
          "output_type": "stream",
          "text": [
            "Train Iteration:   5%|▌         | 101/2002 [00:31<07:38,  4.15it/s]"
          ],
          "name": "stderr"
        },
        {
          "output_type": "stream",
          "text": [
            "{'avg_chunks': 2.8, 'loss': 16.75584259033203, 'learning_rate': 0.09495504495504496, 'optimizer_steps': 101}\n"
          ],
          "name": "stdout"
        },
        {
          "output_type": "stream",
          "text": [
            "Train Iteration:   5%|▌         | 106/2002 [00:32<07:24,  4.27it/s]"
          ],
          "name": "stderr"
        },
        {
          "output_type": "stream",
          "text": [
            "{'avg_chunks': 2.2, 'loss': 16.66281394958496, 'learning_rate': 0.09470529470529471, 'optimizer_steps': 106}\n"
          ],
          "name": "stdout"
        },
        {
          "output_type": "stream",
          "text": [
            "Train Iteration:   6%|▌         | 112/2002 [00:33<06:56,  4.54it/s]"
          ],
          "name": "stderr"
        },
        {
          "output_type": "stream",
          "text": [
            "{'avg_chunks': 2.4, 'loss': 16.462391662597657, 'learning_rate': 0.09445554445554447, 'optimizer_steps': 111}\n"
          ],
          "name": "stdout"
        },
        {
          "output_type": "stream",
          "text": [
            "Train Iteration:   6%|▌         | 116/2002 [00:34<07:36,  4.13it/s]"
          ],
          "name": "stderr"
        },
        {
          "output_type": "stream",
          "text": [
            "{'avg_chunks': 2.2, 'loss': 12.727856254577636, 'learning_rate': 0.09420579420579421, 'optimizer_steps': 116}\n"
          ],
          "name": "stdout"
        },
        {
          "output_type": "stream",
          "text": [
            "Train Iteration:   6%|▌         | 121/2002 [00:35<07:08,  4.39it/s]"
          ],
          "name": "stderr"
        },
        {
          "output_type": "stream",
          "text": [
            "{'avg_chunks': 2.4, 'loss': 16.161770820617676, 'learning_rate': 0.09395604395604396, 'optimizer_steps': 121}\n"
          ],
          "name": "stdout"
        },
        {
          "output_type": "stream",
          "text": [
            "Train Iteration:   6%|▋         | 126/2002 [00:37<09:03,  3.45it/s]"
          ],
          "name": "stderr"
        },
        {
          "output_type": "stream",
          "text": [
            "{'avg_chunks': 3.0, 'loss': 16.003500938415527, 'learning_rate': 0.09370629370629371, 'optimizer_steps': 126}\n"
          ],
          "name": "stdout"
        },
        {
          "output_type": "stream",
          "text": [
            "Train Iteration:   7%|▋         | 131/2002 [00:38<06:50,  4.56it/s]"
          ],
          "name": "stderr"
        },
        {
          "output_type": "stream",
          "text": [
            "{'avg_chunks': 2.0, 'loss': 15.687211608886718, 'learning_rate': 0.09345654345654347, 'optimizer_steps': 131}\n"
          ],
          "name": "stdout"
        },
        {
          "output_type": "stream",
          "text": [
            "Train Iteration:   7%|▋         | 136/2002 [00:39<06:27,  4.82it/s]"
          ],
          "name": "stderr"
        },
        {
          "output_type": "stream",
          "text": [
            "{'avg_chunks': 2.0, 'loss': 14.002287101745605, 'learning_rate': 0.0932067932067932, 'optimizer_steps': 136}\n"
          ],
          "name": "stdout"
        },
        {
          "output_type": "stream",
          "text": [
            "Train Iteration:   7%|▋         | 141/2002 [00:40<07:49,  3.96it/s]"
          ],
          "name": "stderr"
        },
        {
          "output_type": "stream",
          "text": [
            "{'avg_chunks': 2.4, 'loss': 15.668413734436035, 'learning_rate': 0.09295704295704296, 'optimizer_steps': 141}\n"
          ],
          "name": "stdout"
        },
        {
          "output_type": "stream",
          "text": [
            "Train Iteration:   7%|▋         | 146/2002 [00:41<06:44,  4.59it/s]"
          ],
          "name": "stderr"
        },
        {
          "output_type": "stream",
          "text": [
            "{'avg_chunks': 2.0, 'loss': 16.51475238800049, 'learning_rate': 0.09270729270729272, 'optimizer_steps': 146}\n"
          ],
          "name": "stdout"
        },
        {
          "output_type": "stream",
          "text": [
            "Train Iteration:   8%|▊         | 151/2002 [00:42<06:48,  4.53it/s]"
          ],
          "name": "stderr"
        },
        {
          "output_type": "stream",
          "text": [
            "{'avg_chunks': 2.0, 'loss': 17.48291721343994, 'learning_rate': 0.09245754245754245, 'optimizer_steps': 151}\n"
          ],
          "name": "stdout"
        },
        {
          "output_type": "stream",
          "text": [
            "Train Iteration:   8%|▊         | 156/2002 [00:43<07:05,  4.34it/s]"
          ],
          "name": "stderr"
        },
        {
          "output_type": "stream",
          "text": [
            "{'avg_chunks': 2.2, 'loss': 16.19205799102783, 'learning_rate': 0.09220779220779221, 'optimizer_steps': 156}\n"
          ],
          "name": "stdout"
        },
        {
          "output_type": "stream",
          "text": [
            "Train Iteration:   8%|▊         | 161/2002 [00:44<07:13,  4.25it/s]"
          ],
          "name": "stderr"
        },
        {
          "output_type": "stream",
          "text": [
            "{'avg_chunks': 2.2, 'loss': 13.468327522277832, 'learning_rate': 0.09195804195804197, 'optimizer_steps': 161}\n"
          ],
          "name": "stdout"
        },
        {
          "output_type": "stream",
          "text": [
            "Train Iteration:   8%|▊         | 166/2002 [00:45<06:25,  4.76it/s]"
          ],
          "name": "stderr"
        },
        {
          "output_type": "stream",
          "text": [
            "{'avg_chunks': 2.0, 'loss': 14.923709297180176, 'learning_rate': 0.09170829170829171, 'optimizer_steps': 166}\n"
          ],
          "name": "stdout"
        },
        {
          "output_type": "stream",
          "text": [
            "Train Iteration:   9%|▊         | 171/2002 [00:46<05:56,  5.13it/s]"
          ],
          "name": "stderr"
        },
        {
          "output_type": "stream",
          "text": [
            "{'avg_chunks': 1.8, 'loss': 14.467556381225586, 'learning_rate': 0.09145854145854146, 'optimizer_steps': 171}\n"
          ],
          "name": "stdout"
        },
        {
          "output_type": "stream",
          "text": [
            "Train Iteration:   9%|▉         | 176/2002 [00:48<07:09,  4.25it/s]"
          ],
          "name": "stderr"
        },
        {
          "output_type": "stream",
          "text": [
            "{'avg_chunks': 2.6, 'loss': 14.528766059875489, 'learning_rate': 0.09120879120879122, 'optimizer_steps': 176}\n"
          ],
          "name": "stdout"
        },
        {
          "output_type": "stream",
          "text": [
            "Train Iteration:   9%|▉         | 181/2002 [00:49<07:46,  3.91it/s]"
          ],
          "name": "stderr"
        },
        {
          "output_type": "stream",
          "text": [
            "{'avg_chunks': 2.8, 'loss': 15.000835418701172, 'learning_rate': 0.09095904095904096, 'optimizer_steps': 181}\n"
          ],
          "name": "stdout"
        },
        {
          "output_type": "stream",
          "text": [
            "Train Iteration:   9%|▉         | 186/2002 [00:50<07:27,  4.05it/s]"
          ],
          "name": "stderr"
        },
        {
          "output_type": "stream",
          "text": [
            "{'avg_chunks': 2.6, 'loss': 13.10334587097168, 'learning_rate': 0.09070929070929072, 'optimizer_steps': 186}\n"
          ],
          "name": "stdout"
        },
        {
          "output_type": "stream",
          "text": [
            "Train Iteration:  10%|▉         | 191/2002 [00:51<07:19,  4.12it/s]"
          ],
          "name": "stderr"
        },
        {
          "output_type": "stream",
          "text": [
            "{'avg_chunks': 2.4, 'loss': 13.101942253112792, 'learning_rate': 0.09045954045954047, 'optimizer_steps': 191}\n"
          ],
          "name": "stdout"
        },
        {
          "output_type": "stream",
          "text": [
            "Train Iteration:  10%|▉         | 196/2002 [00:53<09:12,  3.27it/s]"
          ],
          "name": "stderr"
        },
        {
          "output_type": "stream",
          "text": [
            "{'avg_chunks': 3.4, 'loss': 12.50081844329834, 'learning_rate': 0.09020979020979021, 'optimizer_steps': 196}\n"
          ],
          "name": "stdout"
        },
        {
          "output_type": "stream",
          "text": [
            "Train Iteration:  10%|█         | 201/2002 [00:54<07:34,  3.97it/s]"
          ],
          "name": "stderr"
        },
        {
          "output_type": "stream",
          "text": [
            "{'avg_chunks': 2.6, 'loss': 12.555005264282226, 'learning_rate': 0.08996003996003997, 'optimizer_steps': 201}\n"
          ],
          "name": "stdout"
        },
        {
          "output_type": "stream",
          "text": [
            "Train Iteration:  10%|█         | 207/2002 [00:56<06:01,  4.97it/s]"
          ],
          "name": "stderr"
        },
        {
          "output_type": "stream",
          "text": [
            "{'avg_chunks': 2.2, 'loss': 11.578371620178222, 'learning_rate': 0.08971028971028971, 'optimizer_steps': 206}\n"
          ],
          "name": "stdout"
        },
        {
          "output_type": "stream",
          "text": [
            "Train Iteration:  11%|█         | 211/2002 [00:57<07:00,  4.25it/s]"
          ],
          "name": "stderr"
        },
        {
          "output_type": "stream",
          "text": [
            "{'avg_chunks': 2.2, 'loss': 12.472086334228516, 'learning_rate': 0.08946053946053946, 'optimizer_steps': 211}\n"
          ],
          "name": "stdout"
        },
        {
          "output_type": "stream",
          "text": [
            "Train Iteration:  11%|█         | 216/2002 [00:58<07:13,  4.12it/s]"
          ],
          "name": "stderr"
        },
        {
          "output_type": "stream",
          "text": [
            "{'avg_chunks': 2.4, 'loss': 11.450739479064941, 'learning_rate': 0.08921078921078922, 'optimizer_steps': 216}\n"
          ],
          "name": "stdout"
        },
        {
          "output_type": "stream",
          "text": [
            "Train Iteration:  11%|█         | 221/2002 [00:59<06:49,  4.35it/s]"
          ],
          "name": "stderr"
        },
        {
          "output_type": "stream",
          "text": [
            "{'avg_chunks': 2.4, 'loss': 11.593353080749512, 'learning_rate': 0.08896103896103896, 'optimizer_steps': 221}\n"
          ],
          "name": "stdout"
        },
        {
          "output_type": "stream",
          "text": [
            "Train Iteration:  11%|█▏        | 226/2002 [01:02<24:27,  1.21it/s]"
          ],
          "name": "stderr"
        },
        {
          "output_type": "stream",
          "text": [
            "{'avg_chunks': 5.0, 'loss': 10.556093215942383, 'learning_rate': 0.08871128871128872, 'optimizer_steps': 226}\n"
          ],
          "name": "stdout"
        },
        {
          "output_type": "stream",
          "text": [
            "Train Iteration:  12%|█▏        | 231/2002 [01:04<11:29,  2.57it/s]"
          ],
          "name": "stderr"
        },
        {
          "output_type": "stream",
          "text": [
            "{'avg_chunks': 3.0, 'loss': 12.746941566467285, 'learning_rate': 0.08846153846153847, 'optimizer_steps': 231}\n"
          ],
          "name": "stdout"
        },
        {
          "output_type": "stream",
          "text": [
            "Train Iteration:  12%|█▏        | 236/2002 [01:05<08:17,  3.55it/s]"
          ],
          "name": "stderr"
        },
        {
          "output_type": "stream",
          "text": [
            "{'avg_chunks': 2.6, 'loss': 12.37319507598877, 'learning_rate': 0.08821178821178821, 'optimizer_steps': 236}\n"
          ],
          "name": "stdout"
        },
        {
          "output_type": "stream",
          "text": [
            "Train Iteration:  12%|█▏        | 241/2002 [01:06<07:44,  3.79it/s]"
          ],
          "name": "stderr"
        },
        {
          "output_type": "stream",
          "text": [
            "{'avg_chunks': 2.8, 'loss': 11.462517738342285, 'learning_rate': 0.08796203796203797, 'optimizer_steps': 241}\n"
          ],
          "name": "stdout"
        },
        {
          "output_type": "stream",
          "text": [
            "Train Iteration:  12%|█▏        | 246/2002 [01:08<07:06,  4.12it/s]"
          ],
          "name": "stderr"
        },
        {
          "output_type": "stream",
          "text": [
            "{'avg_chunks': 2.2, 'loss': 11.306901741027833, 'learning_rate': 0.08771228771228773, 'optimizer_steps': 246}\n"
          ],
          "name": "stdout"
        },
        {
          "output_type": "stream",
          "text": [
            "Train Iteration:  13%|█▎        | 251/2002 [01:09<07:53,  3.70it/s]"
          ],
          "name": "stderr"
        },
        {
          "output_type": "stream",
          "text": [
            "{'avg_chunks': 2.8, 'loss': 10.132409858703614, 'learning_rate': 0.08746253746253746, 'optimizer_steps': 251}\n"
          ],
          "name": "stdout"
        },
        {
          "output_type": "stream",
          "text": [
            "Train Iteration:  13%|█▎        | 256/2002 [01:10<07:24,  3.93it/s]"
          ],
          "name": "stderr"
        },
        {
          "output_type": "stream",
          "text": [
            "{'avg_chunks': 2.4, 'loss': 10.689513778686523, 'learning_rate': 0.08721278721278722, 'optimizer_steps': 256}\n"
          ],
          "name": "stdout"
        },
        {
          "output_type": "stream",
          "text": [
            "Train Iteration:  13%|█▎        | 261/2002 [01:11<06:15,  4.63it/s]"
          ],
          "name": "stderr"
        },
        {
          "output_type": "stream",
          "text": [
            "{'avg_chunks': 2.0, 'loss': 10.772686767578126, 'learning_rate': 0.08696303696303698, 'optimizer_steps': 261}\n"
          ],
          "name": "stdout"
        },
        {
          "output_type": "stream",
          "text": [
            "Train Iteration:  13%|█▎        | 266/2002 [01:15<16:00,  1.81it/s]"
          ],
          "name": "stderr"
        },
        {
          "output_type": "stream",
          "text": [
            "{'avg_chunks': 5.6, 'loss': 11.228912544250488, 'learning_rate': 0.08671328671328671, 'optimizer_steps': 266}\n"
          ],
          "name": "stdout"
        },
        {
          "output_type": "stream",
          "text": [
            "Train Iteration:  14%|█▎        | 271/2002 [01:17<10:54,  2.65it/s]"
          ],
          "name": "stderr"
        },
        {
          "output_type": "stream",
          "text": [
            "{'avg_chunks': 3.4, 'loss': 10.403812599182128, 'learning_rate': 0.08646353646353647, 'optimizer_steps': 271}\n"
          ],
          "name": "stdout"
        },
        {
          "output_type": "stream",
          "text": [
            "Train Iteration:  14%|█▍        | 276/2002 [01:19<09:29,  3.03it/s]"
          ],
          "name": "stderr"
        },
        {
          "output_type": "stream",
          "text": [
            "{'avg_chunks': 3.2, 'loss': 10.87584228515625, 'learning_rate': 0.08621378621378623, 'optimizer_steps': 276}\n"
          ],
          "name": "stdout"
        },
        {
          "output_type": "stream",
          "text": [
            "Train Iteration:  14%|█▍        | 281/2002 [01:20<06:24,  4.48it/s]"
          ],
          "name": "stderr"
        },
        {
          "output_type": "stream",
          "text": [
            "{'avg_chunks': 1.8, 'loss': 10.525705337524414, 'learning_rate': 0.08596403596403597, 'optimizer_steps': 281}\n"
          ],
          "name": "stdout"
        },
        {
          "output_type": "stream",
          "text": [
            "Train Iteration:  14%|█▍        | 286/2002 [01:21<07:29,  3.82it/s]"
          ],
          "name": "stderr"
        },
        {
          "output_type": "stream",
          "text": [
            "{'avg_chunks': 2.6, 'loss': 10.7236328125, 'learning_rate': 0.08571428571428572, 'optimizer_steps': 286}\n"
          ],
          "name": "stdout"
        },
        {
          "output_type": "stream",
          "text": [
            "Train Iteration:  15%|█▍        | 291/2002 [01:22<06:54,  4.13it/s]"
          ],
          "name": "stderr"
        },
        {
          "output_type": "stream",
          "text": [
            "{'avg_chunks': 2.2, 'loss': 10.171555328369141, 'learning_rate': 0.08546453546453547, 'optimizer_steps': 291}\n"
          ],
          "name": "stdout"
        },
        {
          "output_type": "stream",
          "text": [
            "Train Iteration:  15%|█▍        | 296/2002 [01:23<06:12,  4.58it/s]"
          ],
          "name": "stderr"
        },
        {
          "output_type": "stream",
          "text": [
            "{'avg_chunks': 2.0, 'loss': 10.805049514770507, 'learning_rate': 0.08521478521478522, 'optimizer_steps': 296}\n"
          ],
          "name": "stdout"
        },
        {
          "output_type": "stream",
          "text": [
            "Train Iteration:  15%|█▌        | 301/2002 [01:24<07:57,  3.57it/s]"
          ],
          "name": "stderr"
        },
        {
          "output_type": "stream",
          "text": [
            "{'avg_chunks': 2.6, 'loss': 10.190899276733399, 'learning_rate': 0.08496503496503498, 'optimizer_steps': 301}\n"
          ],
          "name": "stdout"
        },
        {
          "output_type": "stream",
          "text": [
            "Train Iteration:  15%|█▌        | 306/2002 [01:26<07:03,  4.00it/s]"
          ],
          "name": "stderr"
        },
        {
          "output_type": "stream",
          "text": [
            "{'avg_chunks': 2.6, 'loss': 11.891876792907714, 'learning_rate': 0.08471528471528472, 'optimizer_steps': 306}\n"
          ],
          "name": "stdout"
        },
        {
          "output_type": "stream",
          "text": [
            "Train Iteration:  16%|█▌        | 311/2002 [01:27<05:55,  4.75it/s]"
          ],
          "name": "stderr"
        },
        {
          "output_type": "stream",
          "text": [
            "{'avg_chunks': 2.0, 'loss': 10.156708908081054, 'learning_rate': 0.08446553446553447, 'optimizer_steps': 311}\n"
          ],
          "name": "stdout"
        },
        {
          "output_type": "stream",
          "text": [
            "Train Iteration:  16%|█▌        | 316/2002 [01:28<07:32,  3.73it/s]"
          ],
          "name": "stderr"
        },
        {
          "output_type": "stream",
          "text": [
            "{'avg_chunks': 2.8, 'loss': 10.519412803649903, 'learning_rate': 0.08421578421578423, 'optimizer_steps': 316}\n"
          ],
          "name": "stdout"
        },
        {
          "output_type": "stream",
          "text": [
            "Train Iteration:  16%|█▌        | 321/2002 [01:29<06:41,  4.18it/s]"
          ],
          "name": "stderr"
        },
        {
          "output_type": "stream",
          "text": [
            "{'avg_chunks': 2.4, 'loss': 11.353215980529786, 'learning_rate': 0.08396603396603397, 'optimizer_steps': 321}\n"
          ],
          "name": "stdout"
        },
        {
          "output_type": "stream",
          "text": [
            "Train Iteration:  16%|█▋        | 326/2002 [01:33<12:02,  2.32it/s]"
          ],
          "name": "stderr"
        },
        {
          "output_type": "stream",
          "text": [
            "{'avg_chunks': 5.2, 'loss': 11.344393157958985, 'learning_rate': 0.08371628371628372, 'optimizer_steps': 326}\n"
          ],
          "name": "stdout"
        },
        {
          "output_type": "stream",
          "text": [
            "Train Iteration:  17%|█▋        | 331/2002 [01:34<07:26,  3.74it/s]"
          ],
          "name": "stderr"
        },
        {
          "output_type": "stream",
          "text": [
            "{'avg_chunks': 2.4, 'loss': 11.987795639038087, 'learning_rate': 0.08346653346653347, 'optimizer_steps': 331}\n"
          ],
          "name": "stdout"
        },
        {
          "output_type": "stream",
          "text": [
            "Train Iteration:  17%|█▋        | 336/2002 [01:35<07:18,  3.80it/s]"
          ],
          "name": "stderr"
        },
        {
          "output_type": "stream",
          "text": [
            "{'avg_chunks': 2.8, 'loss': 11.230937576293945, 'learning_rate': 0.08321678321678322, 'optimizer_steps': 336}\n"
          ],
          "name": "stdout"
        },
        {
          "output_type": "stream",
          "text": [
            "Train Iteration:  17%|█▋        | 341/2002 [01:37<06:54,  4.01it/s]"
          ],
          "name": "stderr"
        },
        {
          "output_type": "stream",
          "text": [
            "{'avg_chunks': 2.2, 'loss': 11.114351081848145, 'learning_rate': 0.08296703296703298, 'optimizer_steps': 341}\n"
          ],
          "name": "stdout"
        },
        {
          "output_type": "stream",
          "text": [
            "Train Iteration:  17%|█▋        | 346/2002 [01:38<08:11,  3.37it/s]"
          ],
          "name": "stderr"
        },
        {
          "output_type": "stream",
          "text": [
            "{'avg_chunks': 3.0, 'loss': 10.248744773864747, 'learning_rate': 0.08271728271728272, 'optimizer_steps': 346}\n"
          ],
          "name": "stdout"
        },
        {
          "output_type": "stream",
          "text": [
            "Train Iteration:  18%|█▊        | 351/2002 [01:40<09:08,  3.01it/s]"
          ],
          "name": "stderr"
        },
        {
          "output_type": "stream",
          "text": [
            "{'avg_chunks': 3.2, 'loss': 10.163054847717286, 'learning_rate': 0.08246753246753247, 'optimizer_steps': 351}\n"
          ],
          "name": "stdout"
        },
        {
          "output_type": "stream",
          "text": [
            "Train Iteration:  18%|█▊        | 356/2002 [01:41<07:08,  3.84it/s]"
          ],
          "name": "stderr"
        },
        {
          "output_type": "stream",
          "text": [
            "{'avg_chunks': 2.4, 'loss': 10.491398811340332, 'learning_rate': 0.08221778221778223, 'optimizer_steps': 356}\n"
          ],
          "name": "stdout"
        },
        {
          "output_type": "stream",
          "text": [
            "Train Iteration:  18%|█▊        | 361/2002 [01:42<06:19,  4.32it/s]"
          ],
          "name": "stderr"
        },
        {
          "output_type": "stream",
          "text": [
            "{'avg_chunks': 2.2, 'loss': 10.788904762268066, 'learning_rate': 0.08196803196803198, 'optimizer_steps': 361}\n"
          ],
          "name": "stdout"
        },
        {
          "output_type": "stream",
          "text": [
            "Train Iteration:  18%|█▊        | 366/2002 [01:43<07:00,  3.89it/s]"
          ],
          "name": "stderr"
        },
        {
          "output_type": "stream",
          "text": [
            "{'avg_chunks': 2.6, 'loss': 10.744265365600587, 'learning_rate': 0.08171828171828172, 'optimizer_steps': 366}\n"
          ],
          "name": "stdout"
        },
        {
          "output_type": "stream",
          "text": [
            "Train Iteration:  19%|█▊        | 372/2002 [01:45<05:33,  4.89it/s]"
          ],
          "name": "stderr"
        },
        {
          "output_type": "stream",
          "text": [
            "{'avg_chunks': 2.2, 'loss': 10.534098815917968, 'learning_rate': 0.08146853146853147, 'optimizer_steps': 371}\n"
          ],
          "name": "stdout"
        },
        {
          "output_type": "stream",
          "text": [
            "Train Iteration:  19%|█▉        | 376/2002 [01:46<06:23,  4.24it/s]"
          ],
          "name": "stderr"
        },
        {
          "output_type": "stream",
          "text": [
            "{'avg_chunks': 2.0, 'loss': 10.043969535827637, 'learning_rate': 0.08121878121878123, 'optimizer_steps': 376}\n"
          ],
          "name": "stdout"
        },
        {
          "output_type": "stream",
          "text": [
            "Train Iteration:  19%|█▉        | 382/2002 [01:47<06:02,  4.47it/s]"
          ],
          "name": "stderr"
        },
        {
          "output_type": "stream",
          "text": [
            "{'avg_chunks': 2.6, 'loss': 10.308920860290527, 'learning_rate': 0.08096903096903096, 'optimizer_steps': 381}\n"
          ],
          "name": "stdout"
        },
        {
          "output_type": "stream",
          "text": [
            "Train Iteration:  19%|█▉        | 386/2002 [01:48<05:52,  4.59it/s]"
          ],
          "name": "stderr"
        },
        {
          "output_type": "stream",
          "text": [
            "{'avg_chunks': 1.8, 'loss': 9.080949211120606, 'learning_rate': 0.08071928071928072, 'optimizer_steps': 386}\n"
          ],
          "name": "stdout"
        },
        {
          "output_type": "stream",
          "text": [
            "Train Iteration:  20%|█▉        | 391/2002 [01:49<06:21,  4.22it/s]"
          ],
          "name": "stderr"
        },
        {
          "output_type": "stream",
          "text": [
            "{'avg_chunks': 2.2, 'loss': 11.136988258361816, 'learning_rate': 0.08046953046953048, 'optimizer_steps': 391}\n"
          ],
          "name": "stdout"
        },
        {
          "output_type": "stream",
          "text": [
            "Train Iteration:  20%|█▉        | 397/2002 [01:50<05:23,  4.96it/s]"
          ],
          "name": "stderr"
        },
        {
          "output_type": "stream",
          "text": [
            "{'avg_chunks': 2.2, 'loss': 11.366916084289551, 'learning_rate': 0.08021978021978023, 'optimizer_steps': 396}\n"
          ],
          "name": "stdout"
        },
        {
          "output_type": "stream",
          "text": [
            "Train Iteration:  20%|██        | 401/2002 [01:51<06:20,  4.20it/s]"
          ],
          "name": "stderr"
        },
        {
          "output_type": "stream",
          "text": [
            "{'avg_chunks': 2.2, 'loss': 11.213338279724121, 'learning_rate': 0.07997002997002997, 'optimizer_steps': 401}\n"
          ],
          "name": "stdout"
        },
        {
          "output_type": "stream",
          "text": [
            "Train Iteration:  20%|██        | 406/2002 [01:53<05:53,  4.52it/s]"
          ],
          "name": "stderr"
        },
        {
          "output_type": "stream",
          "text": [
            "{'avg_chunks': 2.2, 'loss': 11.026898956298828, 'learning_rate': 0.07972027972027973, 'optimizer_steps': 406}\n"
          ],
          "name": "stdout"
        },
        {
          "output_type": "stream",
          "text": [
            "Train Iteration:  21%|██        | 411/2002 [01:54<06:30,  4.07it/s]"
          ],
          "name": "stderr"
        },
        {
          "output_type": "stream",
          "text": [
            "{'avg_chunks': 2.2, 'loss': 11.64288787841797, 'learning_rate': 0.07947052947052947, 'optimizer_steps': 411}\n"
          ],
          "name": "stdout"
        },
        {
          "output_type": "stream",
          "text": [
            "Train Iteration:  21%|██        | 416/2002 [01:55<05:44,  4.60it/s]"
          ],
          "name": "stderr"
        },
        {
          "output_type": "stream",
          "text": [
            "{'avg_chunks': 2.0, 'loss': 11.28707332611084, 'learning_rate': 0.07922077922077923, 'optimizer_steps': 416}\n"
          ],
          "name": "stdout"
        },
        {
          "output_type": "stream",
          "text": [
            "Train Iteration:  21%|██        | 421/2002 [01:56<06:23,  4.12it/s]"
          ],
          "name": "stderr"
        },
        {
          "output_type": "stream",
          "text": [
            "{'avg_chunks': 2.4, 'loss': 10.692462158203124, 'learning_rate': 0.07897102897102898, 'optimizer_steps': 421}\n"
          ],
          "name": "stdout"
        },
        {
          "output_type": "stream",
          "text": [
            "Train Iteration:  21%|██▏       | 427/2002 [01:58<07:30,  3.50it/s]"
          ],
          "name": "stderr"
        },
        {
          "output_type": "stream",
          "text": [
            "{'avg_chunks': 3.6, 'loss': 10.110586738586425, 'learning_rate': 0.07872127872127872, 'optimizer_steps': 426}\n"
          ],
          "name": "stdout"
        },
        {
          "output_type": "stream",
          "text": [
            "Train Iteration:  22%|██▏       | 431/2002 [02:00<10:49,  2.42it/s]"
          ],
          "name": "stderr"
        },
        {
          "output_type": "stream",
          "text": [
            "{'avg_chunks': 3.0, 'loss': 10.679300117492676, 'learning_rate': 0.07847152847152848, 'optimizer_steps': 431}\n"
          ],
          "name": "stdout"
        },
        {
          "output_type": "stream",
          "text": [
            "Train Iteration:  22%|██▏       | 436/2002 [02:01<08:08,  3.21it/s]"
          ],
          "name": "stderr"
        },
        {
          "output_type": "stream",
          "text": [
            "{'avg_chunks': 2.4, 'loss': 10.413250350952149, 'learning_rate': 0.07822177822177823, 'optimizer_steps': 436}\n"
          ],
          "name": "stdout"
        },
        {
          "output_type": "stream",
          "text": [
            "Train Iteration:  22%|██▏       | 441/2002 [02:02<06:37,  3.93it/s]"
          ],
          "name": "stderr"
        },
        {
          "output_type": "stream",
          "text": [
            "{'avg_chunks': 2.6, 'loss': 11.133613014221192, 'learning_rate': 0.07797202797202797, 'optimizer_steps': 441}\n"
          ],
          "name": "stdout"
        },
        {
          "output_type": "stream",
          "text": [
            "Train Iteration:  22%|██▏       | 446/2002 [02:04<08:40,  2.99it/s]"
          ],
          "name": "stderr"
        },
        {
          "output_type": "stream",
          "text": [
            "{'avg_chunks': 3.0, 'loss': 12.241972541809082, 'learning_rate': 0.07772227772227773, 'optimizer_steps': 446}\n"
          ],
          "name": "stdout"
        },
        {
          "output_type": "stream",
          "text": [
            "Train Iteration:  23%|██▎       | 451/2002 [02:05<06:48,  3.80it/s]"
          ],
          "name": "stderr"
        },
        {
          "output_type": "stream",
          "text": [
            "{'avg_chunks': 2.4, 'loss': 10.759056854248048, 'learning_rate': 0.07747252747252747, 'optimizer_steps': 451}\n"
          ],
          "name": "stdout"
        },
        {
          "output_type": "stream",
          "text": [
            "Train Iteration:  23%|██▎       | 456/2002 [02:06<06:21,  4.05it/s]"
          ],
          "name": "stderr"
        },
        {
          "output_type": "stream",
          "text": [
            "{'avg_chunks': 2.2, 'loss': 9.983380317687988, 'learning_rate': 0.07722277722277723, 'optimizer_steps': 456}\n"
          ],
          "name": "stdout"
        },
        {
          "output_type": "stream",
          "text": [
            "Train Iteration:  23%|██▎       | 461/2002 [02:08<07:27,  3.44it/s]"
          ],
          "name": "stderr"
        },
        {
          "output_type": "stream",
          "text": [
            "{'avg_chunks': 2.8, 'loss': 9.90760154724121, 'learning_rate': 0.07697302697302698, 'optimizer_steps': 461}\n"
          ],
          "name": "stdout"
        },
        {
          "output_type": "stream",
          "text": [
            "Train Iteration:  23%|██▎       | 467/2002 [02:09<05:57,  4.29it/s]"
          ],
          "name": "stderr"
        },
        {
          "output_type": "stream",
          "text": [
            "{'avg_chunks': 2.6, 'loss': 10.43996753692627, 'learning_rate': 0.07672327672327672, 'optimizer_steps': 466}\n"
          ],
          "name": "stdout"
        },
        {
          "output_type": "stream",
          "text": [
            "Train Iteration:  24%|██▎       | 471/2002 [02:10<07:00,  3.64it/s]"
          ],
          "name": "stderr"
        },
        {
          "output_type": "stream",
          "text": [
            "{'avg_chunks': 2.2, 'loss': 10.009335327148438, 'learning_rate': 0.07647352647352648, 'optimizer_steps': 471}\n"
          ],
          "name": "stdout"
        },
        {
          "output_type": "stream",
          "text": [
            "Train Iteration:  24%|██▍       | 476/2002 [02:11<07:06,  3.57it/s]"
          ],
          "name": "stderr"
        },
        {
          "output_type": "stream",
          "text": [
            "{'avg_chunks': 2.4, 'loss': 11.31336269378662, 'learning_rate': 0.07622377622377623, 'optimizer_steps': 476}\n"
          ],
          "name": "stdout"
        },
        {
          "output_type": "stream",
          "text": [
            "Train Iteration:  24%|██▍       | 481/2002 [02:13<05:51,  4.33it/s]"
          ],
          "name": "stderr"
        },
        {
          "output_type": "stream",
          "text": [
            "{'avg_chunks': 2.0, 'loss': 9.947433853149414, 'learning_rate': 0.07597402597402597, 'optimizer_steps': 481}\n"
          ],
          "name": "stdout"
        },
        {
          "output_type": "stream",
          "text": [
            "Train Iteration:  24%|██▍       | 486/2002 [02:14<06:17,  4.02it/s]"
          ],
          "name": "stderr"
        },
        {
          "output_type": "stream",
          "text": [
            "{'avg_chunks': 2.6, 'loss': 10.478490447998047, 'learning_rate': 0.07572427572427573, 'optimizer_steps': 486}\n"
          ],
          "name": "stdout"
        },
        {
          "output_type": "stream",
          "text": [
            "Train Iteration:  25%|██▍       | 491/2002 [02:15<07:22,  3.42it/s]"
          ],
          "name": "stderr"
        },
        {
          "output_type": "stream",
          "text": [
            "{'avg_chunks': 2.8, 'loss': 9.582706642150878, 'learning_rate': 0.07547452547452549, 'optimizer_steps': 491}\n"
          ],
          "name": "stdout"
        },
        {
          "output_type": "stream",
          "text": [
            "Train Iteration:  25%|██▍       | 496/2002 [02:17<07:14,  3.47it/s]"
          ],
          "name": "stderr"
        },
        {
          "output_type": "stream",
          "text": [
            "{'avg_chunks': 2.6, 'loss': 10.231042861938477, 'learning_rate': 0.07522477522477522, 'optimizer_steps': 496}\n"
          ],
          "name": "stdout"
        },
        {
          "output_type": "stream",
          "text": [
            "Train Iteration:  25%|██▌       | 501/2002 [02:18<06:42,  3.73it/s]"
          ],
          "name": "stderr"
        },
        {
          "output_type": "stream",
          "text": [
            "{'avg_chunks': 2.4, 'loss': 9.85688419342041, 'learning_rate': 0.07497502497502498, 'optimizer_steps': 501}\n"
          ],
          "name": "stdout"
        },
        {
          "output_type": "stream",
          "text": [
            "Train Iteration:  25%|██▌       | 507/2002 [02:19<04:49,  5.17it/s]"
          ],
          "name": "stderr"
        },
        {
          "output_type": "stream",
          "text": [
            "{'avg_chunks': 1.8, 'loss': 10.447723770141602, 'learning_rate': 0.07472527472527472, 'optimizer_steps': 506}\n"
          ],
          "name": "stdout"
        },
        {
          "output_type": "stream",
          "text": [
            "Train Iteration:  26%|██▌       | 511/2002 [02:20<06:49,  3.64it/s]"
          ],
          "name": "stderr"
        },
        {
          "output_type": "stream",
          "text": [
            "{'avg_chunks': 2.4, 'loss': 11.022438430786133, 'learning_rate': 0.07447552447552448, 'optimizer_steps': 511}\n"
          ],
          "name": "stdout"
        },
        {
          "output_type": "stream",
          "text": [
            "Train Iteration:  26%|██▌       | 516/2002 [02:21<06:06,  4.05it/s]"
          ],
          "name": "stderr"
        },
        {
          "output_type": "stream",
          "text": [
            "{'avg_chunks': 2.2, 'loss': 10.108757781982423, 'learning_rate': 0.07422577422577423, 'optimizer_steps': 516}\n"
          ],
          "name": "stdout"
        },
        {
          "output_type": "stream",
          "text": [
            "Train Iteration:  26%|██▌       | 521/2002 [02:23<06:24,  3.85it/s]"
          ],
          "name": "stderr"
        },
        {
          "output_type": "stream",
          "text": [
            "{'avg_chunks': 2.6, 'loss': 10.230106544494628, 'learning_rate': 0.07397602397602397, 'optimizer_steps': 521}\n"
          ],
          "name": "stdout"
        },
        {
          "output_type": "stream",
          "text": [
            "Train Iteration:  26%|██▋       | 526/2002 [02:24<05:41,  4.32it/s]"
          ],
          "name": "stderr"
        },
        {
          "output_type": "stream",
          "text": [
            "{'avg_chunks': 2.2, 'loss': 10.151172828674316, 'learning_rate': 0.07372627372627373, 'optimizer_steps': 526}\n"
          ],
          "name": "stdout"
        },
        {
          "output_type": "stream",
          "text": [
            "Train Iteration:  27%|██▋       | 531/2002 [02:25<06:08,  3.99it/s]"
          ],
          "name": "stderr"
        },
        {
          "output_type": "stream",
          "text": [
            "{'avg_chunks': 2.4, 'loss': 9.393760490417481, 'learning_rate': 0.07347652347652349, 'optimizer_steps': 531}\n"
          ],
          "name": "stdout"
        },
        {
          "output_type": "stream",
          "text": [
            "Train Iteration:  27%|██▋       | 536/2002 [02:26<05:27,  4.48it/s]"
          ],
          "name": "stderr"
        },
        {
          "output_type": "stream",
          "text": [
            "{'avg_chunks': 2.0, 'loss': 11.116726875305176, 'learning_rate': 0.07322677322677322, 'optimizer_steps': 536}\n"
          ],
          "name": "stdout"
        },
        {
          "output_type": "stream",
          "text": [
            "Train Iteration:  27%|██▋       | 541/2002 [02:27<05:47,  4.20it/s]"
          ],
          "name": "stderr"
        },
        {
          "output_type": "stream",
          "text": [
            "{'avg_chunks': 2.2, 'loss': 10.115573310852051, 'learning_rate': 0.07297702297702298, 'optimizer_steps': 541}\n"
          ],
          "name": "stdout"
        },
        {
          "output_type": "stream",
          "text": [
            "Train Iteration:  27%|██▋       | 546/2002 [02:29<06:22,  3.81it/s]"
          ],
          "name": "stderr"
        },
        {
          "output_type": "stream",
          "text": [
            "{'avg_chunks': 3.0, 'loss': 10.696570777893067, 'learning_rate': 0.07272727272727274, 'optimizer_steps': 546}\n"
          ],
          "name": "stdout"
        },
        {
          "output_type": "stream",
          "text": [
            "Train Iteration:  28%|██▊       | 551/2002 [02:30<07:28,  3.24it/s]"
          ],
          "name": "stderr"
        },
        {
          "output_type": "stream",
          "text": [
            "{'avg_chunks': 2.6, 'loss': 11.365528297424316, 'learning_rate': 0.07247752247752248, 'optimizer_steps': 551}\n"
          ],
          "name": "stdout"
        },
        {
          "output_type": "stream",
          "text": [
            "Train Iteration:  28%|██▊       | 556/2002 [02:31<06:01,  4.00it/s]"
          ],
          "name": "stderr"
        },
        {
          "output_type": "stream",
          "text": [
            "{'avg_chunks': 2.2, 'loss': 10.416645050048828, 'learning_rate': 0.07222777222777223, 'optimizer_steps': 556}\n"
          ],
          "name": "stdout"
        },
        {
          "output_type": "stream",
          "text": [
            "Train Iteration:  28%|██▊       | 561/2002 [02:32<06:04,  3.96it/s]"
          ],
          "name": "stderr"
        },
        {
          "output_type": "stream",
          "text": [
            "{'avg_chunks': 2.4, 'loss': 10.027690124511718, 'learning_rate': 0.07197802197802199, 'optimizer_steps': 561}\n"
          ],
          "name": "stdout"
        },
        {
          "output_type": "stream",
          "text": [
            "Train Iteration:  28%|██▊       | 566/2002 [02:34<05:42,  4.19it/s]"
          ],
          "name": "stderr"
        },
        {
          "output_type": "stream",
          "text": [
            "{'avg_chunks': 2.4, 'loss': 11.312941741943359, 'learning_rate': 0.07172827172827173, 'optimizer_steps': 566}\n"
          ],
          "name": "stdout"
        },
        {
          "output_type": "stream",
          "text": [
            "Train Iteration:  29%|██▊       | 571/2002 [02:35<04:59,  4.78it/s]"
          ],
          "name": "stderr"
        },
        {
          "output_type": "stream",
          "text": [
            "{'avg_chunks': 2.0, 'loss': 11.215078735351563, 'learning_rate': 0.07147852147852149, 'optimizer_steps': 571}\n"
          ],
          "name": "stdout"
        },
        {
          "output_type": "stream",
          "text": [
            "Train Iteration:  29%|██▉       | 576/2002 [02:36<05:50,  4.07it/s]"
          ],
          "name": "stderr"
        },
        {
          "output_type": "stream",
          "text": [
            "{'avg_chunks': 2.4, 'loss': 9.941338157653808, 'learning_rate': 0.07122877122877123, 'optimizer_steps': 576}\n"
          ],
          "name": "stdout"
        },
        {
          "output_type": "stream",
          "text": [
            "Train Iteration:  29%|██▉       | 581/2002 [02:37<05:55,  3.99it/s]"
          ],
          "name": "stderr"
        },
        {
          "output_type": "stream",
          "text": [
            "{'avg_chunks': 2.4, 'loss': 11.437926292419434, 'learning_rate': 0.07097902097902098, 'optimizer_steps': 581}\n"
          ],
          "name": "stdout"
        },
        {
          "output_type": "stream",
          "text": [
            "Train Iteration:  29%|██▉       | 586/2002 [02:38<05:08,  4.59it/s]"
          ],
          "name": "stderr"
        },
        {
          "output_type": "stream",
          "text": [
            "{'avg_chunks': 2.0, 'loss': 10.473114967346191, 'learning_rate': 0.07072927072927074, 'optimizer_steps': 586}\n"
          ],
          "name": "stdout"
        },
        {
          "output_type": "stream",
          "text": [
            "Train Iteration:  30%|██▉       | 591/2002 [02:39<05:30,  4.27it/s]"
          ],
          "name": "stderr"
        },
        {
          "output_type": "stream",
          "text": [
            "{'avg_chunks': 2.4, 'loss': 10.845776748657226, 'learning_rate': 0.07047952047952048, 'optimizer_steps': 591}\n"
          ],
          "name": "stdout"
        },
        {
          "output_type": "stream",
          "text": [
            "Train Iteration:  30%|██▉       | 596/2002 [02:41<07:25,  3.16it/s]"
          ],
          "name": "stderr"
        },
        {
          "output_type": "stream",
          "text": [
            "{'avg_chunks': 3.0, 'loss': 10.284721374511719, 'learning_rate': 0.07022977022977023, 'optimizer_steps': 596}\n"
          ],
          "name": "stdout"
        },
        {
          "output_type": "stream",
          "text": [
            "Train Iteration:  30%|███       | 601/2002 [02:43<08:05,  2.89it/s]"
          ],
          "name": "stderr"
        },
        {
          "output_type": "stream",
          "text": [
            "{'avg_chunks': 3.4, 'loss': 10.603668594360352, 'learning_rate': 0.06998001998001999, 'optimizer_steps': 601}\n"
          ],
          "name": "stdout"
        },
        {
          "output_type": "stream",
          "text": [
            "Train Iteration:  30%|███       | 606/2002 [02:44<05:37,  4.14it/s]"
          ],
          "name": "stderr"
        },
        {
          "output_type": "stream",
          "text": [
            "{'avg_chunks': 2.2, 'loss': 10.64733009338379, 'learning_rate': 0.06973026973026973, 'optimizer_steps': 606}\n"
          ],
          "name": "stdout"
        },
        {
          "output_type": "stream",
          "text": [
            "Train Iteration:  31%|███       | 611/2002 [02:45<05:00,  4.63it/s]"
          ],
          "name": "stderr"
        },
        {
          "output_type": "stream",
          "text": [
            "{'avg_chunks': 2.0, 'loss': 10.42613410949707, 'learning_rate': 0.06948051948051948, 'optimizer_steps': 611}\n"
          ],
          "name": "stdout"
        },
        {
          "output_type": "stream",
          "text": [
            "Train Iteration:  31%|███       | 616/2002 [02:46<04:35,  5.04it/s]"
          ],
          "name": "stderr"
        },
        {
          "output_type": "stream",
          "text": [
            "{'avg_chunks': 1.8, 'loss': 9.89682388305664, 'learning_rate': 0.06923076923076923, 'optimizer_steps': 616}\n"
          ],
          "name": "stdout"
        },
        {
          "output_type": "stream",
          "text": [
            "Train Iteration:  31%|███       | 621/2002 [02:47<05:22,  4.28it/s]"
          ],
          "name": "stderr"
        },
        {
          "output_type": "stream",
          "text": [
            "{'avg_chunks': 2.2, 'loss': 10.53381061553955, 'learning_rate': 0.06898101898101898, 'optimizer_steps': 621}\n"
          ],
          "name": "stdout"
        },
        {
          "output_type": "stream",
          "text": [
            "Train Iteration:  31%|███▏      | 626/2002 [02:49<06:55,  3.31it/s]"
          ],
          "name": "stderr"
        },
        {
          "output_type": "stream",
          "text": [
            "{'avg_chunks': 3.0, 'loss': 10.405770111083985, 'learning_rate': 0.06873126873126874, 'optimizer_steps': 626}\n"
          ],
          "name": "stdout"
        },
        {
          "output_type": "stream",
          "text": [
            "Train Iteration:  32%|███▏      | 631/2002 [02:50<05:47,  3.95it/s]"
          ],
          "name": "stderr"
        },
        {
          "output_type": "stream",
          "text": [
            "{'avg_chunks': 2.2, 'loss': 9.340214729309082, 'learning_rate': 0.06848151848151848, 'optimizer_steps': 631}\n"
          ],
          "name": "stdout"
        },
        {
          "output_type": "stream",
          "text": [
            "Train Iteration:  32%|███▏      | 636/2002 [02:51<06:17,  3.61it/s]"
          ],
          "name": "stderr"
        },
        {
          "output_type": "stream",
          "text": [
            "{'avg_chunks': 2.8, 'loss': 10.023968696594238, 'learning_rate': 0.06823176823176823, 'optimizer_steps': 636}\n"
          ],
          "name": "stdout"
        },
        {
          "output_type": "stream",
          "text": [
            "Train Iteration:  32%|███▏      | 641/2002 [02:53<06:13,  3.64it/s]"
          ],
          "name": "stderr"
        },
        {
          "output_type": "stream",
          "text": [
            "{'avg_chunks': 2.8, 'loss': 9.516851806640625, 'learning_rate': 0.06798201798201799, 'optimizer_steps': 641}\n"
          ],
          "name": "stdout"
        },
        {
          "output_type": "stream",
          "text": [
            "Train Iteration:  32%|███▏      | 646/2002 [02:54<06:01,  3.75it/s]"
          ],
          "name": "stderr"
        },
        {
          "output_type": "stream",
          "text": [
            "{'avg_chunks': 2.6, 'loss': 10.044678115844727, 'learning_rate': 0.06773226773226775, 'optimizer_steps': 646}\n"
          ],
          "name": "stdout"
        },
        {
          "output_type": "stream",
          "text": [
            "Train Iteration:  33%|███▎      | 651/2002 [02:55<05:36,  4.02it/s]"
          ],
          "name": "stderr"
        },
        {
          "output_type": "stream",
          "text": [
            "{'avg_chunks': 2.4, 'loss': 9.80593662261963, 'learning_rate': 0.06748251748251748, 'optimizer_steps': 651}\n"
          ],
          "name": "stdout"
        },
        {
          "output_type": "stream",
          "text": [
            "Train Iteration:  33%|███▎      | 656/2002 [02:57<06:46,  3.31it/s]"
          ],
          "name": "stderr"
        },
        {
          "output_type": "stream",
          "text": [
            "{'avg_chunks': 3.2, 'loss': 9.730797004699706, 'learning_rate': 0.06723276723276723, 'optimizer_steps': 656}\n"
          ],
          "name": "stdout"
        },
        {
          "output_type": "stream",
          "text": [
            "Train Iteration:  33%|███▎      | 661/2002 [02:58<05:28,  4.08it/s]"
          ],
          "name": "stderr"
        },
        {
          "output_type": "stream",
          "text": [
            "{'avg_chunks': 2.4, 'loss': 9.576017379760742, 'learning_rate': 0.066983016983017, 'optimizer_steps': 661}\n"
          ],
          "name": "stdout"
        },
        {
          "output_type": "stream",
          "text": [
            "Train Iteration:  33%|███▎      | 666/2002 [02:59<06:10,  3.61it/s]"
          ],
          "name": "stderr"
        },
        {
          "output_type": "stream",
          "text": [
            "{'avg_chunks': 2.6, 'loss': 9.270791053771973, 'learning_rate': 0.06673326673326674, 'optimizer_steps': 666}\n"
          ],
          "name": "stdout"
        },
        {
          "output_type": "stream",
          "text": [
            "Train Iteration:  34%|███▎      | 671/2002 [03:01<05:52,  3.77it/s]"
          ],
          "name": "stderr"
        },
        {
          "output_type": "stream",
          "text": [
            "{'avg_chunks': 2.6, 'loss': 10.368344688415528, 'learning_rate': 0.06648351648351648, 'optimizer_steps': 671}\n"
          ],
          "name": "stdout"
        },
        {
          "output_type": "stream",
          "text": [
            "Train Iteration:  34%|███▍      | 677/2002 [03:02<04:22,  5.06it/s]"
          ],
          "name": "stderr"
        },
        {
          "output_type": "stream",
          "text": [
            "{'avg_chunks': 1.8, 'loss': 9.906032371520997, 'learning_rate': 0.06623376623376624, 'optimizer_steps': 676}\n"
          ],
          "name": "stdout"
        },
        {
          "output_type": "stream",
          "text": [
            "Train Iteration:  34%|███▍      | 681/2002 [03:03<05:16,  4.18it/s]"
          ],
          "name": "stderr"
        },
        {
          "output_type": "stream",
          "text": [
            "{'avg_chunks': 2.2, 'loss': 10.231845664978028, 'learning_rate': 0.06598401598401599, 'optimizer_steps': 681}\n"
          ],
          "name": "stdout"
        },
        {
          "output_type": "stream",
          "text": [
            "Train Iteration:  34%|███▍      | 686/2002 [03:04<06:48,  3.22it/s]"
          ],
          "name": "stderr"
        },
        {
          "output_type": "stream",
          "text": [
            "{'avg_chunks': 3.2, 'loss': 10.12775936126709, 'learning_rate': 0.06573426573426573, 'optimizer_steps': 686}\n"
          ],
          "name": "stdout"
        },
        {
          "output_type": "stream",
          "text": [
            "Train Iteration:  35%|███▍      | 691/2002 [03:06<05:30,  3.96it/s]"
          ],
          "name": "stderr"
        },
        {
          "output_type": "stream",
          "text": [
            "{'avg_chunks': 2.2, 'loss': 9.638513565063477, 'learning_rate': 0.06548451548451549, 'optimizer_steps': 691}\n"
          ],
          "name": "stdout"
        },
        {
          "output_type": "stream",
          "text": [
            "Train Iteration:  35%|███▍      | 696/2002 [03:06<04:05,  5.33it/s]"
          ],
          "name": "stderr"
        },
        {
          "output_type": "stream",
          "text": [
            "{'avg_chunks': 1.6, 'loss': 10.991371345520019, 'learning_rate': 0.06523476523476524, 'optimizer_steps': 696}\n"
          ],
          "name": "stdout"
        },
        {
          "output_type": "stream",
          "text": [
            "Train Iteration:  35%|███▌      | 701/2002 [03:08<05:25,  4.00it/s]"
          ],
          "name": "stderr"
        },
        {
          "output_type": "stream",
          "text": [
            "{'avg_chunks': 2.6, 'loss': 9.689460372924804, 'learning_rate': 0.064985014985015, 'optimizer_steps': 701}\n"
          ],
          "name": "stdout"
        },
        {
          "output_type": "stream",
          "text": [
            "Train Iteration:  35%|███▌      | 706/2002 [03:09<05:07,  4.21it/s]"
          ],
          "name": "stderr"
        },
        {
          "output_type": "stream",
          "text": [
            "{'avg_chunks': 2.4, 'loss': 10.122881507873535, 'learning_rate': 0.06473526473526474, 'optimizer_steps': 706}\n"
          ],
          "name": "stdout"
        },
        {
          "output_type": "stream",
          "text": [
            "Train Iteration:  36%|███▌      | 711/2002 [03:10<05:50,  3.68it/s]"
          ],
          "name": "stderr"
        },
        {
          "output_type": "stream",
          "text": [
            "{'avg_chunks': 2.6, 'loss': 9.748155975341797, 'learning_rate': 0.06448551448551448, 'optimizer_steps': 711}\n"
          ],
          "name": "stdout"
        },
        {
          "output_type": "stream",
          "text": [
            "Train Iteration:  36%|███▌      | 717/2002 [03:12<04:32,  4.72it/s]"
          ],
          "name": "stderr"
        },
        {
          "output_type": "stream",
          "text": [
            "{'avg_chunks': 2.0, 'loss': 10.333506011962891, 'learning_rate': 0.06423576423576424, 'optimizer_steps': 716}\n"
          ],
          "name": "stdout"
        },
        {
          "output_type": "stream",
          "text": [
            "Train Iteration:  36%|███▌      | 721/2002 [03:13<05:31,  3.86it/s]"
          ],
          "name": "stderr"
        },
        {
          "output_type": "stream",
          "text": [
            "{'avg_chunks': 2.4, 'loss': 9.4877610206604, 'learning_rate': 0.06398601398601399, 'optimizer_steps': 721}\n"
          ],
          "name": "stdout"
        },
        {
          "output_type": "stream",
          "text": [
            "Train Iteration:  36%|███▋      | 727/2002 [03:14<04:25,  4.80it/s]"
          ],
          "name": "stderr"
        },
        {
          "output_type": "stream",
          "text": [
            "{'avg_chunks': 2.2, 'loss': 9.770818901062011, 'learning_rate': 0.06373626373626373, 'optimizer_steps': 726}\n"
          ],
          "name": "stdout"
        },
        {
          "output_type": "stream",
          "text": [
            "Train Iteration:  37%|███▋      | 731/2002 [03:15<04:43,  4.48it/s]"
          ],
          "name": "stderr"
        },
        {
          "output_type": "stream",
          "text": [
            "{'avg_chunks': 1.8, 'loss': 9.758880615234375, 'learning_rate': 0.06348651348651349, 'optimizer_steps': 731}\n"
          ],
          "name": "stdout"
        },
        {
          "output_type": "stream",
          "text": [
            "Train Iteration:  37%|███▋      | 736/2002 [03:16<04:50,  4.35it/s]"
          ],
          "name": "stderr"
        },
        {
          "output_type": "stream",
          "text": [
            "{'avg_chunks': 2.2, 'loss': 10.207368850708008, 'learning_rate': 0.06323676323676324, 'optimizer_steps': 736}\n"
          ],
          "name": "stdout"
        },
        {
          "output_type": "stream",
          "text": [
            "Train Iteration:  37%|███▋      | 741/2002 [03:18<06:32,  3.21it/s]"
          ],
          "name": "stderr"
        },
        {
          "output_type": "stream",
          "text": [
            "{'avg_chunks': 3.2, 'loss': 9.231380844116211, 'learning_rate': 0.062987012987013, 'optimizer_steps': 741}\n"
          ],
          "name": "stdout"
        },
        {
          "output_type": "stream",
          "text": [
            "Train Iteration:  37%|███▋      | 746/2002 [03:19<04:53,  4.28it/s]"
          ],
          "name": "stderr"
        },
        {
          "output_type": "stream",
          "text": [
            "{'avg_chunks': 2.2, 'loss': 9.878170013427734, 'learning_rate': 0.06273726273726274, 'optimizer_steps': 746}\n"
          ],
          "name": "stdout"
        },
        {
          "output_type": "stream",
          "text": [
            "Train Iteration:  38%|███▊      | 751/2002 [03:20<05:10,  4.03it/s]"
          ],
          "name": "stderr"
        },
        {
          "output_type": "stream",
          "text": [
            "{'avg_chunks': 2.6, 'loss': 8.867762851715089, 'learning_rate': 0.06248751248751249, 'optimizer_steps': 751}\n"
          ],
          "name": "stdout"
        },
        {
          "output_type": "stream",
          "text": [
            "Train Iteration:  38%|███▊      | 756/2002 [03:21<04:30,  4.60it/s]"
          ],
          "name": "stderr"
        },
        {
          "output_type": "stream",
          "text": [
            "{'avg_chunks': 2.0, 'loss': 9.829474258422852, 'learning_rate': 0.06223776223776224, 'optimizer_steps': 756}\n"
          ],
          "name": "stdout"
        },
        {
          "output_type": "stream",
          "text": [
            "Train Iteration:  38%|███▊      | 761/2002 [03:23<05:10,  4.00it/s]"
          ],
          "name": "stderr"
        },
        {
          "output_type": "stream",
          "text": [
            "{'avg_chunks': 2.6, 'loss': 9.065997505187989, 'learning_rate': 0.061988011988011994, 'optimizer_steps': 761}\n"
          ],
          "name": "stdout"
        },
        {
          "output_type": "stream",
          "text": [
            "Train Iteration:  38%|███▊      | 766/2002 [03:24<04:28,  4.60it/s]"
          ],
          "name": "stderr"
        },
        {
          "output_type": "stream",
          "text": [
            "{'avg_chunks': 2.0, 'loss': 9.417056274414062, 'learning_rate': 0.06173826173826174, 'optimizer_steps': 766}\n"
          ],
          "name": "stdout"
        },
        {
          "output_type": "stream",
          "text": [
            "Train Iteration:  39%|███▊      | 771/2002 [03:25<04:53,  4.20it/s]"
          ],
          "name": "stderr"
        },
        {
          "output_type": "stream",
          "text": [
            "{'avg_chunks': 2.4, 'loss': 9.132866859436035, 'learning_rate': 0.06148851148851149, 'optimizer_steps': 771}\n"
          ],
          "name": "stdout"
        },
        {
          "output_type": "stream",
          "text": [
            "Train Iteration:  39%|███▉      | 776/2002 [03:26<04:43,  4.32it/s]"
          ],
          "name": "stderr"
        },
        {
          "output_type": "stream",
          "text": [
            "{'avg_chunks': 2.4, 'loss': 9.080833244323731, 'learning_rate': 0.06123876123876124, 'optimizer_steps': 776}\n"
          ],
          "name": "stdout"
        },
        {
          "output_type": "stream",
          "text": [
            "Train Iteration:  39%|███▉      | 781/2002 [03:27<04:28,  4.55it/s]"
          ],
          "name": "stderr"
        },
        {
          "output_type": "stream",
          "text": [
            "{'avg_chunks': 2.2, 'loss': 10.297702026367187, 'learning_rate': 0.060989010989010994, 'optimizer_steps': 781}\n"
          ],
          "name": "stdout"
        },
        {
          "output_type": "stream",
          "text": [
            "Train Iteration:  39%|███▉      | 786/2002 [03:29<05:36,  3.61it/s]"
          ],
          "name": "stderr"
        },
        {
          "output_type": "stream",
          "text": [
            "{'avg_chunks': 2.6, 'loss': 10.039156723022462, 'learning_rate': 0.06073926073926074, 'optimizer_steps': 786}\n"
          ],
          "name": "stdout"
        },
        {
          "output_type": "stream",
          "text": [
            "Train Iteration:  40%|███▉      | 791/2002 [03:30<05:13,  3.86it/s]"
          ],
          "name": "stderr"
        },
        {
          "output_type": "stream",
          "text": [
            "{'avg_chunks': 2.4, 'loss': 9.524635696411133, 'learning_rate': 0.06048951048951049, 'optimizer_steps': 791}\n"
          ],
          "name": "stdout"
        },
        {
          "output_type": "stream",
          "text": [
            "Train Iteration:  40%|███▉      | 796/2002 [03:31<04:53,  4.11it/s]"
          ],
          "name": "stderr"
        },
        {
          "output_type": "stream",
          "text": [
            "{'avg_chunks': 2.2, 'loss': 9.71751365661621, 'learning_rate': 0.06023976023976024, 'optimizer_steps': 796}\n"
          ],
          "name": "stdout"
        },
        {
          "output_type": "stream",
          "text": [
            "Train Iteration:  40%|████      | 801/2002 [03:32<05:42,  3.51it/s]"
          ],
          "name": "stderr"
        },
        {
          "output_type": "stream",
          "text": [
            "{'avg_chunks': 2.6, 'loss': 9.042756080627441, 'learning_rate': 0.05999000999000999, 'optimizer_steps': 801}\n"
          ],
          "name": "stdout"
        },
        {
          "output_type": "stream",
          "text": [
            "Train Iteration:  40%|████      | 806/2002 [03:33<05:02,  3.95it/s]"
          ],
          "name": "stderr"
        },
        {
          "output_type": "stream",
          "text": [
            "{'avg_chunks': 2.4, 'loss': 9.655180358886719, 'learning_rate': 0.05974025974025974, 'optimizer_steps': 806}\n"
          ],
          "name": "stdout"
        },
        {
          "output_type": "stream",
          "text": [
            "Train Iteration:  41%|████      | 811/2002 [03:35<04:19,  4.58it/s]"
          ],
          "name": "stderr"
        },
        {
          "output_type": "stream",
          "text": [
            "{'avg_chunks': 2.0, 'loss': 9.71581859588623, 'learning_rate': 0.05949050949050949, 'optimizer_steps': 811}\n"
          ],
          "name": "stdout"
        },
        {
          "output_type": "stream",
          "text": [
            "Train Iteration:  41%|████      | 816/2002 [03:36<04:32,  4.35it/s]"
          ],
          "name": "stderr"
        },
        {
          "output_type": "stream",
          "text": [
            "{'avg_chunks': 2.2, 'loss': 9.16224250793457, 'learning_rate': 0.05924075924075925, 'optimizer_steps': 816}\n"
          ],
          "name": "stdout"
        },
        {
          "output_type": "stream",
          "text": [
            "Train Iteration:  41%|████      | 821/2002 [03:37<05:16,  3.73it/s]"
          ],
          "name": "stderr"
        },
        {
          "output_type": "stream",
          "text": [
            "{'avg_chunks': 3.0, 'loss': 9.467046356201172, 'learning_rate': 0.05899100899100899, 'optimizer_steps': 821}\n"
          ],
          "name": "stdout"
        },
        {
          "output_type": "stream",
          "text": [
            "Train Iteration:  41%|████▏     | 826/2002 [03:38<05:01,  3.90it/s]"
          ],
          "name": "stderr"
        },
        {
          "output_type": "stream",
          "text": [
            "{'avg_chunks': 2.6, 'loss': 9.6323673248291, 'learning_rate': 0.05874125874125874, 'optimizer_steps': 826}\n"
          ],
          "name": "stdout"
        },
        {
          "output_type": "stream",
          "text": [
            "Train Iteration:  42%|████▏     | 831/2002 [03:40<05:01,  3.89it/s]"
          ],
          "name": "stderr"
        },
        {
          "output_type": "stream",
          "text": [
            "{'avg_chunks': 2.4, 'loss': 9.914602470397949, 'learning_rate': 0.0584915084915085, 'optimizer_steps': 831}\n"
          ],
          "name": "stdout"
        },
        {
          "output_type": "stream",
          "text": [
            "Train Iteration:  42%|████▏     | 836/2002 [03:41<05:09,  3.77it/s]"
          ],
          "name": "stderr"
        },
        {
          "output_type": "stream",
          "text": [
            "{'avg_chunks': 2.6, 'loss': 9.668305587768554, 'learning_rate': 0.05824175824175825, 'optimizer_steps': 836}\n"
          ],
          "name": "stdout"
        },
        {
          "output_type": "stream",
          "text": [
            "Train Iteration:  42%|████▏     | 841/2002 [03:42<04:45,  4.06it/s]"
          ],
          "name": "stderr"
        },
        {
          "output_type": "stream",
          "text": [
            "{'avg_chunks': 2.2, 'loss': 9.07628574371338, 'learning_rate': 0.05799200799200799, 'optimizer_steps': 841}\n"
          ],
          "name": "stdout"
        },
        {
          "output_type": "stream",
          "text": [
            "Train Iteration:  42%|████▏     | 846/2002 [03:43<04:26,  4.34it/s]"
          ],
          "name": "stderr"
        },
        {
          "output_type": "stream",
          "text": [
            "{'avg_chunks': 2.4, 'loss': 9.36173038482666, 'learning_rate': 0.05774225774225775, 'optimizer_steps': 846}\n"
          ],
          "name": "stdout"
        },
        {
          "output_type": "stream",
          "text": [
            "Train Iteration:  43%|████▎     | 851/2002 [03:45<06:16,  3.05it/s]"
          ],
          "name": "stderr"
        },
        {
          "output_type": "stream",
          "text": [
            "{'avg_chunks': 3.4, 'loss': 9.241529846191407, 'learning_rate': 0.0574925074925075, 'optimizer_steps': 851}\n"
          ],
          "name": "stdout"
        },
        {
          "output_type": "stream",
          "text": [
            "Train Iteration:  43%|████▎     | 856/2002 [03:47<06:21,  3.01it/s]"
          ],
          "name": "stderr"
        },
        {
          "output_type": "stream",
          "text": [
            "{'avg_chunks': 3.4, 'loss': 8.672313976287843, 'learning_rate': 0.05724275724275725, 'optimizer_steps': 856}\n"
          ],
          "name": "stdout"
        },
        {
          "output_type": "stream",
          "text": [
            "Train Iteration:  43%|████▎     | 861/2002 [03:48<05:11,  3.66it/s]"
          ],
          "name": "stderr"
        },
        {
          "output_type": "stream",
          "text": [
            "{'avg_chunks': 2.6, 'loss': 9.165144538879394, 'learning_rate': 0.056993006993006995, 'optimizer_steps': 861}\n"
          ],
          "name": "stdout"
        },
        {
          "output_type": "stream",
          "text": [
            "Train Iteration:  43%|████▎     | 866/2002 [03:50<06:44,  2.81it/s]"
          ],
          "name": "stderr"
        },
        {
          "output_type": "stream",
          "text": [
            "{'avg_chunks': 3.4, 'loss': 9.213097381591798, 'learning_rate': 0.05674325674325675, 'optimizer_steps': 866}\n"
          ],
          "name": "stdout"
        },
        {
          "output_type": "stream",
          "text": [
            "Train Iteration:  44%|████▎     | 871/2002 [03:51<04:35,  4.11it/s]"
          ],
          "name": "stderr"
        },
        {
          "output_type": "stream",
          "text": [
            "{'avg_chunks': 2.2, 'loss': 8.591648864746094, 'learning_rate': 0.0564935064935065, 'optimizer_steps': 871}\n"
          ],
          "name": "stdout"
        },
        {
          "output_type": "stream",
          "text": [
            "Train Iteration:  44%|████▍     | 876/2002 [03:53<05:20,  3.51it/s]"
          ],
          "name": "stderr"
        },
        {
          "output_type": "stream",
          "text": [
            "{'avg_chunks': 3.2, 'loss': 9.165218925476074, 'learning_rate': 0.05624375624375625, 'optimizer_steps': 876}\n"
          ],
          "name": "stdout"
        },
        {
          "output_type": "stream",
          "text": [
            "Train Iteration:  44%|████▍     | 881/2002 [03:54<05:12,  3.59it/s]"
          ],
          "name": "stderr"
        },
        {
          "output_type": "stream",
          "text": [
            "{'avg_chunks': 2.8, 'loss': 9.04231243133545, 'learning_rate': 0.055994005994005995, 'optimizer_steps': 881}\n"
          ],
          "name": "stdout"
        },
        {
          "output_type": "stream",
          "text": [
            "Train Iteration:  44%|████▍     | 886/2002 [03:55<04:20,  4.28it/s]"
          ],
          "name": "stderr"
        },
        {
          "output_type": "stream",
          "text": [
            "{'avg_chunks': 2.2, 'loss': 8.951912117004394, 'learning_rate': 0.05574425574425575, 'optimizer_steps': 886}\n"
          ],
          "name": "stdout"
        },
        {
          "output_type": "stream",
          "text": [
            "Train Iteration:  45%|████▍     | 891/2002 [03:56<03:58,  4.65it/s]"
          ],
          "name": "stderr"
        },
        {
          "output_type": "stream",
          "text": [
            "{'avg_chunks': 2.0, 'loss': 9.340393447875977, 'learning_rate': 0.0554945054945055, 'optimizer_steps': 891}\n"
          ],
          "name": "stdout"
        },
        {
          "output_type": "stream",
          "text": [
            "Train Iteration:  45%|████▍     | 896/2002 [03:58<04:59,  3.69it/s]"
          ],
          "name": "stderr"
        },
        {
          "output_type": "stream",
          "text": [
            "{'avg_chunks': 2.8, 'loss': 9.006371688842773, 'learning_rate': 0.05524475524475524, 'optimizer_steps': 896}\n"
          ],
          "name": "stdout"
        },
        {
          "output_type": "stream",
          "text": [
            "Train Iteration:  45%|████▌     | 901/2002 [03:59<04:35,  4.00it/s]"
          ],
          "name": "stderr"
        },
        {
          "output_type": "stream",
          "text": [
            "{'avg_chunks': 2.4, 'loss': 9.551518058776855, 'learning_rate': 0.054995004995004995, 'optimizer_steps': 901}\n"
          ],
          "name": "stdout"
        },
        {
          "output_type": "stream",
          "text": [
            "Train Iteration:  45%|████▌     | 906/2002 [04:00<04:19,  4.22it/s]"
          ],
          "name": "stderr"
        },
        {
          "output_type": "stream",
          "text": [
            "{'avg_chunks': 2.2, 'loss': 9.305575752258301, 'learning_rate': 0.05474525474525475, 'optimizer_steps': 906}\n"
          ],
          "name": "stdout"
        },
        {
          "output_type": "stream",
          "text": [
            "Train Iteration:  46%|████▌     | 911/2002 [04:01<04:30,  4.03it/s]"
          ],
          "name": "stderr"
        },
        {
          "output_type": "stream",
          "text": [
            "{'avg_chunks': 2.4, 'loss': 9.08197193145752, 'learning_rate': 0.0544955044955045, 'optimizer_steps': 911}\n"
          ],
          "name": "stdout"
        },
        {
          "output_type": "stream",
          "text": [
            "Train Iteration:  46%|████▌     | 916/2002 [04:03<04:46,  3.79it/s]"
          ],
          "name": "stderr"
        },
        {
          "output_type": "stream",
          "text": [
            "{'avg_chunks': 2.6, 'loss': 9.91202907562256, 'learning_rate': 0.054245754245754244, 'optimizer_steps': 916}\n"
          ],
          "name": "stdout"
        },
        {
          "output_type": "stream",
          "text": [
            "Train Iteration:  46%|████▌     | 921/2002 [04:04<05:21,  3.36it/s]"
          ],
          "name": "stderr"
        },
        {
          "output_type": "stream",
          "text": [
            "{'avg_chunks': 2.8, 'loss': 9.066930675506592, 'learning_rate': 0.053996003996003995, 'optimizer_steps': 921}\n"
          ],
          "name": "stdout"
        },
        {
          "output_type": "stream",
          "text": [
            "Train Iteration:  46%|████▋     | 926/2002 [04:05<05:05,  3.53it/s]"
          ],
          "name": "stderr"
        },
        {
          "output_type": "stream",
          "text": [
            "{'avg_chunks': 2.8, 'loss': 9.114797878265382, 'learning_rate': 0.05374625374625375, 'optimizer_steps': 926}\n"
          ],
          "name": "stdout"
        },
        {
          "output_type": "stream",
          "text": [
            "Train Iteration:  47%|████▋     | 932/2002 [04:07<04:16,  4.18it/s]"
          ],
          "name": "stderr"
        },
        {
          "output_type": "stream",
          "text": [
            "{'avg_chunks': 2.6, 'loss': 8.898641014099121, 'learning_rate': 0.053496503496503506, 'optimizer_steps': 931}\n"
          ],
          "name": "stdout"
        },
        {
          "output_type": "stream",
          "text": [
            "Train Iteration:  47%|████▋     | 936/2002 [04:08<04:47,  3.71it/s]"
          ],
          "name": "stderr"
        },
        {
          "output_type": "stream",
          "text": [
            "{'avg_chunks': 2.6, 'loss': 8.99415988922119, 'learning_rate': 0.053246753246753244, 'optimizer_steps': 936}\n"
          ],
          "name": "stdout"
        },
        {
          "output_type": "stream",
          "text": [
            "Train Iteration:  47%|████▋     | 941/2002 [04:09<04:09,  4.26it/s]"
          ],
          "name": "stderr"
        },
        {
          "output_type": "stream",
          "text": [
            "{'avg_chunks': 2.2, 'loss': 9.152545356750489, 'learning_rate': 0.052997002997002995, 'optimizer_steps': 941}\n"
          ],
          "name": "stdout"
        },
        {
          "output_type": "stream",
          "text": [
            "Train Iteration:  47%|████▋     | 946/2002 [04:10<04:14,  4.15it/s]"
          ],
          "name": "stderr"
        },
        {
          "output_type": "stream",
          "text": [
            "{'avg_chunks': 2.4, 'loss': 9.141690444946288, 'learning_rate': 0.052747252747252754, 'optimizer_steps': 946}\n"
          ],
          "name": "stdout"
        },
        {
          "output_type": "stream",
          "text": [
            "Train Iteration:  48%|████▊     | 951/2002 [04:12<04:53,  3.58it/s]"
          ],
          "name": "stderr"
        },
        {
          "output_type": "stream",
          "text": [
            "{'avg_chunks': 3.0, 'loss': 9.36220417022705, 'learning_rate': 0.052497502497502506, 'optimizer_steps': 951}\n"
          ],
          "name": "stdout"
        },
        {
          "output_type": "stream",
          "text": [
            "Train Iteration:  48%|████▊     | 956/2002 [04:13<04:22,  3.98it/s]"
          ],
          "name": "stderr"
        },
        {
          "output_type": "stream",
          "text": [
            "{'avg_chunks': 2.4, 'loss': 9.882191276550293, 'learning_rate': 0.052247752247752244, 'optimizer_steps': 956}\n"
          ],
          "name": "stdout"
        },
        {
          "output_type": "stream",
          "text": [
            "Train Iteration:  48%|████▊     | 961/2002 [04:15<04:50,  3.58it/s]"
          ],
          "name": "stderr"
        },
        {
          "output_type": "stream",
          "text": [
            "{'avg_chunks': 3.0, 'loss': 8.794253158569337, 'learning_rate': 0.051998001998002, 'optimizer_steps': 961}\n"
          ],
          "name": "stdout"
        },
        {
          "output_type": "stream",
          "text": [
            "Train Iteration:  48%|████▊     | 966/2002 [04:16<04:21,  3.96it/s]"
          ],
          "name": "stderr"
        },
        {
          "output_type": "stream",
          "text": [
            "{'avg_chunks': 2.4, 'loss': 8.655412769317627, 'learning_rate': 0.051748251748251754, 'optimizer_steps': 966}\n"
          ],
          "name": "stdout"
        },
        {
          "output_type": "stream",
          "text": [
            "Train Iteration:  49%|████▊     | 971/2002 [04:17<04:20,  3.96it/s]"
          ],
          "name": "stderr"
        },
        {
          "output_type": "stream",
          "text": [
            "{'avg_chunks': 2.6, 'loss': 8.602340793609619, 'learning_rate': 0.051498501498501506, 'optimizer_steps': 971}\n"
          ],
          "name": "stdout"
        },
        {
          "output_type": "stream",
          "text": [
            "Train Iteration:  49%|████▉     | 976/2002 [04:19<04:36,  3.72it/s]"
          ],
          "name": "stderr"
        },
        {
          "output_type": "stream",
          "text": [
            "{'avg_chunks': 2.6, 'loss': 9.442164993286132, 'learning_rate': 0.05124875124875125, 'optimizer_steps': 976}\n"
          ],
          "name": "stdout"
        },
        {
          "output_type": "stream",
          "text": [
            "Train Iteration:  49%|████▉     | 981/2002 [04:20<04:28,  3.80it/s]"
          ],
          "name": "stderr"
        },
        {
          "output_type": "stream",
          "text": [
            "{'avg_chunks': 2.6, 'loss': 9.637627792358398, 'learning_rate': 0.050999000999001, 'optimizer_steps': 981}\n"
          ],
          "name": "stdout"
        },
        {
          "output_type": "stream",
          "text": [
            "Train Iteration:  49%|████▉     | 986/2002 [04:21<04:03,  4.18it/s]"
          ],
          "name": "stderr"
        },
        {
          "output_type": "stream",
          "text": [
            "{'avg_chunks': 2.0, 'loss': 8.903835487365722, 'learning_rate': 0.050749250749250754, 'optimizer_steps': 986}\n"
          ],
          "name": "stdout"
        },
        {
          "output_type": "stream",
          "text": [
            "Train Iteration:  50%|████▉     | 991/2002 [04:22<04:28,  3.77it/s]"
          ],
          "name": "stderr"
        },
        {
          "output_type": "stream",
          "text": [
            "{'avg_chunks': 3.0, 'loss': 9.156488609313964, 'learning_rate': 0.050499500499500506, 'optimizer_steps': 991}\n"
          ],
          "name": "stdout"
        },
        {
          "output_type": "stream",
          "text": [
            "Train Iteration:  50%|████▉     | 996/2002 [04:24<05:24,  3.10it/s]"
          ],
          "name": "stderr"
        },
        {
          "output_type": "stream",
          "text": [
            "{'avg_chunks': 3.0, 'loss': 9.199807357788085, 'learning_rate': 0.05024975024975025, 'optimizer_steps': 996}\n"
          ],
          "name": "stdout"
        },
        {
          "output_type": "stream",
          "text": [
            "Train Iteration:  50%|█████     | 1001/2002 [04:25<04:25,  3.78it/s]"
          ],
          "name": "stderr"
        },
        {
          "output_type": "stream",
          "text": [
            "{'avg_chunks': 2.8, 'loss': 8.891701698303223, 'learning_rate': 0.05, 'optimizer_steps': 1001}\n"
          ],
          "name": "stdout"
        },
        {
          "output_type": "stream",
          "text": [
            "Train Iteration:  50%|█████     | 1006/2002 [04:27<05:34,  2.98it/s]"
          ],
          "name": "stderr"
        },
        {
          "output_type": "stream",
          "text": [
            "{'avg_chunks': 3.4, 'loss': 8.902868270874023, 'learning_rate': 0.04975024975024975, 'optimizer_steps': 1006}\n"
          ],
          "name": "stdout"
        },
        {
          "output_type": "stream",
          "text": [
            "Train Iteration:  50%|█████     | 1011/2002 [04:28<04:22,  3.77it/s]"
          ],
          "name": "stderr"
        },
        {
          "output_type": "stream",
          "text": [
            "{'avg_chunks': 2.4, 'loss': 8.952805995941162, 'learning_rate': 0.049500499500499506, 'optimizer_steps': 1011}\n"
          ],
          "name": "stdout"
        },
        {
          "output_type": "stream",
          "text": [
            "Train Iteration:  51%|█████     | 1016/2002 [04:29<03:36,  4.55it/s]"
          ],
          "name": "stderr"
        },
        {
          "output_type": "stream",
          "text": [
            "{'avg_chunks': 2.0, 'loss': 9.232447052001953, 'learning_rate': 0.04925074925074925, 'optimizer_steps': 1016}\n"
          ],
          "name": "stdout"
        },
        {
          "output_type": "stream",
          "text": [
            "Train Iteration:  51%|█████     | 1021/2002 [04:31<04:33,  3.59it/s]"
          ],
          "name": "stderr"
        },
        {
          "output_type": "stream",
          "text": [
            "{'avg_chunks': 2.8, 'loss': 9.154146194458008, 'learning_rate': 0.049000999000999, 'optimizer_steps': 1021}\n"
          ],
          "name": "stdout"
        },
        {
          "output_type": "stream",
          "text": [
            "Train Iteration:  51%|█████     | 1026/2002 [04:32<04:29,  3.62it/s]"
          ],
          "name": "stderr"
        },
        {
          "output_type": "stream",
          "text": [
            "{'avg_chunks': 2.6, 'loss': 9.270980262756348, 'learning_rate': 0.048751248751248755, 'optimizer_steps': 1026}\n"
          ],
          "name": "stdout"
        },
        {
          "output_type": "stream",
          "text": [
            "Train Iteration:  51%|█████▏    | 1031/2002 [04:34<04:51,  3.34it/s]"
          ],
          "name": "stderr"
        },
        {
          "output_type": "stream",
          "text": [
            "{'avg_chunks': 3.2, 'loss': 9.035742378234863, 'learning_rate': 0.048501498501498506, 'optimizer_steps': 1031}\n"
          ],
          "name": "stdout"
        },
        {
          "output_type": "stream",
          "text": [
            "Train Iteration:  52%|█████▏    | 1036/2002 [04:35<04:01,  4.00it/s]"
          ],
          "name": "stderr"
        },
        {
          "output_type": "stream",
          "text": [
            "{'avg_chunks': 2.4, 'loss': 9.352181816101075, 'learning_rate': 0.04825174825174825, 'optimizer_steps': 1036}\n"
          ],
          "name": "stdout"
        },
        {
          "output_type": "stream",
          "text": [
            "Train Iteration:  52%|█████▏    | 1041/2002 [04:36<04:35,  3.49it/s]"
          ],
          "name": "stderr"
        },
        {
          "output_type": "stream",
          "text": [
            "{'avg_chunks': 2.6, 'loss': 9.205619812011719, 'learning_rate': 0.048001998001998, 'optimizer_steps': 1041}\n"
          ],
          "name": "stdout"
        },
        {
          "output_type": "stream",
          "text": [
            "Train Iteration:  52%|█████▏    | 1047/2002 [04:38<03:43,  4.28it/s]"
          ],
          "name": "stderr"
        },
        {
          "output_type": "stream",
          "text": [
            "{'avg_chunks': 2.4, 'loss': 9.091753578186035, 'learning_rate': 0.047752247752247755, 'optimizer_steps': 1046}\n"
          ],
          "name": "stdout"
        },
        {
          "output_type": "stream",
          "text": [
            "Train Iteration:  52%|█████▏    | 1051/2002 [04:39<03:45,  4.22it/s]"
          ],
          "name": "stderr"
        },
        {
          "output_type": "stream",
          "text": [
            "{'avg_chunks': 2.2, 'loss': 8.673018074035644, 'learning_rate': 0.04750249750249751, 'optimizer_steps': 1051}\n"
          ],
          "name": "stdout"
        },
        {
          "output_type": "stream",
          "text": [
            "Train Iteration:  53%|█████▎    | 1056/2002 [04:40<03:28,  4.54it/s]"
          ],
          "name": "stderr"
        },
        {
          "output_type": "stream",
          "text": [
            "{'avg_chunks': 2.2, 'loss': 9.607015991210938, 'learning_rate': 0.04725274725274725, 'optimizer_steps': 1056}\n"
          ],
          "name": "stdout"
        },
        {
          "output_type": "stream",
          "text": [
            "Train Iteration:  53%|█████▎    | 1061/2002 [04:41<03:47,  4.14it/s]"
          ],
          "name": "stderr"
        },
        {
          "output_type": "stream",
          "text": [
            "{'avg_chunks': 2.4, 'loss': 8.935653495788575, 'learning_rate': 0.04700299700299701, 'optimizer_steps': 1061}\n"
          ],
          "name": "stdout"
        },
        {
          "output_type": "stream",
          "text": [
            "Train Iteration:  53%|█████▎    | 1066/2002 [04:42<03:22,  4.61it/s]"
          ],
          "name": "stderr"
        },
        {
          "output_type": "stream",
          "text": [
            "{'avg_chunks': 2.0, 'loss': 8.915045547485352, 'learning_rate': 0.046753246753246755, 'optimizer_steps': 1066}\n"
          ],
          "name": "stdout"
        },
        {
          "output_type": "stream",
          "text": [
            "Train Iteration:  53%|█████▎    | 1071/2002 [04:44<04:20,  3.58it/s]"
          ],
          "name": "stderr"
        },
        {
          "output_type": "stream",
          "text": [
            "{'avg_chunks': 3.0, 'loss': 8.641187858581542, 'learning_rate': 0.04650349650349651, 'optimizer_steps': 1071}\n"
          ],
          "name": "stdout"
        },
        {
          "output_type": "stream",
          "text": [
            "Train Iteration:  54%|█████▎    | 1076/2002 [04:45<04:10,  3.69it/s]"
          ],
          "name": "stderr"
        },
        {
          "output_type": "stream",
          "text": [
            "{'avg_chunks': 2.6, 'loss': 8.72311372756958, 'learning_rate': 0.04625374625374626, 'optimizer_steps': 1076}\n"
          ],
          "name": "stdout"
        },
        {
          "output_type": "stream",
          "text": [
            "Train Iteration:  54%|█████▍    | 1081/2002 [04:46<04:02,  3.80it/s]"
          ],
          "name": "stderr"
        },
        {
          "output_type": "stream",
          "text": [
            "{'avg_chunks': 2.8, 'loss': 8.684758377075195, 'learning_rate': 0.04600399600399601, 'optimizer_steps': 1081}\n"
          ],
          "name": "stdout"
        },
        {
          "output_type": "stream",
          "text": [
            "Train Iteration:  54%|█████▍    | 1086/2002 [04:47<03:35,  4.24it/s]"
          ],
          "name": "stderr"
        },
        {
          "output_type": "stream",
          "text": [
            "{'avg_chunks': 2.4, 'loss': 9.147875785827637, 'learning_rate': 0.045754245754245755, 'optimizer_steps': 1086}\n"
          ],
          "name": "stdout"
        },
        {
          "output_type": "stream",
          "text": [
            "Train Iteration:  54%|█████▍    | 1091/2002 [04:49<04:22,  3.47it/s]"
          ],
          "name": "stderr"
        },
        {
          "output_type": "stream",
          "text": [
            "{'avg_chunks': 2.8, 'loss': 8.404598808288574, 'learning_rate': 0.04550449550449551, 'optimizer_steps': 1091}\n"
          ],
          "name": "stdout"
        },
        {
          "output_type": "stream",
          "text": [
            "Train Iteration:  55%|█████▍    | 1096/2002 [04:50<03:30,  4.31it/s]"
          ],
          "name": "stderr"
        },
        {
          "output_type": "stream",
          "text": [
            "{'avg_chunks': 2.2, 'loss': 9.338799667358398, 'learning_rate': 0.04525474525474526, 'optimizer_steps': 1096}\n"
          ],
          "name": "stdout"
        },
        {
          "output_type": "stream",
          "text": [
            "Train Iteration:  55%|█████▍    | 1101/2002 [04:51<04:00,  3.75it/s]"
          ],
          "name": "stderr"
        },
        {
          "output_type": "stream",
          "text": [
            "{'avg_chunks': 2.8, 'loss': 8.821753120422363, 'learning_rate': 0.04500499500499501, 'optimizer_steps': 1101}\n"
          ],
          "name": "stdout"
        },
        {
          "output_type": "stream",
          "text": [
            "Train Iteration:  55%|█████▌    | 1106/2002 [04:53<04:37,  3.23it/s]"
          ],
          "name": "stderr"
        },
        {
          "output_type": "stream",
          "text": [
            "{'avg_chunks': 3.0, 'loss': 8.460673522949218, 'learning_rate': 0.044755244755244755, 'optimizer_steps': 1106}\n"
          ],
          "name": "stdout"
        },
        {
          "output_type": "stream",
          "text": [
            "Train Iteration:  56%|█████▌    | 1112/2002 [04:55<03:31,  4.20it/s]"
          ],
          "name": "stderr"
        },
        {
          "output_type": "stream",
          "text": [
            "{'avg_chunks': 2.8, 'loss': 9.223028373718261, 'learning_rate': 0.04450549450549451, 'optimizer_steps': 1111}\n"
          ],
          "name": "stdout"
        },
        {
          "output_type": "stream",
          "text": [
            "Train Iteration:  56%|█████▌    | 1116/2002 [04:56<03:35,  4.11it/s]"
          ],
          "name": "stderr"
        },
        {
          "output_type": "stream",
          "text": [
            "{'avg_chunks': 2.2, 'loss': 8.384595966339111, 'learning_rate': 0.04425574425574426, 'optimizer_steps': 1116}\n"
          ],
          "name": "stdout"
        },
        {
          "output_type": "stream",
          "text": [
            "Train Iteration:  56%|█████▌    | 1121/2002 [04:57<04:30,  3.25it/s]"
          ],
          "name": "stderr"
        },
        {
          "output_type": "stream",
          "text": [
            "{'avg_chunks': 2.8, 'loss': 8.424079895019531, 'learning_rate': 0.044005994005994004, 'optimizer_steps': 1121}\n"
          ],
          "name": "stdout"
        },
        {
          "output_type": "stream",
          "text": [
            "Train Iteration:  56%|█████▌    | 1126/2002 [04:58<03:47,  3.85it/s]"
          ],
          "name": "stderr"
        },
        {
          "output_type": "stream",
          "text": [
            "{'avg_chunks': 2.2, 'loss': 9.0718337059021, 'learning_rate': 0.04375624375624376, 'optimizer_steps': 1126}\n"
          ],
          "name": "stdout"
        },
        {
          "output_type": "stream",
          "text": [
            "Train Iteration:  56%|█████▋    | 1131/2002 [04:59<03:10,  4.57it/s]"
          ],
          "name": "stderr"
        },
        {
          "output_type": "stream",
          "text": [
            "{'avg_chunks': 2.0, 'loss': 8.823646736145019, 'learning_rate': 0.04350649350649351, 'optimizer_steps': 1131}\n"
          ],
          "name": "stdout"
        },
        {
          "output_type": "stream",
          "text": [
            "Train Iteration:  57%|█████▋    | 1136/2002 [05:01<03:30,  4.12it/s]"
          ],
          "name": "stderr"
        },
        {
          "output_type": "stream",
          "text": [
            "{'avg_chunks': 2.6, 'loss': 8.538280010223389, 'learning_rate': 0.04325674325674326, 'optimizer_steps': 1136}\n"
          ],
          "name": "stdout"
        },
        {
          "output_type": "stream",
          "text": [
            "Train Iteration:  57%|█████▋    | 1142/2002 [05:02<03:14,  4.42it/s]"
          ],
          "name": "stderr"
        },
        {
          "output_type": "stream",
          "text": [
            "{'avg_chunks': 2.8, 'loss': 8.698381423950195, 'learning_rate': 0.04300699300699301, 'optimizer_steps': 1141}\n"
          ],
          "name": "stdout"
        },
        {
          "output_type": "stream",
          "text": [
            "Train Iteration:  57%|█████▋    | 1146/2002 [05:03<03:40,  3.88it/s]"
          ],
          "name": "stderr"
        },
        {
          "output_type": "stream",
          "text": [
            "{'avg_chunks': 2.0, 'loss': 8.689157009124756, 'learning_rate': 0.04275724275724276, 'optimizer_steps': 1146}\n"
          ],
          "name": "stdout"
        },
        {
          "output_type": "stream",
          "text": [
            "Train Iteration:  57%|█████▋    | 1151/2002 [05:04<03:19,  4.26it/s]"
          ],
          "name": "stderr"
        },
        {
          "output_type": "stream",
          "text": [
            "{'avg_chunks': 2.2, 'loss': 8.402375602722168, 'learning_rate': 0.04250749250749251, 'optimizer_steps': 1151}\n"
          ],
          "name": "stdout"
        },
        {
          "output_type": "stream",
          "text": [
            "Train Iteration:  58%|█████▊    | 1156/2002 [05:06<03:13,  4.37it/s]"
          ],
          "name": "stderr"
        },
        {
          "output_type": "stream",
          "text": [
            "{'avg_chunks': 2.4, 'loss': 7.976721096038818, 'learning_rate': 0.04225774225774226, 'optimizer_steps': 1156}\n"
          ],
          "name": "stdout"
        },
        {
          "output_type": "stream",
          "text": [
            "Train Iteration:  58%|█████▊    | 1161/2002 [05:07<03:11,  4.40it/s]"
          ],
          "name": "stderr"
        },
        {
          "output_type": "stream",
          "text": [
            "{'avg_chunks': 2.0, 'loss': 8.900405120849609, 'learning_rate': 0.04200799200799201, 'optimizer_steps': 1161}\n"
          ],
          "name": "stdout"
        },
        {
          "output_type": "stream",
          "text": [
            "Train Iteration:  58%|█████▊    | 1166/2002 [05:08<03:32,  3.94it/s]"
          ],
          "name": "stderr"
        },
        {
          "output_type": "stream",
          "text": [
            "{'avg_chunks': 2.6, 'loss': 7.958880043029785, 'learning_rate': 0.04175824175824176, 'optimizer_steps': 1166}\n"
          ],
          "name": "stdout"
        },
        {
          "output_type": "stream",
          "text": [
            "Train Iteration:  58%|█████▊    | 1171/2002 [05:09<03:10,  4.35it/s]"
          ],
          "name": "stderr"
        },
        {
          "output_type": "stream",
          "text": [
            "{'avg_chunks': 2.0, 'loss': 8.716488933563232, 'learning_rate': 0.04150849150849151, 'optimizer_steps': 1171}\n"
          ],
          "name": "stdout"
        },
        {
          "output_type": "stream",
          "text": [
            "Train Iteration:  59%|█████▊    | 1176/2002 [05:10<03:33,  3.87it/s]"
          ],
          "name": "stderr"
        },
        {
          "output_type": "stream",
          "text": [
            "{'avg_chunks': 2.6, 'loss': 9.194646072387695, 'learning_rate': 0.041258741258741266, 'optimizer_steps': 1176}\n"
          ],
          "name": "stdout"
        },
        {
          "output_type": "stream",
          "text": [
            "Train Iteration:  59%|█████▉    | 1181/2002 [05:12<04:03,  3.37it/s]"
          ],
          "name": "stderr"
        },
        {
          "output_type": "stream",
          "text": [
            "{'avg_chunks': 3.6, 'loss': 8.349621200561524, 'learning_rate': 0.04100899100899101, 'optimizer_steps': 1181}\n"
          ],
          "name": "stdout"
        },
        {
          "output_type": "stream",
          "text": [
            "Train Iteration:  59%|█████▉    | 1186/2002 [05:13<02:51,  4.75it/s]"
          ],
          "name": "stderr"
        },
        {
          "output_type": "stream",
          "text": [
            "{'avg_chunks': 1.8, 'loss': 8.876216793060303, 'learning_rate': 0.04075924075924076, 'optimizer_steps': 1186}\n"
          ],
          "name": "stdout"
        },
        {
          "output_type": "stream",
          "text": [
            "Train Iteration:  59%|█████▉    | 1191/2002 [05:14<02:55,  4.61it/s]"
          ],
          "name": "stderr"
        },
        {
          "output_type": "stream",
          "text": [
            "{'avg_chunks': 2.2, 'loss': 8.634856796264648, 'learning_rate': 0.040509490509490514, 'optimizer_steps': 1191}\n"
          ],
          "name": "stdout"
        },
        {
          "output_type": "stream",
          "text": [
            "Train Iteration:  60%|█████▉    | 1196/2002 [05:16<03:35,  3.74it/s]"
          ],
          "name": "stderr"
        },
        {
          "output_type": "stream",
          "text": [
            "{'avg_chunks': 3.2, 'loss': 7.938406562805175, 'learning_rate': 0.040259740259740266, 'optimizer_steps': 1196}\n"
          ],
          "name": "stdout"
        },
        {
          "output_type": "stream",
          "text": [
            "Train Iteration:  60%|█████▉    | 1201/2002 [05:17<03:25,  3.89it/s]"
          ],
          "name": "stderr"
        },
        {
          "output_type": "stream",
          "text": [
            "{'avg_chunks': 2.6, 'loss': 8.396346187591552, 'learning_rate': 0.04000999000999001, 'optimizer_steps': 1201}\n"
          ],
          "name": "stdout"
        },
        {
          "output_type": "stream",
          "text": [
            "Train Iteration:  60%|██████    | 1206/2002 [05:19<03:54,  3.39it/s]"
          ],
          "name": "stderr"
        },
        {
          "output_type": "stream",
          "text": [
            "{'avg_chunks': 2.8, 'loss': 8.169697189331055, 'learning_rate': 0.03976023976023976, 'optimizer_steps': 1206}\n"
          ],
          "name": "stdout"
        },
        {
          "output_type": "stream",
          "text": [
            "Train Iteration:  60%|██████    | 1211/2002 [05:20<03:05,  4.27it/s]"
          ],
          "name": "stderr"
        },
        {
          "output_type": "stream",
          "text": [
            "{'avg_chunks': 2.2, 'loss': 8.80567741394043, 'learning_rate': 0.039510489510489515, 'optimizer_steps': 1211}\n"
          ],
          "name": "stdout"
        },
        {
          "output_type": "stream",
          "text": [
            "Train Iteration:  61%|██████    | 1216/2002 [05:21<03:08,  4.18it/s]"
          ],
          "name": "stderr"
        },
        {
          "output_type": "stream",
          "text": [
            "{'avg_chunks': 2.4, 'loss': 8.83835048675537, 'learning_rate': 0.03926073926073926, 'optimizer_steps': 1216}\n"
          ],
          "name": "stdout"
        },
        {
          "output_type": "stream",
          "text": [
            "Train Iteration:  61%|██████    | 1221/2002 [05:23<03:17,  3.95it/s]"
          ],
          "name": "stderr"
        },
        {
          "output_type": "stream",
          "text": [
            "{'avg_chunks': 2.6, 'loss': 8.748218536376953, 'learning_rate': 0.03901098901098901, 'optimizer_steps': 1221}\n"
          ],
          "name": "stdout"
        },
        {
          "output_type": "stream",
          "text": [
            "Train Iteration:  61%|██████    | 1226/2002 [05:24<03:04,  4.21it/s]"
          ],
          "name": "stderr"
        },
        {
          "output_type": "stream",
          "text": [
            "{'avg_chunks': 2.2, 'loss': 8.700663948059082, 'learning_rate': 0.03876123876123876, 'optimizer_steps': 1226}\n"
          ],
          "name": "stdout"
        },
        {
          "output_type": "stream",
          "text": [
            "Train Iteration:  61%|██████▏   | 1231/2002 [05:25<03:18,  3.88it/s]"
          ],
          "name": "stderr"
        },
        {
          "output_type": "stream",
          "text": [
            "{'avg_chunks': 2.8, 'loss': 7.922138118743897, 'learning_rate': 0.038511488511488515, 'optimizer_steps': 1231}\n"
          ],
          "name": "stdout"
        },
        {
          "output_type": "stream",
          "text": [
            "Train Iteration:  62%|██████▏   | 1236/2002 [05:27<03:05,  4.13it/s]"
          ],
          "name": "stderr"
        },
        {
          "output_type": "stream",
          "text": [
            "{'avg_chunks': 2.4, 'loss': 8.264333343505859, 'learning_rate': 0.03826173826173826, 'optimizer_steps': 1236}\n"
          ],
          "name": "stdout"
        },
        {
          "output_type": "stream",
          "text": [
            "Train Iteration:  62%|██████▏   | 1241/2002 [05:28<03:06,  4.07it/s]"
          ],
          "name": "stderr"
        },
        {
          "output_type": "stream",
          "text": [
            "{'avg_chunks': 2.4, 'loss': 8.944594860076904, 'learning_rate': 0.03801198801198802, 'optimizer_steps': 1241}\n"
          ],
          "name": "stdout"
        },
        {
          "output_type": "stream",
          "text": [
            "Train Iteration:  62%|██████▏   | 1246/2002 [05:29<02:57,  4.25it/s]"
          ],
          "name": "stderr"
        },
        {
          "output_type": "stream",
          "text": [
            "{'avg_chunks': 2.4, 'loss': 8.374634265899658, 'learning_rate': 0.03776223776223776, 'optimizer_steps': 1246}\n"
          ],
          "name": "stdout"
        },
        {
          "output_type": "stream",
          "text": [
            "Train Iteration:  62%|██████▏   | 1251/2002 [05:30<03:19,  3.77it/s]"
          ],
          "name": "stderr"
        },
        {
          "output_type": "stream",
          "text": [
            "{'avg_chunks': 2.6, 'loss': 8.484635543823241, 'learning_rate': 0.037512487512487515, 'optimizer_steps': 1251}\n"
          ],
          "name": "stdout"
        },
        {
          "output_type": "stream",
          "text": [
            "Train Iteration:  63%|██████▎   | 1256/2002 [05:31<03:01,  4.10it/s]"
          ],
          "name": "stderr"
        },
        {
          "output_type": "stream",
          "text": [
            "{'avg_chunks': 2.2, 'loss': 8.166665077209473, 'learning_rate': 0.03726273726273726, 'optimizer_steps': 1256}\n"
          ],
          "name": "stdout"
        },
        {
          "output_type": "stream",
          "text": [
            "Train Iteration:  63%|██████▎   | 1261/2002 [05:34<05:01,  2.46it/s]"
          ],
          "name": "stderr"
        },
        {
          "output_type": "stream",
          "text": [
            "{'avg_chunks': 4.0, 'loss': 8.890573120117187, 'learning_rate': 0.03701298701298702, 'optimizer_steps': 1261}\n"
          ],
          "name": "stdout"
        },
        {
          "output_type": "stream",
          "text": [
            "Train Iteration:  63%|██████▎   | 1266/2002 [05:36<03:15,  3.77it/s]"
          ],
          "name": "stderr"
        },
        {
          "output_type": "stream",
          "text": [
            "{'avg_chunks': 2.4, 'loss': 8.998627281188964, 'learning_rate': 0.03676323676323676, 'optimizer_steps': 1266}\n"
          ],
          "name": "stdout"
        },
        {
          "output_type": "stream",
          "text": [
            "Train Iteration:  63%|██████▎   | 1271/2002 [05:37<03:10,  3.83it/s]"
          ],
          "name": "stderr"
        },
        {
          "output_type": "stream",
          "text": [
            "{'avg_chunks': 2.8, 'loss': 8.18558177947998, 'learning_rate': 0.036513486513486515, 'optimizer_steps': 1271}\n"
          ],
          "name": "stdout"
        },
        {
          "output_type": "stream",
          "text": [
            "Train Iteration:  64%|██████▎   | 1276/2002 [05:39<03:38,  3.32it/s]"
          ],
          "name": "stderr"
        },
        {
          "output_type": "stream",
          "text": [
            "{'avg_chunks': 3.2, 'loss': 8.321831035614014, 'learning_rate': 0.03626373626373627, 'optimizer_steps': 1276}\n"
          ],
          "name": "stdout"
        },
        {
          "output_type": "stream",
          "text": [
            "Train Iteration:  64%|██████▍   | 1281/2002 [05:40<03:39,  3.28it/s]"
          ],
          "name": "stderr"
        },
        {
          "output_type": "stream",
          "text": [
            "{'avg_chunks': 2.8, 'loss': 8.52434949874878, 'learning_rate': 0.03601398601398602, 'optimizer_steps': 1281}\n"
          ],
          "name": "stdout"
        },
        {
          "output_type": "stream",
          "text": [
            "Train Iteration:  64%|██████▍   | 1286/2002 [05:41<02:57,  4.03it/s]"
          ],
          "name": "stderr"
        },
        {
          "output_type": "stream",
          "text": [
            "{'avg_chunks': 2.4, 'loss': 8.372791481018066, 'learning_rate': 0.03576423576423576, 'optimizer_steps': 1286}\n"
          ],
          "name": "stdout"
        },
        {
          "output_type": "stream",
          "text": [
            "Train Iteration:  64%|██████▍   | 1291/2002 [05:43<03:29,  3.40it/s]"
          ],
          "name": "stderr"
        },
        {
          "output_type": "stream",
          "text": [
            "{'avg_chunks': 3.2, 'loss': 8.62248125076294, 'learning_rate': 0.035514485514485515, 'optimizer_steps': 1291}\n"
          ],
          "name": "stdout"
        },
        {
          "output_type": "stream",
          "text": [
            "Train Iteration:  65%|██████▍   | 1296/2002 [05:44<03:16,  3.60it/s]"
          ],
          "name": "stderr"
        },
        {
          "output_type": "stream",
          "text": [
            "{'avg_chunks': 3.0, 'loss': 8.454168891906738, 'learning_rate': 0.03526473526473527, 'optimizer_steps': 1296}\n"
          ],
          "name": "stdout"
        },
        {
          "output_type": "stream",
          "text": [
            "Train Iteration:  65%|██████▍   | 1301/2002 [05:46<03:49,  3.06it/s]"
          ],
          "name": "stderr"
        },
        {
          "output_type": "stream",
          "text": [
            "{'avg_chunks': 2.8, 'loss': 8.541555786132813, 'learning_rate': 0.03501498501498502, 'optimizer_steps': 1301}\n"
          ],
          "name": "stdout"
        },
        {
          "output_type": "stream",
          "text": [
            "Train Iteration:  65%|██████▌   | 1306/2002 [05:47<02:57,  3.92it/s]"
          ],
          "name": "stderr"
        },
        {
          "output_type": "stream",
          "text": [
            "{'avg_chunks': 2.2, 'loss': 8.391809558868408, 'learning_rate': 0.034765234765234763, 'optimizer_steps': 1306}\n"
          ],
          "name": "stdout"
        },
        {
          "output_type": "stream",
          "text": [
            "Train Iteration:  65%|██████▌   | 1311/2002 [05:48<03:21,  3.43it/s]"
          ],
          "name": "stderr"
        },
        {
          "output_type": "stream",
          "text": [
            "{'avg_chunks': 2.8, 'loss': 8.358241176605224, 'learning_rate': 0.03451548451548452, 'optimizer_steps': 1311}\n"
          ],
          "name": "stdout"
        },
        {
          "output_type": "stream",
          "text": [
            "Train Iteration:  66%|██████▌   | 1316/2002 [05:50<02:57,  3.88it/s]"
          ],
          "name": "stderr"
        },
        {
          "output_type": "stream",
          "text": [
            "{'avg_chunks': 2.6, 'loss': 8.228112411499023, 'learning_rate': 0.03426573426573427, 'optimizer_steps': 1316}\n"
          ],
          "name": "stdout"
        },
        {
          "output_type": "stream",
          "text": [
            "Train Iteration:  66%|██████▌   | 1321/2002 [05:51<03:13,  3.51it/s]"
          ],
          "name": "stderr"
        },
        {
          "output_type": "stream",
          "text": [
            "{'avg_chunks': 2.8, 'loss': 8.638222980499268, 'learning_rate': 0.03401598401598401, 'optimizer_steps': 1321}\n"
          ],
          "name": "stdout"
        },
        {
          "output_type": "stream",
          "text": [
            "Train Iteration:  66%|██████▌   | 1326/2002 [05:53<03:02,  3.71it/s]"
          ],
          "name": "stderr"
        },
        {
          "output_type": "stream",
          "text": [
            "{'avg_chunks': 3.0, 'loss': 8.138371181488036, 'learning_rate': 0.03376623376623377, 'optimizer_steps': 1326}\n"
          ],
          "name": "stdout"
        },
        {
          "output_type": "stream",
          "text": [
            "Train Iteration:  66%|██████▋   | 1331/2002 [05:54<02:29,  4.48it/s]"
          ],
          "name": "stderr"
        },
        {
          "output_type": "stream",
          "text": [
            "{'avg_chunks': 2.0, 'loss': 9.050588226318359, 'learning_rate': 0.033516483516483515, 'optimizer_steps': 1331}\n"
          ],
          "name": "stdout"
        },
        {
          "output_type": "stream",
          "text": [
            "Train Iteration:  67%|██████▋   | 1336/2002 [05:55<02:52,  3.86it/s]"
          ],
          "name": "stderr"
        },
        {
          "output_type": "stream",
          "text": [
            "{'avg_chunks': 2.6, 'loss': 8.526128768920898, 'learning_rate': 0.03326673326673327, 'optimizer_steps': 1336}\n"
          ],
          "name": "stdout"
        },
        {
          "output_type": "stream",
          "text": [
            "Train Iteration:  67%|██████▋   | 1341/2002 [05:56<02:56,  3.75it/s]"
          ],
          "name": "stderr"
        },
        {
          "output_type": "stream",
          "text": [
            "{'avg_chunks': 2.6, 'loss': 8.49636344909668, 'learning_rate': 0.03301698301698302, 'optimizer_steps': 1341}\n"
          ],
          "name": "stdout"
        },
        {
          "output_type": "stream",
          "text": [
            "Train Iteration:  67%|██████▋   | 1346/2002 [05:58<02:59,  3.66it/s]"
          ],
          "name": "stderr"
        },
        {
          "output_type": "stream",
          "text": [
            "{'avg_chunks': 3.0, 'loss': 8.363408088684082, 'learning_rate': 0.03276723276723277, 'optimizer_steps': 1346}\n"
          ],
          "name": "stdout"
        },
        {
          "output_type": "stream",
          "text": [
            "Train Iteration:  67%|██████▋   | 1351/2002 [05:59<02:50,  3.82it/s]"
          ],
          "name": "stderr"
        },
        {
          "output_type": "stream",
          "text": [
            "{'avg_chunks': 2.4, 'loss': 8.868661308288575, 'learning_rate': 0.032517482517482516, 'optimizer_steps': 1351}\n"
          ],
          "name": "stdout"
        },
        {
          "output_type": "stream",
          "text": [
            "Train Iteration:  68%|██████▊   | 1356/2002 [06:00<02:37,  4.09it/s]"
          ],
          "name": "stderr"
        },
        {
          "output_type": "stream",
          "text": [
            "{'avg_chunks': 2.6, 'loss': 8.730056858062744, 'learning_rate': 0.03226773226773227, 'optimizer_steps': 1356}\n"
          ],
          "name": "stdout"
        },
        {
          "output_type": "stream",
          "text": [
            "Train Iteration:  68%|██████▊   | 1361/2002 [06:02<02:36,  4.09it/s]"
          ],
          "name": "stderr"
        },
        {
          "output_type": "stream",
          "text": [
            "{'avg_chunks': 2.2, 'loss': 8.73804006576538, 'learning_rate': 0.03201798201798202, 'optimizer_steps': 1361}\n"
          ],
          "name": "stdout"
        },
        {
          "output_type": "stream",
          "text": [
            "Train Iteration:  68%|██████▊   | 1366/2002 [06:03<02:26,  4.35it/s]"
          ],
          "name": "stderr"
        },
        {
          "output_type": "stream",
          "text": [
            "{'avg_chunks': 2.4, 'loss': 8.124489784240723, 'learning_rate': 0.03176823176823177, 'optimizer_steps': 1366}\n"
          ],
          "name": "stdout"
        },
        {
          "output_type": "stream",
          "text": [
            "Train Iteration:  68%|██████▊   | 1371/2002 [06:04<02:34,  4.09it/s]"
          ],
          "name": "stderr"
        },
        {
          "output_type": "stream",
          "text": [
            "{'avg_chunks': 2.4, 'loss': 8.582799339294434, 'learning_rate': 0.031518481518481516, 'optimizer_steps': 1371}\n"
          ],
          "name": "stdout"
        },
        {
          "output_type": "stream",
          "text": [
            "Train Iteration:  69%|██████▊   | 1376/2002 [06:05<02:29,  4.20it/s]"
          ],
          "name": "stderr"
        },
        {
          "output_type": "stream",
          "text": [
            "{'avg_chunks': 2.6, 'loss': 8.006237888336182, 'learning_rate': 0.031268731268731274, 'optimizer_steps': 1376}\n"
          ],
          "name": "stdout"
        },
        {
          "output_type": "stream",
          "text": [
            "Train Iteration:  69%|██████▉   | 1381/2002 [06:07<02:41,  3.85it/s]"
          ],
          "name": "stderr"
        },
        {
          "output_type": "stream",
          "text": [
            "{'avg_chunks': 2.6, 'loss': 8.682192420959472, 'learning_rate': 0.03101898101898102, 'optimizer_steps': 1381}\n"
          ],
          "name": "stdout"
        },
        {
          "output_type": "stream",
          "text": [
            "Train Iteration:  69%|██████▉   | 1387/2002 [06:08<02:09,  4.75it/s]"
          ],
          "name": "stderr"
        },
        {
          "output_type": "stream",
          "text": [
            "{'avg_chunks': 2.4, 'loss': 8.731008720397949, 'learning_rate': 0.03076923076923077, 'optimizer_steps': 1386}\n"
          ],
          "name": "stdout"
        },
        {
          "output_type": "stream",
          "text": [
            "Train Iteration:  69%|██████▉   | 1391/2002 [06:09<02:09,  4.71it/s]"
          ],
          "name": "stderr"
        },
        {
          "output_type": "stream",
          "text": [
            "{'avg_chunks': 1.8, 'loss': 8.191365814208984, 'learning_rate': 0.03051948051948052, 'optimizer_steps': 1391}\n"
          ],
          "name": "stdout"
        },
        {
          "output_type": "stream",
          "text": [
            "Train Iteration:  70%|██████▉   | 1396/2002 [06:10<02:29,  4.06it/s]"
          ],
          "name": "stderr"
        },
        {
          "output_type": "stream",
          "text": [
            "{'avg_chunks': 2.4, 'loss': 8.235101890563964, 'learning_rate': 0.030269730269730274, 'optimizer_steps': 1396}\n"
          ],
          "name": "stdout"
        },
        {
          "output_type": "stream",
          "text": [
            "Train Iteration:  70%|██████▉   | 1401/2002 [06:12<02:34,  3.89it/s]"
          ],
          "name": "stderr"
        },
        {
          "output_type": "stream",
          "text": [
            "{'avg_chunks': 2.8, 'loss': 8.321226119995117, 'learning_rate': 0.03001998001998002, 'optimizer_steps': 1401}\n"
          ],
          "name": "stdout"
        },
        {
          "output_type": "stream",
          "text": [
            "Train Iteration:  70%|███████   | 1406/2002 [06:13<02:28,  4.01it/s]"
          ],
          "name": "stderr"
        },
        {
          "output_type": "stream",
          "text": [
            "{'avg_chunks': 2.4, 'loss': 8.139438819885253, 'learning_rate': 0.029770229770229775, 'optimizer_steps': 1406}\n"
          ],
          "name": "stdout"
        },
        {
          "output_type": "stream",
          "text": [
            "Train Iteration:  70%|███████   | 1411/2002 [06:14<02:06,  4.69it/s]"
          ],
          "name": "stderr"
        },
        {
          "output_type": "stream",
          "text": [
            "{'avg_chunks': 2.0, 'loss': 8.292344665527343, 'learning_rate': 0.029520479520479523, 'optimizer_steps': 1411}\n"
          ],
          "name": "stdout"
        },
        {
          "output_type": "stream",
          "text": [
            "Train Iteration:  71%|███████   | 1416/2002 [06:15<02:07,  4.61it/s]"
          ],
          "name": "stderr"
        },
        {
          "output_type": "stream",
          "text": [
            "{'avg_chunks': 2.2, 'loss': 8.371468830108643, 'learning_rate': 0.029270729270729275, 'optimizer_steps': 1416}\n"
          ],
          "name": "stdout"
        },
        {
          "output_type": "stream",
          "text": [
            "Train Iteration:  71%|███████   | 1421/2002 [06:16<02:18,  4.18it/s]"
          ],
          "name": "stderr"
        },
        {
          "output_type": "stream",
          "text": [
            "{'avg_chunks': 2.4, 'loss': 8.225134372711182, 'learning_rate': 0.029020979020979023, 'optimizer_steps': 1421}\n"
          ],
          "name": "stdout"
        },
        {
          "output_type": "stream",
          "text": [
            "Train Iteration:  71%|███████   | 1426/2002 [06:18<02:11,  4.39it/s]"
          ],
          "name": "stderr"
        },
        {
          "output_type": "stream",
          "text": [
            "{'avg_chunks': 2.2, 'loss': 8.0686541557312, 'learning_rate': 0.028771228771228775, 'optimizer_steps': 1426}\n"
          ],
          "name": "stdout"
        },
        {
          "output_type": "stream",
          "text": [
            "Train Iteration:  71%|███████▏  | 1431/2002 [06:19<02:28,  3.85it/s]"
          ],
          "name": "stderr"
        },
        {
          "output_type": "stream",
          "text": [
            "{'avg_chunks': 2.8, 'loss': 8.721430492401122, 'learning_rate': 0.028521478521478523, 'optimizer_steps': 1431}\n"
          ],
          "name": "stdout"
        },
        {
          "output_type": "stream",
          "text": [
            "Train Iteration:  72%|███████▏  | 1436/2002 [06:20<02:33,  3.69it/s]"
          ],
          "name": "stderr"
        },
        {
          "output_type": "stream",
          "text": [
            "{'avg_chunks': 2.6, 'loss': 8.004640197753906, 'learning_rate': 0.02827172827172827, 'optimizer_steps': 1436}\n"
          ],
          "name": "stdout"
        },
        {
          "output_type": "stream",
          "text": [
            "Train Iteration:  72%|███████▏  | 1441/2002 [06:21<02:08,  4.36it/s]"
          ],
          "name": "stderr"
        },
        {
          "output_type": "stream",
          "text": [
            "{'avg_chunks': 2.2, 'loss': 8.209486961364746, 'learning_rate': 0.028021978021978023, 'optimizer_steps': 1441}\n"
          ],
          "name": "stdout"
        },
        {
          "output_type": "stream",
          "text": [
            "Train Iteration:  72%|███████▏  | 1447/2002 [06:23<02:06,  4.39it/s]"
          ],
          "name": "stderr"
        },
        {
          "output_type": "stream",
          "text": [
            "{'avg_chunks': 2.8, 'loss': 8.121831798553467, 'learning_rate': 0.02777222777222777, 'optimizer_steps': 1446}\n"
          ],
          "name": "stdout"
        },
        {
          "output_type": "stream",
          "text": [
            "Train Iteration:  72%|███████▏  | 1451/2002 [06:24<02:15,  4.07it/s]"
          ],
          "name": "stderr"
        },
        {
          "output_type": "stream",
          "text": [
            "{'avg_chunks': 2.2, 'loss': 7.739742374420166, 'learning_rate': 0.027522477522477523, 'optimizer_steps': 1451}\n"
          ],
          "name": "stdout"
        },
        {
          "output_type": "stream",
          "text": [
            "Train Iteration:  73%|███████▎  | 1456/2002 [06:25<02:05,  4.33it/s]"
          ],
          "name": "stderr"
        },
        {
          "output_type": "stream",
          "text": [
            "{'avg_chunks': 2.2, 'loss': 8.002476692199707, 'learning_rate': 0.02727272727272727, 'optimizer_steps': 1456}\n"
          ],
          "name": "stdout"
        },
        {
          "output_type": "stream",
          "text": [
            "Train Iteration:  73%|███████▎  | 1461/2002 [06:26<01:56,  4.64it/s]"
          ],
          "name": "stderr"
        },
        {
          "output_type": "stream",
          "text": [
            "{'avg_chunks': 2.0, 'loss': 8.65875015258789, 'learning_rate': 0.027022977022977027, 'optimizer_steps': 1461}\n"
          ],
          "name": "stdout"
        },
        {
          "output_type": "stream",
          "text": [
            "Train Iteration:  73%|███████▎  | 1466/2002 [06:27<01:57,  4.56it/s]"
          ],
          "name": "stderr"
        },
        {
          "output_type": "stream",
          "text": [
            "{'avg_chunks': 2.2, 'loss': 8.243315315246582, 'learning_rate': 0.02677322677322677, 'optimizer_steps': 1466}\n"
          ],
          "name": "stdout"
        },
        {
          "output_type": "stream",
          "text": [
            "Train Iteration:  73%|███████▎  | 1471/2002 [06:29<02:03,  4.31it/s]"
          ],
          "name": "stderr"
        },
        {
          "output_type": "stream",
          "text": [
            "{'avg_chunks': 2.4, 'loss': 8.290288734436036, 'learning_rate': 0.026523476523476527, 'optimizer_steps': 1471}\n"
          ],
          "name": "stdout"
        },
        {
          "output_type": "stream",
          "text": [
            "Train Iteration:  74%|███████▎  | 1476/2002 [06:30<02:06,  4.17it/s]"
          ],
          "name": "stderr"
        },
        {
          "output_type": "stream",
          "text": [
            "{'avg_chunks': 2.4, 'loss': 7.472724723815918, 'learning_rate': 0.026273726273726275, 'optimizer_steps': 1476}\n"
          ],
          "name": "stdout"
        },
        {
          "output_type": "stream",
          "text": [
            "Train Iteration:  74%|███████▍  | 1481/2002 [06:31<02:12,  3.94it/s]"
          ],
          "name": "stderr"
        },
        {
          "output_type": "stream",
          "text": [
            "{'avg_chunks': 2.4, 'loss': 7.695080757141113, 'learning_rate': 0.026023976023976027, 'optimizer_steps': 1481}\n"
          ],
          "name": "stdout"
        },
        {
          "output_type": "stream",
          "text": [
            "Train Iteration:  74%|███████▍  | 1486/2002 [06:32<02:19,  3.70it/s]"
          ],
          "name": "stderr"
        },
        {
          "output_type": "stream",
          "text": [
            "{'avg_chunks': 2.8, 'loss': 8.122010707855225, 'learning_rate': 0.025774225774225775, 'optimizer_steps': 1486}\n"
          ],
          "name": "stdout"
        },
        {
          "output_type": "stream",
          "text": [
            "Train Iteration:  74%|███████▍  | 1491/2002 [06:34<02:12,  3.84it/s]"
          ],
          "name": "stderr"
        },
        {
          "output_type": "stream",
          "text": [
            "{'avg_chunks': 2.6, 'loss': 7.701584529876709, 'learning_rate': 0.025524475524475527, 'optimizer_steps': 1491}\n"
          ],
          "name": "stdout"
        },
        {
          "output_type": "stream",
          "text": [
            "Train Iteration:  75%|███████▍  | 1496/2002 [06:35<02:07,  3.98it/s]"
          ],
          "name": "stderr"
        },
        {
          "output_type": "stream",
          "text": [
            "{'avg_chunks': 2.6, 'loss': 7.830912399291992, 'learning_rate': 0.025274725274725275, 'optimizer_steps': 1496}\n"
          ],
          "name": "stdout"
        },
        {
          "output_type": "stream",
          "text": [
            "Train Iteration:  75%|███████▍  | 1501/2002 [06:36<02:00,  4.15it/s]"
          ],
          "name": "stderr"
        },
        {
          "output_type": "stream",
          "text": [
            "{'avg_chunks': 2.4, 'loss': 8.165190029144288, 'learning_rate': 0.025024975024975027, 'optimizer_steps': 1501}\n"
          ],
          "name": "stdout"
        },
        {
          "output_type": "stream",
          "text": [
            "Train Iteration:  75%|███████▌  | 1506/2002 [06:38<02:13,  3.72it/s]"
          ],
          "name": "stderr"
        },
        {
          "output_type": "stream",
          "text": [
            "{'avg_chunks': 3.0, 'loss': 8.41130838394165, 'learning_rate': 0.024775224775224775, 'optimizer_steps': 1506}\n"
          ],
          "name": "stdout"
        },
        {
          "output_type": "stream",
          "text": [
            "Train Iteration:  75%|███████▌  | 1511/2002 [06:39<02:23,  3.41it/s]"
          ],
          "name": "stderr"
        },
        {
          "output_type": "stream",
          "text": [
            "{'avg_chunks': 2.8, 'loss': 8.476311302185058, 'learning_rate': 0.024525474525474527, 'optimizer_steps': 1511}\n"
          ],
          "name": "stdout"
        },
        {
          "output_type": "stream",
          "text": [
            "Train Iteration:  76%|███████▌  | 1517/2002 [06:41<01:46,  4.57it/s]"
          ],
          "name": "stderr"
        },
        {
          "output_type": "stream",
          "text": [
            "{'avg_chunks': 2.4, 'loss': 7.889234638214111, 'learning_rate': 0.024275724275724275, 'optimizer_steps': 1516}\n"
          ],
          "name": "stdout"
        },
        {
          "output_type": "stream",
          "text": [
            "Train Iteration:  76%|███████▌  | 1521/2002 [06:42<01:49,  4.38it/s]"
          ],
          "name": "stderr"
        },
        {
          "output_type": "stream",
          "text": [
            "{'avg_chunks': 2.0, 'loss': 8.16577081680298, 'learning_rate': 0.024025974025974027, 'optimizer_steps': 1521}\n"
          ],
          "name": "stdout"
        },
        {
          "output_type": "stream",
          "text": [
            "Train Iteration:  76%|███████▌  | 1526/2002 [06:43<02:14,  3.53it/s]"
          ],
          "name": "stderr"
        },
        {
          "output_type": "stream",
          "text": [
            "{'avg_chunks': 2.8, 'loss': 7.8025288581848145, 'learning_rate': 0.02377622377622378, 'optimizer_steps': 1526}\n"
          ],
          "name": "stdout"
        },
        {
          "output_type": "stream",
          "text": [
            "Train Iteration:  76%|███████▋  | 1531/2002 [06:44<02:07,  3.69it/s]"
          ],
          "name": "stderr"
        },
        {
          "output_type": "stream",
          "text": [
            "{'avg_chunks': 2.6, 'loss': 8.061491298675538, 'learning_rate': 0.023526473526473527, 'optimizer_steps': 1531}\n"
          ],
          "name": "stdout"
        },
        {
          "output_type": "stream",
          "text": [
            "Train Iteration:  77%|███████▋  | 1536/2002 [06:45<01:42,  4.53it/s]"
          ],
          "name": "stderr"
        },
        {
          "output_type": "stream",
          "text": [
            "{'avg_chunks': 2.0, 'loss': 7.969303894042969, 'learning_rate': 0.02327672327672328, 'optimizer_steps': 1536}\n"
          ],
          "name": "stdout"
        },
        {
          "output_type": "stream",
          "text": [
            "Train Iteration:  77%|███████▋  | 1541/2002 [06:47<01:51,  4.13it/s]"
          ],
          "name": "stderr"
        },
        {
          "output_type": "stream",
          "text": [
            "{'avg_chunks': 2.6, 'loss': 8.367321872711182, 'learning_rate': 0.023026973026973027, 'optimizer_steps': 1541}\n"
          ],
          "name": "stdout"
        },
        {
          "output_type": "stream",
          "text": [
            "Train Iteration:  77%|███████▋  | 1546/2002 [06:48<02:03,  3.70it/s]"
          ],
          "name": "stderr"
        },
        {
          "output_type": "stream",
          "text": [
            "{'avg_chunks': 2.8, 'loss': 7.468879318237304, 'learning_rate': 0.02277722277722278, 'optimizer_steps': 1546}\n"
          ],
          "name": "stdout"
        },
        {
          "output_type": "stream",
          "text": [
            "Train Iteration:  77%|███████▋  | 1551/2002 [06:49<02:08,  3.52it/s]"
          ],
          "name": "stderr"
        },
        {
          "output_type": "stream",
          "text": [
            "{'avg_chunks': 2.6, 'loss': 7.752832889556885, 'learning_rate': 0.02252747252747253, 'optimizer_steps': 1551}\n"
          ],
          "name": "stdout"
        },
        {
          "output_type": "stream",
          "text": [
            "Train Iteration:  78%|███████▊  | 1556/2002 [06:51<01:37,  4.56it/s]"
          ],
          "name": "stderr"
        },
        {
          "output_type": "stream",
          "text": [
            "{'avg_chunks': 2.2, 'loss': 8.241565227508545, 'learning_rate': 0.02227772227772228, 'optimizer_steps': 1556}\n"
          ],
          "name": "stdout"
        },
        {
          "output_type": "stream",
          "text": [
            "Train Iteration:  78%|███████▊  | 1561/2002 [06:52<01:41,  4.35it/s]"
          ],
          "name": "stderr"
        },
        {
          "output_type": "stream",
          "text": [
            "{'avg_chunks': 2.2, 'loss': 8.327011203765869, 'learning_rate': 0.02202797202797203, 'optimizer_steps': 1561}\n"
          ],
          "name": "stdout"
        },
        {
          "output_type": "stream",
          "text": [
            "Train Iteration:  78%|███████▊  | 1566/2002 [06:53<02:01,  3.60it/s]"
          ],
          "name": "stderr"
        },
        {
          "output_type": "stream",
          "text": [
            "{'avg_chunks': 2.8, 'loss': 8.106426429748534, 'learning_rate': 0.02177822177822178, 'optimizer_steps': 1566}\n"
          ],
          "name": "stdout"
        },
        {
          "output_type": "stream",
          "text": [
            "Train Iteration:  78%|███████▊  | 1571/2002 [06:54<01:31,  4.70it/s]"
          ],
          "name": "stderr"
        },
        {
          "output_type": "stream",
          "text": [
            "{'avg_chunks': 2.0, 'loss': 8.378828430175782, 'learning_rate': 0.02152847152847153, 'optimizer_steps': 1571}\n"
          ],
          "name": "stdout"
        },
        {
          "output_type": "stream",
          "text": [
            "Train Iteration:  79%|███████▉  | 1577/2002 [06:56<01:33,  4.53it/s]"
          ],
          "name": "stderr"
        },
        {
          "output_type": "stream",
          "text": [
            "{'avg_chunks': 2.4, 'loss': 7.871630382537842, 'learning_rate': 0.021278721278721283, 'optimizer_steps': 1576}\n"
          ],
          "name": "stdout"
        },
        {
          "output_type": "stream",
          "text": [
            "Train Iteration:  79%|███████▉  | 1581/2002 [06:57<01:36,  4.37it/s]"
          ],
          "name": "stderr"
        },
        {
          "output_type": "stream",
          "text": [
            "{'avg_chunks': 2.0, 'loss': 8.340756702423096, 'learning_rate': 0.02102897102897103, 'optimizer_steps': 1581}\n"
          ],
          "name": "stdout"
        },
        {
          "output_type": "stream",
          "text": [
            "Train Iteration:  79%|███████▉  | 1586/2002 [06:58<01:37,  4.27it/s]"
          ],
          "name": "stderr"
        },
        {
          "output_type": "stream",
          "text": [
            "{'avg_chunks': 2.4, 'loss': 8.06197214126587, 'learning_rate': 0.020779220779220783, 'optimizer_steps': 1586}\n"
          ],
          "name": "stdout"
        },
        {
          "output_type": "stream",
          "text": [
            "Train Iteration:  79%|███████▉  | 1591/2002 [06:59<01:31,  4.52it/s]"
          ],
          "name": "stderr"
        },
        {
          "output_type": "stream",
          "text": [
            "{'avg_chunks': 2.2, 'loss': 8.136255645751953, 'learning_rate': 0.02052947052947053, 'optimizer_steps': 1591}\n"
          ],
          "name": "stdout"
        },
        {
          "output_type": "stream",
          "text": [
            "Train Iteration:  80%|███████▉  | 1596/2002 [07:00<01:41,  4.00it/s]"
          ],
          "name": "stderr"
        },
        {
          "output_type": "stream",
          "text": [
            "{'avg_chunks': 2.6, 'loss': 8.038469982147216, 'learning_rate': 0.02027972027972028, 'optimizer_steps': 1596}\n"
          ],
          "name": "stdout"
        },
        {
          "output_type": "stream",
          "text": [
            "Train Iteration:  80%|███████▉  | 1601/2002 [07:02<01:43,  3.87it/s]"
          ],
          "name": "stderr"
        },
        {
          "output_type": "stream",
          "text": [
            "{'avg_chunks': 2.6, 'loss': 7.866788291931153, 'learning_rate': 0.02002997002997003, 'optimizer_steps': 1601}\n"
          ],
          "name": "stdout"
        },
        {
          "output_type": "stream",
          "text": [
            "Train Iteration:  80%|████████  | 1607/2002 [07:03<01:29,  4.40it/s]"
          ],
          "name": "stderr"
        },
        {
          "output_type": "stream",
          "text": [
            "{'avg_chunks': 2.4, 'loss': 8.30533504486084, 'learning_rate': 0.01978021978021978, 'optimizer_steps': 1606}\n"
          ],
          "name": "stdout"
        },
        {
          "output_type": "stream",
          "text": [
            "Train Iteration:  80%|████████  | 1611/2002 [07:04<01:30,  4.34it/s]"
          ],
          "name": "stderr"
        },
        {
          "output_type": "stream",
          "text": [
            "{'avg_chunks': 1.8, 'loss': 8.484454536437989, 'learning_rate': 0.01953046953046953, 'optimizer_steps': 1611}\n"
          ],
          "name": "stdout"
        },
        {
          "output_type": "stream",
          "text": [
            "Train Iteration:  81%|████████  | 1616/2002 [07:05<01:43,  3.74it/s]"
          ],
          "name": "stderr"
        },
        {
          "output_type": "stream",
          "text": [
            "{'avg_chunks': 2.8, 'loss': 8.077779293060303, 'learning_rate': 0.019280719280719283, 'optimizer_steps': 1616}\n"
          ],
          "name": "stdout"
        },
        {
          "output_type": "stream",
          "text": [
            "Train Iteration:  81%|████████  | 1621/2002 [07:07<01:48,  3.50it/s]"
          ],
          "name": "stderr"
        },
        {
          "output_type": "stream",
          "text": [
            "{'avg_chunks': 3.0, 'loss': 7.87253360748291, 'learning_rate': 0.01903096903096903, 'optimizer_steps': 1621}\n"
          ],
          "name": "stdout"
        },
        {
          "output_type": "stream",
          "text": [
            "Train Iteration:  81%|████████  | 1626/2002 [07:08<01:31,  4.11it/s]"
          ],
          "name": "stderr"
        },
        {
          "output_type": "stream",
          "text": [
            "{'avg_chunks': 2.4, 'loss': 8.178200244903564, 'learning_rate': 0.018781218781218783, 'optimizer_steps': 1626}\n"
          ],
          "name": "stdout"
        },
        {
          "output_type": "stream",
          "text": [
            "Train Iteration:  81%|████████▏ | 1631/2002 [07:10<02:07,  2.91it/s]"
          ],
          "name": "stderr"
        },
        {
          "output_type": "stream",
          "text": [
            "{'avg_chunks': 3.6, 'loss': 7.778977108001709, 'learning_rate': 0.01853146853146853, 'optimizer_steps': 1631}\n"
          ],
          "name": "stdout"
        },
        {
          "output_type": "stream",
          "text": [
            "Train Iteration:  82%|████████▏ | 1636/2002 [07:11<01:25,  4.29it/s]"
          ],
          "name": "stderr"
        },
        {
          "output_type": "stream",
          "text": [
            "{'avg_chunks': 2.0, 'loss': 7.95693359375, 'learning_rate': 0.018281718281718283, 'optimizer_steps': 1636}\n"
          ],
          "name": "stdout"
        },
        {
          "output_type": "stream",
          "text": [
            "Train Iteration:  82%|████████▏ | 1641/2002 [07:12<01:17,  4.66it/s]"
          ],
          "name": "stderr"
        },
        {
          "output_type": "stream",
          "text": [
            "{'avg_chunks': 2.0, 'loss': 8.340839385986328, 'learning_rate': 0.01803196803196803, 'optimizer_steps': 1641}\n"
          ],
          "name": "stdout"
        },
        {
          "output_type": "stream",
          "text": [
            "Train Iteration:  82%|████████▏ | 1646/2002 [07:13<01:18,  4.56it/s]"
          ],
          "name": "stderr"
        },
        {
          "output_type": "stream",
          "text": [
            "{'avg_chunks': 2.2, 'loss': 8.023741054534913, 'learning_rate': 0.017782217782217783, 'optimizer_steps': 1646}\n"
          ],
          "name": "stdout"
        },
        {
          "output_type": "stream",
          "text": [
            "Train Iteration:  82%|████████▏ | 1651/2002 [07:14<01:27,  4.00it/s]"
          ],
          "name": "stderr"
        },
        {
          "output_type": "stream",
          "text": [
            "{'avg_chunks': 2.6, 'loss': 7.957818698883057, 'learning_rate': 0.017532467532467535, 'optimizer_steps': 1651}\n"
          ],
          "name": "stdout"
        },
        {
          "output_type": "stream",
          "text": [
            "Train Iteration:  83%|████████▎ | 1656/2002 [07:16<01:58,  2.93it/s]"
          ],
          "name": "stderr"
        },
        {
          "output_type": "stream",
          "text": [
            "{'avg_chunks': 3.0, 'loss': 8.206096267700195, 'learning_rate': 0.017282717282717283, 'optimizer_steps': 1656}\n"
          ],
          "name": "stdout"
        },
        {
          "output_type": "stream",
          "text": [
            "Train Iteration:  83%|████████▎ | 1661/2002 [07:17<01:23,  4.07it/s]"
          ],
          "name": "stderr"
        },
        {
          "output_type": "stream",
          "text": [
            "{'avg_chunks': 2.2, 'loss': 7.107600116729737, 'learning_rate': 0.017032967032967035, 'optimizer_steps': 1661}\n"
          ],
          "name": "stdout"
        },
        {
          "output_type": "stream",
          "text": [
            "Train Iteration:  83%|████████▎ | 1666/2002 [07:20<02:56,  1.90it/s]"
          ],
          "name": "stderr"
        },
        {
          "output_type": "stream",
          "text": [
            "{'avg_chunks': 5.0, 'loss': 7.83282470703125, 'learning_rate': 0.016783216783216783, 'optimizer_steps': 1666}\n"
          ],
          "name": "stdout"
        },
        {
          "output_type": "stream",
          "text": [
            "Train Iteration:  84%|████████▎ | 1672/2002 [07:21<01:28,  3.72it/s]"
          ],
          "name": "stderr"
        },
        {
          "output_type": "stream",
          "text": [
            "{'avg_chunks': 2.6, 'loss': 7.378256511688233, 'learning_rate': 0.016533466533466535, 'optimizer_steps': 1671}\n"
          ],
          "name": "stdout"
        },
        {
          "output_type": "stream",
          "text": [
            "Train Iteration:  84%|████████▎ | 1676/2002 [07:22<01:17,  4.23it/s]"
          ],
          "name": "stderr"
        },
        {
          "output_type": "stream",
          "text": [
            "{'avg_chunks': 2.0, 'loss': 8.514235687255859, 'learning_rate': 0.016283716283716287, 'optimizer_steps': 1676}\n"
          ],
          "name": "stdout"
        },
        {
          "output_type": "stream",
          "text": [
            "Train Iteration:  84%|████████▍ | 1681/2002 [07:23<01:09,  4.65it/s]"
          ],
          "name": "stderr"
        },
        {
          "output_type": "stream",
          "text": [
            "{'avg_chunks': 2.0, 'loss': 8.183285522460938, 'learning_rate': 0.016033966033966035, 'optimizer_steps': 1681}\n"
          ],
          "name": "stdout"
        },
        {
          "output_type": "stream",
          "text": [
            "Train Iteration:  84%|████████▍ | 1686/2002 [07:25<01:28,  3.58it/s]"
          ],
          "name": "stderr"
        },
        {
          "output_type": "stream",
          "text": [
            "{'avg_chunks': 2.8, 'loss': 7.643351745605469, 'learning_rate': 0.015784215784215787, 'optimizer_steps': 1686}\n"
          ],
          "name": "stdout"
        },
        {
          "output_type": "stream",
          "text": [
            "Train Iteration:  84%|████████▍ | 1691/2002 [07:26<01:54,  2.71it/s]"
          ],
          "name": "stderr"
        },
        {
          "output_type": "stream",
          "text": [
            "{'avg_chunks': 3.0, 'loss': 7.957393550872803, 'learning_rate': 0.015534465534465537, 'optimizer_steps': 1691}\n"
          ],
          "name": "stdout"
        },
        {
          "output_type": "stream",
          "text": [
            "Train Iteration:  85%|████████▍ | 1697/2002 [07:28<01:13,  4.17it/s]"
          ],
          "name": "stderr"
        },
        {
          "output_type": "stream",
          "text": [
            "{'avg_chunks': 2.6, 'loss': 8.017033290863036, 'learning_rate': 0.015284715284715283, 'optimizer_steps': 1696}\n"
          ],
          "name": "stdout"
        },
        {
          "output_type": "stream",
          "text": [
            "Train Iteration:  85%|████████▍ | 1701/2002 [07:29<01:17,  3.87it/s]"
          ],
          "name": "stderr"
        },
        {
          "output_type": "stream",
          "text": [
            "{'avg_chunks': 2.2, 'loss': 7.602390480041504, 'learning_rate': 0.015034965034965035, 'optimizer_steps': 1701}\n"
          ],
          "name": "stdout"
        },
        {
          "output_type": "stream",
          "text": [
            "Train Iteration:  85%|████████▌ | 1706/2002 [07:30<01:12,  4.10it/s]"
          ],
          "name": "stderr"
        },
        {
          "output_type": "stream",
          "text": [
            "{'avg_chunks': 2.6, 'loss': 7.912553596496582, 'learning_rate': 0.014785214785214785, 'optimizer_steps': 1706}\n"
          ],
          "name": "stdout"
        },
        {
          "output_type": "stream",
          "text": [
            "Train Iteration:  85%|████████▌ | 1711/2002 [07:31<01:06,  4.39it/s]"
          ],
          "name": "stderr"
        },
        {
          "output_type": "stream",
          "text": [
            "{'avg_chunks': 2.2, 'loss': 7.989857959747314, 'learning_rate': 0.014535464535464535, 'optimizer_steps': 1711}\n"
          ],
          "name": "stdout"
        },
        {
          "output_type": "stream",
          "text": [
            "Train Iteration:  86%|████████▌ | 1717/2002 [07:33<00:59,  4.82it/s]"
          ],
          "name": "stderr"
        },
        {
          "output_type": "stream",
          "text": [
            "{'avg_chunks': 2.2, 'loss': 7.839084529876709, 'learning_rate': 0.014285714285714285, 'optimizer_steps': 1716}\n"
          ],
          "name": "stdout"
        },
        {
          "output_type": "stream",
          "text": [
            "Train Iteration:  86%|████████▌ | 1721/2002 [07:34<01:11,  3.95it/s]"
          ],
          "name": "stderr"
        },
        {
          "output_type": "stream",
          "text": [
            "{'avg_chunks': 2.2, 'loss': 7.358389472961425, 'learning_rate': 0.014035964035964035, 'optimizer_steps': 1721}\n"
          ],
          "name": "stdout"
        },
        {
          "output_type": "stream",
          "text": [
            "Train Iteration:  86%|████████▌ | 1726/2002 [07:35<00:58,  4.70it/s]"
          ],
          "name": "stderr"
        },
        {
          "output_type": "stream",
          "text": [
            "{'avg_chunks': 2.0, 'loss': 7.89564962387085, 'learning_rate': 0.013786213786213787, 'optimizer_steps': 1726}\n"
          ],
          "name": "stdout"
        },
        {
          "output_type": "stream",
          "text": [
            "Train Iteration:  86%|████████▋ | 1731/2002 [07:36<01:11,  3.80it/s]"
          ],
          "name": "stderr"
        },
        {
          "output_type": "stream",
          "text": [
            "{'avg_chunks': 2.4, 'loss': 8.119508361816406, 'learning_rate': 0.013536463536463537, 'optimizer_steps': 1731}\n"
          ],
          "name": "stdout"
        },
        {
          "output_type": "stream",
          "text": [
            "Train Iteration:  87%|████████▋ | 1736/2002 [07:37<01:08,  3.90it/s]"
          ],
          "name": "stderr"
        },
        {
          "output_type": "stream",
          "text": [
            "{'avg_chunks': 2.4, 'loss': 7.886468601226807, 'learning_rate': 0.013286713286713287, 'optimizer_steps': 1736}\n"
          ],
          "name": "stdout"
        },
        {
          "output_type": "stream",
          "text": [
            "Train Iteration:  87%|████████▋ | 1741/2002 [07:38<01:05,  3.97it/s]"
          ],
          "name": "stderr"
        },
        {
          "output_type": "stream",
          "text": [
            "{'avg_chunks': 2.6, 'loss': 7.734164237976074, 'learning_rate': 0.013036963036963037, 'optimizer_steps': 1741}\n"
          ],
          "name": "stdout"
        },
        {
          "output_type": "stream",
          "text": [
            "Train Iteration:  87%|████████▋ | 1746/2002 [07:40<01:00,  4.26it/s]"
          ],
          "name": "stderr"
        },
        {
          "output_type": "stream",
          "text": [
            "{'avg_chunks': 2.2, 'loss': 7.331593227386475, 'learning_rate': 0.012787212787212787, 'optimizer_steps': 1746}\n"
          ],
          "name": "stdout"
        },
        {
          "output_type": "stream",
          "text": [
            "Train Iteration:  87%|████████▋ | 1751/2002 [07:41<01:15,  3.34it/s]"
          ],
          "name": "stderr"
        },
        {
          "output_type": "stream",
          "text": [
            "{'avg_chunks': 3.0, 'loss': 7.742281913757324, 'learning_rate': 0.012537462537462539, 'optimizer_steps': 1751}\n"
          ],
          "name": "stdout"
        },
        {
          "output_type": "stream",
          "text": [
            "Train Iteration:  88%|████████▊ | 1757/2002 [07:43<01:10,  3.48it/s]"
          ],
          "name": "stderr"
        },
        {
          "output_type": "stream",
          "text": [
            "{'avg_chunks': 3.6, 'loss': 7.47286901473999, 'learning_rate': 0.012287712287712289, 'optimizer_steps': 1756}\n"
          ],
          "name": "stdout"
        },
        {
          "output_type": "stream",
          "text": [
            "Train Iteration:  88%|████████▊ | 1762/2002 [07:44<00:52,  4.54it/s]"
          ],
          "name": "stderr"
        },
        {
          "output_type": "stream",
          "text": [
            "{'avg_chunks': 2.0, 'loss': 7.631674766540527, 'learning_rate': 0.012037962037962039, 'optimizer_steps': 1761}\n"
          ],
          "name": "stdout"
        },
        {
          "output_type": "stream",
          "text": [
            "Train Iteration:  88%|████████▊ | 1766/2002 [07:45<00:52,  4.48it/s]"
          ],
          "name": "stderr"
        },
        {
          "output_type": "stream",
          "text": [
            "{'avg_chunks': 2.0, 'loss': 7.540378665924072, 'learning_rate': 0.011788211788211789, 'optimizer_steps': 1766}\n"
          ],
          "name": "stdout"
        },
        {
          "output_type": "stream",
          "text": [
            "Train Iteration:  88%|████████▊ | 1771/2002 [07:47<01:09,  3.30it/s]"
          ],
          "name": "stderr"
        },
        {
          "output_type": "stream",
          "text": [
            "{'avg_chunks': 3.0, 'loss': 7.767990207672119, 'learning_rate': 0.011538461538461539, 'optimizer_steps': 1771}\n"
          ],
          "name": "stdout"
        },
        {
          "output_type": "stream",
          "text": [
            "Train Iteration:  89%|████████▊ | 1776/2002 [07:48<00:57,  3.90it/s]"
          ],
          "name": "stderr"
        },
        {
          "output_type": "stream",
          "text": [
            "{'avg_chunks': 2.4, 'loss': 7.472438621520996, 'learning_rate': 0.01128871128871129, 'optimizer_steps': 1776}\n"
          ],
          "name": "stdout"
        },
        {
          "output_type": "stream",
          "text": [
            "Train Iteration:  89%|████████▉ | 1781/2002 [07:49<00:57,  3.87it/s]"
          ],
          "name": "stderr"
        },
        {
          "output_type": "stream",
          "text": [
            "{'avg_chunks': 2.4, 'loss': 7.620839691162109, 'learning_rate': 0.01103896103896104, 'optimizer_steps': 1781}\n"
          ],
          "name": "stdout"
        },
        {
          "output_type": "stream",
          "text": [
            "Train Iteration:  89%|████████▉ | 1787/2002 [07:50<00:39,  5.43it/s]"
          ],
          "name": "stderr"
        },
        {
          "output_type": "stream",
          "text": [
            "{'avg_chunks': 1.6, 'loss': 7.78159008026123, 'learning_rate': 0.01078921078921079, 'optimizer_steps': 1786}\n"
          ],
          "name": "stdout"
        },
        {
          "output_type": "stream",
          "text": [
            "Train Iteration:  89%|████████▉ | 1791/2002 [07:51<00:50,  4.17it/s]"
          ],
          "name": "stderr"
        },
        {
          "output_type": "stream",
          "text": [
            "{'avg_chunks': 2.4, 'loss': 7.87949504852295, 'learning_rate': 0.01053946053946054, 'optimizer_steps': 1791}\n"
          ],
          "name": "stdout"
        },
        {
          "output_type": "stream",
          "text": [
            "Train Iteration:  90%|████████▉ | 1797/2002 [07:53<00:52,  3.88it/s]"
          ],
          "name": "stderr"
        },
        {
          "output_type": "stream",
          "text": [
            "{'avg_chunks': 3.4, 'loss': 7.1341523170471195, 'learning_rate': 0.010289710289710291, 'optimizer_steps': 1796}\n"
          ],
          "name": "stdout"
        },
        {
          "output_type": "stream",
          "text": [
            "Train Iteration:  90%|████████▉ | 1801/2002 [07:54<00:50,  4.01it/s]"
          ],
          "name": "stderr"
        },
        {
          "output_type": "stream",
          "text": [
            "{'avg_chunks': 2.2, 'loss': 7.636790657043457, 'learning_rate': 0.010039960039960041, 'optimizer_steps': 1801}\n"
          ],
          "name": "stdout"
        },
        {
          "output_type": "stream",
          "text": [
            "Train Iteration:  90%|█████████ | 1806/2002 [07:56<00:51,  3.79it/s]"
          ],
          "name": "stderr"
        },
        {
          "output_type": "stream",
          "text": [
            "{'avg_chunks': 2.8, 'loss': 7.403612518310547, 'learning_rate': 0.009790209790209791, 'optimizer_steps': 1806}\n"
          ],
          "name": "stdout"
        },
        {
          "output_type": "stream",
          "text": [
            "Train Iteration:  90%|█████████ | 1811/2002 [07:57<01:03,  2.99it/s]"
          ],
          "name": "stderr"
        },
        {
          "output_type": "stream",
          "text": [
            "{'avg_chunks': 3.4, 'loss': 7.7509862899780275, 'learning_rate': 0.009540459540459541, 'optimizer_steps': 1811}\n"
          ],
          "name": "stdout"
        },
        {
          "output_type": "stream",
          "text": [
            "Train Iteration:  91%|█████████ | 1816/2002 [07:59<01:00,  3.05it/s]"
          ],
          "name": "stderr"
        },
        {
          "output_type": "stream",
          "text": [
            "{'avg_chunks': 3.4, 'loss': 7.246688270568848, 'learning_rate': 0.009290709290709291, 'optimizer_steps': 1816}\n"
          ],
          "name": "stdout"
        },
        {
          "output_type": "stream",
          "text": [
            "Train Iteration:  91%|█████████ | 1821/2002 [08:00<00:44,  4.05it/s]"
          ],
          "name": "stderr"
        },
        {
          "output_type": "stream",
          "text": [
            "{'avg_chunks': 2.2, 'loss': 7.178117561340332, 'learning_rate': 0.009040959040959041, 'optimizer_steps': 1821}\n"
          ],
          "name": "stdout"
        },
        {
          "output_type": "stream",
          "text": [
            "Train Iteration:  91%|█████████ | 1826/2002 [08:01<00:37,  4.66it/s]"
          ],
          "name": "stderr"
        },
        {
          "output_type": "stream",
          "text": [
            "{'avg_chunks': 2.0, 'loss': 7.798509216308593, 'learning_rate': 0.008791208791208793, 'optimizer_steps': 1826}\n"
          ],
          "name": "stdout"
        },
        {
          "output_type": "stream",
          "text": [
            "Train Iteration:  91%|█████████▏| 1831/2002 [08:03<00:45,  3.79it/s]"
          ],
          "name": "stderr"
        },
        {
          "output_type": "stream",
          "text": [
            "{'avg_chunks': 2.4, 'loss': 7.8615764617919925, 'learning_rate': 0.008541458541458541, 'optimizer_steps': 1831}\n"
          ],
          "name": "stdout"
        },
        {
          "output_type": "stream",
          "text": [
            "Train Iteration:  92%|█████████▏| 1837/2002 [08:04<00:35,  4.64it/s]"
          ],
          "name": "stderr"
        },
        {
          "output_type": "stream",
          "text": [
            "{'avg_chunks': 2.4, 'loss': 7.445543003082276, 'learning_rate': 0.008291708291708291, 'optimizer_steps': 1836}\n"
          ],
          "name": "stdout"
        },
        {
          "output_type": "stream",
          "text": [
            "Train Iteration:  92%|█████████▏| 1841/2002 [08:05<00:30,  5.20it/s]"
          ],
          "name": "stderr"
        },
        {
          "output_type": "stream",
          "text": [
            "{'avg_chunks': 1.6, 'loss': 7.37417516708374, 'learning_rate': 0.008041958041958041, 'optimizer_steps': 1841}\n"
          ],
          "name": "stdout"
        },
        {
          "output_type": "stream",
          "text": [
            "Train Iteration:  92%|█████████▏| 1846/2002 [08:06<00:36,  4.29it/s]"
          ],
          "name": "stderr"
        },
        {
          "output_type": "stream",
          "text": [
            "{'avg_chunks': 2.2, 'loss': 7.578171920776367, 'learning_rate': 0.007792207792207792, 'optimizer_steps': 1846}\n"
          ],
          "name": "stdout"
        },
        {
          "output_type": "stream",
          "text": [
            "Train Iteration:  92%|█████████▏| 1851/2002 [08:07<00:36,  4.16it/s]"
          ],
          "name": "stderr"
        },
        {
          "output_type": "stream",
          "text": [
            "{'avg_chunks': 2.2, 'loss': 7.531660747528076, 'learning_rate': 0.007542457542457543, 'optimizer_steps': 1851}\n"
          ],
          "name": "stdout"
        },
        {
          "output_type": "stream",
          "text": [
            "Train Iteration:  93%|█████████▎| 1857/2002 [08:08<00:32,  4.42it/s]"
          ],
          "name": "stderr"
        },
        {
          "output_type": "stream",
          "text": [
            "{'avg_chunks': 2.4, 'loss': 7.550947952270508, 'learning_rate': 0.007292707292707293, 'optimizer_steps': 1856}\n"
          ],
          "name": "stdout"
        },
        {
          "output_type": "stream",
          "text": [
            "Train Iteration:  93%|█████████▎| 1861/2002 [08:09<00:35,  3.97it/s]"
          ],
          "name": "stderr"
        },
        {
          "output_type": "stream",
          "text": [
            "{'avg_chunks': 2.2, 'loss': 7.470280456542969, 'learning_rate': 0.007042957042957043, 'optimizer_steps': 1861}\n"
          ],
          "name": "stdout"
        },
        {
          "output_type": "stream",
          "text": [
            "Train Iteration:  93%|█████████▎| 1866/2002 [08:11<00:35,  3.80it/s]"
          ],
          "name": "stderr"
        },
        {
          "output_type": "stream",
          "text": [
            "{'avg_chunks': 2.6, 'loss': 6.975150203704834, 'learning_rate': 0.006793206793206794, 'optimizer_steps': 1866}\n"
          ],
          "name": "stdout"
        },
        {
          "output_type": "stream",
          "text": [
            "Train Iteration:  93%|█████████▎| 1871/2002 [08:12<00:26,  4.89it/s]"
          ],
          "name": "stderr"
        },
        {
          "output_type": "stream",
          "text": [
            "{'avg_chunks': 1.6, 'loss': 7.629854202270508, 'learning_rate': 0.006543456543456544, 'optimizer_steps': 1871}\n"
          ],
          "name": "stdout"
        },
        {
          "output_type": "stream",
          "text": [
            "Train Iteration:  94%|█████████▎| 1876/2002 [08:13<00:29,  4.26it/s]"
          ],
          "name": "stderr"
        },
        {
          "output_type": "stream",
          "text": [
            "{'avg_chunks': 2.6, 'loss': 7.504455661773681, 'learning_rate': 0.006293706293706295, 'optimizer_steps': 1876}\n"
          ],
          "name": "stdout"
        },
        {
          "output_type": "stream",
          "text": [
            "Train Iteration:  94%|█████████▍| 1881/2002 [08:14<00:28,  4.22it/s]"
          ],
          "name": "stderr"
        },
        {
          "output_type": "stream",
          "text": [
            "{'avg_chunks': 2.4, 'loss': 7.539145755767822, 'learning_rate': 0.006043956043956044, 'optimizer_steps': 1881}\n"
          ],
          "name": "stdout"
        },
        {
          "output_type": "stream",
          "text": [
            "Train Iteration:  94%|█████████▍| 1886/2002 [08:16<00:32,  3.56it/s]"
          ],
          "name": "stderr"
        },
        {
          "output_type": "stream",
          "text": [
            "{'avg_chunks': 3.2, 'loss': 7.463865852355957, 'learning_rate': 0.005794205794205795, 'optimizer_steps': 1886}\n"
          ],
          "name": "stdout"
        },
        {
          "output_type": "stream",
          "text": [
            "Train Iteration:  94%|█████████▍| 1891/2002 [08:17<00:33,  3.36it/s]"
          ],
          "name": "stderr"
        },
        {
          "output_type": "stream",
          "text": [
            "{'avg_chunks': 2.8, 'loss': 7.295683479309082, 'learning_rate': 0.005544455544455545, 'optimizer_steps': 1891}\n"
          ],
          "name": "stdout"
        },
        {
          "output_type": "stream",
          "text": [
            "Train Iteration:  95%|█████████▍| 1896/2002 [08:18<00:24,  4.40it/s]"
          ],
          "name": "stderr"
        },
        {
          "output_type": "stream",
          "text": [
            "{'avg_chunks': 2.0, 'loss': 7.722306442260742, 'learning_rate': 0.005294705294705295, 'optimizer_steps': 1896}\n"
          ],
          "name": "stdout"
        },
        {
          "output_type": "stream",
          "text": [
            "Train Iteration:  95%|█████████▌| 1902/2002 [08:20<00:22,  4.36it/s]"
          ],
          "name": "stderr"
        },
        {
          "output_type": "stream",
          "text": [
            "{'avg_chunks': 2.8, 'loss': 7.683979892730713, 'learning_rate': 0.005044955044955045, 'optimizer_steps': 1901}\n"
          ],
          "name": "stdout"
        },
        {
          "output_type": "stream",
          "text": [
            "Train Iteration:  95%|█████████▌| 1906/2002 [08:21<00:28,  3.36it/s]"
          ],
          "name": "stderr"
        },
        {
          "output_type": "stream",
          "text": [
            "{'avg_chunks': 2.2, 'loss': 7.230949974060058, 'learning_rate': 0.004795204795204795, 'optimizer_steps': 1906}\n"
          ],
          "name": "stdout"
        },
        {
          "output_type": "stream",
          "text": [
            "Train Iteration:  95%|█████████▌| 1911/2002 [08:22<00:24,  3.74it/s]"
          ],
          "name": "stderr"
        },
        {
          "output_type": "stream",
          "text": [
            "{'avg_chunks': 2.8, 'loss': 7.770898342132568, 'learning_rate': 0.004545454545454546, 'optimizer_steps': 1911}\n"
          ],
          "name": "stdout"
        },
        {
          "output_type": "stream",
          "text": [
            "Train Iteration:  96%|█████████▌| 1916/2002 [08:24<00:23,  3.65it/s]"
          ],
          "name": "stderr"
        },
        {
          "output_type": "stream",
          "text": [
            "{'avg_chunks': 2.4, 'loss': 7.132836055755615, 'learning_rate': 0.004295704295704296, 'optimizer_steps': 1916}\n"
          ],
          "name": "stdout"
        },
        {
          "output_type": "stream",
          "text": [
            "Train Iteration:  96%|█████████▌| 1921/2002 [08:25<00:18,  4.33it/s]"
          ],
          "name": "stderr"
        },
        {
          "output_type": "stream",
          "text": [
            "{'avg_chunks': 2.2, 'loss': 7.625317573547363, 'learning_rate': 0.004045954045954046, 'optimizer_steps': 1921}\n"
          ],
          "name": "stdout"
        },
        {
          "output_type": "stream",
          "text": [
            "Train Iteration:  96%|█████████▌| 1926/2002 [08:26<00:17,  4.26it/s]"
          ],
          "name": "stderr"
        },
        {
          "output_type": "stream",
          "text": [
            "{'avg_chunks': 2.4, 'loss': 7.080447578430176, 'learning_rate': 0.003796203796203796, 'optimizer_steps': 1926}\n"
          ],
          "name": "stdout"
        },
        {
          "output_type": "stream",
          "text": [
            "Train Iteration:  96%|█████████▋| 1931/2002 [08:27<00:18,  3.93it/s]"
          ],
          "name": "stderr"
        },
        {
          "output_type": "stream",
          "text": [
            "{'avg_chunks': 2.8, 'loss': 7.267561626434326, 'learning_rate': 0.0035464535464535467, 'optimizer_steps': 1931}\n"
          ],
          "name": "stdout"
        },
        {
          "output_type": "stream",
          "text": [
            "Train Iteration:  97%|█████████▋| 1936/2002 [08:29<00:15,  4.35it/s]"
          ],
          "name": "stderr"
        },
        {
          "output_type": "stream",
          "text": [
            "{'avg_chunks': 2.2, 'loss': 7.511083602905273, 'learning_rate': 0.003296703296703297, 'optimizer_steps': 1936}\n"
          ],
          "name": "stdout"
        },
        {
          "output_type": "stream",
          "text": [
            "Train Iteration:  97%|█████████▋| 1941/2002 [08:30<00:14,  4.18it/s]"
          ],
          "name": "stderr"
        },
        {
          "output_type": "stream",
          "text": [
            "{'avg_chunks': 2.4, 'loss': 7.431461238861084, 'learning_rate': 0.003046953046953047, 'optimizer_steps': 1941}\n"
          ],
          "name": "stdout"
        },
        {
          "output_type": "stream",
          "text": [
            "Train Iteration:  97%|█████████▋| 1946/2002 [08:31<00:16,  3.30it/s]"
          ],
          "name": "stderr"
        },
        {
          "output_type": "stream",
          "text": [
            "{'avg_chunks': 3.0, 'loss': 7.262905693054199, 'learning_rate': 0.002797202797202797, 'optimizer_steps': 1946}\n"
          ],
          "name": "stdout"
        },
        {
          "output_type": "stream",
          "text": [
            "Train Iteration:  97%|█████████▋| 1951/2002 [08:32<00:12,  3.98it/s]"
          ],
          "name": "stderr"
        },
        {
          "output_type": "stream",
          "text": [
            "{'avg_chunks': 2.2, 'loss': 7.3323211669921875, 'learning_rate': 0.0025474525474525477, 'optimizer_steps': 1951}\n"
          ],
          "name": "stdout"
        },
        {
          "output_type": "stream",
          "text": [
            "Train Iteration:  98%|█████████▊| 1956/2002 [08:34<00:10,  4.48it/s]"
          ],
          "name": "stderr"
        },
        {
          "output_type": "stream",
          "text": [
            "{'avg_chunks': 2.0, 'loss': 7.638689613342285, 'learning_rate': 0.0022977022977022977, 'optimizer_steps': 1956}\n"
          ],
          "name": "stdout"
        },
        {
          "output_type": "stream",
          "text": [
            "Train Iteration:  98%|█████████▊| 1961/2002 [08:35<00:10,  4.07it/s]"
          ],
          "name": "stderr"
        },
        {
          "output_type": "stream",
          "text": [
            "{'avg_chunks': 2.8, 'loss': 7.005845642089843, 'learning_rate': 0.002047952047952048, 'optimizer_steps': 1961}\n"
          ],
          "name": "stdout"
        },
        {
          "output_type": "stream",
          "text": [
            "Train Iteration:  98%|█████████▊| 1966/2002 [08:36<00:09,  3.73it/s]"
          ],
          "name": "stderr"
        },
        {
          "output_type": "stream",
          "text": [
            "{'avg_chunks': 2.8, 'loss': 7.704857444763183, 'learning_rate': 0.0017982017982017984, 'optimizer_steps': 1966}\n"
          ],
          "name": "stdout"
        },
        {
          "output_type": "stream",
          "text": [
            "Train Iteration:  98%|█████████▊| 1971/2002 [08:38<00:08,  3.68it/s]"
          ],
          "name": "stderr"
        },
        {
          "output_type": "stream",
          "text": [
            "{'avg_chunks': 2.6, 'loss': 7.036925315856934, 'learning_rate': 0.0015484515484515485, 'optimizer_steps': 1971}\n"
          ],
          "name": "stdout"
        },
        {
          "output_type": "stream",
          "text": [
            "Train Iteration:  99%|█████████▊| 1976/2002 [08:39<00:05,  4.92it/s]"
          ],
          "name": "stderr"
        },
        {
          "output_type": "stream",
          "text": [
            "{'avg_chunks': 1.8, 'loss': 7.111443901062012, 'learning_rate': 0.001298701298701299, 'optimizer_steps': 1976}\n"
          ],
          "name": "stdout"
        },
        {
          "output_type": "stream",
          "text": [
            "Train Iteration:  99%|█████████▉| 1982/2002 [08:40<00:03,  5.11it/s]"
          ],
          "name": "stderr"
        },
        {
          "output_type": "stream",
          "text": [
            "{'avg_chunks': 2.2, 'loss': 7.341419124603272, 'learning_rate': 0.001048951048951049, 'optimizer_steps': 1981}\n"
          ],
          "name": "stdout"
        },
        {
          "output_type": "stream",
          "text": [
            "Train Iteration:  99%|█████████▉| 1986/2002 [08:44<00:09,  1.73it/s]"
          ],
          "name": "stderr"
        },
        {
          "output_type": "stream",
          "text": [
            "{'avg_chunks': 5.0, 'loss': 7.663602447509765, 'learning_rate': 0.0007992007992007992, 'optimizer_steps': 1986}\n"
          ],
          "name": "stdout"
        },
        {
          "output_type": "stream",
          "text": [
            "Train Iteration:  99%|█████████▉| 1991/2002 [08:46<00:04,  2.29it/s]"
          ],
          "name": "stderr"
        },
        {
          "output_type": "stream",
          "text": [
            "{'avg_chunks': 2.8, 'loss': 7.306700897216797, 'learning_rate': 0.0005494505494505496, 'optimizer_steps': 1991}\n"
          ],
          "name": "stdout"
        },
        {
          "output_type": "stream",
          "text": [
            "Train Iteration: 100%|█████████▉| 1996/2002 [08:47<00:01,  3.59it/s]"
          ],
          "name": "stderr"
        },
        {
          "output_type": "stream",
          "text": [
            "{'avg_chunks': 2.4, 'loss': 7.309193229675293, 'learning_rate': 0.0002997002997002997, 'optimizer_steps': 1996}\n"
          ],
          "name": "stdout"
        },
        {
          "output_type": "stream",
          "text": [
            "Train Iteration: 100%|█████████▉| 2000/2002 [08:48<00:00,  3.61it/s]"
          ],
          "name": "stderr"
        },
        {
          "output_type": "stream",
          "text": [
            "{'avg_chunks': 2.6, 'loss': 7.354541969299317, 'learning_rate': 4.995004995004995e-05, 'optimizer_steps': 2001}\n"
          ],
          "name": "stdout"
        },
        {
          "output_type": "stream",
          "text": [
            "\n",
            "Val Iteration:   0%|          | 0/222 [00:00<?, ?it/s]\u001b[A\n",
            "Val Iteration:   0%|          | 1/222 [00:00<00:31,  7.13it/s]\u001b[A"
          ],
          "name": "stderr"
        },
        {
          "output_type": "stream",
          "text": [
            "Save completed. xlnet_trainer_checkpoints/chkpt_2000\n"
          ],
          "name": "stdout"
        },
        {
          "output_type": "stream",
          "text": [
            "\n",
            "Val Iteration:   5%|▍         | 11/222 [00:00<00:22,  9.52it/s]\u001b[A\n",
            "Val Iteration:   9%|▉         | 21/222 [00:00<00:15, 12.77it/s]\u001b[A\n",
            "Val Iteration:  14%|█▍        | 31/222 [00:00<00:11, 16.77it/s]\u001b[A\n",
            "Val Iteration:  18%|█▊        | 40/222 [00:00<00:08, 22.06it/s]\u001b[A\n",
            "Val Iteration:  21%|██        | 46/222 [00:00<00:07, 23.89it/s]\u001b[A\n",
            "Val Iteration:  23%|██▎       | 51/222 [00:01<00:06, 24.56it/s]\u001b[A\n",
            "Val Iteration:  27%|██▋       | 59/222 [00:01<00:05, 30.97it/s]\u001b[A\n",
            "Val Iteration:  29%|██▉       | 65/222 [00:01<00:05, 27.20it/s]\u001b[A\n",
            "Val Iteration:  32%|███▏      | 71/222 [00:01<00:04, 30.37it/s]\u001b[A\n",
            "Val Iteration:  36%|███▋      | 81/222 [00:02<00:04, 31.33it/s]\u001b[A\n",
            "Val Iteration:  41%|████      | 91/222 [00:02<00:05, 24.45it/s]\u001b[A\n",
            "Val Iteration:  45%|████▌     | 100/222 [00:02<00:03, 31.00it/s]\u001b[A\n",
            "Val Iteration:  47%|████▋     | 105/222 [00:02<00:03, 29.73it/s]\u001b[A\n",
            "Val Iteration:  50%|█████     | 111/222 [00:03<00:03, 29.63it/s]\u001b[A\n",
            "Val Iteration:  54%|█████▎    | 119/222 [00:03<00:02, 36.34it/s]\u001b[A\n",
            "Val Iteration:  56%|█████▌    | 124/222 [00:03<00:03, 28.32it/s]\u001b[A\n",
            "Val Iteration:  59%|█████▉    | 131/222 [00:03<00:03, 26.95it/s]\u001b[A\n",
            "Val Iteration:  64%|██████▎   | 141/222 [00:04<00:03, 26.26it/s]\u001b[A\n",
            "Val Iteration:  68%|██████▊   | 150/222 [00:04<00:02, 32.96it/s]\u001b[A\n",
            "Val Iteration:  70%|██████▉   | 155/222 [00:04<00:02, 30.73it/s]\u001b[A\n",
            "Val Iteration:  73%|███████▎  | 161/222 [00:04<00:02, 27.21it/s]\u001b[A\n",
            "Val Iteration:  76%|███████▌  | 169/222 [00:04<00:01, 33.45it/s]\u001b[A\n",
            "Val Iteration:  78%|███████▊  | 174/222 [00:05<00:01, 34.80it/s]\u001b[A\n",
            "Val Iteration:  82%|████████▏ | 181/222 [00:05<00:01, 34.27it/s]\u001b[A\n",
            "Val Iteration:  85%|████████▌ | 189/222 [00:05<00:00, 41.28it/s]\u001b[A\n",
            "Val Iteration:  88%|████████▊ | 195/222 [00:05<00:00, 41.70it/s]\u001b[A\n",
            "Val Iteration:  91%|█████████ | 201/222 [00:05<00:00, 37.02it/s]\u001b[A\n",
            "Val Iteration:  95%|█████████▌| 211/222 [00:05<00:00, 39.61it/s]\u001b[A\n",
            "Val Iteration: 100%|█████████▉| 221/222 [00:06<00:00, 36.62it/s]\n",
            "Train Iteration: 100%|█████████▉| 2001/2002 [08:56<00:00,  3.73it/s]"
          ],
          "name": "stderr"
        },
        {
          "output_type": "stream",
          "text": [
            "Validation loss: 7.494535280310589\n"
          ],
          "name": "stdout"
        },
        {
          "output_type": "stream",
          "text": [
            "\n"
          ],
          "name": "stderr"
        }
      ]
    },
    {
      "cell_type": "markdown",
      "metadata": {
        "id": "Xaiuq1oJDIPO"
      },
      "source": [
        "#Evaluation"
      ]
    },
    {
      "cell_type": "code",
      "metadata": {
        "id": "jJc23pl5Bavc"
      },
      "source": [
        "with open(os.path.join(\"xlnet_trainer_checkpoints/chkpt_0/chunk_config.json\"), \"r\") as chunk_cfg:\n",
        "  chunk_config = json.load(chunk_cfg)\n",
        "chunk_seq_len = chunk_config[\"max_seq_len\"]\n",
        "target_pred_max_len = chunk_config[\"predict_len\"]"
      ],
      "execution_count": 12,
      "outputs": []
    },
    {
      "cell_type": "code",
      "metadata": {
        "id": "HCkWs2-oE4-B"
      },
      "source": [
        "model.eval()\n",
        "torch.set_grad_enabled(False)\n",
        "results = {\"meta\": chunk_config, \"results\": []}\n",
        "do_sampling = False"
      ],
      "execution_count": 13,
      "outputs": []
    },
    {
      "cell_type": "code",
      "metadata": {
        "colab": {
          "base_uri": "https://localhost:8080/"
        },
        "id": "viMgzjkhKq30",
        "outputId": "c91ae91f-c0f3-4a10-a272-62bc94e7aafe"
      },
      "source": [
        "result = { \"prompt\": [], \"generated\": [], \"actual\": [] }\n",
        "\n",
        "device = 'cuda'\n",
        "for i in range(len(val_set)):\n",
        "    chunked_data = val_set[random.randint(0, len(val_set) - 1)]\n",
        "    full_text = []\n",
        "\n",
        "    # Start by establishing mems state - achieved by doing forward passes on all chunks but the last one.\n",
        "    mems = None\n",
        "    num_chunks = len(chunked_data[\"input_ids\"])\n",
        "    for c in range(num_chunks - 1):\n",
        "        full_text.extend(chunked_data[\"input_ids\"][c].tolist())\n",
        "\n",
        "        model_inputs = {\n",
        "            \"input_ids\": chunked_data[\"input_ids\"][c].unsqueeze(0).to(device),\n",
        "            \"attention_mask\": chunked_data[\"attention_masks\"][c]\n",
        "            .unsqueeze(0)\n",
        "            .to(device),\n",
        "            \"perm_mask\": chunked_data[\"permutation_masks\"][c].unsqueeze(0).to(device),\n",
        "            \"target_mapping\": chunked_data[\"target_mapping\"]\n",
        "            .unsqueeze(0)\n",
        "            .to(device),\n",
        "        }\n",
        "        if mems is not None:\n",
        "            model_inputs[\"mems\"] = mems\n",
        "\n",
        "        logits, mems = model.forward(**model_inputs)\n",
        "\n",
        "    # Now get the input IDs minus the target* for the last chunk. This will serve as the \"prompt\" for the model.\n",
        "    text_len = chunk_seq_len - target_pred_max_len\n",
        "    prompt_inputs = chunked_data[\"input_ids\"][-1][0:text_len]\n",
        "    prompt_inputs = prompt_inputs.to(device)\n",
        "    full_text.extend(prompt_inputs)\n",
        "    prompt_inputs = prompt_inputs.unsqueeze(dim=0)  # generate() expects batched inputs.\n",
        "\n",
        "    # Use the transformers generate function to do the actual generation now.\n",
        "    if do_sampling:\n",
        "        genned_results = model.generate(\n",
        "            prompt_inputs,\n",
        "            max_length=150,\n",
        "            min_length=40,\n",
        "            do_sample=True,\n",
        "            num_beams=4,\n",
        "            temperature=0.7,\n",
        "            top_k=0,\n",
        "            top_p=0.9,\n",
        "            repetition_penalty=5,\n",
        "            eos_token_id=tok.eos_token_id,\n",
        "            num_return_sequences=5,\n",
        "            mems=mems,\n",
        "        )\n",
        "    else:\n",
        "        genned_results = model.generate(\n",
        "            prompt_inputs,\n",
        "            max_length=400,\n",
        "            min_length=300,\n",
        "            do_sample=False,\n",
        "            num_beams=12,\n",
        "            repetition_penalty=3.0,\n",
        "            eos_token_id=tok.eos_token_id,\n",
        "            num_return_sequences=1,\n",
        "            mems=None,\n",
        "        )\n",
        "\n",
        "    # Append results here.\n",
        "    seqs, _ = genned_results.shape\n",
        "    genned_texts = []\n",
        "    prompt = tok.decode(prompt_inputs[0])\n",
        "    print(\n",
        "        \"\\n------------------------------------------------------------------------------\"\n",
        "    )\n",
        "    print(\"PROMPT: `%s`\" % (prompt))\n",
        "    for s in range(seqs):\n",
        "        genned_texts.append(tok.decode(genned_results[s][text_len:]))\n",
        "        print(\"GENERATED: `%s`\" % (genned_texts[-1]))\n",
        "    result[\"prompt\"].append(tok.decode(full_text))\n",
        "    result[\"generated\"].append(genned_texts)\n",
        "    result[\"actual\"].append(tok.decode(chunked_data[\"labels\"]))\n",
        "    print(\n",
        "        \"------------------------------------------------------------------------------\"\n",
        "    )"
      ],
      "execution_count": 25,
      "outputs": [
        {
          "output_type": "stream",
          "text": [
            "\n",
            "------------------------------------------------------------------------------\n",
            "PROMPT: `programme your microwave from your TV, for example. This digital home of the future depends on the widespread adoption of the Cell processor and there are, as with all things, a number of reasons it could fail. Because the processor is so different, it requires programmers to learn a different way of writing software, and it may be that the changeover is simply too difficult for them to master. You can also guarantee that Microsoft and Intel are not going to sit around and let Cell take over home computing without a fight. Microsoft is going to be pushing its Xbox 2 as hard as possible to make sure that its technology, not Sony's, will be under your tree next Christmas. Intel will be furiously working on new designs that address the problems of its current chips to create a rival technology to Cell, so that it doesn't lose its desktop PC dominance. If Cell succeeds in becoming the living room technology of choice, however, it could provide the jump-start to the fully digital home of the future. The revolution might not be televised, but it could well be played with a videogame controller.<sep>`\n",
            "GENERATED: `said \" was has he I Mr byn would atThe last had have they his£ US(b against about an year this one But outm government been wereing: people) film more UK who theirdIt NewSAedI only after we team England first good up says think now which ify did get game former play since partremaner three office</s>`\n",
            "------------------------------------------------------------------------------\n",
            "\n",
            "------------------------------------------------------------------------------\n",
            "PROMPT: `\"It does not have the right connectors that fit a TV screen or enough storage.\" Said Mr Fogg: \"It's very much a computer.\" One dissenting opinion came from Brian Gammage, vice-president of research at analysts Gartner. He said: \"I don't think it changes the world.\" Although the Mac mini was very cheap for an Apple computer, it was still expensive compared to many PCs. Also, he said, it appealed in categories that few consumers care about when buying a home computer. \"The PC world is a pile-em-high, sell-em-cheap market,\" he said, \"and all of them are pretty interchangeable.\" \"Since the days when Apple ruled the personal computing world its market share has been on a long, slow decline,\" he said. \"Every few years it does something to give its market share a kick then it starts to go back down again,\" said Mr Gammage. The release of the Mac mini fit perfectly with this trend, he said.<sep>`\n",
            "GENERATED: `and will as be I by butn would last had they his new£ US(b against year one But out government were people) film more UK who theird NewS over numberAed only after we team England first good up says next now which ify did get game former play since partremaner three office growth admitted music meeting best Brown electioners going two A</s>`\n",
            "------------------------------------------------------------------------------\n",
            "\n",
            "------------------------------------------------------------------------------\n",
            "PROMPT: `China's 340 million mobile users. Online gaming sales are predicted to top a billion US dollars next year, according to the UK-based journal Screen Digest. The video market is also seen as a big opportunity, although piracy levels are still very high despite an anti-piracy drive during the past year. In the cinema industry the deployment of digital screens is being accelerated. This is not just to modernise venues but also to curb piracy and regulate distribution. Li Ruigang, president of the commercial broadcaster Shanghai Media Group, told the conference that China's new media market \"is already experiencing explosive growth\". It was particularly strong in charged broadband services and mobile value-added services. Leading China-watcher, and founder of the CGA consultancy Jeanne-Marie Gescher, agreed that the time was ripe for foreign media groups to tap China's huge media market potential. \"China's media are now driven by investors who do not care how people consume media - they just want people to consume more of it,\" Mrs Gescher concluded.<sep>`\n",
            "GENERATED: `said be has will on he I Mr withn would atThe last had have his£(b against about from this one But outm government been wereting:) film theirdIt NewS over numberAedI only after we team England first good up says think them which ify did get game former play since partreman three office its admitted music meeting best</s>`\n",
            "------------------------------------------------------------------------------\n",
            "\n",
            "------------------------------------------------------------------------------\n",
            "PROMPT: `calls to landlines and mobiles for a fee. The system is gaining in popularity and now has 28 million users around the world. Its paid service - dubbed Skype Out - has so far attracted 940,000 users. It plans to add more paid services with forthcoming launches of video conferencing, voice mail and Skype In, a service which would allow users to receive phone calls from landlines and mobiles. London-based software developer Connectotel has unveiled software that will expand the SMS functions of Skype, allowing users to send text messages to mobile phones from the service. Broadreach Networks has around two million users and hotspots in places such as Virgin Megastores, the Travelodge chain of hotels and all London's major rail terminals. The company is due to launch wi-fi on Virgin Trains later in the year. \"Skype's success at spreading the world about internet telephony is well-known and we are delighted to be offering free access to Skype users in our hotspots,\" commented Broadreach chief executive Magnus McEwen-King.<sep>`\n",
            "GENERATED: `was said I he Mr by but it notnThe last had have they his new£ US(b against an this one But outm government been wereting: people) film UK who theirdIt New over numberAedI only after team England first good up says think next them if did get game former play since partremaner three office growth its admitted music</s>`\n",
            "------------------------------------------------------------------------------\n",
            "\n",
            "------------------------------------------------------------------------------\n",
            "PROMPT: `\"PS3 will provide graphics indistinguishable from movies,\" said Mr Florin. He said the distribution method for games would also change radically in the next round of consoles. \"A gamer could buy a starter disc for 10 euros. When he goes home he goes online and he could buy AI and levels as you go. \"It's much smarter if you can get levels as you go.\" Mr Armes warned that developers still had to learn how to tell stories effectively in the medium. \"In some ways we are trying to forget about the hardware, go in the opposite direction. We have been very bad at letting technology design our creativity. \"What we have to do as a company is start ignoring the technology and learning our craft in telling stories.\" Mr Gardner agreed: \"We can thrown more polygons around and have better AI but if it doesn't make for a better game then that's not very useful.\" Developers will certainly have the tools with the new machines, but how they employ them is still to be decided.<sep>`\n",
            "GENERATED: `was has- The on I byThe last his£ US(b against an year this one But outm government wereing people) film UK who theird NewS over numbered only after team England first good up says think now whichy did former play since partremaner three office growth its admitted music meeting best Brown electioners going two years quarter country thanll take</s>`\n",
            "------------------------------------------------------------------------------\n",
            "\n",
            "------------------------------------------------------------------------------\n",
            "PROMPT: `next year. Broadband will continue to be a key theme at the show with internet telephony proving this year's killer application. Germany's largest online service provider, T-Online, is tipped to reveal software for low-cost net telephony which would see it competing with its parent company Deutsche Telekom. Cebit is used by many to unveil cutting edge products and in the mobile sphere this is likely to mean a lot of bright, colourful handsets as fashion continues to compete with technology when it comes to the device everyone has in their pockets. Rainbow-coloured phones, influenced by handsets from Japan, are just one example of how Asian companies will stamp their mark on this year's show, at which they will have their biggest ever presence. Cebit organisers have created a digital home in Hall 25 of the 27 hangar-like buildings that will house the show. \"The digital home will be a hyped theme at the show. The house will be totally wired and full of things that can be used for home entertainment,\" said Cebit organiser Gabriele Dorries.<sep>`\n",
            "GENERATED: `was Mr I he but notn last had his new£ US(b against about an But outm government been wereting: people) film more UK whoIt NewS over numberAI only after we team England first good up says think now them if did get game former play since partremaner three office growth admitted music meeting best Brown electioners going two A</s>`\n",
            "------------------------------------------------------------------------------\n",
            "\n",
            "------------------------------------------------------------------------------\n",
            "PROMPT: `- instead it will probably mean further delays and controversy over the directive. Most EU legislation now needs the approval of both parliament and the Council of Ministers before it becomes law. French Green MEP Alain Lipietz warned two weeks ago that if the Commission ignored the Parliament's request it would be an \"insult\" to the assembly. He said that the parliament would then reject the Council's version of the legislation as part of the final or conciliation stage of the decision procedure. In the US, the patenting of computer programs and internet business methods is permitted. This means that the US-based Amazon.com holds a patent for its \"one-click shopping\" service, for example. Critics are concerned that the directive could lead to a similar model happening in Europe. This, they fear, could hurt small software developers because they do not have the legal and financial might of larger companies if they had to fight patent legal action in court. Supporters say current laws are inefficient and it would serve to even up a playing field without bringing EU laws in line with the US.<sep>`\n",
            "GENERATED: `was The on has he I Mr by butn atThe last his new£(b against about year from this one But outm government been weret: people) film more UK who theirdIt NewS numberAedI only after we team England first good says think next them whichy did get game former play sinceremaner three office growth admitted music meeting best</s>`\n",
            "------------------------------------------------------------------------------\n",
            "\n",
            "------------------------------------------------------------------------------\n",
            "PROMPT: `cann said its early decision on the two domains was in response to the detailed technical and commercial information the organisations behind the names had submitted. Despite this initial approval, Icann cautioned that there was no guarantee that the domains would actually go into service. At the same time Icann is considering proposals for another eight domains. One that may not win approval is a proposal to set up a.xxx domain for pornographic websites. A similar proposal has been made many times in the past. But Icann has been reluctant to approve it because of the difficulty of making pornographers sign up and use it. In 2000 Icann approved seven other new domains that have had varying degrees of success. Three of the new so-called top level domains were for specific industries or organisations such as.museum and.aero. Others such as.info and.biz were intended to be more generic. In total there are in excess of 200 domain names and the majority of these are for nations. But domains that end in the.com suffix are by far the most numerous.<sep>`\n",
            "GENERATED: `'\" he The will Mr but with atThe last they his£ US(b against about an year from one outm governmentting: people) film UK who theirdIt NewS over numberAedI only after we team England first good says think next now them which ify did get game former play since partremaner three office growth admitted music meeting best</s>`\n",
            "------------------------------------------------------------------------------\n",
            "\n",
            "------------------------------------------------------------------------------\n",
            "PROMPT: `wares, news agency Associated Press reported. A \"Fed-Ex refund processor\" was supposed to allow people to earn $75 an hour working from home. Another item on sale was an \"internet history eraser\". His sister helped him process credit card payments. Jaynes amassed a fortune of $24m from his sales, prosecutors said. \"He's been successful ripping people off all these years,\" AP quoted prosecutor Russell McGuire as saying. Jaynes was also found guilty of breaking a state law which prohibits the sending of more than 100,000 e-mails in 30 days, Virginia State Attorney General Jerry Kilgore reportedly said. Prosecutors had asked for 15 years in jail for Jaynes, and a jail term for his sister. But Jaynes' lawyer David Oblon called the nine-year recommended term \"outrageous\" and said his client believed he was innocent. He pointed out that all three of the accused lived in North Carolina and were unaware of the Virginia state law. Spam messages are estimated to account for at least 60% of all e-mails sent.<sep>`\n",
            "GENERATED: `The has is be will I Mr by but with it notn wouldThe last have they new£ US(b against about year this one governmentting:) film UK who theirdIt NewS over numberAI only after we team England first good up says think next now them ify did get game former play since partmaner office growth its admitted music meeting best</s>`\n",
            "------------------------------------------------------------------------------\n",
            "\n",
            "------------------------------------------------------------------------------\n",
            "PROMPT: `not work with the most widely pirated versions of its operating system. The upgrade closed security loopholes in XP and added features that made it easier to keep machines safe from viruses and other types of malicious computer code. The US company invited anyone who had suspicions about their version of Windows XP to submit it for testing as soon as possible. The procedure consists of a series of computer checks, collating documents, and filling out a witness statement. \"This is a great opportunity for users to confirm the authenticity of Windows XP software whilst helping gather vital information about illegal traders\", said Alex Hilton, licence compliance manager at Microsoft. The scheme has also been welcomed by the technology and commerce industry. \"It is important that users ensure that they are legally licensed to avoid the risks of purchasing and using counterfeit products\", said David Frost, director general of the British Chambers of Commerce. The plan would enable Microsoft to gather intelligence about illegal traders in a prompt way, which would allow it to take action against software pirates. Microsoft said it would evaluate the results of the UK programme before setting up similar schemes in other countries.<sep>`\n",
            "GENERATED: `'- was be will on he I Mr butnThe last have his new£(b an year this one Butm government wereting: people) film more NewS over numberAedI only after we team England first good says think next now them ify did get game former play since partremaner three office growth admitted music meeting best Brown electioners going</s>`\n",
            "------------------------------------------------------------------------------\n",
            "\n",
            "------------------------------------------------------------------------------\n",
            "PROMPT: `ordinary phone into a broadband router to make calls. Bill Simmelink, general manager of TI's Voip business, said the technology would only take off when people were making net calls with the ease of making a normal call. \"It's not about the pipe, if you will, or the silicon per se, it's about the application,\" he said. \"We want to communicate freely, effortlessly and economically wherever we are.\" In a sign that Voip is seeping into the mainstream, giant ISP AOL announced on Tuesday that it had plans to launch a net-based phone service for some of its members within the month. Customers will continue to use their traditional phones, but they will plug them into adapters connected to their broadband source rather than the jack provided by the telephone company. Calls are received and placed just like on the old telephone network. \"We can help mass-market adoption of Voip,\" said AOL chief executive Jonathan Miller. \"We can utilise our national footprint. We can help the entire industry become well known.\"<sep>`\n",
            "GENERATED: `in has was The be as I Mrn atThe last have his new£ US(b against an year from this one But outm government beenting:) film more UK whod NewS over numberAed after team England first good up says think next now whichy did get game former play since partremaner three office growth admitted music meeting best Brown election</s>`\n",
            "------------------------------------------------------------------------------\n",
            "\n",
            "------------------------------------------------------------------------------\n",
            "PROMPT: `. Mr Lanzone said the acquisition would sit well with Ask's My Jeeves service which lets people customise their own web experience and build up a personal collection of useful links. \"Search engines are about discovering information for the first time and RSS is the ideal way to keep track of and monitor those sites,\" he said. It would also help drive information and entries from blogs to the portals that Ask Jeeves operates. There would be no instant sweeping changes to Bloglines, said Mr Lanzone. \"Our intent is to take our time to figure out the right business model not to try to monetise it right away,\" he said. Though Mr Lanzone added that Ask Jeeves would be helping organise the database of 300m blog entries Bloglines holds with its own net indexing technology. \"Being able to search the blogosphere as one corpus of information will be very useful in its own right,\" said Mr Lanzone. Rumours about the acquisition were broken by the Napsterization weblog which said it got the hint from Ask Jeeves insiders.<sep>`\n",
            "GENERATED: `was The- has on I butn atThe last had have they his new£ US(b against an year this But government beent:) film more UK whodIt NewS over numberAedI only after team England good says think next now them ify did get game former play since partremaner three office growth admitted music meeting best Brown electioners going</s>`\n",
            "------------------------------------------------------------------------------\n",
            "\n",
            "------------------------------------------------------------------------------\n",
            "PROMPT: `few of the ideas were commercially viable in the near-term. Several research teams explored how which humans could react with technologies in ways which were entirely different. The Human Connectedness group, for example, developed the iBand, a bracelet which stored and exchanged information about you and your relationships. This information could be beamed to another wearer when two people shook hands. Other projects looked at using other human senses, like touch, to interact with devoices which could be embedded in the environment, or on the body itself. One project examined how brainwaves could directly control a computer game. The Labs, set up in an old Guinness brewery, housed around 100 people, made up of staff, researchers, students, collaborators and part-time undergraduate students. It is thought more than 50 people will lose their jobs when the Labs close on 1 February. According to its latest accounts, Media Lab Europe said it spent 8.16 million euros (about US$10.6 million) in 2003 and raised just 2.56 million euros (US$3.3 million).<sep>`\n",
            "GENERATED: `\" has was' that as he I Mr by but notn wouldThe last had have they his new£b against year are from this one But outm government beenting: film UK whodIt NewS over numberAI only after we team England first good says think next now them ify did get former play sincereman three office growth admitted music meeting best</s>`\n",
            "------------------------------------------------------------------------------\n",
            "\n",
            "------------------------------------------------------------------------------\n",
            "PROMPT: `With the right RFID approach and ongoing communication with consumers, the industry can reach this point.\" He said that the survey also showed people would accept RFID if they felt that the technology could mean a reduction in car theft or faster recovery of stolen items. The tags are currently being used at one Tesco distribution centre in the UK - the tags allow the rapid inventory of bulk items. They are also in use as a passcard for the M6 Toll in the Midlands, in the UK. Mr Vetham said the majority of people surveyed (52%) believed that RFID tags could be read from a distance. He said that was a misconception based on a lack of awareness of the technology. At least once consumer group - Consumers Against Supermarket Privacy Invasion and Numbering (Caspian) - has claimed that RFID chips could be used to secretly identify people and the things they are carrying or wearing. All kinds of personal belongings, including clothes, could constantly broadcast messages about their whereabouts and their owners, it warned.<sep>`\n",
            "GENERATED: `' is will he I by but notnThe last had have his new£ USb against an year But outm government been were: film more whodIt NewS over numberAedI only after we team England first good up says think next now them whichy did get game former play since partremaner three office growth its admitted music meeting best Brown electioners</s>`\n",
            "------------------------------------------------------------------------------\n",
            "\n",
            "------------------------------------------------------------------------------\n",
            "PROMPT: `, the disabled will make up 16% and the elderly nearly a third by 2025, the report forecasts. Organisations such as BT have a responsibility to help tackle the problem, said Mr Hosford. The telco has seen positive results with its Everybody Online project which offers internet access to people in eight deprived communities around Britain. In one area of Cornwall with high levels of unemployment, online training helped people rewrite CVs and learn skills to get new jobs, explained Mr Hosford. Such grassroot activity addressing the specific needs of individual communities is essential is the problem of the digital divide is to be overcome, he said. \"If we don't address this problem now, it will get a lot worse and people will find it more difficult to find jobs, education opportunities will be limited and they'll simply not be able to keep up with society,\" he said. The Alliance for Digital Inclusion, an independent body with members drawn from government, industry and the voluntary sector has recently been set up to tackle some of the issues faced by the digital refuseniks.<sep>`\n",
            "GENERATED: `was that- on I butn would atThe last had his£ US(b against about year are But outm wereing:) film UK who theirdIt NewS over numberAedI only after team England first good says think next them ify did game former play since partremaner three office growth admitted music meeting best Brown electioners going two A years</s>`\n",
            "------------------------------------------------------------------------------\n",
            "\n",
            "------------------------------------------------------------------------------\n",
            "PROMPT: `the team saw 'bot nets used to launch 226 distributed denial-of-service attacks on 99 separate targets. These attacks bombard websites with data in an attempt to overwhelm the target. Using a 'bot net of machines spread around different networks and nations makes such attacks hard to defend against. One DDoS attack was used by one firm to knock its competitors offline. Other 'bot nets were used to abuse the Google Adsense program that rewards websites for displaying adverts from the search engine. Some networks were used to abuse or manipulate online polls and games. Criminals also seem to be starting to use 'bot nets for mass identity theft, to host websites that look like those of banks so confidential information can be gathered and to peep into online traffic to steal sensitive data. \"Leveraging the power of several thousand bots, it is viable to take down almost any website or network instantly,\" said the researchers. \"Even in unskilled hands, it should be obvious that 'bot nets are a loaded and powerful weapon.\"<sep>`\n",
            "GENERATED: `as has The will he I Mr but notn would atThe last had have they his new£ US(b about year this But outm government beenting: people) film more UK who theirdIt New over numberAI only after we England first good up says think next now them which ify did get game former play since partremaner three office growth</s>`\n",
            "------------------------------------------------------------------------------\n",
            "\n",
            "------------------------------------------------------------------------------\n",
            "PROMPT: `security loopholes to take advantage of. The company is trying to tackle security threats whilst cracking down on pirated software at the same time. Software piracy has cost the company billions, it says. The company announced earlier in January that it was releasing security tools to clean up PCs harbouring viruses and spyware, which 90% of PCs are infected with. The virus-fighting program, updated monthly, is a precursor to Microsoft's dedicated anti-virus software. Last year it introduced the Windows XP Counterfeit Project, a UK-based pilot scheme, which ran from November to December. The scheme meant that anyone with pre-installed copies of the operating system in PCs bought before November could replace counterfeit versions of Windows XP with legal ones for free. It is also increasing efforts to squash software piracy in China, Norway and the Czech Republic, where pirated software is a huge problem, by offering discounts on legitimate software to users of pirated copies Windows. \"China in particular is a problem, with piracy estimated at 92%,\" said Mr Cluley.<sep>`\n",
            "GENERATED: `be will he as I but notn wouldThe last had have they his new£ US(b against about an this one But outm government been weret: people) film more who theirIt NewS over numberAI only after we team England first good think next now them ify did get game former play since partremaner three office growth its admitted music meeting</s>`\n",
            "------------------------------------------------------------------------------\n",
            "\n",
            "------------------------------------------------------------------------------\n",
            "PROMPT: `website. With some picture agencies already paying for exclusive phone pictures, especially of celebrities, there are also fears about the possible downside of this phenomenon. It could become a nuisance for public figures as higher resolution picture phones hit the market, with five megapixel models already being launched in Asia. Already on US photojournal site, Buzznet, there is a public album full of snaps of celebrities, many of which were taken with camera phones. Tabloid newspapers in the UK and many monthly magazines invite readers to send in images of famous people they have seen and snapped. But there are other positive uses of picture mobile phones that may balance these uses. For instance, in Alabama, in the US, camera phones will be used to take snaps at crime scenes involving children, and help the authorities to arrest and prosecute paedophiles. And in China's capital Beijing, courts have adopted mobile phone photos as formal evidence. For Henry Reichhold, this is progress: \"That's the whole thing about the immediacy of the thing. I can see that happening a lot more.\"<sep>`\n",
            "GENERATED: `- has said was The he Mr by but it notn wouldThe last had his new£(b against an year from one outm government beenting) film who theirdIt NewS over numberAI only after we team England first good up says think next now them ify did get game former play since partremaner three office growth its admitted music meeting</s>`\n",
            "------------------------------------------------------------------------------\n",
            "\n",
            "------------------------------------------------------------------------------\n",
            "PROMPT: `commercial radio now. \"We are really going to see these microcosms and commerce will be all over the place.\" It is happening already. Coffee-loving Curry has sold $4,000 worth of coffee machines through a referral link to Amazon from his site. Others use in-show promotions, like The Dawn and Drew Show. One, Eric Rice, has won sponsorship from Warner Bros. He can now legally play the music of a band Warner Bros wants to push. Some commentators on the net say it has a similar feel to the dotcom days. Others say it is just another element of setting media free from big companies and letting people be creative. One thing is for sure; they are not about to disappear in a hurry. The creative forces behind radio are elated, says Curry. For now, he tunes out the negative comments within the podcasting community. \"I should be knighted for this,\" he adds, with a wry chuckle, \"People are going to be so happy to sit at home, make their podcast, and make a little money.\"<sep>`\n",
            "GENERATED: `' said was that as I Mr by butn wouldThe last had have new£ US(b against an year one But government been were:) film more UK whodIt NewS numberA only after we team England first good up think next them which ify did get game former since partremaner three office growth its admitted meeting best Brown electioners two A years</s>`\n",
            "------------------------------------------------------------------------------\n",
            "\n",
            "------------------------------------------------------------------------------\n",
            "PROMPT: `the record industry, with 200 million tracks bought online in the US and Europe in 12 months. The IFPI industry body said that the popularity of portable music players was behind the growth. Analysts say that the ease of use and growth of music services available on the net will continue to drive the trend towards portable music players. People are also starting to use them in novel ways. Some are combining automatic syncing functions many of them have with other net functions to automatically distribute DIY radio shows, called podcasts. But 2005 will also see more competition from mobile phone operators who are keen to offer streaming services on much more powerful and sophisticated handsets. According to Mr McGuire, research suggests that people like the idea of building up huge libraries of music, which they can do with high-capacity storage devices, like iPods and Creative Zens. Mobiles do not yet have this capacity though, and there are issues about the ease of portability of mobile music. Mr McGuire said Apple was ensuring it kept a foot in the mobile music door with its recent deal with Motorola to produce a version of iTunes for Motorola phones.<sep>`\n",
            "GENERATED: `\"' has is be as he by butn would atThe last had his new£(b against an year one outm government been weret:) film UK theirdIt NewS over numberAed only after we team England first good says think next now ify did get game former play since partremaner three office admitted meeting best Brown electioners going</s>`\n",
            "------------------------------------------------------------------------------\n",
            "\n",
            "------------------------------------------------------------------------------\n",
            "PROMPT: `May 2001, thinks Mr Weiner. His business savvy, coupled with the technical genius of founder Jerry Yang has proved a winning combination, he says. So as the internet giant emerges from its first decade as a survivor, how will it fare as it enters its teenage years? \"The game is theirs to lose and MSN is the only one that stands in the way of Yahoo's domination,\" predicted Mr Weiner. Nick Hazel, Yahoo's head of consumer services in the UK, thinks the fact that Yahoo has grown up with the first wave of the internet generation will stand it in good stead. Search will be a key focus as will making Yahoo Messenger available on mobiles, forging new broadband partnerships such as that with BT in the UK and continuing to provide a range of services beyond the desktop, he says. Mr Weiner thinks Yahoo's vision of becoming the ultimate gateway to the web will move increasing towards movies and television as more and more people get broadband access. \"It will spread its portal wings to expand into rich media,\" he predicts.<sep>`\n",
            "GENERATED: `said The- was I by but notn would at last had have they his£ US(b against about an year are this But outm government been wereting:) film whod NewS over numberAedI after we team England think next now them which ify did former play since partremaner three office growth admitted music meeting best Brown electioners going</s>`\n",
            "------------------------------------------------------------------------------\n",
            "\n",
            "------------------------------------------------------------------------------\n",
            "PROMPT: `: \"A number of initiatives were discussed at the meeting. \"They will be formulated to create specific proposals to promote greater understanding, recognition and awareness of the games rating system, ensuring that young people are not exposed to inappropriate content.\" Among the possible measures could be a campaign to explain to parents that many games are made for an adult audience, as well as changes to the labelling of the games themselves. According to industry statistics, a majority of players are over 18, with the average age of a gamer being 29. Academics point out that there has not been any definitive research linking bloodthirsty games such as Manhunt with violent responses in players. In a report published this week for the Video Standards Council, Dr Guy Cumberbatch said: \"The research evidence on media violence causing harm to viewers is wildly exaggerated and does not stand up to scrutiny.\" Dr Cumberbatch, head of the social policy think tank, the Communications Research Group, reviewed the studies on the issue. He concluded that there was an absence of convincing research that media violence caused harm.<sep>`\n",
            "GENERATED: `'- I The he Mr by but itn would last had have they his new£ US(b against about year from one Butm governmentting) film more UK who theirdIt NewSedI only after we team England first good says next now them which ify did get former play since partremaner three office growth its admitted music best Brown electioners</s>`\n",
            "------------------------------------------------------------------------------\n",
            "\n",
            "------------------------------------------------------------------------------\n",
            "PROMPT: `they get mixed reactions from audiences. Some love the group's music, and others are not quite sure what to make of it. In the world of electronic music, these purveyors of blip-pop are not unique. But Jarek Kujda says they try to be unique. \"We have lots of people making music on old school stuff, electronic old school stuff like Commodore, Atari, Spectrum,\" he said. \"We want to play only experimental music, not cover songs. We're something like an electronic jam session.\" The Gameboyzz Orchestra Project's tracks are available online and the group hopes to make a CD next year. And they have sponsorship, courtesy of the Polish distributor of Nintendo products. The members of the Gameboyzz Orchestra Project do not expect serious competition anytime soon. A GameBoy Advance costs about US $200 in Poland these days, which is still way beyond the reach of most Polish gamers, or musicians. Clark Boyd is technology correspondent for The World, a BBC World Service and WGBH-Boston co-production<sep>`\n",
            "GENERATED: `has was that will as I Mr by but withn would atThe last had his new£( against this one outm government been wereting:) film more UK who theirdIt NewS over numberAedI after we team England first good up think now them ify did former since partmaner three office growth its admitted meeting best Brown electioners going two</s>`\n",
            "------------------------------------------------------------------------------\n",
            "\n",
            "------------------------------------------------------------------------------\n",
            "PROMPT: `phone up to cancel their subscription. Some readers were offered a price drop just 25p more expensive than that offered by an alternative operator, making it hardly worth while swapping. Other found themselves tied into 12-month contracts. Broadband has become hugely competitive and providers are desperate to hold on to customers. 12% of those surveyed found themselves unable to swap at all. \"We discovered a huge variety of problems, but one of the biggest issues is the current supplier withholding the information that people need to give to their new supplier,\" said Tim Danton, editor of PC Pro. \"This breaks the code of practice, but because that code is voluntary there's nothing we or Ofcom can do to help,\" he said. There is a vast choice of internet service providers in the UK now and an often bewildering array of broadband packages. With prices set to drop even further in coming months Mr Danton advises everyone to shop around carefully. \"If you just stick with your current connection then there's every chance you're being ripped off,\" he warned.<sep>`\n",
            "GENERATED: `The was for will as I notn wouldThe last had have they his£ US(b against about year from this But outm government beenting:) film whodIt NewS over numberAedI only after team England first good says think next them which ify did get game former play since partmaner three office growth its admitted music meeting best Brown election</s>`\n",
            "------------------------------------------------------------------------------\n",
            "\n",
            "------------------------------------------------------------------------------\n",
            "PROMPT: `support well-known industry specifications, such as DirectX, to make it simple for game studios to make titles for the console. For gamers this emphasis on ease of use would mean every Xbox title uses the same interface to set up online play and get at music stored on the hardware. This interface will hold details of a player's statistics and skill level on a \"gamer card\" as well as give access to a store where people can spend small amounts of cash to buy extras for their avatars or add-ons, such as new maps or vehicles, for games they possess. This ability to personalise games and in-game characters would be key in the future, said Mr Allard. Only with such consistency would the Xbox be able to support the 10-20 million subscribers that it was aiming for, said Mr Allard. During his speech Mr Allard took several swipes at the Playstation and said processors for consoles had to be made with developers, not just engineers, in mind. \"Our approach is Bruce Lee, not brute force,\" he said.<sep>`\n",
            "GENERATED: `I has The by butnThe last have£ US(b against about an year are from one But outm government been wereting:) film more UK whodIt NewS over numberAedI only after we team England first good says think next now them which ify did former since partremaner three office growth its admitted meeting best Brown electioners going</s>`\n",
            "------------------------------------------------------------------------------\n",
            "\n",
            "------------------------------------------------------------------------------\n",
            "PROMPT: `BT Retail's trials, which is initially for employees and later in the summer for customers, with interest. For BT Retail, she said, the super-fast service could be a way of differentiating it from other players. \"It has been losing market share and this could be one way of gaining some of that back,\" said Ms Finger. Wanadoo is set to trial an 8Mbps service in the summer and also plans to roll out unbundled services - which means it takes over the network from BT - which will provide speeds of up to 15Mbps. There is no timetable for this at the moment. Cable firms ntl and Telewest are also bound to increase bandwidth at some time in the future and, according to an ntl spokesman, are in a better position than BT in the long term. \"BT's network is limited compared to that of cable. With all the other services coming on stream such as video on demand, the question is will 8Mbps be enough?\" he asked.<sep>`\n",
            "GENERATED: `Mr was The I by but notn wouldThe last had have they his new£ US(b against about year Butm government wereting: people) film more UK who theird NewS numberAedI only after we team England first good says think next now them ify did get game former play since partremaner three office growth its admitted music meeting best</s>`\n",
            "------------------------------------------------------------------------------\n",
            "\n",
            "------------------------------------------------------------------------------\n",
            "PROMPT: `also require multiple discs for installation. High-definition DVDs will cut down on that need. Likewise, consoles rely on single discs, so DVDs that can hold six times more data mean much better, high-resolution games. Blu-ray has already won backing from major Hollywood studios, such as MGM Studios, Disney, and Buena Vista, as well as top technology firms like Dell, LG, Samsung and Phillips amongst others. While Toshiba's HD-DVD technology has won backing from Paramount, Universal and Warner Bros. \"The real world benefits (of HD-DVD) are apparent and obvious,\" said Jim Cardwell, president of Warner Home Video. Mr Cardwell added that rapid time to market and dependability were significant factors in choosing to go with HD-DVD. Both formats are courting Microsoft to be the format of choice for the next generation Xbox, but discussions are still on-going. Next generation DVDs will also be able to store images and other data. CES is the largest consumer electronics show in the world, and runs from 6 to 9 January.<sep>`\n",
            "GENERATED: `a was he The I by it notn would at last had have they his new£ USb against about an year this one But outm government beent: people film UK who theirdIt NewS over numberAedI only after we team England first good up says think now them which ify did get game former play since partremaner three office growth its</s>`\n",
            "------------------------------------------------------------------------------\n",
            "\n",
            "------------------------------------------------------------------------------\n",
            "PROMPT: `a large and powerful organisation has stated its desire for digital formats to be open to all and work on any gadget. This is bound to please, if not surprise, many individuals and user organisations who feel that the wishes of the holder of rights to content are normally considered over and above those of the consumer. Many feel that the most difficult and challenging area for the Commission will be to identify a solution for different Digital Rights Management (DRM) schemes. Currently DRM solutions are incompatible, locking certain types of purchased content, making them unplayable on all platforms. With the potential of having a percentage of every media transaction that takes place globally, the prize for being the supplier of the world's dominant DRM scheme is huge. Although entertainment is an obvious first step, it will encompass the remote provisions of healthcare, energy efficiency and control of the smart home. The 10-year plan brings together the work of many currently running research projects that the EC has been funding for a number of years. Simon Perry is the editor of the Digital Lifestyles website, which covers the impact of technology on media<sep>`\n",
            "GENERATED: `\" as said was he I Mr by but withn would atThe last had have they his new£ USb against about year from this one But outm government wereting: people film more UK theirdIt NewSAedI only after we team England good up says think next nowy did get game former play since partremaner three office growth admitted music</s>`\n",
            "------------------------------------------------------------------------------\n",
            "\n",
            "------------------------------------------------------------------------------\n",
            "PROMPT: `so mad with his malfunctioning laptop that he threw it in the lavatory and flushed a couple of times. \"Data can disappear as a result of natural disaster, system fault or computer virus, but human error, including 'computer rage', seems to be a growing problem,\" said Adrian Palmer, managing director of Ontrack Data Recovery. \"Nevertheless, victims soon calm down when they realise the damage they've done and come to us with pleas for help to retrieve their valuable information.\" A far more common situation is when a computer virus strikes and leads to precious files being corrupted or deleted entirely. Mr Palmer recalled the case of a couple who had hundreds of pictures of their baby's first three months on their computer, but managed to reformat the hard drive and erase all the precious memories. \"Data can be recovered from computers, servers and even memory cards used in digital devices in most cases,\" said Mr Palmer. \"However, individuals and companies can avoid the hassle and stress this can cause by backing up data on a regular basis.\"<sep>`\n",
            "GENERATED: `has- was The will I notn would atThe last have new£ US(b against about an year are one But outm government been weret: people) film UKdIt NewS over numberAI only after we team England good says think next now them which ify did get game former play since partremaner office growth its admitted music meeting best Brown</s>`\n",
            "------------------------------------------------------------------------------\n",
            "\n",
            "------------------------------------------------------------------------------\n",
            "PROMPT: `er. \"Consumers are hungry for it and we will discover new models together,\" agreed Mr Morgenstern. But many net users will continue to ignore the entertainment industry's potential controlling grip on content and P2P technology by continuing to use it for their own creations. Unsigned bands, for example, use P2P networks to distribute their music effectively, which also draws the attention of record companies looking for new artists to sign. \"Increasingly, what you are seeing on P2P is consumer-created content,\" said Derek Broes, from Microsoft. \"They will probably play an increasing role in helping P2P spread,\" he said. Looking into P2P's future, file sharing is just the beginning for P2P networks, as far as Mr Broes is concerned. \"Once some of these issues are resolved, you are going to see aggressive movement to protect content, but also in ways that are unimaginable now,\" he said. \"File-sharing is the tip of the iceberg.\"<sep>`\n",
            "GENERATED: `a has was The be I with notn would atThe last had have they his£ US(b against about year this one outm government been wereting: people) film more UK whodIt NewS over numberAedI only after team England first good up says think next them ify did get game former since partreman three office growth its admitted meeting</s>`\n",
            "------------------------------------------------------------------------------\n",
            "\n",
            "------------------------------------------------------------------------------\n",
            "PROMPT: `who are disturbingly bad shots and prone to odd behaviour. And in Pacific Assault in particular, their commands and comments are irritatingly meaningless. But the teamwork element in titles like this is superficial, designed to add atmosphere and camaraderie rather than affect the gameplay mechanics at all. Of the two games, Pacific Assault gets more things right, including little points like auto-saving intelligently and having tidier presentation. It engages you very well and also looks wonderful, making the most of the lush tropical settings that are reminiscent of the glorious Far Cry, although we had to ramp up the settings on a high-spec machine to get the most out of them. Finest Hour is by no means bad, and it is only because the PC original was so dazzling that this version sometimes feels underwhelming. Those looking for a wartime game with plenty of atmosphere and a hearty abundance of enemies to shoot will be contented. But they will also have a niggling puzzlement as to why it does not break a little more ground rather then just being competent.<sep>`\n",
            "GENERATED: `\" said' has The he I Mr butn wouldThe last his new£ US(b against about an year from onem government been weret: people) film UKdIt NewS over numberAI after England first good says think next now which if did former play since partremaner three office growth its admitted music meeting best Brown electioners going A years quarter</s>`\n",
            "------------------------------------------------------------------------------\n",
            "\n",
            "------------------------------------------------------------------------------\n",
            "PROMPT: `First Amendment right that protects all reporters. \"If the court lets Apple get away with this, and exposes the confidences gained by these reporters, potential confidential sources will be deterred from providing information to the media and the public will lose a vital outlet for independent news, analysis and commentary,\" he said. The case began in December 2004 when Apple asked a local Californian court to get the journalists to reveal their sources for articles published on websites AppleInsider.com and PowerPage.org. Apple also sent requested information from the Nfox.com, the internet service provider of PowerPage's publisher Jason O-Grady. As well as looking at how far corporations can go in preventing information from being published, the case will also examine whether online journalists have the same privileges and protections as those writing for newspapers and magazines. The EFF has gained some powerful allies in its legal battle with Apple, including Professor Tom Goldstein, former dean of the Journalism School at the University of California and Dan Gillmor, a well-known Silicon Valley journalist. Apple was not immediately available for comment.<sep>`\n",
            "GENERATED: `is I but Mr it wouldThe last had they his new£ US(b against about an year are one But outm government been wereting: people) film more UK whodIt NewS over numberAedI only after we team England first good up says think next now them which ify did game play since partremaner three office growth admitted music meeting</s>`\n",
            "------------------------------------------------------------------------------\n",
            "\n",
            "------------------------------------------------------------------------------\n",
            "PROMPT: `infested with spyware. Research by technology firms Earthlink and Webroot revealed that 90% of Windows machine have the malicious software on board and, on average, each one harbours 28 separate spyware programs. Before now Microsoft has left the market for PC security software to specialist firms such as Symantec, McAfee, Trend Micro and many others. It said that its virus cleaning program would not stop machines being infected nor remove the need for other anti-virus programs. On spyware freely available programs such as Ad-Aware and Spybot have become widely used by people keen to keep the latest variants at bay. Microsoft's two security tools have emerged as a result of acquisitions the company has made over the last two years. In 2003 it bought Romanian firm GeCAD Software to get hold of its anti-virus technology. In December 2004 it bought New York-based anti-spyware firm Giant Company Software. Last year Microsoft also released the SP2 upgrade for Windows XP that closed many security loopholes in the software and made it easier for people to manage their anti-virus and firewall programs.<sep>`\n",
            "GENERATED: `\" was is The be will he I Mr butnThe had they his new£ US(b against about an are from this But outm government been wereting:) film more UK whodItS numberedI only after we team England first good up says think next them which ify did game former play since partreer three office growth admitted music meeting best</s>`\n",
            "------------------------------------------------------------------------------\n",
            "\n",
            "------------------------------------------------------------------------------\n",
            "PROMPT: `has led to the creation of the Mobile PC Extended Battery Life (EBL) Working Group that shares information about building notebooks that are more parsimonious with power. Some of the improvements in power use come simply because components on chips are shrinking, said Mr Trainor. Intel has also changed the way it creates transistors on silicon to reduce the power they need. On a larger scale, said Mr Trainor, improvements in the way that voltage regulators are made can reduce the amount of power lost as heat and make a notebook more energy efficient. Also, said Mr Trainor, research is being done on ways to cut energy consumption on displays - currently the biggest power guzzler on a laptop. Many laptop makers have committed to creating 14 and 15 inch screens that draw only three watts of power. This is far below the power consumption levels of screens in current notebooks. \"If we can get close to eight hours that's a place that people see as extraordinarily valuable that's what the industry has to deliver,\" Mr Trainor said.<sep>`\n",
            "GENERATED: `The was for be will he I by but notn would atThe last had his new£ USb against an year from this one But outm government been wereting: film UK who theirdIt NewS over numberAI after team England first good up says think next now them which ify did game former play since partremaner office growth its admitted music</s>`\n",
            "------------------------------------------------------------------------------\n",
            "\n",
            "------------------------------------------------------------------------------\n",
            "PROMPT: `information centrally on the net, the latest system will store data on a user's PC. \"It's going to put control of digital IDs into the hands of an end-user, the end-user will be in full control,\" said Mr Stephenson. Hailstorm was criticised by privacy campaigners for putting too much sensitive information into the hands of a single company. Passport provides a single log-in for more than one website and stores basic personal information. But its popularity suffered after security scares. Up to 200 million Passport accounts were left vulnerable to online theft and malicious hackers after a flaw in the system was exploited in 2003. Online auction site, eBay, stopped supporting it in January 2005. Although the flaw was fixed, Microsoft has come under regular criticism for the number of security loopholes in Internet Explorer. Last year, it released a major security update for Windows, Service Pack 2, to combat some of the security concerns. Longhorn is due to be released commercially in late 2006, but an updated version of Internet Explorer is due for release later this year.<sep>`\n",
            "GENERATED: `as that The he I with notn would atThe last had have they his new£ US(b against about are from outm government beenting: people) film UK who theird NewS overAedI only we team England first good up says think next now them which ify did get game former play since partremaner three office growth admitted music meeting</s>`\n",
            "------------------------------------------------------------------------------\n",
            "\n",
            "------------------------------------------------------------------------------\n",
            "PROMPT: `the problem we tackle,\" said Suranga Chandratillake, co-founder of Blinkx. In the latest release of Blinkx, the company has added what it calls smart folders. Once created the folders act as persistent queries that automatically sweep the web for pages related to their subject and catalogues relevant information, documents or incoming e-mails, on hard drives too. What users do with Blinkx and other desktop search engines shows that people tend to be very promiscuous in their use of search engines. \"Blinkx users do not stop using other web search systems,\" he said. \"They might use Google to look up a company, or Yahoo for travel because they know they are good at that,\" he said. \"The classic thing we have seen recently, is people using Blinkx to look at the things they have searched on,\" he said. The variety of ways to search data was only helping users, said Mr Chandratillake and that it was likely that in the future people would use different ones for different tasks.<sep>`\n",
            "GENERATED: `' will I by butn last had his new£ US(b against about an year from this one But outm government been wereting:) film more UK whodIt NewS over numberAedI after team England first says think next now them which ify did get game former play since partremaner three office growth its admitted music meeting best Brown election</s>`\n",
            "------------------------------------------------------------------------------\n",
            "\n",
            "------------------------------------------------------------------------------\n",
            "PROMPT: `set up the services will need to be addressed. Handsets also need to be able to work with the DVB-H standard. TV services will have to live up to the expectations of the digital TV generation too, which expects good quality images at low prices, according to analysts. People are also likely to be put off watching TV on such small screens, said Gartner. Digital video recorders, like Europe's Sky+ box, and video-on-demand services mean people have much more control over what TV they watch. As a result, people may see broadcasting straight to mobiles as taking away that control. More powerful smartphones like the XDA II, Nokia 6600, SonyEricsson P900 and the Orange E200, offering web access, text and multimedia messaging, e-mail, calendar and gaming are becoming increasingly common. A report by analysts InStat/MDR has predicted that smartphone shipments will grow by 44% over the next five years. It says that smartphones will make up 117 million out of 833 million handsets shipped globally by 2009.<sep>`\n",
            "GENERATED: `\" in was for The is he I Mr but it notn wouldThe last had his new£ US(b against about an year from this one Butm government been wereting:) film UK who theirdIt NewS numberAedI only after we team England first think now them ify did get game former play since partremaner three office growth its</s>`\n",
            "------------------------------------------------------------------------------\n",
            "\n",
            "------------------------------------------------------------------------------\n",
            "PROMPT: `ciably different on the track. The only niggle was that the interface was a bit confusing especially when using a joystick rather than the keypad to play. FATAL FORCE (MACROSPACE) A futuristic shooter that lets you either play various deathmatch modes against your phone or run through a series of scenarios that involves killing aliens invading Earth. Graphics are a bit cartoon-like but only helps to make clear what is going on and levels are well laid out and encourage you to leap about exploring. Both background music and sounds effects work well. The scenarios are well scripted and you regularly get hints from the Fatal Force commanders. Weapons include flamethrowers, rocket launchers, grenades and at a couple of points you even get chance to use a mech for a short while. With the right power-up you can go into a Matrix-style bullet time to cope with the onslaught of aliens. The game lets you play via Bluetooth if others are in range. Online the game has quite a following with clans, player rankings and even new downloadable maps.<sep>`\n",
            "GENERATED: `\" be said' will as he I Mr by it notn wouldThe last had have they his£ USb an year this one Butm government been wereting: people film more UK who theirdIt NewS over numberAI after we team England first good up says think next now them whichy did former since partremaner three office growth its admitted meeting</s>`\n",
            "------------------------------------------------------------------------------\n",
            "\n",
            "------------------------------------------------------------------------------\n",
            "PROMPT: `so that limited his activities and we were able to take corrective action immediately,\" Peter Dobrow, a T-Mobile spokesperson said. It is thought that Mr Jacobsen's hacking campaign took place over at least seven months during which time he read e-mails and personal computer files, according to court records. Although Mr Jacobsen, 21, managed to get hold of some data, it is thought he failed to get customer credit card numbers which are stored on a separate computer system, said Mr Dobrow. T-Mobile confirmed that the US Secret Service was also looking into whether the hacker accessed photos that T-Mobile subscribers had taken with their camera phones. The Associated Press agency reported that Mr Jacobsen also read personal files on the Secret Service agent who was apparently investigating the case. A Los Angeles grand jury indicted Mr Jacobsen with intentionally accessing a computer system without authorisation and with the unauthorised impairment of a protected computer between March and October 2004. He is currently on bail. T-Mobile is a subsidiary company of Deutsche Telekom and has about 16.3 million subscribers in the US.<sep>`\n",
            "GENERATED: `for be will as I by but notn wouldThe last have they new£(b against an year from this one But outm government beenting: people) film more UKdIt NewS numberAedI only after team England first good up says think next now them ify did game former play since partreman three office growth its admitted music meeting best Brown</s>`\n",
            "------------------------------------------------------------------------------\n",
            "\n",
            "------------------------------------------------------------------------------\n",
            "PROMPT: `s for a buck an hour?\" he asked in a webcast launching Sun's quarterly Network Computing event in California. The company will have to persuade data centre managers to adopt a new model but it said it already had interest from customers in the oil, gas and financial services industries. Some of them want to book computing capacity of more than 5,000 processors each, Sun said. Mr Schwartz ran a demonstration of the service, showing how data could be processed in a protein folding experiment. Hundreds of servers were used simultaneously, working on the problem for a few seconds each. Although it only took a few seconds, the experiment cost $12 (£6.30) because it had used up 12 hours' worth of computing power. The Sun Grid relies on Solaris, the operating system owned by Sun. Initially it will house the grid in existing premises and will use idle servers to test software before shipping it to customers. It has not said how much the system will cost to develop but it already has a rival in IBM, which argues that its capacity on-demand service is cheaper than that offered by Sun.<sep>`\n",
            "GENERATED: `was as I withn would atThe last they his USb against about year are this one But outm government beenting: people film UK who theirdIt NewS over numberAedI after we team England first good says think next now ify did get game former play since partremaner three office growth admitted music meeting best Brown electioners going two A</s>`\n",
            "------------------------------------------------------------------------------\n",
            "\n",
            "------------------------------------------------------------------------------\n",
            "PROMPT: `TV screens or to let people beam music to media players around their home. The technology has the potential to transmit hundreds of megabits of data per second. \"Consumer electronics companies want UWB to replace cables and simplify set-up,\" Jeff Ravencraft, technology strategist at Intel and chairman of the Wireless USB Promoter Group, told technology site ZDNet. \"Thirty percent of consumer electronics returns are because the consumer couldn't set up the equipment.\" The first products using UWB technology from Intel are due to hit the market later this year. Initially they will be products using wireless USB 2.0 connections. UWB could also be used to create so-called Personal Area Networks that let a person's gadgets quickly and easily swap data amongst themselves. The technology works over a range up to 10 metres and uses billions of short radio pulses every second to carry data. Intel says the benefit of UWB is that it does not interfere with other wi-fi technologies already in use such as wi-fi, wimax and mobile phone networks.<sep>`\n",
            "GENERATED: `for said was on he I Mr by butn wouldThe last had have his new£ US(b against about an one But outm government been wereing:) film more UK whodIt NewS numberAedI only after we team England good think next now them which ify did get game former play since partreman three office growth its admitted meeting best Brown</s>`\n",
            "------------------------------------------------------------------------------\n",
            "\n",
            "------------------------------------------------------------------------------\n",
            "PROMPT: `to PC-owning consumers who had purchased an iPod. \"They want a further taste of Mac because they like what they have seen with iPod.\" Harris added: \"Everybody thought that Apple was happy to remain a niche maker of luxury computers, and moving into a market dominated by low margin manufacturers like Dell is a bold move. \"But it shows that Apple is keen to capitalise on the mass market success it's had with the iPod. The Mac mini will appeal to PC users looking for an attractive, 'no fuss' computer.\" The new iPod shuffle comes in two versions - one offering 512mb of storage for $99 (£69 in the Uk) and a second with one gigabyte of storage for $149 (£99) - and went on sale Tuesday. The music player has no display and will play songs either consecutively or shuffled. The smaller iPod will hold about 120 songs, said Mr Jobs. Mr Jobs told the delegates at MacWorld that iPod already had a 65% market share of all digital music players.<sep>`\n",
            "GENERATED: `as be he I but notn wouldThe last his USb against year are from this But outm government been weret people film more UK theirIt NewS over numberAedI only after we team England first good up says think next now them which ify did get game former since partremaner three office growth its admitted meeting best Brown electioners going A years</s>`\n",
            "------------------------------------------------------------------------------\n",
            "\n",
            "------------------------------------------------------------------------------\n",
            "PROMPT: `a part to play in this.\" The market for full-track music downloads was worth just $20 million (£10.5 million) in 2004, but is set to be worth $1.8 billion (£94 million) by 2009, according to Juniper Research. Sony Ericsson just released its Walkman branded mobile phone, the W800, which combines a digital music player with up to 30 hours' battery life, and a two megapixel camera. In July last year, Motorola and Apple announced a version of iTunes online music downloading service would be released which would be compatible with Motorola mobile phones. Apple said the new iTunes music player would become Motorola's standard music application for its music phones. But the challenge will be balancing storage capacity with battery life if mobile music hopes to compete with digital music players like the iPod. Ms Milanesi said more models would likely be released in the coming year with hard drives. But they would be more likely to compete with the smaller capacity music players that have around four gigabyte storage capacity, which would not put too much strain on battery life.<sep>`\n",
            "GENERATED: `has as I he Mr itn atThe had his USb against about an are from one outm government been wereting: people film UK who theirdIt NewS over numberAedI only after we team England first good says think next now themy did get game former sincereer three office growth admitted meeting best Brown electioners going A years quarter country company</s>`\n",
            "------------------------------------------------------------------------------\n",
            "\n",
            "------------------------------------------------------------------------------\n",
            "PROMPT: `intellectual property was adequately protected would European inventors prosper. He said the benefits of the bill had been obscured by special interest groups which muddied debate over the rights and wrongs of software patents. Other proponents of the bill said it was a good compromise that avoided the excesses of the American system which allows the patenting of business practices as well as software. But opponents of the bill said that it could stifle innovation, be abused by firms keen to protect existing monopolies and could hamper the growth of the open source movement. The proposed law had a troubled passage through the European parliament. Its progress was delayed twice when Polish MEPs rejected plans to adopt it. Also earlier this month the influential European Legal Affairs Committee (JURI) said the law should be re-drafted after it failed to win the support of MEPs. To become law both the European Parliament and a qualified majority of EU states have to approve of the draft wording of the bill. The latest rejection means that now the bill on computer inventions must go back to the EU for re-consideration.<sep>`\n",
            "GENERATED: `\" in' has is will he I Mr but with notn atThe last they his new£ USb against about an year are from one outm government weret: people film more UK who theirIt NewS numberAI only we team England first up says think next them ify did get game former play since partmaner three office its admitted music meeting best Brown</s>`\n",
            "------------------------------------------------------------------------------\n",
            "\n",
            "------------------------------------------------------------------------------\n",
            "PROMPT: `not work with the most widely pirated versions of its operating system. The upgrade closed security loopholes in XP and added features that made it easier to keep machines safe from viruses and other types of malicious computer code. The US company invited anyone who had suspicions about their version of Windows XP to submit it for testing as soon as possible. The procedure consists of a series of computer checks, collating documents, and filling out a witness statement. \"This is a great opportunity for users to confirm the authenticity of Windows XP software whilst helping gather vital information about illegal traders\", said Alex Hilton, licence compliance manager at Microsoft. The scheme has also been welcomed by the technology and commerce industry. \"It is important that users ensure that they are legally licensed to avoid the risks of purchasing and using counterfeit products\", said David Frost, director general of the British Chambers of Commerce. The plan would enable Microsoft to gather intelligence about illegal traders in a prompt way, which would allow it to take action against software pirates. Microsoft said it would evaluate the results of the UK programme before setting up similar schemes in other countries.<sep>`\n",
            "GENERATED: `'- was be will on he I Mr butnThe last have his new£(b an year this one Butm government wereting: people) film more NewS over numberAedI only after we team England first good says think next now them ify did get game former play since partremaner three office growth admitted music meeting best Brown electioners going</s>`\n",
            "------------------------------------------------------------------------------\n",
            "\n",
            "------------------------------------------------------------------------------\n",
            "PROMPT: `big vision to sell it. \"Then there's the reality of how it's really going to be used, which generally is several levels down the chain from there.\" While the PlayStation 3 is likely to be the first mass-market product to use Cell, the chip's designers have said the flexible architecture means that it would be useful for a wide range of applications, from servers to mobile phones. Initial devices are unlikely to be any smaller than a games console, however, because the first version of the Cell will run hot enough to need a cooling fan. And while marketing speak describes the chip as a \"supercomputer\" - it remains significantly slower than the slowest computer on the list of the world's top 500 supercomputers. IBM said Cell was \"OS neutral\" and would support multiple operating systems simultaneously but designers would not confirm if Microsoft's Windows was among those tested with the chip. If Cell is to challenge Intel's range of chips in the marketplace, it will need to find itself inside PCs, which predominantly run using Windows.<sep>`\n",
            "GENERATED: `has I The he Mr byn atThe last had they his new£ US(b against about an year this one But outm government been wereting: people) film more UK who theirdIt NewS over numberAedI only after we team England good up says think next now themy did get game former play since partremaner three office growth its</s>`\n",
            "------------------------------------------------------------------------------\n",
            "\n",
            "------------------------------------------------------------------------------\n",
            "PROMPT: `but there is no news of a Europe debut. The handheld console will go on sale for $250 (£132) and the first million sold will come with Spider-Man 2 on UMD, the disc format for the machine. Sony has billed the machine as the Walkman of the 21st Century and has sold more than 800,000 units in Japan. The console (12cm by 7.4cm) will play games, movies and music and also offers support for wireless gaming. Sony is entering a market which has been dominated by Nintendo for many years. It launched its DS handheld in Japan and the US last year and has sold 2.8 million units. Sony has said it wanted to launch the PSP in Europe at roughly the same time as the US, but gamers will now fear that the launch has been put back. Nintendo has said it will release the DS in Europe from 11 March. \"It has gaming at its core, but it's not a gaming device. It's an entertainment device,\" said Kaz Hirai, president of Sony Computer Entertainment America.<sep>`\n",
            "GENERATED: `was be Mr he In wouldThe had have they his newb against about are this one But outm government wereting: people film UK who theird NewS over numberAedI only after we team England good up says think next them ify did get former since partreer three office growth admitted meeting best Brown electioners going two A quarter country companyll</s>`\n",
            "------------------------------------------------------------------------------\n",
            "\n",
            "------------------------------------------------------------------------------\n",
            "PROMPT: `hacks to get around the need for CD keys. Rob Fahey, editor of online news site gamesindustry.biz, said the mass banning showed off the power of the Steam system. Before now, he said, it has been hard for game makers to do anything about piracy once the game was being played. \"But with this, Valve is taking really effective steps against people using illegitimate copies of Half-Life 2,\" he said. If Steam proves effective at cutting the piracy of games to a minimum, said Mr Fahey, other game makers may be tempted to set up copycat systems. \"It's not hard to see a point in the near future when every publisher wants you to run an application on your system purely to allow you to play their games,\" he said. This could mean that computers get cluttered with poorly written Steam-type systems that are used to batter people with adverts. Unless game firms were careful, he said, they could face a backlash from consumers who soon get tired of maintaining different accounts for every game they play.<sep>`\n",
            "GENERATED: `The and will as I by butn wouldThe last had have his new£ US(b year one But outm governmentting:) film more UKd NewS over numberAI only after we team England first good says think next them which ify did former since partremaner three office growth its admitted music meeting best Brown electioners going two A years quarter</s>`\n",
            "------------------------------------------------------------------------------\n",
            "\n",
            "------------------------------------------------------------------------------\n",
            "PROMPT: `countries found that 59% wanted more technology. The computer was the \"must-have\" gadget for most people (75%). The TV took second place (67%), while the mobile was ranked in third position with 54%. Digital cameras were the most popular choice of gadget for 2005, said the survey, with nearly 40% choosing this over wireless, home printing and DVR technologies. However, only 25% of Britons said a digital camera would be their top gadget purchase of the year. Almost a quarter, 22%, said they would be buying some sort of wireless device. Forty-four percent said they would be buying something \"other\". This might include digital music players, or gaming devices. The Nintendo DS, Sony's PSP and Gizmondo all hit the shops in 2005, and the first of the next generation of games consoles, Xbox 2, is set to launch later this year. Jupiter Research's index is calculated using 40 different variables across net users, digital TV adoption, wireless and mobile, online activity, and digital devices.<sep>`\n",
            "GENERATED: `on has as will he I Mr by but it notn atThe last had have his new£ USb against about an are from one But outm government beening: film UK whodIt NewS numberAedI after we team England good up says think now them which ify did get game former play since partremaner three office growth its admitted meeting best</s>`\n",
            "------------------------------------------------------------------------------\n",
            "\n",
            "------------------------------------------------------------------------------\n",
            "PROMPT: `er. \"Consumers are hungry for it and we will discover new models together,\" agreed Mr Morgenstern. But many net users will continue to ignore the entertainment industry's potential controlling grip on content and P2P technology by continuing to use it for their own creations. Unsigned bands, for example, use P2P networks to distribute their music effectively, which also draws the attention of record companies looking for new artists to sign. \"Increasingly, what you are seeing on P2P is consumer-created content,\" said Derek Broes, from Microsoft. \"They will probably pay an increasing role in helping P2P spread,\" he said. Looking into P2P's future, file sharing is just the beginning for P2P networks, as far as Mr Broes is concerned. \"Once some of these issues are resolved, you are going to see aggressive movement to protect content, but also in ways that are unimaginable now,\" he said. \"File-sharing is the tip of the iceberg.\"<sep>`\n",
            "GENERATED: `a has was The be I with notn would atThe last had have they his£ US(b against about year this one outm government been wereting: people) film more UK whodIt NewS over numberAedI only after team England first good up says think next them ify did get game former play since partreman three office growth its admitted</s>`\n",
            "------------------------------------------------------------------------------\n",
            "\n",
            "------------------------------------------------------------------------------\n",
            "PROMPT: `er. \"Consumers are hungry for it and we will discover new models together,\" agreed Mr Morgenstern. But many net users will continue to ignore the entertainment industry's potential controlling grip on content and P2P technology by continuing to use it for their own creations. Unsigned bands, for example, use P2P networks to distribute their music effectively, which also draws the attention of record companies looking for new artists to sign. \"Increasingly, what you are seeing on P2P is consumer-created content,\" said Derek Broes, from Microsoft. \"They will probably play an increasing role in helping P2P spread,\" he said. Looking into P2P's future, file sharing is just the beginning for P2P networks, as far as Mr Broes is concerned. \"Once some of these issues are resolved, you are going to see aggressive movement to protect content, but also in ways that are unimaginable now,\" he said. \"File-sharing is the tip of the iceberg.\"<sep>`\n",
            "GENERATED: `a has was The be I with notn would atThe last had have they his£ US(b against about year this one outm government been wereting: people) film more UK whodIt NewS over numberAedI only after team England first good up says think next them ify did get game former since partreman three office growth its admitted meeting</s>`\n",
            "------------------------------------------------------------------------------\n",
            "\n",
            "------------------------------------------------------------------------------\n",
            "PROMPT: `them very easy to eavesdrop on. He said it took Vodafone almost nine years to rack up its first million customers but only 18 months to get the second million. \"It's very easy to forget that in 1983 when we put the bid document in we were forecasting that the total market would be two million people,\" he said. \"Cellnet was forecasting half that.\" Now Vodafone has 14m customers in the UK alone. Cellnet and Vodafone were the only mobile phone operators in the UK until 1993 when One2One (now T-Mobile) was launched. Orange had its UK launch in 1994. Both newcomers operated digital mobile networks and now all operators use this technology. The analogue spectrum for the old phones has been retired. Called Global System for Mobiles (GSM) this is now the most widely used phone technology on the planet and is used to help more than 1.2 billion people make calls. Mr Caudwell said the advent of digital technology also helped to introduce all those things, such as text messaging and roaming that have made mobiles so popular.<sep>`\n",
            "GENERATED: `a will by I with notn atThe last they his new£ USb against about an year are from one But out governmentting: film who their NewS over numberAI after team England good says think next which ify did game former play since partremaner three office growth admitted music meeting best Brown electioners going A quarter country companyll take November she</s>`\n",
            "------------------------------------------------------------------------------\n",
            "\n",
            "------------------------------------------------------------------------------\n",
            "PROMPT: `\"It does not have the right connectors that fit a TV screen or enough storage.\" Said Mr Fogg: \"It's very much a computer.\" One dissenting opinion came from Brian Gammage, vice-president of research at analysts Gartner. He said: \"I don't think it changes the world.\" Although the Mac mini was very cheap for an Apple computer, it was still expensive compared to many PCs. Also, he said, it appealed in categories that few consumers care about when buying a home computer. \"The PC world is a pile-em-high, sell-em-cheap market,\" he said, \"and all of them are pretty interchangeable.\" \"Since the days when Apple ruled the personal computing world its market share has been on a long, slow decline,\" he said. \"Every few years it does something to give its market share a kick then it starts to go back down again,\" said Mr Gammage. The release of the Mac mini fit perfectly with this trend, he said.<sep>`\n",
            "GENERATED: `and will as be I by butn would last had they his new£ US(b against year one But out government were people) film more UK who theird NewS over numberAed only after we team England first good up says next now which ify did get game former play since partremaner three office growth admitted music meeting best Brown electioners going two A</s>`\n",
            "------------------------------------------------------------------------------\n",
            "\n",
            "------------------------------------------------------------------------------\n",
            "PROMPT: `now, broadcasters like the BBC are working on their own HDTV plans, although with no launch date in sight. \"The BBC will start broadcasting in HDTV when the time is right, and it would not be just a showcase, but a whole set of programming,\" says Andy Quested, from the BBC's high-definition support group. \"We have made the commitment to produce all our output in high-definition by 2010, which would put us on the leading edge.\" One of the options under consideration is to offer high-definition pictures on the web. The BBC has already dipped its toe into this, including some HDTV content in recent trials of its interactive media player - a video player for PCs. It is planning to offer special releases of selected flagship programmes online in the near future. According to Mr Quested, this could help put Europe back into the running in the race to switch to HDTV. This is backed by recent research which suggests that the number of Europeans with broadband has exploded over the past 12 months, with the web eating into TV viewing habits.<sep>`\n",
            "GENERATED: `was said he as In at last had they his new£ US(b against about an year one But outm government been wereting: people) film more UK whodIt NewSAI only after we team England first good up think next them ify did get game former play since partremaner three office growth admitted music meeting best Brown electioners going</s>`\n",
            "------------------------------------------------------------------------------\n",
            "\n",
            "------------------------------------------------------------------------------\n",
            "PROMPT: `Virgin Radio Groove. Mr Cridland said: \"This application will enable anyone, anywhere to listen to Virgin Radio simply with the phone in their pocket. \"This allows us to tap into a huge new audience and keep radio relevant for a new generation of listeners.\" Saumil Nanavati, president of Sydus, said, \"This radio player is what the 3G network was built for, giving consumers high-quality and high-data products through a handset in their pocket.\" Virgin says an hour's listening to the station via mobile would involve about 7.2MB of data, which could prove expensive for people using pay as you download GPRS or 3G services. Some networks, such as Orange, charge up to £1 for every one megabyte of data downloaded. Virgin says radio via 2G or 3G mobiles is therefore going to appeal to people with unlimited download deals. There are 30 compatible handsets available from major manufacturers including Nokia and Samsung while Virgin said more than 14.9 million consumers across the globe can use the service currently.<sep>`\n",
            "GENERATED: `The has that be on he I by but it notn atThe last had have they his US(b against year this But outm government been wereting) film UK whoIt NewS over numberAedI only after we team England first good think next now them ify did get game former play since partremaner three office growth its admitted music meeting best</s>`\n",
            "------------------------------------------------------------------------------\n",
            "\n",
            "------------------------------------------------------------------------------\n",
            "PROMPT: `Linux use. IBM said it had taken the step in response to greater customer demand for the open source software. In 2004 IBM said it had seen double digit growth in the number of customers using Linux to help staff work together more closely. The money will be used to help this push towards greater collaboration and will add Linux-based elements to IBM's Workplace software. Workplace is a suite of programs and tools that allow workers to get at core business applications no matter what device they use to connect to corporate networks. One of the main focuses of the initiative will be to make it easier to use Linux-based desktop computers and mobile devices with Workplace. Even before IBM announced this latest spending boost it was one of the biggest advocates of the open source way of working. In 2001 it put $300m into a three-year Linux program and has produced Linux versions of many of its programs. Linux and the open source software movement are based on the premise that developers should be free to tinker with the core components of software programs. They reason that more open scrutiny of software produces better programs and fuels innovation.<sep>`\n",
            "GENERATED: `, as\" he I Mr by but notn wouldThe last have his new£ US(b against about an year from But out government been wereting: people) film UK who theirdIt NewS overAedI only after we team England first good up says think next now them which ify did game former play since partremaner office admitted music meeting</s>`\n",
            "------------------------------------------------------------------------------\n",
            "\n",
            "------------------------------------------------------------------------------\n",
            "PROMPT: `rival Apple's iPod. There is no date for the PSP's release in Europe yet. Sony has promised to have a million units ready for its US launch, but there are fears demand may not be met. It also said it expected to ship three million PSPs worldwide by the end of its fiscal year ending 31 March. The machine's European launch was put back \"a few months\" last week in order to make sure enough of the devices were ready for its US launch, as well as satisfying the Japanese market. The PSP has almost as much processing power in it as the PlayStation 2 console. Hundreds of gamers gathered at US shops, some waiting for more than 36 hours, to be the first to get their hands on the gadget. A spokesman for one US shop said it expected the device to sell out on its first day. The 24 games for the mini console include Ape Academy, Formula One, Wipeout Pure and Fired Up. Movie studios, including Lions Gate Entertainment and Disney, have also announced forthcoming film titles that will be made available on the UMD format.<sep>`\n",
            "GENERATED: `- he I Mr withn wouldThe had they his new£(b against about an from this Butm government beenting: people) UK whoIt NewS over numberAedI only after we team England good up says think next now them which ify did former play since partremaner office growth admitted music meeting best Brown electioners going two years quarter country</s>`\n",
            "------------------------------------------------------------------------------\n",
            "\n",
            "------------------------------------------------------------------------------\n",
            "PROMPT: `in which viewers could control the actions of the characters as in its popular game The Sims. \"One idea could be that you're controlling a family, telling them when to go to the kitchen and when to go to the bedroom, and with this mechanism you have gamers all over the world 'playing the show',\" said Mr Bolz. He also said EA was planning an international awards show \"similar to the Oscars and the Grammys\" which would combine video games, music and movies. Mr Bolz said video games firm had to work more closely with celebrities. \"People will want to play video games if their heroes like Robbie Williams or Christina Aguilera are in them.\" Mr Florin said the challenge was to keep people playing in their 30s, 40s and 50s. \"There's an indication that a 30 year old comes home from work and still wants to play games. \"If that's true, that's a big challenge for TV broadcasters - because watching TV is the biggest pastime at present.\"<sep>`\n",
            "GENERATED: `he has on I by but it notThe last they his new£ US(b against about one But outm government been wereting:) film UK whodIt NewS numberAedI only after we team England first good up says think next nowy did get former since partmaner three office growth admitted meeting best Brown electioners going two A years quarter country</s>`\n",
            "------------------------------------------------------------------------------\n",
            "\n",
            "------------------------------------------------------------------------------\n",
            "PROMPT: `design and print customised DVD labels and covers. It is designed to contain all a household's digital media, such as pre-recorded TV shows, pictures, videos and music so it can all be managed in one place. The hub reflects the increasing move to re-box the PC so that it can work as part of other key centres of entertainment. Research suggests that about 258 million images are saved and shared every day, equating to 94 billion a year. Eighty per cent of those remain on cameras. Media hubs are designed to encourage people to organise them on one box. Ms Fiorina was one of several keynote speakers, who also included Microsoft chief Bill Gates, to set out what major technology companies think people will be doing with technologies and gadgets in the next 12 months. In a separate announcement during the keynote speech, Ms Fiorina said that HP would be partnering MTV to replace this year's MTV Asia music award. MTV's Asia Aid will be held in Bangkok on 3 February, and is aimed at helping to raise money for the Asian tsunami disaster.<sep>`\n",
            "GENERATED: `\" has I he Mr by but notnThe last had have they his new£ US(b against an from Butm government been weret:) film more UK theirdIt NewS over numberAedI only after we team England first good up says now which if did get game former play sincemaner three office growth its admitted meeting best Brown electioners going two</s>`\n",
            "------------------------------------------------------------------------------\n",
            "\n",
            "------------------------------------------------------------------------------\n",
            "PROMPT: `countries found that 59% wanted more technology. The computer was the \"must-have\" gadget for most people (75%). The TV took second place (67%), while the mobile was ranked in third position with 54%. Digital cameras were the most popular choice of gadget for 2005, said the survey, with nearly 40% choosing this over wireless, home printing and DVR technologies. However, only 25% of Britons said a digital camera would be their top gadget purchase of the year. Almost a quarter, 22%, said they would be buying some sort of wireless device. Forty-four percent said they would be buying something \"other\". This might include digital music players, or gaming devices. The Nintendo DS, Sony's PSP and Gizmondo all hit the shops in 2005, and the first of the next generation of games consoles, Xbox 2, is set to launch later this year. Jupiter Research's index is calculated using 40 different variables across net users, digital TV adoption, wireless and mobile, online activity, and digital devices.<sep>`\n",
            "GENERATED: `on has as will he I Mr by but it notn atThe last had have his new£ USb against about an are from one But outm government beening: film UK whodIt NewS numberAedI after we team England good up says think now them which ify did get game former play since partremaner three office growth its admitted meeting best</s>`\n",
            "------------------------------------------------------------------------------\n",
            "\n",
            "------------------------------------------------------------------------------\n",
            "PROMPT: `Google by rolling out new search products such as desktop search. It reflects how the battlefield has shifted from the net to your PC. Search is not just about finding your way around the web. It is now about unlocking information hidden in the gigabytes of documents, images and music on hard drives. For all these advances, search is still a clumsy tool, often failing to come up with exactly what you had in mind. In order to do a better job, search engines are trying to get to know you better, doing a better job of remembering, cataloguing and managing all the information you come across. \"Personalisation is going to be a big area for the future,\" said Yahoo's Yonca Brunini. \"Whoever cracks that and gives you the information you want is going to be the winner. We have to understand you to give you better results that are tailored to you.\" This is perhaps the Holy Grail of search, understanding what it is you are looking for and providing it quickly. The problem is that no one yet knows how to get there.<sep>`\n",
            "GENERATED: `- will was he I Mr butn would atThe last they his£ US(b against an year this Butm government been weret: people) film more UK who theirdIt NewS over numberAedI only after we team England first good says think next them which ify did game former play since partremaner three office growth its admitted meeting best Brown</s>`\n",
            "------------------------------------------------------------------------------\n",
            "\n",
            "------------------------------------------------------------------------------\n",
            "PROMPT: `film studios which are increasingly relying on revenue from DVD sales. The film industry has stepped up efforts to fight DVD piracy in the last 12 months, taking legal action against websites which offer pirated copies of DVD movies for download. \"Ultimately, we see RipGuard DVD... evolving beyond anti-piracy, and towards enablement of legitimate online transactions, interoperability in tomorrow's digital home, and the upcoming high-definition formats,\" said Steve Weinstein, executive vice president and general manager of Macrovision's Entertainment Technologies Group. Macrovision said RipGuard would also prevent against \"rent, rip and return\" - where people would rent a DVD, copy it and then return the original. RipGuard is expected to be rolled out on DVDs from the middle of 2005, the company said. The new system works specifically to block most ripping programs - if used, those programs will now most likely crash, the company said. Macrovision has said that Rip Guard can be updated if hackers find a way around the new anti-copying measures.<sep>`\n",
            "GENERATED: `was he as I Mr by but with notn atThe had have they his£ US(b about an year this one Butm government been weret:) more UK who theirIt NewS over numberAedI only after team England first good says think next themy did get game former play since partremaner three office growth its admitted music meeting best Brown election</s>`\n",
            "------------------------------------------------------------------------------\n",
            "\n",
            "------------------------------------------------------------------------------\n",
            "PROMPT: `in six countries and their attitudes towards junk e-mails, revealed that Brazilians were the most likely to read spam. A third of them read unsolicited junk e-mail and 66% buy goods or services after receiving spam. The French were the second most likely to buy something (48%), with 44% of Britons taking advantage of products and services. This was despite 38% of people in all countries being worried about their net security because of the amount of spam they get. More than a third of respondents said they were concerned that spam e-mails contained viruses or programs that attempted to collect personal information. \"Both industry and the media have helped to raise awareness of the issues that surround illegitimate e-mail, helping to reduce the potential financial damage and nuisance from phishing attacks and spoof websites,\" said William Plante, director of corporate security and fraud protection at security firm Symantec. \"At the same time, consumers need to continue exercising caution and protect themselves from harm with a mixture of spam filters, spyware detection software and sound judgement.\"<sep>`\n",
            "GENERATED: `' has for is be will on as he I Mr by but it notn wouldThe last had his new£ USb against an year are this one But outm government beenting: film more UK whodIt NewS over numberAedI only we team England first good up says think next now which ify did game former play since partreer three office</s>`\n",
            "------------------------------------------------------------------------------\n",
            "\n",
            "------------------------------------------------------------------------------\n",
            "PROMPT: `also proving popular with shoppers keen to find out who had the most reliable customer service. Data collected by eBay suggests that some smart shoppers are getting round the shortages of hot presents by buying them direct through the auction site. According to eBay UK there are now more than 150 Robosapiens remote control robots for sale via the site. The Robosapiens toy is almost impossible to find in online and offline stores. Similarly many shoppers are turning to eBay to help them get hold of the hard-to-find slimline PlayStation 2, which many retailers are only selling as part of an expensive bundle. The high demand for the PlayStation 2 has meant that prices for it are being driven up. In shops the PS2 is supposed to sell for £104.99. In some eBay UK auctions the price has risen to more than double this figure. Many people are also using eBay to get hold of gadgets not even released in this country. The portable version of the PlayStation has only just gone on sale in Japan yet some enterprising eBay users are selling the device to UK gadget fans.<sep>`\n",
            "GENERATED: `a\" said' was be will he I Mr butn would atThe last have they his new US(b against about year from one Butm government been wereting:) film theirIt NewS over numberAedI after we team England first good says think next if did game former play sinceremaner three office growth its admitted music meeting best Brown electioners</s>`\n",
            "------------------------------------------------------------------------------\n",
            "\n",
            "------------------------------------------------------------------------------\n",
            "PROMPT: `for the malicious bug. The attachment on the e-mail poses as an electronic Christmas card but anyone opening it will simply get a crude image of two smiley faces. The virus' subject line says \"Merry Christmas\" and translates this into one of 15 languages depending of the final suffix of the e-mail address the infected message has been sent to. The message in the body of the e-mail reads: \"Happy Holidays\" and this too is translated. On infected machines the virus tries to disable anti-virus and firewall software and opens up a backdoor on the PC to hand over control to the writer of the virus. The virus is thought to have spread most widely in South America, Italy, Spain, Bulgaria and Hungary. The original Zafi virus appeared in April this year. \"We have seen these hoaxes for several Christmases already, and personally I prefer traditional pen and paper cards, and we recommend this to all our clients too,\" said Mikko Hypponen, who heads F-Secure's anti-virus team.<sep>`\n",
            "GENERATED: `was that be he Mr by with notn would atThe last had they his new£ US(b against about are from But outm government wereting people) film more UK theirdIt New numberAedI only after England first good think next now them which if did game former play since partmaner three office growth its admitted music meeting best Brown electioners going</s>`\n",
            "------------------------------------------------------------------------------\n",
            "\n",
            "------------------------------------------------------------------------------\n",
            "PROMPT: `Peel, Harry Potter and Olympics. But there were many strange enquiries, including: what is a dog?, how do you say basketball? and what is the biggest collection of naval fluff? The search engine works by matching key words typed in to different web pages but many people still type in natural language questions. Here are some of the strangest queries of 2004 - spelling and grammar errors left untouched - and their possible solutions: - How to fold a serviette like an elf's boot? - How do I structure a French letter? - What is better one long vacation each year or several short vacations throughout the year? - What is so special about the Swiss? - What are the contemporary issue in nurses? - What is the number 4 in this number 40052308090? - What is up? - What is the name of James Martin's dog? Search engines are key to the way people use the internet. Companies such as Google have become of paramount importance as they dictate how people travel through websites while online.<sep>`\n",
            "GENERATED: `\" said for was has that be will on he Mr with it notn would atThe last had his new£ US(b against from outm government beenting) film more UK whoIt NewS overAedI only after we team England first good says think next now them which ify did get game former play since partremaner three office growth its admitted</s>`\n",
            "------------------------------------------------------------------------------\n",
            "\n",
            "------------------------------------------------------------------------------\n",
            "PROMPT: `be used for home-monitoring, \"pet cams\", localised news services, and local authority TV, too says BT. It even suggests that it could target those households in the UK that do not own a computer, 40% of the country. Broadband to them would not be about data and the net - that could come later for them - but about cheap phone calls and more choice of TV programmes. Home Choice already offers 10,000 hours of shows and channels, delivered over broadband to homes in London. With a broadband net subscription, you can also get your TV and phone service. Through content deals and partnerships, it offers satellite as well as terrestrial channels, and bespoke channels based on what viewers pick and choose from its catalogues. It aims to expand nationally, but is seeing a lot of success with what it offers its 15,000 subscribers now, and aims to double uptake as well as reach by the summer. Although still at a very early stage, IPTV is another application for broadband that underlines its growing prominence as a backbone network - another utility like electricity.<sep>`\n",
            "GENERATED: `said was' has The will he I MrnThe last had have they his new£ US(b against an year are this one But outm government been weret: people) film who theirdIt NewS numberAedI only after we team England first good think next which ify did game former play since partremaner three office growth admitted music meeting best</s>`\n",
            "------------------------------------------------------------------------------\n",
            "\n",
            "------------------------------------------------------------------------------\n",
            "PROMPT: `screens, one of which is touch sensitive, and also has on-board a short-range wireless link that lets people play against each other. The launch of the media adapter, and the attempt to broaden the appeal of the device, is widely seen as a response to the unveiling of the Sony PSP which was built as a multi-purpose media player and game gadget from the start. Sony is thought to be preparing pre-packaged movies and music for the PSP. The add-on will also work with the GameBoy Advance SP. Nintendo dominates the handheld gaming console world thanks to successive versions of the GameBoy. More than 28 million GameBoy Advance handhelds have been sold around the world. The dual-screen DS is also thought to be selling well with more than 2.5 million expected to be sold by the end of 2004. Nintendo said it had no plans to sell the media adapter outside Japan. When it goes on sale the adapter is expected to cost about 5000 yen (£25), roughly the difference in price between the DS and the higher-priced Sony PSP.<sep>`\n",
            "GENERATED: `\"' I he Mr but notn would atThe last they his new USb an year are this But outm government weret: film UK who theirIt NewS over numberAedI only after we team England first good up says think next now them ify did get former since partremaner three office growth its admitted meeting best Brown electioners going two A</s>`\n",
            "------------------------------------------------------------------------------\n",
            "\n",
            "------------------------------------------------------------------------------\n",
            "PROMPT: `'s consumer devices, particularly in mobile environments,\" said Alan Schwartz, vice president of SpeechWorks, a division of ScanSoft. \"Pairing our voice technologies with Gracenote's vast music database will bring the benefits of speech technologies to a host of consumer devices and enable people to access their media in ways they've never imagined.\" The two firms did not say if they were developing the technology for languages other than English. Users will also be able to get more information on a favourite song they have been listening to by asking: \"What is this?\" Portable players are becoming popular in cars and a number of auto firms are working with Apple to device interfaces to control the firm's iPod music player. But with tens of thousands of songs able to be stored on one player, voice control would make finding that elusive track by Elvis Presley much easier. The firms gave no indication about whether the iPod, or any other media player, were in mind for the use of the voice control technology. The companies estimate that the technology will be available in the fourth quarter of 2005.<sep>`\n",
            "GENERATED: `was- has as he I Mr but itn atThe last had his new£ US(b against an year from outm governmentt) film UK whodIt NewS overAedI only after we team England first good up says think next now them whichy game former play since partremaner three office growth its admitted meeting best Brown electioners going A years</s>`\n",
            "------------------------------------------------------------------------------\n",
            "\n",
            "------------------------------------------------------------------------------\n",
            "PROMPT: `in six countries and their attitudes towards junk e-mails, revealed that Brazilians were the most likely to read spam. A third of them read unsolicited junk e-mail and 66% buy goods or services after receiving spam. The French were the second most likely to buy something (48%), with 44% of Britons taking advantage of products and services. This was despite 38% of people in all countries being worried about their net security because of the amount of spam they get. More than a third of respondents said they were concerned that spam e-mails contained viruses or programs that attempted to collect personal information. \"Both industry and the media have helped to raise awareness of the issues that surround illegitimate e-mail, helping to reduce the potential financial damage and nuisance from phishing attacks and spoof websites,\" said William Plante, director of corporate security and fraud protection at security firm Symantec. \"At the same time, consumers need to continue exercising caution and protect themselves from harm with a mixture of spam filters, spyware detection software and sound judgement.\"<sep>`\n",
            "GENERATED: `' has for is be will on as he I Mr by but it notn wouldThe last had his new£ USb against an year are this one But outm government beenting: film more UK whodIt NewS over numberAedI only we team England first good up says think next now which ify did game former play since partreer three office</s>`\n",
            "------------------------------------------------------------------------------\n",
            "\n",
            "------------------------------------------------------------------------------\n",
            "PROMPT: `Guido Gybels. \"In the US and Australia, sign language relay services have already been made universally available at the same cost as a voice call. \"By failing to provide and fund the video relay service for sign language users, the telecommunications sector is effectively discriminating against an already disenfranchised group.\" Ofcom says it has plans to review the services that telecoms companies are obliged to provide early next year. And new technology, including the Video Relay Service, will be discussed with interested parties in the near future. But a spokesman said its powers were limited by legislation. \"Any proposals to extend existing arrangements to cover new services would be for government to consider,\" he said. Mr Currington, like many of the UK's 70,000 BSL users, will be hoping that a way can be found to make a cost-effective service available. \"The relay service makes phone conversations a pleasure,\" he said. \"I can show my emotions more easily in BSL in the same way hearing people express emotions through voice calls.\"<sep>`\n",
            "GENERATED: `was on The but I notn last had they his£(b about from this one outmt:) film who theirdIt NewS over numberA only after we team England first good up think now them which ify did get game former play since partremaner three office growth admitted music meeting best Brown electioners going two A years quarter country company thanll</s>`\n",
            "------------------------------------------------------------------------------\n",
            "\n",
            "------------------------------------------------------------------------------\n",
            "PROMPT: `the clamp-down on rogue diallers, companies must now satisfy stringent conditions, including clear terms and conditions, information about how to delete diallers and responsibility for customer refunds. Any firm running a dialler without permission can now be closed down by Icstis. The watchdog brought in the action last October following a decision to license all companies which wanted to operate legitimate premium rate dialler services. There are legitimate companies who offer services such as adult content, sports results and music downloads by charging a premium rate rather than by credit card BT said it had ploughed an enormous amount of effort into protecting people from the problem. It has already barred more than 1,000 premium rate numbers and has tried to raise public awareness about the scams. \"We now want to ensure there are even stronger safeguards for our customers, who we would urge to make use of these new options to protect themselves,\" said Gavin Patterson, group managing director for consumer the arm of BT. Both schemes have been undergoing trials in Ireland, and will be made available to 20 million BT customers from May.<sep>`\n",
            "GENERATED: `' that was is he Mr but with notn atThe they his£ US(b against year this one But outm government wereting:) film UK theirdIt NewS over numberAI only after team England first good up says think next them ify did get game former play since partremaner three office growth its admitted meeting best Brown electioners going</s>`\n",
            "------------------------------------------------------------------------------\n",
            "\n",
            "------------------------------------------------------------------------------\n",
            "PROMPT: `, which began to surface in the early 1990s, operate according to a strict code of honour. For example if one group cracked the software first its rivals would respect that achievement and not seek to claim it themselves. Mr Boyd said the destruction of DOD was a great coup but he added: \"I'm not going to sit here and say we have sorted the problem. There are still hackers and people who do this for fun. \"Internet piracy of computer software remains a gigantic problem.\" A spokesman for the Business Software Alliance said: \"DOD members claim they did not profit at all. But they did profit by getting access to very expensive servers.\" He said DOD and other warez groups were fostering a \"culture of piracy\" on the internet. He said 29% of computer software in Britain was believed to have been pirated and this cost £1bn in revenue for software companies, their suppliers and distributors. \"It may seem like a victimless crime but it touches more people than you might care to believe.\"<sep>`\n",
            "GENERATED: `- be has The is will as I withThe last had his new US( against about an year from out governmentt) film UK NewS over numberAed only after team England good up says think next now themy get game former play since partremaner three office growth admitted music meeting best Brown electioners two years quarter country companyll take November she Open injury under</s>`\n",
            "------------------------------------------------------------------------------\n",
            "\n",
            "------------------------------------------------------------------------------\n",
            "PROMPT: `er. \"Consumers are hungry for it and we will discover new models together,\" agreed Mr Morgenstern. But many net users will continue to ignore the entertainment industry's potential controlling grip on content and P2P technology by continuing to use it for their own creations. Unsigned bands, for example, use P2P networks to distribute their music effectively, which also draws the attention of record companies looking for new artists to sign. \"Increasingly, what you are seeing on P2P is consumer-created content,\" said Derek Broes, from Microsoft. \"They will probably play an increasing role in helping P2P spread,\" he said. Looking into P2P's future, file sharing is just the beginning for P2P networks, as far as Mr Broes is concerned. \"Once some of these issues are resolved, you are going to see aggressive movement to protect content, but also in ways that are unimaginable now,\" he said. \"File-sharing is the tip of the iceberg.\"<sep>`\n",
            "GENERATED: `a has was The be I with notn would atThe last had have they his£ US(b against about year this one outm government been wereting: people) film more UK whodIt NewS over numberAedI only after team England first good up says think next them ify did get game former since partreman three office growth its admitted meeting</s>`\n",
            "------------------------------------------------------------------------------\n",
            "\n",
            "------------------------------------------------------------------------------\n",
            "PROMPT: `competition from three established names in mobile gaming: Nintendo, Nokia and Sony. The main competition is likely to come from Nintendo and Sony. Nintendo's DS handheld went on sale on 11 March and priced at £99 costs far less than the Gizmondo. It also has a ready pool of fans of earlier Nintendo handhelds to draw on. In the first two days it was on sale in Europe the 87,000 DS handhelds were sold - a better debut than the GameCube enjoyed. Sony's PSP was due to make its European debut in March but now this is likely to be delayed by a few months. The PSP is due to go on sale in the US later this month and a bundle including the player, accessories and a copy of Spiderman 2 is expected to cost about $250 (£129). The PSP can also play music and movies and supports wireless multiplayer gaming. Nokia's N-Gage could also be a competitor on the telecommunications side. This too crams a fully functional phone into a gadget that also plays games.<sep>`\n",
            "GENERATED: `said\" for will as he I Mr with notn wouldThe last had have they his newb against an year are one But out government beenting people film more UK who theirdIt NewS over numberAedI only after we team England good up says think next them which ify did get game former since partreer office growth admitted meeting best Brown electioners</s>`\n",
            "------------------------------------------------------------------------------\n",
            "\n",
            "------------------------------------------------------------------------------\n",
            "PROMPT: `it shifts power from institutions and into the hands of the individual,\" said John Craig, co-author of the Demos report. \"From self-diagnosis to online education, broadband creates social innovation that moves the debate beyond simple questions of access and speed.\" The Demos report, entitled Broadband Britain: The End Of Asymmetry?, was commissioned by net provider AOL. \"Broadband is moving the perception of the internet as a piece of technology to an integral part of home life in the UK,\" said Karen Thomson, Chief Executive of AOL UK, \"with many people spending time on their computers as automatically as they might switch on the television or radio.\" According to analysts Nielsen//NetRatings, more than 50% of the 22.8 million UK net users regularly accessing the web from home each month are logging on at high speed They spend twice as long online than people on dial-up connections, viewing an average of 1,444 pages per month. The popularity of fast net access is growing, partly fuelled by fierce competition over prices and services.<sep>`\n",
            "GENERATED: `be' for has will he I Mr but with notn wouldThe last had have his new£ US(b against about year this one But outm government been wereting) film whodIt NewS numberAedI only after we team England first good up says think next now them which ify did get game former play sinceremaner three office growth its</s>`\n",
            "------------------------------------------------------------------------------\n",
            "\n",
            "------------------------------------------------------------------------------\n",
            "PROMPT: `to websites considered harmful or subversive. \"China is censoring Google News to force internet users to use the Chinese version of the site which has been purged of the most critical news reports,\" said the group in a statement. \"By agreeing to launch a news service that excludes publications disliked by the government, Google has let itself be used by Beijing,\" it said. For its part, the search giant said it was looking into the issue. \"It appears that many users in China are having difficulty accessing Google News sites in China and we are working to understand and resolve the issue,\" said a Google spokesperson. Google News gathers information from some 4,500 news sources. Headlines are selected for display entirely by a computer algorithm, with no human editorial intervention. It offers 15 editions of the service, including one tailored for China and one for Hong Kong. Google launched a version in simplified Chinese in September. The site does not filter news results to remove politically sensitive information. But Google does not link to news sources which are inaccessible from within China as this would result in broken links.<sep>`\n",
            "GENERATED: `will-' on he I Mr butn atThe last had have they his new£ US(b against about an year outm weret: people) film more UK who their NewS over numberAedI only after team England first good up says think next now them ify did get game former play sinceremaner three office growth admitted music meeting best Brown election</s>`\n",
            "------------------------------------------------------------------------------\n",
            "\n",
            "------------------------------------------------------------------------------\n",
            "PROMPT: `, which began to surface in the early 1990s, operate according to a strict code of honour. For example if one group cracked the software first its rivals would respect that achievement and not seek to claim it themselves. Mr Boyd said the destruction of DOD was a great coup but he added: \"I'm not going to sit here and say we have sorted the problem. There are still hackers and people who do this for fun. \"Internet piracy of computer software remains a gigantic problem.\" A spokesman for the Business Software Alliance said: \"DOD members claim they did not profit at all. But they did profit by getting access to very expensive servers.\" He said DOD and other warez groups were fostering a \"culture of piracy\" on the internet. He said 29% of computer software in Britain was believed to have been pirated and this cost £1bn in revenue for software companies, their suppliers and distributors. \"It may seem like a victimless crime but it touches more people than you might care to believe.\"<sep>`\n",
            "GENERATED: `- be has The is will as I withThe last had his new US( against about an year from out governmentt) film UK NewS over numberAed only after team England good up says think next now themy get game former play since partremaner three office growth admitted music meeting best Brown electioners two years quarter country companyll take November she Open injury under</s>`\n",
            "------------------------------------------------------------------------------\n",
            "\n",
            "------------------------------------------------------------------------------\n",
            "PROMPT: `who are disturbingly bad shots and prone to odd behaviour. And in Pacific Assault in particular, their commands and comments are irritatingly meaningless. But the teamwork element in titles like this is superficial, designed to add atmosphere and camaraderie rather than affect the gameplay mechanics at all. Of the two games, Pacific Assault gets more things right, including little points like auto-saving intelligently and having tidier presentation. It engages you very well and also looks wonderful, making the most of the lush tropical settings that are reminiscent of the glorious Far Cry, although we had to ramp up the settings on a high-spec machine to get the most out of them. Finest Hour is by no means bad, and it is only because the PC original was so dazzling that this version sometimes feels underwhelming. Those looking for a wartime game with plenty of atmosphere and a hearty abundance of enemies to shoot will be contented. But they will also have a niggling puzzlement as to why it does not break a little more ground rather then just being competent.<sep>`\n",
            "GENERATED: `\" said' has The he I Mr butn wouldThe last his new£ US(b against about an year from onem government been weret: people) film UKdIt NewS over numberAI after England first good says think next now which if did former play since partremaner three office growth its admitted music meeting best Brown electioners going A years quarter</s>`\n",
            "------------------------------------------------------------------------------\n",
            "\n",
            "------------------------------------------------------------------------------\n",
            "PROMPT: `er. \"Consumers are hungry for it and we will discover new models together,\" agreed Mr Morgenstern. But many net users will continue to ignore the entertainment industry's potential controlling grip on content and P2P technology by continuing to use it for their own creations. Unsigned bands, for example, use P2P networks to distribute their music effectively, which also draws the attention of record companies looking for new artists to sign. \"Increasingly, what you are seeing on P2P is consumer-created content,\" said Derek Broes, from Microsoft. \"They will probably play an increasing role in helping P2P spread,\" he said. Looking into P2P's future, file sharing is just the beginning for P2P networks, as far as Mr Broes is concerned. \"Once some of these issues are resolved, you are going to see aggressive movement to protect content, but also in ways that are unimaginable now,\" he said. \"File-sharing is the tip of the iceberg.\"<sep>`\n",
            "GENERATED: `a has was The be I with notn would atThe last had have they his£ US(b against about year this one outm government been wereting: people) film more UK whodIt NewS over numberAedI only after team England first good up says think next them ify did get game former since partreman three office growth its admitted meeting</s>`\n",
            "------------------------------------------------------------------------------\n",
            "\n",
            "------------------------------------------------------------------------------\n",
            "PROMPT: `tell recipients that they have accessed illegal websites. The messages warn that their internet use has been monitored by the FBI's Internet Fraud Complaint Center. An attachment in the e-mail contains the virus, the FBI said. The message asks recipients to click on the attachment and answer some questions about their internet use. But rather than being a questionnaire, the attachment contains a virus that infects the recipient's computer, according to the agency. It is not clear what the virus does once it has infected a computer. Users are warned never to open attachment from unsolicited e-mails or from people they do not know. \"Recipients of this or similar solicitations should know that the FBI does not engage in the practice of sending unsolicited e-mails to the public in this manner,\" the FBI said in a statement. The bureau is investigating the phoney e-mails. The agency earlier this month shut down fbi.gov accounts, used to communicate with the public, because of a security breach. A spokeswoman said the two incidents appear to be unrelated.<sep>`\n",
            "GENERATED: `for was as will he I Mr butn would atThe last had his new£ US(b against an year one outm government wereing:) film more UK whodIt NewS over numberAedI only after we team England first good up says think next now them which if did get game former play since partremaner three office growth its admitted music meeting</s>`\n",
            "------------------------------------------------------------------------------\n",
            "\n",
            "------------------------------------------------------------------------------\n",
            "PROMPT: `when the ship lands in a port in, say, my country you can validate yourself using whatever equipment we have installed,\" Authenti-corp's CEO, Cynthia Musselman, told the BBC's Go Digital programme. She said French, Jordanian and Nigerian nationals would be the first seafarers to get the new ID cards since their countries have already ratified the convention. It aims to combat international terrorism whilst guaranteeing the welfare the one million seafarers estimated to be at sea. The convention highlights the importance of access to shore facilities and shore leave as vital elements to a sailor's wellbeing and, therefore, it says, to safer shipping and cleaner oceans. \"By increasing security on the seas as well as border control and protection, the cards will hopefully reduce the number of piracy problems around the world,\" said Ms Musselman. \"It should be a safer environment for seafarers to work in, and will allow people protecting their borders to have confidence that the people getting off the ship are, in fact, seafarers.\"<sep>`\n",
            "GENERATED: `was he has is I Mr by but with notnThe last had they his£ US(b against about an year from this But outm government been weret:) film more UK whod NewS overAedI only after team England good up think next now them which ify did game former play partremaner three office growth its admitted music meeting best Brown</s>`\n",
            "------------------------------------------------------------------------------\n",
            "\n",
            "------------------------------------------------------------------------------\n",
            "PROMPT: `s the need for horizontal scrolling. The company points out that this will also appeal to anyone using Opera with a handheld device. The company says that features like voice activation are not solely aimed at visually impaired people. \"Our idea was to take a first step in making human-computer interaction more natural,\" said Ms Hanson. \"People are not always in a situation where they can access a keyboard, so this makes the web a more hands-free experience.\" Unlike commercially available voice recognition software, Opera does not have to be \"trained\" to recognise an individual voice. Around 50 voice commands are available and users will have to wear a headset which incorporates a microphone. The voice recognition function is currently only available in English. Opera is free to download but a paid-for version comes without an ad banner in the top right hand corner and with extra support. Opera began life as a research project - a spin-off from Norwegian telecoms company Telenor. Its browser is used by an estimated 10 million people on a variety of operating systems and a number of different platforms.<sep>`\n",
            "GENERATED: `Mr' has he I itn wouldThe last had his new£ US(b against about year one Butm government been weret:) film UK who theirIt NewS overAI after we team England good up think next now them ify did get game former play since partremaner three office growth its admitted music meeting best Brown electioners going two A years</s>`\n",
            "------------------------------------------------------------------------------\n",
            "\n",
            "------------------------------------------------------------------------------\n",
            "PROMPT: `ed with moments of old-school genius. Fans of robotic gastropods should note the title refers, instead, to the vast array of vehicles on offer in a game stuffed with bizarre hardware. Tanks, jets and submarines can be commandeered, as well as cannon-toting camels, elephants and ostriches - more weaponry on offer than in an acre of Iraq. Doling out justice is a joy thanks to ultra responsive controls, and while this is a tough nut to crack, it is addictive enough to have you gagging for that one last go. And at a mere £20, Metal Slug 3 is as cheap as sliced, fried spuds, as the man says. Of course, most of you will ignore this, lacking as it does the visual fireworks of modern blasters. But at a time when blockbuster titles offer only a fresh lick of paint in favour of real innovation, Metal Slug 3 is a fresh gasp of air from an era when the Xbox was not even a twinkle in Bill Gates' eye.<sep>`\n",
            "GENERATED: `\" has said The he I Mr by butn wouldThe had they his new US(b against about year arem government been wereting: people) film UK who theirdIt NewS over numberAI after we team England first good up think next now them which ify did get former play since partremaner three office growth its admitted music meeting best Brown</s>`\n",
            "------------------------------------------------------------------------------\n",
            "\n",
            "------------------------------------------------------------------------------\n",
            "PROMPT: `the clamp-down on rogue diallers, companies must now satisfy stringent conditions, including clear terms and conditions, information about how to delete diallers and responsibility for customer refunds. Any firm running a dialler without permission can now be closed down by Icstis. The watchdog brought in the action last October following a decision to license all companies which wanted to operate legitimate premium rate dialler services. There are legitimate companies who offer services such as adult content, sports results and music downloads by charging a premium rate rather than by credit card BT said it had ploughed an enormous amount of effort into protecting people from the problem. It has already barred more than 1,000 premium rate numbers and has tried to raise public awareness about the scams. \"We now want to ensure there are even stronger safeguards for our customers, who we would urge to make use of these new options to protect themselves,\" said Gavin Patterson, group managing director for consumer the arm of BT. Both schemes have been undergoing trials in Ireland, and will be made available to 20 million BT customers from May.<sep>`\n",
            "GENERATED: `' that was is he Mr but with notn atThe they his£ US(b against year this one But outm government wereting:) film UK theirdIt NewS over numberAI only after team England first good up says think next them ify did get game former play since partremaner three office growth its admitted meeting best Brown electioners going</s>`\n",
            "------------------------------------------------------------------------------\n",
            "\n",
            "------------------------------------------------------------------------------\n",
            "PROMPT: `phones have even made it into the art world. An exhibition next month in aid of the charity Mencap, will feature snaps taken from the camera phones of top artists. The exhibition, Fonetography, will feature images taken by photographers David Bailey, Rankin and Nan Goldin, and artists Sir Peter Blake, Tracey Emin and Jack Vettriano. But some uses for them have worried many organisations. Intel, Samsung, the UK's Foreign Office and Lawrence Livermore National Laboratories in the US, have decided to ban camera phones from their buildings for fear of sensitive information being snapped and leaked. Many schools, fitness centres and local councils have also banned them over fears about privacy and misuse. Italy's information commissioner has also voiced concern and has issued guidelines on where and how the phones can be used. But camera phone fears have not dampened the manufacturers' profits. According to recent figures, Sony Ericsson's profits tripled in the third-quarter because of new camera phones. Over 60% of mobiles sold during the three months through to September featured integrated cameras, it said.<sep>`\n",
            "GENERATED: `\"  a was that is as he I Mr but withn would atThe last had they his£(b against an year are this one outm government been wereing: people) film more whoIt NewS numberAI only after we team England first good up says think now which if did get game former play since partremaner office growth its admitted music meeting</s>`\n",
            "------------------------------------------------------------------------------\n",
            "\n",
            "------------------------------------------------------------------------------\n",
            "PROMPT: `.\" Ms Taylor said the limits legal download services place on files could help explain the continuing popularity of file-sharing systems that let people get hold of pirated pop. \"People want portability,\" she said, \"and with peer-to-peer they have 100% portability.\" Cory Doctorow, European co-ordinator for the Electronic Frontier Foundation which campaigns for consumers on many cyber-rights issues, expressed doubts that the Marlin system would achieve its aims. \"Not one of these systems has ever prevented piracy or illegal copying,\" he said. He said many firms readily admit that their DRM systems are little protection against skilled attackers such as the organised crime gangs that are responsible for most piracy. Instead, said Mr Doctorow, DRM systems were intended to control the group that electronics firms have most hold over - consumers. \"The studios and labels perceive an opportunity to sell you your media again and again - the iPod version, the auto version, the American and UK version, the ringtone version, and so on.\"<sep>`\n",
            "GENERATED: `in' a was The is be will I by but it notn at last had his new£ US(b about year from this But outm government beenting:) film more whoIt NewS numberAedI only after we team England first good up says think next now them ify did game former play since partreman three office growth admitted music meeting best</s>`\n",
            "------------------------------------------------------------------------------\n",
            "\n",
            "------------------------------------------------------------------------------\n",
            "PROMPT: `rival Apple's iPod. There is no date for the PSP's release in Europe yet. Sony has promised to have a million units ready for its US launch, but there are fears demand may not be met. It also said it expected to ship three million PSPs worldwide by the end of its fiscal year ending 31 March. The machine's European launch was put back \"a few months\" last week in order to make sure enough of the devices were ready for its US launch, as well as satisfying the Japanese market. The PSP has almost as much processing power in it as the PlayStation 2 console. Hundreds of gamers gathered at US shops, some waiting for more than 36 hours, to be the first to get their hands on the gadget. A spokesman for one US shop said it expected the device to sell out on its first day. The 24 games for the mini console include Ape Academy, Formula One, Wipeout Pure and Fired Up. Movie studios, including Lions Gate Entertainment and Disney, have also announced forthcoming film titles that will be made available on the UMD format.<sep>`\n",
            "GENERATED: `- he I Mr withn wouldThe had they his new£(b against about an from this Butm government beenting: people) UK whoIt NewS over numberAedI only after we team England good up says think next now them which ify did former play since partremaner office growth admitted music meeting best Brown electioners going two years quarter country</s>`\n",
            "------------------------------------------------------------------------------\n",
            "\n",
            "------------------------------------------------------------------------------\n",
            "PROMPT: `, load the operating system, load the program, buy the music, download the music, and then transfer the music. \"All of these steps can be done in one step on a mobile phone.\" He said the mobile phone's billing system would make it easier for teenagers to embrace downloads, because pre-paid cards were already accepted by the age group. \"Certainly, we have a problem with battery, memory and bandwidth. But it's not about the current status. It's about the potential. \"You will have all of your music on your mobile.\" All three men said that the social interaction of mobile music would drive the market. Mr Cohen said: \"I can send you the song and it is either billed to me or I send it to you and if you listen to it and want to keep, it is billed to you. \"It's a social phenomenon.\" Mr Babinet said: \"Today you use radio and TV to discover music. Tomorrow you will discover and consume music via one device - the mobile.\"<sep>`\n",
            "GENERATED: `as was has The he butn atThe last had they his new£ US(b against an year are from this outm government beening people) film more UK who theird NewS over numberAed only after team England first good up says think next now them whichy did get game former play since partremaner office growth its admitted meeting best Brown electioners</s>`\n",
            "------------------------------------------------------------------------------\n",
            "\n",
            "------------------------------------------------------------------------------\n",
            "PROMPT: `pen and tablet device is used. The software then assigns one of 88 piano notes to individually coloured pixels - ranging from blue at the lower end of this scale to red at the upper end. Mr Wong says the application is still very much in its infancy and is only useful for reading images that have been created digitally. \"If I took a random picture and scanned it and then used my software to recognise it, it wouldn't work that well.\" Mr Wong has been blind from the age of seven and he thinks that having a \"colour memory\" makes the software more useful than it would be to a scientist who had never had any vision. \"As the notes increase in pitch I know the colour's getting redder and redder, and in my mind's eye a patch of red appears.\" The colour to music software has not yet been made available commercially, and Mr Wong believes that several people would have to work together to make it viable. But he hopes that one day it can be developed to give blind people access to photographs and other images.<sep>`\n",
            "GENERATED: `said will was on as by but withnThe last they his new£ US(b against about an year are outm government wereing:) film UK theirdIt NewS over numberAI after we team England first good up think next now them which ify did get game former play since partremaner three office growth admitted meeting best Brown electioners going two</s>`\n",
            "------------------------------------------------------------------------------\n",
            "\n",
            "------------------------------------------------------------------------------\n",
            "PROMPT: `at these qualifiers get seeded higher in the elimination parts of each tournament. Mr Foster and Mr Treacy get the chance to attend the World Tour as members of the UK's Four-Kings gaming clan. Towards the end of 2004 Four-Kings staged a series of online Painkiller competitions to reveal the UK's top players of the PC game. The best eight players met face-to-face in a special elimination event in late December where Mr Foster and Mr Tracey proved their prowess at Painkiller. As part of their prize the pair also get a contract with Four-Kings Intel which is one of the UK's few pro-gaming teams. \"There are a lot of people who take gaming very seriously and support their local or national team with the same passion as any other sport,\" said Simon Bysshe who filmed the event for Four-Kings and Intel. More than 80,000 people have downloaded the movie of the tournament highlights. \"Professional gaming is here to stay and will only grow in popularity,\" he said.<sep>`\n",
            "GENERATED: `was be has that on I by but it notn wouldThe last had they his new£ US(b against about an year from this But outm government been wereting:) film moredIt NewS over numberAedI after we England first good up says think next now them if did former play sincereman three office growth its admitted music meeting Brown election</s>`\n",
            "------------------------------------------------------------------------------\n",
            "\n",
            "------------------------------------------------------------------------------\n",
            "PROMPT: `-up lines showed up,\" explains Mr Dean. The restoration of the older Star Wars episodes revealed some interesting items too. \"There are scans of a corridor [on the Death Star] and fairly plainly in one of those shots, there is a file cabinet stuck behind one of the doorways. \"You never used to be able to see it because things are just blurred enough during the pan that you just didn't see it.\" What high-definition revolution ultimately means is that the line between home entertainment and cinema worlds will blur. With home theatre systems turning living rooms into cinemas, this line blurs even further. It could also mean that how we get films, and in what format, will widen. \"In the future we are going to look towards file delivery over IP [internet protocol - broadband], giving a DVD-like experience from the set-top box to the hard drive,\" says Mr Dean. But that is some time off for most, and for now, people still like to show off something physical in their bookshelves.<sep>`\n",
            "GENERATED: `said has was on as he I by but with notn would atThe last had have they his new£ US(b against about an year outm government been wereing:) film more UK whodIt NewS numberAedI only after team England first good think next them which ify did game former play since partremaner three office growth its admitted music</s>`\n",
            "------------------------------------------------------------------------------\n",
            "\n",
            "------------------------------------------------------------------------------\n",
            "PROMPT: `has led to the creation of the Mobile PC Extended Battery Life (EBL) Working Group that shares information about building notebooks that are more parsimonious with power. Some of the improvements in power use come simply because components on chips are shrinking, said Mr Trainor. Intel has also changed the way it creates transistors on silicon to reduce the power they need. On a larger scale, said Mr Trainor, improvements in the way that voltage regulators are made can reduce the amount of power lost as heat and make a notebook more energy efficient. Also, said Mr Trainor, research is being done on ways to cut energy consumption on displays - currently the biggest power guzzler on a laptop. Many laptop makers have committed to creating 14 and 15 inch screens that draw only three watts of power. This is far below the power consumption levels of screens in current notebooks. \"If we can get close to eight hours that's a place that people see as extraordinarily valuable that's what the industry has to deliver,\" Mr Trainor said.<sep>`\n",
            "GENERATED: `The was for be will he I by but notn would atThe last had his new£ USb against an year from this one But outm government been wereting: film UK who theirdIt NewS over numberAI after team England first good up says think next now them which ify did game former play since partremaner office growth its admitted music</s>`\n",
            "------------------------------------------------------------------------------\n",
            "\n",
            "------------------------------------------------------------------------------\n",
            "PROMPT: `for the malicious bug. The attachment on the e-mail poses as an electronic Christmas card but anyone opening it will simply get a crude image of two smiley faces. The virus' subject line says \"Merry Christmas\" and translates this into one of 15 languages depending of the final suffix of the e-mail address the infected message has been sent to. The message in the body of the e-mail reads: \"Happy Holidays\" and this too is translated. On infected machines the virus tries to disable anti-virus and firewall software and opens up a backdoor on the PC to hand over control to the writer of the virus. The virus is thought to have spread most widely in South America, Italy, Spain, Bulgaria and Hungary. The original Zafi virus appeared in April this year. \"We have seen these hoaxes for several Christmases already, and personally I prefer traditional pen and paper cards, and we recommend this to all our clients too,\" said Mikko Hypponen, who heads F-Secure's anti-virus team.<sep>`\n",
            "GENERATED: `was that be he Mr by with notn would atThe last had they his new£ US(b against about are from But outm government wereting people) film more UK theirdIt New numberAedI only after England first good think next now them which if did game former play since partmaner three office growth its admitted music meeting best Brown electioners going</s>`\n",
            "------------------------------------------------------------------------------\n",
            "\n",
            "------------------------------------------------------------------------------\n",
            "PROMPT: `that the anti-spam campaign was proving a little too successful. According to response-time figures gathered by Netcraft, some of the sites that the screensaver targeted were being knocked offline by the constant data requests. In a statement from Lycos Europe announcing the scrapping of the scheme, the company denied that this was its fault. \"There is nothing to suggest that Make Love, Not Spam has brought down any of the sites that it has targeted,\" it said. \"At the time that Netcraft measured the sites it claims may have been brought down, they were not in fact part of the Make Love, Not Spam attack cycle,\" it added. The statement issued by Lycos also said that the centralised database it used ensured that traffic to the target sites left them with 5% spare capacity. \"The idea was simply to slow spammers' sites and this was achieved by the campaign,\" the company said. Many security organisations said users should not participate in the Lycos Europe campaign. The closure comes only days after the campaign was suspended following the outbreak of criticism.<sep>`\n",
            "GENERATED: `s be for will on as he I Mr butn would at last had his new£ US(b against about an year are one But out governmentting: people) film more UK who theirdIt NewS over numberAedI we team England first good up says think next now which ify did get game former play sinceremaner three office growth admitted music</s>`\n",
            "------------------------------------------------------------------------------\n",
            "\n",
            "------------------------------------------------------------------------------\n",
            "PROMPT: `phones have even made it into the art world. An exhibition next month in aid of the charity Mencap, will feature snaps taken from the camera phones of top artists. The exhibition, Fonetography, will feature images taken by photographers David Bailey, Rankin and Nan Goldin, and artists Sir Peter Blake, Tracey Emin and Jack Vettriano. But some uses for them have worried many organisations. Intel, Samsung, the UK's Foreign Office and Lawrence Livermore National Laboratories in the US, have decided to ban camera phones from their buildings for fear of sensitive information being snapped and leaked. Many schools, fitness centres and local councils have also banned them over fears about privacy and misuse. Italy's information commissioner has also voiced concern and has issued guidelines on where and how the phones can be used. But camera phone fears have not dampened the manufacturers' profits. According to recent figures, Sony Ericsson's profits tripled in the third-quarter because of new camera phones. Over 60% of mobiles sold during the three months through to September featured integrated cameras, it said.<sep>`\n",
            "GENERATED: `\"  a was that is as he I Mr but withn would atThe last had they his£(b against an year are this one outm government been wereing: people) film more whoIt NewS numberAI only after we team England first good up says think now which if did get game former play since partremaner office growth its admitted music meeting</s>`\n",
            "------------------------------------------------------------------------------\n",
            "\n",
            "------------------------------------------------------------------------------\n",
            "PROMPT: `such as Spamcop. To limit the chance of mistakes being made, Lycos is using people to ensure that the sites are selling spam goods. As these sites rarely use advertising to offset hosting costs, the burden of high-bandwidth bills could make spam too expensive, said Mr Pollmann. Sites will also slow down under the weight of data requests. Early results show that response times of some sites have deteriorated by up to 85%. Users do not have to be registered users of Lycos to download and use the screensaver. While working, the screensaver shows the websites that are being bothered with requests for data. The screensaver is due to be launched across Europe on 1 December and before now has only been trialled in Sweden. Despite the soft launch, Mr Pollmann said that the screensaver had been downloaded more than 20,000 times in the last four days. \"There's a huge user demand to not only filter spam day-by-day but to do something more,\" he said \"Before now users have never had the chance to be a bit more offensive.\"<sep>`\n",
            "GENERATED: `was I would itn atThe they his new£ US(b against about an year from this one But out government wereting:) film UK who theirdIt NewS over numberAedI after we team England first good says think next them which ify did get game former play since partremaner three office growth its admitted music meeting best Brown electioners</s>`\n",
            "------------------------------------------------------------------------------\n",
            "\n",
            "------------------------------------------------------------------------------\n",
            "PROMPT: `ed with moments of old-school genius. Fans of robotic gastropods should note the title refers, instead, to the vast array of vehicles on offer in a game stuffed with bizarre hardware. Tanks, jets and submarines can be commandeered, as well as cannon-toting camels, elephants and ostriches - more weaponry on offer than in an acre of Iraq. Doling out justice is a joy thanks to ultra responsive controls, and while this is a tough nut to crack, it is addictive enough to have you gagging for that one last go. And at a mere £20, Metal Slug 3 is as cheap as sliced, fried spuds, as the man says. Of course, most of you will ignore this, lacking as it does the visual fireworks of modern blasters. But at a time when blockbuster titles offer only a fresh lick of paint in favour of real innovation, Metal Slug 3 is a fresh gasp of air from an era when the Xbox was not even a twinkle in Bill Gates' eye.<sep>`\n",
            "GENERATED: `\" has said The he I Mr by butn wouldThe had they his new US(b against about year arem government been wereting: people) film UK who theirdIt NewS over numberAI after we team England first good up think next now them which ify did get former play since partremaner three office growth its admitted music meeting best Brown</s>`\n",
            "------------------------------------------------------------------------------\n",
            "\n",
            "------------------------------------------------------------------------------\n",
            "PROMPT: `pen and tablet device is used. The software then assigns one of 88 piano notes to individually coloured pixels - ranging from blue at the lower end of this scale to red at the upper end. Mr Wong says the application is still very much in its infancy and is only useful for reading images that have been created digitally. \"If I took a random picture and scanned it and then used my software to recognise it, it wouldn't work that well.\" Mr Wong has been blind from the age of seven and he thinks that having a \"colour memory\" makes the software more useful than it would be to a scientist who had never had any vision. \"As the notes increase in pitch I know the colour's getting redder and redder, and in my mind's eye a patch of red appears.\" The colour to music software has not yet been made available commercially, and Mr Wong believes that several people would have to work together to make it viable. But he hopes that one day it can be developed to give blind people access to photographs and other images.<sep>`\n",
            "GENERATED: `said will was on as by but withnThe last they his new£ US(b against about an year are outm government wereing:) film UK theirdIt NewS over numberAI after we team England first good up think next now them which ify did get game former play since partremaner three office growth admitted meeting best Brown electioners going two</s>`\n",
            "------------------------------------------------------------------------------\n",
            "\n",
            "------------------------------------------------------------------------------\n",
            "PROMPT: `Federal Communications Commission (FCC). In a report, it said there were more than 32 million broadband connections by the end of June 2004. But the US is still behind compared to other nations, ranked 13th in the world by a UN telecoms body. During his 2004 re-election campaign, President George W Bush pledge to ensure that affordable high-speed net access would be available to all Americans by 2007. According to the report by the FCC, broadband is becoming increasingly popular, with people using it for research and shopping, as well as downloading music and watching video. The total number of people and businesses on broadband rose by to 32.5 million in the year ending June 2004, compared to 23.5 million in June 2003. Whereas in the UK, most people hook up to broadband via Asymmetric Digital Subscriber Line (ADSL) technology which lets ordinary copper phone lines support high data speeds. But in the US, cable leads the way, accounting for 18.6 million lines. Broadband over the phone line makes up 11.4 million connections, according to the FCC figures.<sep>`\n",
            "GENERATED: `\" was' has will he I Mr but notn atThe last had have they new£b against about an are from this one outm government beenting: film who theirdIt NewSAedI only after we team England first good says think next now them ify did get game former play since partmaner three office growth its admitted meeting best Brown election</s>`\n",
            "------------------------------------------------------------------------------\n",
            "\n",
            "------------------------------------------------------------------------------\n",
            "PROMPT: `BT Retail's trials, which is initially for employees and later in the summer for customers, with interest. For BT Retail, she said, the super-fast service could be a way of differentiating it from other players. \"It has been losing market share and this could be one way of gaining some of that back,\" said Ms Finger. Wanadoo is set to trial an 8Mbps service in the summer and also plans to roll out unbundled services - which means it takes over the network from BT - which will provide speeds of up to 15Mbps. There is no timetable for this at the moment. Cable firms ntl and Telewest are also bound to increase bandwidth at some time in the future and, according to an ntl spokesman, are in a better position than BT in the long term. \"BT's network is limited compared to that of cable. With all the other services coming on stream such as video on demand, the question is will 8Mbps be enough?\" he asked.<sep>`\n",
            "GENERATED: `Mr was The I by but notn wouldThe last had have they his new£ US(b against about year Butm government wereting: people) film more UK who theird NewS numberAedI only after we team England first good says think next now them ify did get game former play since partremaner three office growth its admitted music meeting best</s>`\n",
            "------------------------------------------------------------------------------\n",
            "\n",
            "------------------------------------------------------------------------------\n",
            "PROMPT: `for the malicious bug. The attachment on the e-mail poses as an electronic Christmas card but anyone opening it will simply get a crude image of two smiley faces. The virus' subject line says \"Merry Christmas\" and translates this into one of 15 languages depending of the final suffix of the e-mail address the infected message has been sent to. The message in the body of the e-mail reads: \"Happy Holidays\" and this too is translated. On infected machines the virus tries to disable anti-virus and firewall software and opens up a backdoor on the PC to hand over control to the writer of the virus. The virus is thought to have spread most widely in South America, Italy, Spain, Bulgaria and Hungary. The original Zafi virus appeared in April this year. \"We have seen these hoaxes for several Christmases already, and personally I prefer traditional pen and paper cards, and we recommend this to all our clients too,\" said Mikko Hypponen, who heads F-Secure's anti-virus team.<sep>`\n",
            "GENERATED: `was that be he Mr by with notn would atThe last had they his new£ US(b against about are from But outm government wereting people) film more UK theirdIt New numberAedI only after England first good think next now them which if did game former play since partmaner three office growth its admitted music meeting best Brown electioners going</s>`\n",
            "------------------------------------------------------------------------------\n",
            "\n",
            "------------------------------------------------------------------------------\n",
            "PROMPT: `DVB-H, and is involved in mobile TV trials that use its art-deco style media phone, which has a larger than usual screen for TV or visual radio (a way of accompanying a radio programme with related text and pictures). Mobile operators O2 and Vodafone are among the operators trialling mobile TV. But even if the standards battle is resolved, there is the thorny issue of broadcasting rights. Ms Gambino says the BBC now negotiates mobile rights when it is negotiating content. For those not convinced mobile users will want to watch TV on their handsets, Digital Audio Broadcasting may provide a good compromise and better sound quality than conventional radio. Developments in this area are continuing. At a DAB conference in Cannes, several makers of DAB chips for mobiles announced smaller, lower- cost chips which consume less power. Among the chip companies present were Frontier Silicon and Radioscape. The jury is still out on whether TV and digital radio on mobiles will make much money for anyone. But with many new services going live soon, it won't be long before the industry finds out.<sep>`\n",
            "GENERATED: `said\" as was he I Mr by butn would atThe last had have they his£ USb against about an year from onem government beening: people film more UK whodIt NewS over numberAedI only after we team England first up think next themy did get game former play since partremaner three office growth admitted music meeting best Brown election</s>`\n",
            "------------------------------------------------------------------------------\n",
            "\n",
            "------------------------------------------------------------------------------\n",
            "PROMPT: `.\" Ms Taylor said the limits legal download services place on files could help explain the continuing popularity of file-sharing systems that let people get hold of pirated pop. \"People want portability,\" she said, \"and with peer-to-peer they have 100% portability.\" Cory Doctorow, European co-ordinator for the Electronic Frontier Foundation which campaigns for consumers on many cyber-rights issues, expressed doubts that the Marlin system would achieve its aims. \"Not one of these systems has ever prevented piracy or illegal copying,\" he said. He said many firms readily admit that their DRM systems are little protection against skilled attackers such as the organised crime gangs that are responsible for most piracy. Instead, said Mr Doctorow, DRM systems were intended to control the group that electronics firms have most hold over - consumers. \"The studios and labels perceive an opportunity to sell you your media again and again - the iPod version, the auto version, the American and UK version, the ringtone version, and so on.\"<sep>`\n",
            "GENERATED: `in' a was The is be will I by but it notn at last had his new£ US(b about year from this But outm government beenting:) film more whoIt NewS numberAedI only after we team England first good up says think next now them ify did game former play since partreman three office growth admitted music meeting best</s>`\n",
            "------------------------------------------------------------------------------\n",
            "\n",
            "------------------------------------------------------------------------------\n",
            "PROMPT: `be able to send me a tattoo or have me go to a tattoo parlour and get a temporary ink tattoo on my forehead and this will be something they choose, a company name or domain name, perhaps their logo,\" he told the Radio 4 programme. On the online auction, Mr Fisher describes himself as an \"average American Joe, give or take\". His sales pitch adds: \"Take advantage of this radical advertising campaign and become a part of history.\" Mr Fisher said that while he would accept any brand name or logo, \"I wouldn't go around with a swastika or anything racial\". He added: \"I wouldn't go around with 666, the mark of the beast. \"Other than that I wouldn't promote anything socially unacceptable such as adult websites or stores.\" He said he would use the money to pay college - he is planning to study graphic design. The entrepreneur said his mother was initially surprised by his decision but following all the media attention she felt he was \"thinking outside the box\".<sep>`\n",
            "GENERATED: `in for has it notn atThe last had new£ US(b against about year are from one But outm government been were people) film more UK whodIt NewS over numberAed only after we team England first good up says think next now them which ify did game former play sinceremaner three office growth its admitted music meeting best Brown electioners</s>`\n",
            "------------------------------------------------------------------------------\n",
            "\n",
            "------------------------------------------------------------------------------\n",
            "PROMPT: `. Sony said the much-anticipated gadget would most likely start shipping in March for the US and Europe. It went on sale in Japan before Christmas. There were only two PSPs embedded in glass cabinets at the show though and no representatives to discuss further details. A Sony representative told the BBC News website this was because Sony did not consider it to be part of their \"consumer technology\" offering. Elsewhere at the show, there was a plethora of colour and plasma screens, including Samsung's 102-inch (2.6 metre) plasma - the largest in the world. Industry experts were also excited about high-definition technologies coming to the fore in 2005, with new formats for DVDs coming out which will hold six times as much data as conventional DVDs. With so many devices on the move there were a lot of products on show offering external storage, like Seagate's 5GB pocket sized external hard drive, which won an innovation for engineering and design prize. More than 120,000 trade professionals attended CES in Las Vegas, which officially ran from 6 to 9 January.<sep>`\n",
            "GENERATED: `that is has The he I Mr by butnThe last had have they his£b against year are one Butm government beenting: people film more UK whodIt NewS over numberAedI after we team England first good up says think next now them ify get game former play sinceremaner three office growth its admitted music meeting best Brown electioners</s>`\n",
            "------------------------------------------------------------------------------\n",
            "\n",
            "------------------------------------------------------------------------------\n",
            "PROMPT: `who are disturbingly bad shots and prone to odd behaviour. And in Pacific Assault in particular, their commands and comments are irritatingly meaningless. But the teamwork element in titles like this is superficial, designed to add atmosphere and camaraderie rather than affect the gameplay mechanics at all. Of the two games, Pacific Assault gets more things right, including little points like auto-saving intelligently and having tidier presentation. It engages you very well and also looks wonderful, making the most of the lush tropical settings that are reminiscent of the glorious Far Cry, although we had to ramp up the settings on a high-spec machine to get the most out of them. Finest Hour is by no means bad, and it is only because the PC original was so dazzling that this version sometimes feels underwhelming. Those looking for a wartime game with plenty of atmosphere and a hearty abundance of enemies to shoot will be contented. But they will also have a niggling puzzlement as to why it does not break a little more ground rather then just being competent.<sep>`\n",
            "GENERATED: `\" said' has The he I Mr butn wouldThe last his new£ US(b against about an year from onem government been weret: people) film UKdIt NewS over numberAI after England first good says think next now which if did former play since partremaner three office growth its admitted music meeting best Brown electioners going A years quarter</s>`\n",
            "------------------------------------------------------------------------------\n",
            "\n",
            "------------------------------------------------------------------------------\n",
            "PROMPT: `thrown out, but only after months of uncertainty and millions of dollars. But small companies, and the free and open software movement do not have any patents to trade. Much of the really useful software we use every day, programs like the Apache web server, the GNU/Linux operating system and the fearsomely popular Firefox browser, is developed outside company structures by people who do not have legal departments to check for patent infringements. The damage to software will not happen overnight, of course. If the directive goes through it has to be written into national laws and then there will be a steady stream of legal actions against small companies and open source products. Eventually someone will decide to attack Linux directly, probably with some secret funding from one or two large players. The new directive will limit innovation by forcing programmers to spend time checking for patent infringements or simply avoiding working in potentially competitive areas. And it will damage Europe's computer industry. We can only hope that the Council of Ministers has the integrity and strength to reject this bad law. Bill Thompson is a regular commentator on the BBC World Service programme Go Digital.<sep>`\n",
            "GENERATED: `- \" said was as he I Mrn would atThe last had they his£ US(b about an year arem government been wereting:) film more UK theirdIt NewS over numberAedI team England first good up says think next now them which ify did get game former play since partremaner three office growth its admitted music meeting</s>`\n",
            "------------------------------------------------------------------------------\n",
            "\n",
            "------------------------------------------------------------------------------\n",
            "PROMPT: `further back around the world to their source,\" said Mr Pollard. Arbor Network's technology works by building up a detailed history of traffic on a network. It spots which computers or groups of users regularly talk to each other and what types of traffic passes between machines or workgroups. Any anomaly to this usual pattern is spotted and flagged to network administrators who can take action if the traffic is due to a net-based attack of some kind. This type of close analysis has become very useful as net attacks are increasingly launched using several hundred or thousand different machines. Anyone looking at the traffic on a machine by machine basis would be unlikely to spot that they were all part of a concerted attack. \"Attacks are getting more diffuse and more sophisticated,\" said Malcolm Seagrave, security expert at Energis. \"In the last 12 months it started getting noticeable that criminals were taking to it and we've seen massive growth.\" He said that although informal systems exist to pass on information about attacks, often commercial confidentiality got in the way of sharing enough information to properly combat attacks.<sep>`\n",
            "GENERATED: `for was The will he I but with notnThe had have his new£ US(b against an year from one But outm government beening: people) film UKdIt NewS over numberAI only after team England first good says think next now themy did get game former play sinceremaner three office its admitted music meeting best Brown electioners going two</s>`\n",
            "------------------------------------------------------------------------------\n",
            "\n",
            "------------------------------------------------------------------------------\n",
            "PROMPT: `is becoming increasingly crowded with firms touting programs that help people find files. Search giant Google launched its desktop search tool in October, while Yahoo is planning to release similar software in January. \"Our ambition for search is to provide the ultimate information tool that can find anything you're looking for,\" said Yusuf Mehdi, corporate vice president at Microsoft's MSN internet division. Microsoft's program can be used as a toolbar on the Windows desktop, the Internet Explorer browser and within the Outlook e-mail program. The software giant is coming late to the desktop search arena, competing with a large number of rivals. Google has already released a desktop tool. Yahoo is planning to get into the game in January and AOL is expected to offer desktop searching early next year. Small firms such as Blinkx, Copernic, Enfish X1 Technologies and X-Friend offer tools that catalogue the huge amounts of information that people increasingly store on their desktop or home computer. Apple will release a similar search system for its computers called Spotlight that is due to be released with the Tiger operating system.<sep>`\n",
            "GENERATED: `he was I Mr by but it notn wouldThe last had have they his new£ US(b against about an are from this one But outm government been weret:) film more UK whodIt NewS overAedI only after we team England first good up says think now them which ify did former play since partmaner three office growth admitted music</s>`\n",
            "------------------------------------------------------------------------------\n",
            "\n",
            "------------------------------------------------------------------------------\n",
            "PROMPT: `dismissed IBM's move as insubstantial. \"It's just diversionary tactics,\" wrote Mr Mueller, who leadsnosoftwarepatents.com, in a message on the group's website. \"Let's put this into perspective: We're talking aboutroughly one percent of IBM's worldwide patent portfolio. They filethat number of patents in about a month's time,\" he added. IBM will continue to hold the 500 patents but it has pledged to seek no royalties from the patents. The company said it would not place any restrictions on companies, groups or individuals who use them in open-source projects. Open source software is developed by programmers who offer the source code - the origins of the program - for free and allow others to adapt or improve the software. End users have the right to modify and redistribute the software, as well as the right to package and sell the software. Other areas covered by the patents released by IBM include storage management, simultaneous multiprocessing, image processing, networking and e-commerce.<sep>`\n",
            "GENERATED: `that be was I withn atThe last had they his new£ US(b against an year are But outm government been wereting people) film more UK theird NewS overAI only after we team England first good up says think next now which ify did get game former play since partmaner three office growth its admitted music meeting best Brown electioners</s>`\n",
            "------------------------------------------------------------------------------\n",
            "\n",
            "------------------------------------------------------------------------------\n",
            "PROMPT: `. This will not matter to business users, but will distort the consumer market and keep people within the phone company's collection of partner sites, something that should perhaps be worrying telecoms regulator Ofcom. But we should not see these new phones simply as cut-down network terminals. If I want fast access to my e-mail I can get a 3G card for my laptop or hook up to a wireless network. The phone is a lot more, and it is as a combination of mini-TV, personal communications device and music/video player that it really works. There is certainly room in the technology ecosystem for many different sorts of devices, accessing a wide range of services over different networks. 3G phones and iPods can co-exist, at least for a while, but if I had to bet on the long term I would go for content on demand over carrying gigabytes in my pocket. Or perhaps some enterprising manufacturer will offer me both. An MP3G player, anyone? Bill Thompson is a regular commentator on the BBC World Service programme Go Digital.<sep>`\n",
            "GENERATED: `\" said was has he Mr by withnThe last have they his£ US(b against about an year are from this one outm government been wereting:) film UK who theirdIt NewS numberAedI only after team England first good says think next now them whichy did game former play since partremaner three office growth its admitted meeting best</s>`\n",
            "------------------------------------------------------------------------------\n",
            "\n",
            "------------------------------------------------------------------------------\n",
            "PROMPT: `the problem we tackle,\" said Suranga Chandratillake, co-founder of Blinkx. In the latest release of Blinkx, the company has added what it calls smart folders. Once created the folders act as persistent queries that automatically sweep the web for pages related to their subject and catalogues relevant information, documents or incoming e-mails, on hard drives too. What users do with Blinkx and other desktop search engines shows that people tend to be very promiscuous in their use of search engines. \"Blinkx users do not stop using other web search systems,\" he said. \"They might use Google to look up a company, or Yahoo for travel because they know they are good at that,\" he said. \"The classic thing we have seen recently, is people using Blinkx to look at the things they have searched on,\" he said. The variety of ways to search data was only helping users, said Mr Chandratillake and that it was likely that in the future people would use different ones for different tasks.<sep>`\n",
            "GENERATED: `' will I by butn last had his new£ US(b against about an year from this one But outm government been wereting:) film more UK whodIt NewS over numberAedI after team England first says think next now them which ify did get game former play since partremaner three office growth its admitted music meeting best Brown election</s>`\n",
            "------------------------------------------------------------------------------\n",
            "\n",
            "------------------------------------------------------------------------------\n",
            "PROMPT: `which has been developed with Southern trains, Nomad Digital (who provide the technology), begins with a free trial on 16 trains on the route from early March to the end of April. A full service is set to follow in the summer. Wi-fi access points will be connected to a Wimax wireless network - faster than wi-fi - running alongside the train tracks. Brian McBride, managing director of T-Mobile in the UK, said: \"We see a growing trend for business users needing to access e-mail securely on the move. \"We are able to offer this by maintaining a constant data session for the entire journey.\" He said this was something other similar in-train wi-fi services, such as that offered on GNER trains, did not offer yet. Mr Obermann added that the mobile industry in general was still growing, with many more opportunities for more services which would bear fruit for mobile companies in future. Thousands of mobile industry experts are gathered in Cannes, France, for the 3GSM which runs from 14 to 17 February.<sep>`\n",
            "GENERATED: `ands' The he I but itn atThe last had have they his new£ USb against about an year one But outm government wereting people film who theirdIt NewS over numberAedI only after we team England first good up says think next now them ify get game former play since partremaner three office growth its admitted music meeting</s>`\n",
            "------------------------------------------------------------------------------\n",
            "\n",
            "------------------------------------------------------------------------------\n",
            "PROMPT: `film studios which are increasingly relying on revenue from DVD sales. The film industry has stepped up efforts to fight DVD piracy in the last 12 months, taking legal action against websites which offer pirated copies of DVD movies for download. \"Ultimately, we see RipGuard DVD... evolving beyond anti-piracy, and towards enablement of legitimate online transactions, interoperability in tomorrow's digital home, and the upcoming high-definition formats,\" said Steve Weinstein, executive vice president and general manager of Macrovision's Entertainment Technologies Group. Macrovision said RipGuard would also prevent against \"rent, rip and return\" - where people would rent a DVD, copy it and then return the original. RipGuard is expected to be rolled out on DVDs from the middle of 2005, the company said. The new system works specifically to block most ripping programs - if used, those programs will now most likely crash, the company said. Macrovision has said that Rip Guard can be updated if hackers find a way around the new anti-copying measures.<sep>`\n",
            "GENERATED: `was he as I Mr by but with notn atThe had have they his£ US(b about an year this one Butm government been weret:) more UK who theirIt NewS over numberAedI only after team England first good says think next themy did get game former play since partremaner three office growth its admitted music meeting best Brown election</s>`\n",
            "------------------------------------------------------------------------------\n",
            "\n",
            "------------------------------------------------------------------------------\n",
            "PROMPT: `work with them. \"Members of Apple Developer Connection receive advance copies of Apple software under strict confidentiality agreements, which we take very seriously to protect our intellectual property,\" Apple said in a statement. It added that its future financial results were very much dependent on developing and improving its operating systems and other software. It is thought the men used sites which employ BitTorrent technology. With BitTorrent technology, sites do not host actual files being shared, instead they host a link that points people to others that have the particular file. Last week, the Motion Picture Association of America launched a legal campaign targeting websites that operate using the BitTorrent system in an effort to clamp down on movie piracy. Apple is no stranger to taking legal action against those who leak product information. In December 2002, it sued a former contractor who allegedly put drawings, images and engineering details of its PowerMac G4 computer online. The latest action was filed on Monday in the US District Court in California. It comes just weeks before the MacWorld conference in San Francisco, used to showcase new products.<sep>`\n",
            "GENERATED: `-' for has be will as he I Mr by butn would atThe last had his£(b about year are from this one But outm government beenting:) film more UK theirdIt NewS over numberAedI only after team England first good up says think next now ify did get game play since partremaner three office growth admitted</s>`\n",
            "------------------------------------------------------------------------------\n",
            "\n",
            "------------------------------------------------------------------------------\n",
            "PROMPT: `Connect peer-to-peer network. The piracy group called itself the Underground Network and membership of it demanded that users share between one and 100 gigabytes of files. Direct Connect allows users to set themselves up as central servers that act as co-ordinating spots for sharers. Users would swap files, such as films and music, by exchanging data over the network. During its investigation FBI agents reportedly downloaded 84 movies, 40 software programs, 13 games and 178 \"sound recordings\" from the five hubs that made up the larger piracy group. The raids were organised under the umbrella of Operation Digital Gridlock which was aimed at fighting \"criminal copyright theft on peer-to-peer networks\". In total, six raids were carried out in August. Five were on the homes of suspected copyright thieves and one on a net service firm. The Department of Justice said that both men pleaded guilty to one count of conspiracy to commit felony copyright infringement. They also pleaded guilty to acting for commercial advantage. The two men are due to be sentenced on 29 April.<sep>`\n",
            "GENERATED: `' has he is will I Mr but with notnThe last had have they his new£ US(b against about an year this Butm government beenting: people) film more UK who theirdIt NewS numberAedI only after we team England first good says think next now them ify did get game former play since partreman three office growth admitted</s>`\n",
            "------------------------------------------------------------------------------\n",
            "\n",
            "------------------------------------------------------------------------------\n",
            "PROMPT: `they get mixed reactions from audiences. Some love the group's music, and others are not quite sure what to make of it. In the world of electronic music, these purveyors of blip-pop are not unique. But Jarek Kujda says they try to be unique. \"We have lots of people making music on old school stuff, electronic old school stuff like Commodore, Atari, Spectrum,\" he said. \"We want to play only experimental music, not cover songs. We're something like an electronic jam session.\" The Gameboyzz Orchestra Project's tracks are available online and the group hopes to make a CD next year. And they have sponsorship, courtesy of the Polish distributor of Nintendo products. The members of the Gameboyzz Orchestra Project do not expect serious competition anytime soon. A GameBoy Advance costs about US $200 in Poland these days, which is still way beyond the reach of most Polish gamers, or musicians. Clark Boyd is technology correspondent for The World, a BBC World Service and WGBH-Boston co-production<sep>`\n",
            "GENERATED: `has was that will as I Mr by but withn would atThe last had his new£( against this one outm government been wereting:) film more UK who theirdIt NewS over numberAedI after we team England first good up think now them ify did former since partmaner three office growth its admitted meeting best Brown electioners going two</s>`\n",
            "------------------------------------------------------------------------------\n",
            "\n",
            "------------------------------------------------------------------------------\n",
            "PROMPT: `digitise some of the world's largest university libraries. \"All books in the public domain, something like 15 million, could be put on the base stations as we manufacture them. Then every rural school in Africa would have access to the same libraries as the students in Oxford and Harvard\" Currently the project is operating in an area where there is mains electricity. But Mr Herren says EduVision already has plans to extend it to more remote regions. \"We plan to put a solar panel at the school with the base station, have the E-slates charge during the day when the children are in school, then they can take them home at night and continue working.\" Maciej Sundra, who designed the user interface for the E-slates, says the project's ultimate goal is levelling access to knowledge around the world. \"Why in this age when most people do most research using the internet are students still using textbooks? The fact that we are doing this in a rural developing country is very exciting - as they need it most.\"<sep>`\n",
            "GENERATED: `will said was he I by but notnThe last had his new£ US(b against about year from one outm government been wereting:) film UK theirdIt NewS over numberAedI only after team England first good up think next now which ify did get game former play since partremaner three office growth its admitted music meeting best Brown</s>`\n",
            "------------------------------------------------------------------------------\n",
            "\n",
            "------------------------------------------------------------------------------\n",
            "PROMPT: `. This is not the first attempt to cash in on the outpouring of goodwill that has accompanied appeals for tsunami aid. One e-mail sent out in early January came from someone who claimed that he had lost his parents in the disaster and was asking for help moving an inheritance from a bank account in the Netherlands. The con was very similar to the familiar Nigerian forward fee fraud e-mails that milk money out of people by promising them a cut of a much larger cash pile. Other scam e-mails included a link to a website that supposedly let people donate money but instead loaded spyware on their computers that grabbed confidential information. In a monthly report anti-virus firm Sophos said that two e-mail messages about the tsunami made it to the top 10 hoax list during January. Another tsunami-related e-mail is also circulating that carries the Zar worm which tries to spread via the familiar route of Microsoft's Outlook e-mail program. Anyone opening the attachment of the mail will have their contact list plundered by the worm keen to find new addresses to send itself to.<sep>`\n",
            "GENERATED: `as,\" be I Mr withn would atThe last they£ US(b against year are this one Butm government been wereting:) film more UKdIt NewS over numberAI only after we team England good up says think next now ify did get game former play since partremaner three office growth its admitted music meeting best Brown electioners</s>`\n",
            "------------------------------------------------------------------------------\n",
            "\n",
            "------------------------------------------------------------------------------\n",
            "PROMPT: `the record industry, with 200 million tracks bought online in the US and Europe in 12 months. The IFPI industry body said that the popularity of portable music players was behind the growth. Analysts say that the ease of use and growth of music services available on the net will continue to drive the trend towards portable music players. People are also starting to use them in novel ways. Some are combining automatic syncing functions many of them have with other net functions to automatically distribute DIY radio shows, called podcasts. But 2005 will also see more competition from mobile phone operators who are keen to offer streaming services on much more powerful and sophisticated handsets. According to Mr McGuire, research suggests that people like the idea of building up huge libraries of music, which they can do with high-capacity storage devices, like iPods and Creative Zens. Mobiles do not yet have this capacity though, and there are issues about the ease of portability of mobile music. Mr McGuire said Apple was ensuring it kept a foot in the mobile music door with its recent deal with Motorola to produce a version of iTunes for Motorola phones.<sep>`\n",
            "GENERATED: `\"' has is be as he by butn would atThe last had his new£(b against an year one outm government been weret:) film UK theirdIt NewS over numberAed only after we team England first good says think next now ify did get game former play since partremaner three office admitted meeting best Brown electioners going</s>`\n",
            "------------------------------------------------------------------------------\n",
            "\n",
            "------------------------------------------------------------------------------\n",
            "PROMPT: `for the malicious bug. The attachment on the e-mail poses as an electronic Christmas card but anyone opening it will simply get a crude image of two smiley faces. The virus' subject line says \"Merry Christmas\" and translates this into one of 15 languages depending of the final suffix of the e-mail address the infected message has been sent to. The message in the body of the e-mail reads: \"Happy Holidays\" and this too is translated. On infected machines the virus tries to disable anti-virus and firewall software and opens up a backdoor on the PC to hand over control to the writer of the virus. The virus is thought to have spread most widely in South America, Italy, Spain, Bulgaria and Hungary. The original Zafi virus appeared in April this year. \"We have seen these hoaxes for several Christmases already, and personally I prefer traditional pen and paper cards, and we recommend this to all our clients too,\" said Mikko Hypponen, who heads F-Secure's anti-virus team.<sep>`\n",
            "GENERATED: `was that be he Mr by with notn would atThe last had they his new£ US(b against about are from But outm government wereting people) film more UK theirdIt New numberAedI only after England first good think next now them which if did game former play since partmaner three office growth its admitted music meeting best Brown electioners going</s>`\n",
            "------------------------------------------------------------------------------\n",
            "\n",
            "------------------------------------------------------------------------------\n",
            "PROMPT: `Crystal. As in the original, your feline persona can control time, but this time the pigs get to control space. There are a number of puzzles which require control over time to solve while the pigs can create things such as warps, space bubbles and void traps in order to progress. The control over space and time is achieved through a number of VCR-style icons and is quite intuitive. Annoyingly, the puzzles are a little too obviously flagged up and most gamers will find it more of a chore than a challenge to solve them. The game has also tried to emulate franchises such as Jak and Daxter and Ratchet and Clank on PS2 and so there are a number of combat elements. These are a little predictable and tend to drag the general polish of the game down to a more dulled affair. But the game's excellent graphics, easily the best-looking platform game around, sound and dollops of humour make it an attractive game for younger platform fans. Blinx 2 is out on Xbox now.<sep>`\n",
            "GENERATED: `\" was said that be he I Mr by with notn would atThe last had have they his new£ US(b against about year from onem government been wereting: people) film UK who theirdIt NewSAI only after we team England first good says think next ify did former play since partmaner three office growth its admitted music meeting Brown</s>`\n",
            "------------------------------------------------------------------------------\n",
            "\n",
            "------------------------------------------------------------------------------\n",
            "PROMPT: `, with disks costing between $20 (£10.40) to $30 (£15.60) for new titles and $10 (£5.20) to $20 for older films. \"When we first saw the machine and started talking to Sony, we immediately decided it was going to be a winner, both from the gaming perspective and from the perspective of people watching movies on the go,\" Mr Beeks said. The disks, which are smaller than DVDs, only work in Sony's PSP and can hold up to 1.8GB of data. \"We actually believe people who buy the UMD would not have bought it on DVD,\" he said. \"There are people who will want UMD because of the portability. Maybe they're already taking the games with them out of the house, and they're bigger gamers than they are movie watchers.\" Four movies have already been announced for PSP. They are: XXX, Hellboy, Resident Evil: Apocalypse and Once Upon a Time in Mexico.<sep>`\n",
            "GENERATED: `- has that is as I by butn atThe last had his USb against about an year this one Butm government wereting film more UK theirdIt NewS over numberAedI after team England good says think next now ify did get former play since partmaner three office growth its admitted music meeting best Brown election two A years quarter country companyll</s>`\n",
            "------------------------------------------------------------------------------\n",
            "\n",
            "------------------------------------------------------------------------------\n",
            "PROMPT: `this through to web content,\" said Julian Smith, an analyst with research firm Jupiter. \"It is all about extending the idea of search and getting a closer relationship with consumers by organising not just how they search on the internet but the files on your computer as well,\" he said. Search engines are often the first port of call for users when they go onto the web. The new foray into desktop search has rung alarm bells for human rights groups, concerned about the implications to privacy. And not everyone is impressed with the functionality of such services. Alexander Linden, vice president of emerging technologies at analyst firm Gartner,downloaded the Google product but has since removed it. \"It was just not very interesting,\" he said. He believes the rush to enter the desktop business is just a way of keeping up with rivals. \"Desktop search is just one of many features people would like but I'm suspicious of its usefulness,\" he said. More useful would be tools that can combine internet, intranet and desktop search alongside improvements to key word searching, he said.<sep>`\n",
            "GENERATED: `ins- will MrnThe last had have his£ US(b against year from But out government been wereting:) film more UK who theird NewS over numberAI only after we team England good says think next now them which ify did get game former play partremaner three office growth admitted music meeting best Brown electioners going two A years</s>`\n",
            "------------------------------------------------------------------------------\n",
            "\n",
            "------------------------------------------------------------------------------\n",
            "PROMPT: `be used for home-monitoring, \"pet cams\", localised news services, and local authority TV, too says BT. It even suggests that it could target those households in the UK that do not own a computer, 40% of the country. Broadband to them would not be about data and the net - that could come later for them - but about cheap phone calls and more choice of TV programmes. Home Choice already offers 10,000 hours of shows and channels, delivered over broadband to homes in London. With a broadband net subscription, you can also get your TV and phone service. Through content deals and partnerships, it offers satellite as well as terrestrial channels, and bespoke channels based on what viewers pick and choose from its catalogues. It aims to expand nationally, but is seeing a lot of success with what it offers its 15,000 subscribers now, and aims to double uptake as well as reach by the summer. Although still at a very early stage, IPTV is another application for broadband that underlines its growing prominence as a backbone network - another utility like electricity.<sep>`\n",
            "GENERATED: `said was' has The will he I MrnThe last had have they his new£ US(b against an year are this one But outm government been weret: people) film who theirdIt NewS numberAedI only after we team England first good think next which ify did game former play since partremaner three office growth admitted music meeting best</s>`\n",
            "------------------------------------------------------------------------------\n",
            "\n",
            "------------------------------------------------------------------------------\n",
            "PROMPT: `China's 340 million mobile users. Online gaming sales are predicted to top a billion US dollars next year, according to the UK-based journal Screen Digest. The video market is also seen as a big opportunity, although piracy levels are still very high despite an anti-piracy drive during the past year. In the cinema industry the deployment of digital screens is being accelerated. This is not just to modernise venues but also to curb piracy and regulate distribution. Li Ruigang, president of the commercial broadcaster Shanghai Media Group, told the conference that China's new media market \"is already experiencing explosive growth\". It was particularly strong in charged broadband services and mobile value-added services. Leading China-watcher, and founder of the CGA consultancy Jeanne-Marie Gescher, agreed that the time was ripe for foreign media groups to tap China's huge media market potential. \"China's media are now driven by investors who do not care how people consume media - they just want people to consume more of it,\" Mrs Gescher concluded.<sep>`\n",
            "GENERATED: `said be has will on he I Mr withn would atThe last had have his£(b against about from this one But outm government been wereting:) film theirdIt NewS over numberAedI only after we team England first good up says think them which ify did get game former play since partreman three office its admitted music meeting best</s>`\n",
            "------------------------------------------------------------------------------\n",
            "\n",
            "------------------------------------------------------------------------------\n",
            "PROMPT: `software includes tools for restoring colour and removing red eye, as well as sharpening images. Photos can then be uploaded to sites such as Ofoto. Many people use the sites to edit and improve their favourite photographs before ordering prints. Mr Hawkins added: \"The growth area is that you can order your prints online. Friends and family can also access pictures you want them to see and they can print them out too. \"Rather than just a place to dump your pictures, it's about sharing them.\" The vast majority of pictures remain on a PC's hard drive, which is why search tools, such as those offered by Google, become increasingly important. But some historians and archivists are concerned that the need for perfect pictures will mean that those poor quality prints which offered a tantilising glimpse of the past may disappear forever. \"It's one thing taking pictures, it's another finding them,\" said Mr Hawkins. \"But this is the same problem that has always existed - how many of us have photos in wallets tucked away somewhere?\"<sep>`\n",
            "GENERATED: `was he but I with notn would at last had his new£ US(b against an year fromm government been weret) film more UK whod NewS over numberAedI only after we team England first good up says think next now ify did get game former play since partremaner three office its admitted music meeting best Brown electioners going two A</s>`\n",
            "------------------------------------------------------------------------------\n",
            "\n",
            "------------------------------------------------------------------------------\n",
            "PROMPT: `. Jeremy Allaire, chief of Brightcove, told the BBC News website that it would be a flavour of IPTV that was about harnessing the web as a \"channel\". \"It is not just niches, but about exploiting content not usually viewed,\" he said. \"We are focussed on the owners of video content who have rights to digitally distribute content, and who often see unencumbered distribution. \"For them to do it through cable and so on is price-prohibitive,\" he said. This type of IPTV service might also be a distribution channel for more established publishers who have unique types of content that they cannot offer through cable and satellite operators - history channel archives, for instance. What is a clear sign that IPTV has a future is that Microsoft is not the only player in the field. There are a lot of other \"middleware\" players providing similar management services as Microsoft, like Myrio and C-Cor. But it will up to the viewer to decide if it really is to be successful.<sep>`\n",
            "GENERATED: `' I The Mr by withn atThe last had his new£ US(b against an year from this one outm government been weret: people) film UK theird NewS over numberAI after we team England first good says think next now whichy did get game former play since partremaner three office growth its admitted music meeting best Brown electioners going</s>`\n",
            "------------------------------------------------------------------------------\n",
            "\n",
            "------------------------------------------------------------------------------\n",
            "PROMPT: `phone up to cancel their subscription. Some readers were offered a price drop just 25p more expensive than that offered by an alternative operator, making it hardly worth while swapping. Other found themselves tied into 12-month contracts. Broadband has become hugely competitive and providers are desperate to hold on to customers. 12% of those surveyed found themselves unable to swap at all. \"We discovered a huge variety of problems, but one of the biggest issues is the current supplier withholding the information that people need to give to their new supplier,\" said Tim Danton, editor of PC Pro. \"This breaks the code of practice, but because that code is voluntary there's nothing we or Ofcom can do to help,\" he said. There is a vast choice of internet service providers in the UK now and an often bewildering array of broadband packages. With prices set to drop even further in coming months Mr Danton advises everyone to shop around carefully. \"If you just stick with your current connection then there's every chance you're being ripped off,\" he warned.<sep>`\n",
            "GENERATED: `The was for will as I notn wouldThe last had have they his£ US(b against about year from this But outm government beenting:) film whodIt NewS over numberAedI only after team England first good says think next them which ify did get game former play since partmaner three office growth its admitted music meeting best Brown election</s>`\n",
            "------------------------------------------------------------------------------\n",
            "\n",
            "------------------------------------------------------------------------------\n",
            "PROMPT: `screens, one of which is touch sensitive, and also has on-board a short-range wireless link that lets people play against each other. The launch of the media adapter, and the attempt to broaden the appeal of the device, is widely seen as a response to the unveiling of the Sony PSP which was built as a multi-purpose media player and game gadget from the start. Sony is thought to be preparing pre-packaged movies and music for the PSP. The add-on will also work with the GameBoy Advance SP. Nintendo dominates the handheld gaming console world thanks to successive versions of the GameBoy. More than 28 million GameBoy Advance handhelds have been sold around the world. The dual-screen DS is also thought to be selling well with more than 2.5 million expected to be sold by the end of 2004. Nintendo said it had no plans to sell the media adapter outside Japan. When it goes on sale the adapter is expected to cost about 5000 yen (£25), roughly the difference in price between the DS and the higher-priced Sony PSP.<sep>`\n",
            "GENERATED: `\"' I he Mr but notn would atThe last they his new USb an year are this But outm government weret: film UK who theirIt NewS over numberAedI only after we team England first good up says think next now them ify did get former since partremaner three office growth its admitted meeting best Brown electioners going two A</s>`\n",
            "------------------------------------------------------------------------------\n",
            "\n",
            "------------------------------------------------------------------------------\n",
            "PROMPT: `screens, one of which is touch sensitive, and also has on-board a short-range wireless link that lets people play against each other. The launch of the media adapter, and the attempt to broaden the appeal of the device, is widely seen as a response to the unveiling of the Sony PSP which was built as a multi-purpose media player and game gadget from the start. Sony is thought to be preparing pre-packaged movies and music for the PSP. The add-on will also work with the GameBoy Advance SP. Nintendo dominates the handheld gaming console world thanks to successive versions of the GameBoy. More than 28 million GameBoy Advance handhelds have been sold around the world. The dual-screen DS is also thought to be selling well with more than 2.5 million expected to be sold by the end of 2004. Nintendo said it had no plans to sell the media adapter outside Japan. When it goes on sale the adapter is expected to cost about 5000 yen (£25), roughly the difference in price between the DS and the higher-priced Sony PSP.<sep>`\n",
            "GENERATED: `\"' I he Mr but notn would atThe last they his new USb an year are this But outm government weret: film UK who theirIt NewS over numberAedI only after we team England first good up says think next now them ify did get former since partremaner three office growth its admitted meeting best Brown electioners going two A</s>`\n",
            "------------------------------------------------------------------------------\n",
            "\n",
            "------------------------------------------------------------------------------\n",
            "PROMPT: `letting people interact with government via the web. Many online communities, such as chatrooms, mailing lists, community portals, message boards and weblogs often form around common interests or issues. With 53% of UK households now with access to the net, the government, suggests Mr Davies, could act as an intermediary or \"middleman\" to set up public online places of debate and exchange to encourage more \"cosmopolitan politics\" and public trust in policy. \"Government already plays a critical role in helping citizens trade with each other online. \"But it should also play a role in helping citizens connect to one another in civic, non-market interactions,\" said Mr Davies. There is a role for public bodies like the BBC, libraries, and government to bring people back into public debate again instead of millions of \"cliques\" talking to each other, he added. The paper is part of the IPPR's Digital Society initiative which is producing a number of conferences and research papers leading up to the publication of A Manifesto For A Digital Britain.<sep>`\n",
            "GENERATED: `that was has be will on I by but notn would atThe last had have they his new£ US(b against about year are from this But outm been wereting:) film who theirdIt NewS overAedI only after team England first good says think next them ify did get game former sincereer three office growth its admitted music meeting</s>`\n",
            "------------------------------------------------------------------------------\n",
            "\n",
            "------------------------------------------------------------------------------\n",
            "PROMPT: `set up the services will need to be addressed. Handsets also need to be able to work with the DVB-H standard. TV services will have to live up to the expectations of the digital TV generation too, which expects good quality images at low prices, according to analysts. People are also likely to be put off watching TV on such small screens, said Gartner. Digital video recorders, like Europe's Sky+ box, and video-on-demand services mean people have much more control over what TV they watch. As a result, people may see broadcasting straight to mobiles as taking away that control. More powerful smartphones like the XDA II, Nokia 6600, SonyEricsson P900 and the Orange E200, offering web access, text and multimedia messaging, e-mail, calendar and gaming are becoming increasingly common. A report by analysts InStat/MDR has predicted that smartphone shipments will grow by 44% over the next five years. It says that smartphones will make up 117 million out of 833 million handsets shipped globally by 2009.<sep>`\n",
            "GENERATED: `\" in was for The is he I Mr but it notn wouldThe last had his new£ US(b against about an year from this one Butm government been wereting:) film UK who theirdIt NewS numberAedI only after we team England first think now them ify did get game former play since partremaner three office growth its</s>`\n",
            "------------------------------------------------------------------------------\n",
            "\n",
            "------------------------------------------------------------------------------\n",
            "PROMPT: `information centrally on the net, the latest system will store data on a user's PC. \"It's going to put control of digital IDs into the hands of an end-user, the end-user will be in full control,\" said Mr Stephenson. Hailstorm was criticised by privacy campaigners for putting too much sensitive information into the hands of a single company. Passport provides a single log-in for more than one website and stores basic personal information. But its popularity suffered after security scares. Up to 200 million Passport accounts were left vulnerable to online theft and malicious hackers after a flaw in the system was exploited in 2003. Online auction site, eBay, stopped supporting it in January 2005. Although the flaw was fixed, Microsoft has come under regular criticism for the number of security loopholes in Internet Explorer. Last year, it released a major security update for Windows, Service Pack 2, to combat some of the security concerns. Longhorn is due to be released commercially in late 2006, but an updated version of Internet Explorer is due for release later this year.<sep>`\n",
            "GENERATED: `as that The he I with notn would atThe last had have they his new£ US(b against about are from outm government beenting: people) film UK who theird NewS overAedI only we team England first good up says think next now them which ify did get game former play since partremaner three office growth admitted music meeting</s>`\n",
            "------------------------------------------------------------------------------\n",
            "\n",
            "------------------------------------------------------------------------------\n",
            "PROMPT: `households have an interest in having both video-on-demand and PVR,\" he said. Video rental stores may also have to watch their back. \"Video-on-demand is better than having a video-store in your living room and is more convenient,\" he said. NTL said it had not ruled out the possibility of offering a PVR but for the moment is concentrating on video-on-demand. \"PVR is a recording mechanism whereas what we are offering is truly on demand,\" said a spokesman for the company. Video-on-demand has the added advantage of not requiring a separate set-top box or extra remote controls, he added. Adam Thomas, an analyst at research firm Informa Media believes the time is ripe for video-on-demand to flourish. \"While Sky will remain the dominant force in UK pay TV for some time to come, NTL and Telewest seem well placed to successfully ride this second wave of VOD enthusiasm and, if marketed correctly, this could help them eat into Sky's lead,\" he said.<sep>`\n",
            "GENERATED: `The was that be as I Mr by withn wouldThe last they his new£ US(b against about year from one Butm government been wereting: people) film whodIt NewS over numberAedI only after team England first good up says think next now whichy did get game former play since partremaner three office growth its admitted music meeting</s>`\n",
            "------------------------------------------------------------------------------\n",
            "\n",
            "------------------------------------------------------------------------------\n",
            "PROMPT: `that my monthly bill had risen from its normal £3 to £5, to £320. This was because of the scam. They simply billed me. What particularly galls me, over and above having over £300 stolen, is that the supplier and the government (through VAT) are profiting from this crime and will not reimburse me their portion of my losses. How about an automatic monthly cap of say £20 on premium rate calls that you would have to contact your provider to have lifted? That way you could use legitimate premium rate numbers while limiting fraudulent usage. At least any disputed amount would be limited, far easier for a telecoms operator to write off £20 than it is £750. A few years back I was also the target of such scams but thank God I have already upgraded to broadband and nothing was connected to my modem so all I heard was the sound of an attempted connection. How about home users take some responsibility and ensure their anti-virus and firewall software is up to date? That should prevent the vast majority of these scams.<sep>`\n",
            "GENERATED: `\"' in said has The as he Mr by withn atThe last they his new USb against year one But outm been weret: people film more UK whodIt NewS numberAedI only after we team England first good says think next now them which ify did get game former play since partremaner three office growth admitted music meeting best Brown</s>`\n",
            "------------------------------------------------------------------------------\n",
            "\n",
            "------------------------------------------------------------------------------\n",
            "PROMPT: `. Finnish anti-virus firm F-Secure said that, so far, it had not seen many copies of the Bofra virus and its variants in circulation. Tim Warner, spokesman for anti-virus firm Finjan, said: \"You have people getting very creative now to deliver the virus and get it propagating.\" Mr Warner said organisations needed to prepare deep defences to keep out the modern form of malicious mobile code. \"Most firms have secured their e-mail gateway,\" said Mr Warner, \"but the irony is that most of them let malicious content through the web gateways.\" He said behavioural systems that monitor what users do can help to spot when viruses have penetrated organisations and have started hunting for other victims. The Bofra family of viruses, which were originally thought to be offshoots of the MyDoom bug, can infect machines running Windows 2000, 95, 98, Me, NT, XP and Server 2003. Users running Windows XP that have applied the SP2 update are not vulnerable to the loophole that Bofra exploits.<sep>`\n",
            "GENERATED: `a was' has will on as he I by but withn would atThe last they his new£ US(b against about an year from this one But government beenting) film more UK whoIt New over numberAedI only after we team England first good up says think next ify did game former play since partmaner three office growth admitted music meeting best</s>`\n",
            "------------------------------------------------------------------------------\n",
            "\n",
            "------------------------------------------------------------------------------\n",
            "PROMPT: `and the studios would prefer to use one standard. Last month, Paramount, Universal and Warner Brothers said they were opting for the Toshiba and NEC-backed format, HD-DVD high-definition discs. Those studios currently produce about 45% of DVD content. Sony Pictures Entertainment and MGM Studios have already staked their allegiance with the Blu-ray Disc Association, whose members also include technology companies Dell, Samsung and Matsushita. Twentieth Century Fox is still to announce which technology it will be supporting. If Fox decided to go with Blu-ray too, it would mean the format would have a 47% share of DVD content. Disney said its films would be available on the Blu-ray format when DVD players for the standard went on sale on North America and Japan, expected in 2006. Universal is to start producing films on the HD-DVD format in 2005, and Paramount will start releasing titles using the standard in 2006. Toshiba expects sales of HD-DVDs to reach 300bn yen ($2.9bn, £1.5bn) by 2010.<sep>`\n",
            "GENERATED: `'\" was has that The as he I Mr but not atThe last had his new US against an year are from this But outm government beent: people film more UK whoIt NewS over numberAedI only after we team England first good up says think next now them ify did get game former play since partremaner three office growth admitted music meeting</s>`\n",
            "------------------------------------------------------------------------------\n",
            "\n",
            "------------------------------------------------------------------------------\n",
            "PROMPT: `not quite be ready for yoga, he does have more freedom of movement, being able to twist his hips and bend his wrists, thumbs and neck. Asimo has already made his mark on the international robot scene and in November was inducted into the Robot Hall of Fame. He has wowed audiences around the world with his ability to walk upstairs, recognise faces and come when beckoned. In August 2003 he even attended a state dinner in the Czech Republic, travelling with the Japanese prime minister as a goodwill envoy. He is one of a handful of robots used by tech firms to trumpet their technological advances. Technology developed for Asimo could be used in the automobile industry as electronics increasingly take over from mechanics in car design. For the moment Asimo's biggest role is an entertainer and the audience gathered to see his first public run greeted his slightly comical gait with amusement, according to reports. Robots can fulfil serious functions in society and the United Nations Economic Commission for Europe predicts that the worldwide market for industrial robots will swell from 81,000 units in 2003 to 106,000 in 2007.<sep>`\n",
            "GENERATED: `The-\" said I Mr but itn would atThe last had they new£ US(b against about year are this But outm government been wereting: people) film UK whodIt NewS numberAI only after we team England good up says think next now them which ify did get game former play since partremaner three office growth its admitted</s>`\n",
            "------------------------------------------------------------------------------\n",
            "\n",
            "------------------------------------------------------------------------------\n",
            "PROMPT: `pen and tablet device is used. The software then assigns one of 88 piano notes to individually coloured pixels - ranging from blue at the lower end of this scale to red at the upper end. Mr Wong says the application is still very much in its infancy and is only useful for reading images that have been created digitally. \"If I took a random picture and scanned it and then used my software to recognise it, it wouldn't work that well.\" Mr Wong has been blind from the age of seven and he thinks that having a \"colour memory\" makes the software more useful than it would be to a scientist who had never had any vision. \"As the notes increase in pitch I know the colour's getting redder and redder, and in my mind's eye a patch of red appears.\" The colour to music software has not yet been made available commercially, and Mr Wong believes that several people would have to work together to make it viable. But he hopes that one day it can be developed to give blind people access to photographs and other images.<sep>`\n",
            "GENERATED: `said will was on as by but withnThe last they his new£ US(b against about an year are outm government wereing:) film UK theirdIt NewS over numberAI after we team England first good up think next now them which ify did get game former play since partremaner three office growth admitted meeting best Brown electioners going two</s>`\n",
            "------------------------------------------------------------------------------\n",
            "\n",
            "------------------------------------------------------------------------------\n",
            "PROMPT: `ever. The Xbox game Halo 2, released on 11 November in the UK, is also widely tipped to be one of the best-selling games of the year. The original title won universal acclaim in 2001, and sold more than four million copies. Mr Houlihan added that Sony had done well with the PS2, but it definitely helped that the release of San Andreas coincided with the slimline PS2 hitting the shelves. The run-up to Christmas is a huge battlefield for games consoles and titles. Microsoft's Xbox had been winning the race up until last week in sales. The sales figures also suggest that it may be a largely adult audience driving demand, since GTA San Andreas has an 18 certificate. Sony and Microsoft have both reduced console prices recently and are preparing the way for the launches of their next generation consoles in 2005. \"Both have hit crucial price points at around £100 and that really does open up new consoles to new audience, plus the release of two really important games in terms of development are also driving those sales,\" said Mr Houlihan.<sep>`\n",
            "GENERATED: `he was will as I by notn wouldThe they his US(b against about from this But outm government wereting: people) film whodIt NewS over numberAedI only after we team England first good says think now them which ify did get former play partremaner three office growth its admitted music meeting Brown electioners going A years quarter</s>`\n",
            "------------------------------------------------------------------------------\n",
            "\n",
            "------------------------------------------------------------------------------\n",
            "PROMPT: `also require multiple discs for installation. High-definition DVDs will cut down on that need. Likewise, consoles rely on single discs, so DVDs that can hold six times more data mean much better, high-resolution games. Blu-ray has already won backing from major Hollywood studios, such as MGM Studios, Disney, and Buena Vista, as well as top technology firms like Dell, LG, Samsung and Phillips amongst others. While Toshiba's HD-DVD technology has won backing from Paramount, Universal and Warner Bros. \"The real world benefits (of HD-DVD) are apparent and obvious,\" said Jim Cardwell, president of Warner Home Video. Mr Cardwell added that rapid time to market and dependability were significant factors in choosing to go with HD-DVD. Both formats are courting Microsoft to be the format of choice for the next generation Xbox, but discussions are still on-going. Next generation DVDs will also be able to store images and other data. CES is the largest consumer electronics show in the world, and runs from 6 to 9 January.<sep>`\n",
            "GENERATED: `a was he The I by it notn would at last had have they his new£ USb against about an year this one But outm government beent: people film UK who theirdIt NewS over numberAedI only after we team England first good up says think now them which ify did get game former play since partremaner three office growth its</s>`\n",
            "------------------------------------------------------------------------------\n",
            "\n",
            "------------------------------------------------------------------------------\n",
            "PROMPT: `Snappy Snaps £9.99. A 10x7in snap at Boots would cost £4.99. \"Considering how inconvenient it can be to go to the High Street and how silver-halide prints can fade in the sun, we're adamant that it's now better, cheaper and more convenient to print at home,\" he said. Ann Simpson, marketing manager at Snappy Snaps believes the convenience of high street printing will continue to attract customers. \"Some people will want to do their own thing on their computer but the feedback to us is that customers often have to print two or three pictures at home in order to get a good one,\" she said. \"Many people are not skilled at getting the colour, contrast and cropping right and they don't want the hassle,\" she added. The magazine test found that which ink consumers use determined how long their prints lasted before they started fading. It recommended avoiding so-called third-party inks not produced by printer makers because they tended to produce prints that fade the quickest.<sep>`\n",
            "GENERATED: `was for has as I Mr withnThe last had his new US(b against about an year from this But outm government been wereing:) film UK whodIt NewS over numberAedI only after team England first up says think next them ify did game former play since partmaner office growth its admitted music meeting best Brown electioners going years quarter</s>`\n",
            "------------------------------------------------------------------------------\n",
            "\n",
            "------------------------------------------------------------------------------\n",
            "PROMPT: `First Amendment right that protects all reporters. \"If the court lets Apple get away with this, and exposes the confidences gained by these reporters, potential confidential sources will be deterred from providing information to the media and the public will lose a vital outlet for independent news, analysis and commentary,\" he said. The case began in December 2004 when Apple asked a local Californian court to get the journalists to reveal their sources for articles published on websites AppleInsider.com and PowerPage.org. Apple also sent requested information from the Nfox.com, the internet service provider of PowerPage's publisher Jason O-Grady. As well as looking at how far corporations can go in preventing information from being published, the case will also examine whether online journalists have the same privileges and protections as those writing for newspapers and magazines. The EFF has gained some powerful allies in its legal battle with Apple, including Professor Tom Goldstein, former dean of the Journalism School at the University of California and Dan Gillmor, a well-known Silicon Valley journalist. Apple was not immediately available for comment.<sep>`\n",
            "GENERATED: `is I but Mr it wouldThe last had they his new£ US(b against about an year are one But outm government been wereting: people) film more UK whodIt NewS over numberAedI only after we team England first good up says think next now them which ify did game play since partremaner three office growth admitted music meeting</s>`\n",
            "------------------------------------------------------------------------------\n",
            "\n",
            "------------------------------------------------------------------------------\n",
            "PROMPT: `'s consumer devices, particularly in mobile environments,\" said Alan Schwartz, vice president of SpeechWorks, a division of ScanSoft. \"Pairing our voice technologies with Gracenote's vast music database will bring the benefits of speech technologies to a host of consumer devices and enable people to access their media in ways they've never imagined.\" The two firms did not say if they were developing the technology for languages other than English. Users will also be able to get more information on a favourite song they have been listening to by asking: \"What is this?\" Portable players are becoming popular in cars and a number of auto firms are working with Apple to device interfaces to control the firm's iPod music player. But with tens of thousands of songs able to be stored on one player, voice control would make finding that elusive track by Elvis Presley much easier. The firms gave no indication about whether the iPod, or any other media player, were in mind for the use of the voice control technology. The companies estimate that the technology will be available in the fourth quarter of 2005.<sep>`\n",
            "GENERATED: `was- has as he I Mr but itn atThe last had his new£ US(b against an year from outm governmentt) film UK whodIt NewS overAedI only after we team England first good up says think next now them whichy game former play since partremaner three office growth its admitted meeting best Brown electioners going A years</s>`\n",
            "------------------------------------------------------------------------------\n",
            "\n",
            "------------------------------------------------------------------------------\n",
            "PROMPT: `is becoming increasingly crowded with firms touting programs that help people find files. Search giant Google launched its desktop search tool in October, while Yahoo is planning to release similar software in January. \"Our ambition for search is to provide the ultimate information tool that can find anything you're looking for,\" said Yusuf Mehdi, corporate vice president at Microsoft's MSN internet division. Microsoft's program can be used as a toolbar on the Windows desktop, the Internet Explorer browser and within the Outlook e-mail program. The software giant is coming late to the desktop search arena, competing with a large number of rivals. Google has already released a desktop tool. Yahoo is planning to get into the game in January and AOL is expected to offer desktop searching early next year. Small firms such as Blinkx, Copernic, Enfish X1 Technologies and X-Friend offer tools that catalogue the huge amounts of information that people increasingly store on their desktop or home computer. Apple will release a similar search system for its computers called Spotlight that is due to be released with the Tiger operating system.<sep>`\n",
            "GENERATED: `he was I Mr by but it notn wouldThe last had have they his new£ US(b against about an are from this one But outm government been weret:) film more UK whodIt NewS overAedI only after we team England first good up says think now them which ify did former play since partmaner three office growth admitted music</s>`\n",
            "------------------------------------------------------------------------------\n",
            "\n",
            "------------------------------------------------------------------------------\n",
            "PROMPT: `more too. Booking cinema tickets, text voting, and news or sports text alerts are growing popular. Mobile owners have also given the chance to donate to the Disasters Emergency Committee's (DEC) Asian Tsunami fund by texting \"Donate\" to a simple short code number. Looking further ahead in the year, the MDA's chairman Mike Short, has predicted that more people will go online through their mobiles, estimating 15 billion WAP page impressions. Handsets with GPRS capability - an \"always on\" net connection - will rise to 75%, while 3G mobile ownership growing to five million by the end of 2005. These third generation mobiles offer a high-speed connection which means more data like video can be received on the phone. Globally, mobile phone sales passed 167 million in the third quarter of 2004, according to a recent report from analysts Gartner. That was 26% more than the previous year. It is predicted that there would be two billion handsets in use worldwide by the end of 2005.<sep>`\n",
            "GENERATED: `said as for The he I Mr but it not atThe last had they his new£ USb against about this one But outm government been weret: film UK whodIt NewS overAedI only after we team England first good up says think next now them ify did get game former play since partremaner three office growth its admitted music meeting best</s>`\n",
            "------------------------------------------------------------------------------\n",
            "\n",
            "------------------------------------------------------------------------------\n",
            "PROMPT: `secrets outweighed considerations of public interest. California has so-called \"shield\" laws which protect journalists from prosecution if what they are writing about can be shown to be in the public interest. The Judge wrote: \"...it is not surprising that hundreds of thousands of 'hits' on a website about Apple have and will happen. But an interested public is not the same as the public interest\". Judge Kleinberg said the question of whether the bloggers were journalists or not did not apply because laws governing the right to keep trade secrets confidential covered journalists, too. The Electronic Frontier Foundation, which is acting as legal counsel for Power Page and Apple Insider, said the ruling had potentially wide implications. \"Anyone who reports on companies or the trade press should be concerned about this ruling,\" said EFF lawyer Kurt Opsahl. Mr Opsahl said the EFF was planning to appeal against the ruling because the bloggers were journalists and US federal laws stop net firms handing over copies of e-mail messages if the owner of that account does not give their consent.<sep>`\n",
            "GENERATED: `he by I but with itn would atThe last his new£(b year one outm government beenting people) film more UKdIt NewS numberAI only after we team England first good up says think next now themy get game former play since partremaner three office growth its admitted music meeting best Brown electioners going two A years quarter country</s>`\n",
            "------------------------------------------------------------------------------\n",
            "\n",
            "------------------------------------------------------------------------------\n",
            "PROMPT: `home computing, Commodore was one of the pioneers. The Commodore 64, launched in 1982, was one of the first affordable home PCs. It was followed a few years later by the Amiga. The Commodore 64 sold more than any other single computer system, even to this day. The brand languished somewhat in the 1990s. Commodore International filed for bankruptcy in 1994 and was sold to Dutch firm Tulip Computers. In the late 1980s the firm was a great rival to Atari, which produced its own range of home computers and is now a brand of video games, formerly known as Infogrames. Tulip Computers sold several products under the Commodore name, including portable USB storage devices and digital music players. It had planned to relaunch the brand, following an upsurge of nostalgia for 1980s-era games. Commodore 64 enthusiasts have written emulators for Windows PC, Apple Mac and even PDAs so that the original Commodore games can be still run. The sale of Commodore is expected to be complete in three weeks in a deal worth over £17m.<sep>`\n",
            "GENERATED: `\" said' has will on he I Mr but with it notn would atThe last they his new US(b against about year are from But out government been wereting: people) film UK who theirdIt NewS numberAI only after we team England good says think next them ify did get game former play since partremaner office growth admitted meeting</s>`\n",
            "------------------------------------------------------------------------------\n",
            "\n",
            "------------------------------------------------------------------------------\n",
            "PROMPT: `on the Patentability of Computer-Implemented Inventions changed so that it excludes the patenting of software. The planned law has ignited angry debate about whether the EU should allow the patenting of computer programs and internet business methods as currently happens in the US. So, for instance, US-based Amazon.com holds a patent on 'one-click shopping'. Critics claim the law, which the EU says is needed to harmonise with the US, is little more than a law on ideas. \"Patent rights, it is claimed, protect inventors but in this case it is exclusively the interests of the big companies that are protected,\" Eva Lichtenberg, a Austrian Green member of the European Parliament said in a statement. \"Smaller, innovative firms cannot afford the patenting and legal costs that the directive would inflict on them,\" she added. The European Parliament has already clashed with the European Union on the issue and there have been accusations that the process to decide the issue has been undemocratic. The directive has been subject to several previous delays.<sep>`\n",
            "GENERATED: `was he will be I Mr by notn atThe last had they his new£(b against an year from one But outm government weret: people) film UK who theirdIt NewS over numberA only after we team England first good up think next now ify did get game former play since partreman three office growth its admitted music meeting best Brown election</s>`\n",
            "------------------------------------------------------------------------------\n",
            "\n",
            "------------------------------------------------------------------------------\n",
            "PROMPT: `, one of the company's directors, said it would make a big difference to those with tremors. \"I'm a pilot and my tremor condition has not limited my ability to fly a plane,\" he said. \"But using a PC has proven almost impossible simply because everything revolves around using the mouse to accurately manipulate the tiny cursor on the screen.\" He said a prototype of the gadget had transformed his life. The device could help open up computing to millions more people who have found shaking to be a barrier. Last year, the Office for National Statistics reported that for the first time, more than half of all households in Britain had a home computer. With prices getting cheaper to get online too, computer ownership is increasing. But although 62% of British people have tried the internet, only 15% of Britons aged 65 or over have been online. More than six million UK households now have a broadband net. By the middle of 2005, it is estimated that 50% of all UK net users will be on broadband. There are still millions using the net through dial-up connections too.<sep>`\n",
            "GENERATED: `as was I Mr by butn atThe last they new£ US(b against about an from this out government wereting:) film theirdIt NewS numberAed after we team England good says think next them which ify did game former play since partremaner three office growth its admitted music meeting best Brown electioners going two A years quarter countryll</s>`\n",
            "------------------------------------------------------------------------------\n",
            "\n",
            "------------------------------------------------------------------------------\n",
            "PROMPT: `in the UK can already download football and music clips on their handsets. Some 1,000 fans of the London-based band will have to pay five pounds for a ticket and need a 3G handset. \"Once you have paid, you can come and go as much as you like, because we expect the customers to be mobile,\" said 3 spokesperson Belinda Henderson. \"It's like going to a concert hall, except that you are virtually there.\" The company behind the trial hopes to learn more about how people use their video phones. \"We are looking on how long people will stay on average on the streams. Some people may stay the whole time, some may dip in and out,\" said Ms Henderson. \"We actually expect people to dip in and out because they are mobile and they will be doing other things.\" 3 is looking to music as a way of persuading more people to take up the latest video phones. It is already planning regular gigs throughout 2005. And during the intermission, of course, you would still be able to make a phone call.<sep>`\n",
            "GENERATED: `I was has he Mr by but with it notn atThe last had his new£ US(b against an year from this one Butm government been wereting:) film whod NewS over numberAedI only after team England first good says think next now them which ify did get game former play since partremaner three office growth its admitted meeting</s>`\n",
            "------------------------------------------------------------------------------\n",
            "\n",
            "------------------------------------------------------------------------------\n",
            "PROMPT: `s to the service. Users need to update their license on a monthly basis or the tunes will no longer play. This has outraged some digital music lovers, especially as Napster already offers a cheaper service for downloading music to the PC. Napster claims the higher price is a result of record labels charging more for the to-go service and says it also offers \"greater value\" for customers. Mr Myers is not convinced a rental model will work for consumers. \"We've been offering our unlimited music subscription service for more than three years now and our customers know what they want. Format interoperability, excellent value and the reassurance that music purchased from Wippit is theirs to keep and enjoy on whatever device they choose,\" he said. \"Who wants to download a track that won't play next month if you decide to unsubscribe to the service or change portable player for an iPod or the latest mobile phone?\" Wippit offers a download subscription service for £4.99 per month or £50 per year. It has a catalogue of around 60,000 songs.<sep>`\n",
            "GENERATED: `was The in be I by but withn would atThe last had have his new US(b against about are this one But outm government wereing: people) film UK whodIt NewS over numberAedI only after we team England first good up think them whichy did get game former since partreman office growth its admitted meeting best Brown electioners going</s>`\n",
            "------------------------------------------------------------------------------\n",
            "\n",
            "------------------------------------------------------------------------------\n",
            "PROMPT: `wares, news agency Associated Press reported. A \"Fed-Ex refund processor\" was supposed to allow people to earn $75 an hour working from home. Another item on sale was an \"internet history eraser\". His sister helped him process credit card payments. Jaynes amassed a fortune of $24m from his sales, prosecutors said. \"He's been successful ripping people off all these years,\" AP quoted prosecutor Russell McGuire as saying. Jaynes was also found guilty of breaking a state law which prohibits the sending of more than 100,000 e-mails in 30 days, Virginia State Attorney General Jerry Kilgore reportedly said. Prosecutors had asked for 15 years in jail for Jaynes, and a jail term for his sister. But Jaynes' lawyer David Oblon called the nine-year recommended term \"outrageous\" and said his client believed he was innocent. He pointed out that all three of the accused lived in North Carolina and were unaware of the Virginia state law. Spam messages are estimated to account for at least 60% of all e-mails sent.<sep>`\n",
            "GENERATED: `The has is be will I Mr by but with it notn wouldThe last have they new£ US(b against about year this one governmentting:) film UK who theirdIt NewS over numberAI only after we team England first good up says think next now them ify did get game former play since partmaner office growth its admitted music meeting best</s>`\n",
            "------------------------------------------------------------------------------\n",
            "\n",
            "------------------------------------------------------------------------------\n",
            "PROMPT: `page with skulls and replaces all the working applications, such as contacts, calendar, notebook etc with non-working versions so the phone becomes almost useless. The only thing the phone can do is make and take calls. A statement by Symbian played down the significance of the malicious program and said few people would fall victim to it as users have to go through several steps to install it, one of which includes ignoring a security warning. Symbian said that the spread of the Skulls program was likely to be limited as the program cannot travel from one phone to another by itself. Despite this Finnish anti-virus lab F-Secure said it had sporadic reports of 7610 owners being caught out by it. The firm has produced guidance for users caught out to help them remove the program and get their phone working again. The Skulls program is thought to have been written by a malicious hacker using the alias Tee-222. Symbian phones produced by Sony Ericsson, Motorola, BenQ, Arima and Fujitsu are unaffected by the Skulls program.<sep>`\n",
            "GENERATED: `\" in' will on he I Mr but notn atThe last they his new£ US(b against about an year Butm government wereting:) film more UK whodIt New over numberAedI after we team England first good up says think next now ify did game former play since partman three office growth its admitted music meeting best Brown electioners</s>`\n",
            "------------------------------------------------------------------------------\n",
            "\n",
            "------------------------------------------------------------------------------\n",
            "PROMPT: `pen and tablet device is used. The software then assigns one of 88 piano notes to individually coloured pixels - ranging from blue at the lower end of this scale to red at the upper end. Mr Wong says the application is still very much in its infancy and is only useful for reading images that have been created digitally. \"If I took a random picture and scanned it and then used my software to recognise it, it wouldn't work that well.\" Mr Wong has been blind from the age of seven and he thinks that having a \"colour memory\" makes the software more useful than it would be to a scientist who had never had any vision. \"As the notes increase in pitch I know the colour's getting redder and redder, and in my mind's eye a patch of red appears.\" The colour to music software has not yet been made available commercially, and Mr Wong believes that several people would have to work together to make it viable. But he hopes that one day it can be developed to give blind people access to photographs and other images.<sep>`\n",
            "GENERATED: `said will was on as by but withnThe last they his new£ US(b against about an year are outm government wereing:) film UK theirdIt NewS over numberAI after we team England first good up think next now them which ify did get game former play since partremaner three office growth admitted meeting best Brown electioners going two</s>`\n",
            "------------------------------------------------------------------------------\n",
            "\n",
            "------------------------------------------------------------------------------\n",
            "PROMPT: `to PC-owning consumers who had purchased an iPod. \"They want a further taste of Mac because they like what they have seen with iPod.\" Harris added: \"Everybody thought that Apple was happy to remain a niche maker of luxury computers, and moving into a market dominated by low margin manufacturers like Dell is a bold move. \"But it shows that Apple is keen to capitalise on the mass market success it's had with the iPod. The Mac mini will appeal to PC users looking for an attractive, 'no fuss' computer.\" The new iPod shuffle comes in two versions - one offering 512mb of storage for $99 (£69 in the Uk) and a second with one gigabyte of storage for $149 (£99) - and went on sale Tuesday. The music player has no display and will play songs either consecutively or shuffled. The smaller iPod will hold about 120 songs, said Mr Jobs. Mr Jobs told the delegates at MacWorld that iPod already had a 65% market share of all digital music players.<sep>`\n",
            "GENERATED: `as be he I but notn wouldThe last his USb against year are from this But outm government been weret people film more UK theirIt NewS over numberAedI only after we team England first good up says think next now them which ify did get game former since partremaner three office growth its admitted meeting best Brown electioners going A years</s>`\n",
            "------------------------------------------------------------------------------\n",
            "\n",
            "------------------------------------------------------------------------------\n",
            "PROMPT: `are out of print or only available in a few libraries around the world will be made available to everyone,\" she said. About one million books will be scanned by Google, less than 15% of the total collection held in the Bodleian. \"We hope that Oxford's contribution to this project will be of scholarly use, as well as general interest, to people around the world,\" said Reg Carr, director of Oxford University Library Services. \"It's a significant opportunity to bring our material to the rest of the world,\" said Paul LeClerc, president of the New York Public Library. \"It could solve an old problem: If people can't get to us, how can we get to them?\" \"This is the day the world changes,\" said John Wilkin, a University of Michigan librarian working with Google. \"It will be disruptive because some people will worry that this is the beginning of the end of libraries. \"But this is something we have to do to revitalise the profession and make it more meaningful.\"<sep>`\n",
            "GENERATED: `- has was for The on he I Mr but notn would atThe last had they his new£ US(b against about year from Butm government been wereing) film UK who theirdS over numberAedI after team England first good up says think next now which ify did game former play since partremaner three office growth its admitted music meeting best</s>`\n",
            "------------------------------------------------------------------------------\n",
            "\n",
            "------------------------------------------------------------------------------\n",
            "PROMPT: `such as Spamcop. To limit the chance of mistakes being made, Lycos is using people to ensure that the sites are selling spam goods. As these sites rarely use advertising to offset hosting costs, the burden of high-bandwidth bills could make spam too expensive, said Mr Pollmann. Sites will also slow down under the weight of data requests. Early results show that response times of some sites have deteriorated by up to 85%. Users do not have to be registered users of Lycos to download and use the screensaver. While working, the screensaver shows the websites that are being bothered with requests for data. The screensaver is due to be launched across Europe on 1 December and before now has only been trialled in Sweden. Despite the soft launch, Mr Pollmann said that the screensaver had been downloaded more than 20,000 times in the last four days. \"There's a huge user demand to not only filter spam day-by-day but to do something more,\" he said \"Before now users have never had the chance to be a bit more offensive.\"<sep>`\n",
            "GENERATED: `was I would itn atThe they his new£ US(b against about an year from this one But out government wereting:) film UK who theirdIt NewS over numberAedI after we team England first good says think next them which ify did get game former play since partremaner three office growth its admitted music meeting best Brown electioners</s>`\n",
            "------------------------------------------------------------------------------\n",
            "\n",
            "------------------------------------------------------------------------------\n",
            "PROMPT: `page with skulls and replaces all the working applications, such as contacts, calendar, notebook etc with non-working versions so the phone becomes almost useless. The only thing the phone can do is make and take calls. A statement by Symbian played down the significance of the malicious program and said few people would fall victim to it as users have to go through several steps to install it, one of which includes ignoring a security warning. Symbian said that the spread of the Skulls program was likely to be limited as the program cannot travel from one phone to another by itself. Despite this Finnish anti-virus lab F-Secure said it had sporadic reports of 7610 owners being caught out by it. The firm has produced guidance for users caught out to help them remove the program and get their phone working again. The Skulls program is thought to have been written by a malicious hacker using the alias Tee-222. Symbian phones produced by Sony Ericsson, Motorola, BenQ, Arima and Fujitsu are unaffected by the Skulls program.<sep>`\n",
            "GENERATED: `\" in' will on he I Mr but notn atThe last they his new£ US(b against about an year Butm government wereting:) film more UK whodIt New over numberAedI after we team England first good up says think next now ify did game former play since partman three office growth its admitted music meeting best Brown electioners</s>`\n",
            "------------------------------------------------------------------------------\n",
            "\n",
            "------------------------------------------------------------------------------\n",
            "PROMPT: `Underwood said that internet hunting could be popular with disabled hunters unable to get out in the woods or distant hunters who cannot afford a trip to Texas. In a statement the RSPCA said it had \"grave concerns\" about people being allowed to go online and remotely control a rifle. \"We assume it would be extremely difficult to accurately control a gun in this way and therefore it would be difficult to ensure a 'clean kill', something the RSPCA accepts is the intention of those shooting for sport,\" it said. \"Animals hit but not killed would without doubt be caused to suffer unnecessarily,\" said the statement. Mike Berger, wildlife director of the Texas Parks and Wildlife Department, said current hunting statutes did not cover net or remote hunting. He said state laws on hunting only covered \"regulated animals\" such as native deer and bird species. As such there was nothing to stop Mr Underwood letting people hunt \"unregulated\" imported animals and wild pigs. Mr Underwood also lets people come in person to the ranch to hunt and shoot game animals.<sep>`\n",
            "GENERATED: `- The will has he I byn atThe last have they his new£ US(b against an year are from one Butm government been wereting:) film more UK theirdIt NewS over numberedI after we team England first good up says think next now them which ify former play since partremaner three office growth its admitted music meeting best</s>`\n",
            "------------------------------------------------------------------------------\n",
            "\n",
            "------------------------------------------------------------------------------\n",
            "PROMPT: `\"It does not have the right connectors that fit a TV screen or enough storage.\" Said Mr Fogg: \"It's very much a computer.\" One dissenting opinion came from Brian Gammage, vice-president of research at analysts Gartner. He said: \"I don't think it changes the world.\" Although the Mac mini was very cheap for an Apple computer, it was still expensive compared to many PCs. Also, he said, it appealed in categories that few consumers care about when buying a home computer. \"The PC world is a pile-em-high, sell-em-cheap market,\" he said, \"and all of them are pretty interchangeable.\" \"Since the days when Apple ruled the personal computing world its market share has been on a long, slow decline,\" he said. \"Every few years it does something to give its market share a kick then it starts to go back down again,\" said Mr Gammage. The release of the Mac mini fit perfectly with this trend, he said.<sep>`\n",
            "GENERATED: `and will as be I by butn would last had they his new£ US(b against year one But out government were people) film more UK who theird NewS over numberAed only after we team England first good up says next now which ify did get game former play since partremaner three office growth admitted music meeting best Brown electioners going two A</s>`\n",
            "------------------------------------------------------------------------------\n",
            "\n",
            "------------------------------------------------------------------------------\n",
            "PROMPT: `be used for home-monitoring, \"pet cams\", localised news services, and local authority TV, too says BT. It even suggests that it could target those households in the UK that do not own a computer, 40% of the country. Broadband to them would not be about data and the net - that could come later for them - but about cheap phone calls and more choice of TV programmes. Home Choice already offers 10,000 hours of shows and channels, delivered over broadband to homes in London. With a broadband net subscription, you can also get your TV and phone service. Through content deals and partnerships, it offers satellite as well as terrestrial channels, and bespoke channels based on what viewers pick and choose from its catalogues. It aims to expand nationally, but is seeing a lot of success with what it offers its 15,000 subscribers now, and aims to double uptake as well as reach by the summer. Although still at a very early stage, IPTV is another application for broadband that underlines its growing prominence as a backbone network - another utility like electricity.<sep>`\n",
            "GENERATED: `said was' has The will he I MrnThe last had have they his new£ US(b against an year are this one But outm government been weret: people) film who theirdIt NewS numberAedI only after we team England first good think next which ify did game former play since partremaner three office growth admitted music meeting best</s>`\n",
            "------------------------------------------------------------------------------\n",
            "\n",
            "------------------------------------------------------------------------------\n",
            "PROMPT: `themselves as adverts and offering services for which they had no licence to do so in Texas. Lawyers for the alleged spammers said the lawsuit was groundless and the two men would defend themselves strongly against the accusations. \"Leadplex and PayPerAction are legitimate internet marketing companies that are in complete compliance with the federal Can-Spam Act,\" said Lin Hughes, speaking on behalf of Mr Pitylak and Mr Trotter. In a similar move the US Federal Trade Commission (FTC) has won a court order that stops an international group of spammers sending sexually explicit e-mail. The FTC took the action because the messages being sent violated several parts of the CAN-Spam Act. In particular, the pornographic messages did not identify themselves as being sexually explicit, had deceptive subject headings, did not have working opt-out mechanisms, failed to mention they were adverts and did not give the sender's real world address. The court order stops the spammers sending e-mail and freezes assets prior to a hearing on a permanent injunction.<sep>`\n",
            "GENERATED: `be is will he I by but itn atThe last his new£b about year from this one But outm government beenting: people film more UK who theirdIt NewS over numberedI only after we team England first good up says think next now them ify get game former play since partreman three office growth its admitted music meeting best Brown election</s>`\n",
            "------------------------------------------------------------------------------\n",
            "\n",
            "------------------------------------------------------------------------------\n",
            "PROMPT: `s to the service. Users need to update their license on a monthly basis or the tunes will no longer play. This has outraged some digital music lovers, especially as Napster already offers a cheaper service for downloading music to the PC. Napster claims the higher price is a result of record labels charging more for the to-go service and says it also offers \"greater value\" for customers. Mr Myers is not convinced a rental model will work for consumers. \"We've been offering our unlimited music subscription service for more than three years now and our customers know what they want. Format interoperability, excellent value and the reassurance that music purchased from Wippit is theirs to keep and enjoy on whatever device they choose,\" he said. \"Who wants to download a track that won't play next month if you decide to unsubscribe to the service or change portable player for an iPod or the latest mobile phone?\" Wippit offers a download subscription service for £4.99 per month or £50 per year. It has a catalogue of around 60,000 songs.<sep>`\n",
            "GENERATED: `was The in be I by but withn would atThe last had have his new US(b against about are this one But outm government wereing: people) film UK whodIt NewS over numberAedI only after we team England first good up think them whichy did get game former since partreman office growth its admitted meeting best Brown electioners going</s>`\n",
            "------------------------------------------------------------------------------\n",
            "\n",
            "------------------------------------------------------------------------------\n",
            "PROMPT: `Potentially it could help employers to follow the trail of stolen files and pinpoint whether they had been emailed to a third party, copied, printed, deleted or saved to CD, floppy disk, memory stick or flash card. Other activities the system can monitor include the downloading of pornography, the use of racist or bullying language or the copying of applications for personal use. Increasingly organisations that handle sensitive data, such as governments, are using biometric log-ins such as fingerprinting to provide conclusive proof of who was using a particular machine at any given time. Privacy advocates are concerned that monitoring at work is not only damaging to employee's privacy but also to the relationship between employers and their staff. \"That is not the case,\" said Tim Ellsmore, managing director of 3ami. \"It is not about replacing dialogue but there are issues that you can talk through but you still need proof,\" he said. \"People need to recognise that you are using a PC as a representative of a company and that employers have a legal requirement to store data,\" he added.<sep>`\n",
            "GENERATED: `in The has be will on I Mr by withn wouldThe last his new£ US(b against an year from this one But outm government weret: people) film more UKd NewS over numberAI after we team England first good up says think next now them which ify did get game former play since partremaner three office growth its admitted music</s>`\n",
            "------------------------------------------------------------------------------\n",
            "\n",
            "------------------------------------------------------------------------------\n",
            "PROMPT: `the problem we tackle,\" said Suranga Chandratillake, co-founder of Blinkx. In the latest release of Blinkx, the company has added what it calls smart folders. Once created the folders act as persistent queries that automatically sweep the web for pages related to their subject and catalogues relevant information, documents or incoming e-mails, on hard drives too. What users do with Blinkx and other desktop search engines shows that people tend to be very promiscuous in their use of search engines. \"Blinkx users do not stop using other web search systems,\" he said. \"They might use Google to look up a company, or Yahoo for travel because they know they are good at that,\" he said. \"The classic thing we have seen recently, is people using Blinkx to look at the things they have searched on,\" he said. The variety of ways to search data was only helping users, said Mr Chandratillake and that it was likely that in the future people would use different ones for different tasks.<sep>`\n",
            "GENERATED: `' will I by butn last had his new£ US(b against about an year from this one But outm government been wereting:) film more UK whodIt NewS over numberAedI after team England first says think next now them which ify did get game former play since partremaner three office growth its admitted music meeting best Brown election</s>`\n",
            "------------------------------------------------------------------------------\n",
            "\n",
            "------------------------------------------------------------------------------\n",
            "PROMPT: `film studios which are increasingly relying on revenue from DVD sales. The film industry has stepped up efforts to fight DVD piracy in the last 12 months, taking legal action against websites which offer pirated copies of DVD movies for download. \"Ultimately, we see RipGuard DVD... evolving beyond anti-piracy, and towards enablement of legitimate online transactions, interoperability in tomorrow's digital home, and the upcoming high-definition formats,\" said Steve Weinstein, executive vice president and general manager of Macrovision's Entertainment Technologies Group. Macrovision said RipGuard would also prevent against \"rent, rip and return\" - where people would rent a DVD, copy it and then return the original. RipGuard is expected to be rolled out on DVDs from the middle of 2005, the company said. The new system works specifically to block most ripping programs - if used, those programs will now most likely crash, the company said. Macrovision has said that Rip Guard can be updated if hackers find a way around the new anti-copying measures.<sep>`\n",
            "GENERATED: `was he as I Mr by but with notn atThe had have they his£ US(b about an year this one Butm government been weret:) more UK who theirIt NewS over numberAedI only after team England first good says think next themy did get game former play since partremaner three office growth its admitted music meeting best Brown election</s>`\n",
            "------------------------------------------------------------------------------\n",
            "\n",
            "------------------------------------------------------------------------------\n",
            "PROMPT: `Peel, Harry Potter and Olympics. But there were many strange enquiries, including: what is a dog?, how do you say basketball? and what is the biggest collection of naval fluff? The search engine works by matching key words typed in to different web pages but many people still type in natural language questions. Here are some of the strangest queries of 2004 - spelling and grammar errors left untouched - and their possible solutions: - How to fold a serviette like an elf's boot? - How do I structure a French letter? - What is better one long vacation each year or several short vacations throughout the year? - What is so special about the Swiss? - What are the contemporary issue in nurses? - What is the number 4 in this number 40052308090? - What is up? - What is the name of James Martin's dog? Search engines are key to the way people use the internet. Companies such as Google have become of paramount importance as they dictate how people travel through websites while online.<sep>`\n",
            "GENERATED: `\" said for was has that be will on he Mr with it notn would atThe last had his new£ US(b against from outm government beenting) film more UK whoIt NewS overAedI only after we team England first good says think next now them which ify did get game former play since partremaner three office growth its admitted</s>`\n",
            "------------------------------------------------------------------------------\n",
            "\n",
            "------------------------------------------------------------------------------\n",
            "PROMPT: `BBC News website. \"We are very bullish about it. The fact that I can put photos on here too and share them is super-cool to the consumer,\" he added. The fact that Europeans are far larger public transport users than Americans is one reason why portable media will take off in the coming year too. There is a burgeoning market there for commuters to watch news and other programmes on their way to work. Although Microsoft's content distribution deals are for the US market at the moment, talks were \"always on-going\" with European content suppliers to offer similar services. Various rights management issues have to be ironed out first however. But that does not prevent people from finding ways to create their own content to share online and swap on portable devices, particularly via those which are wi-fi enabled. The possibility is open for non-professional makers of video and audio to take advantage of the growing portable media market to distribute their work. CES, which runs from 6 to 9 January, showcases more than 50,000 new gadgets that will be hitting the shelves in 2005.<sep>`\n",
            "GENERATED: `said was has as Mr by butn wouldThe last had they his£(b against an thism government beenting:) film UK whodIt NewS over numberAI only after we team England good up says think next now ify did get game former play since partremaner three office growth its admitted music meeting best Brown electioners going two A years</s>`\n",
            "------------------------------------------------------------------------------\n",
            "\n",
            "------------------------------------------------------------------------------\n",
            "PROMPT: `also proving popular with shoppers keen to find out who had the most reliable customer service. Data collected by eBay suggests that some smart shoppers are getting round the shortages of hot presents by buying them direct through the auction site. According to eBay UK there are now more than 150 Robosapiens remote control robots for sale via the site. The Robosapiens toy is almost impossible to find in online and offline stores. Similarly many shoppers are turning to eBay to help them get hold of the hard-to-find slimline PlayStation 2, which many retailers are only selling as part of an expensive bundle. The high demand for the PlayStation 2 has meant that prices for it are being driven up. In shops the PS2 is supposed to sell for £104.99. In some eBay UK auctions the price has risen to more than double this figure. Many people are also using eBay to get hold of gadgets not even released in this country. The portable version of the PlayStation has only just gone on sale in Japan yet some enterprising eBay users are selling the device to UK gadget fans.<sep>`\n",
            "GENERATED: `a\" said' was be will he I Mr butn would atThe last have they his new US(b against about year from one Butm government been wereting:) film theirIt NewS over numberAedI after we team England first good says think next if did game former play sinceremaner three office growth its admitted music meeting best Brown electioners</s>`\n",
            "------------------------------------------------------------------------------\n",
            "\n",
            "------------------------------------------------------------------------------\n",
            "PROMPT: `such as Spamcop. To limit the chance of mistakes being made, Lycos is using people to ensure that the sites are selling spam goods. As these sites rarely use advertising to offset hosting costs, the burden of high-bandwidth bills could make spam too expensive, said Mr Pollmann. Sites will also slow down under the weight of data requests. Early results show that response times of some sites have deteriorated by up to 85%. Users do not have to be registered users of Lycos to download and use the screensaver. While working, the screensaver shows the websites that are being bothered with requests for data. The screensaver is due to be launched across Europe on 1 December and before now has only been trialled in Sweden. Despite the soft launch, Mr Pollmann said that the screensaver had been downloaded more than 20,000 times in the last four days. \"There's a huge user demand to not only filter spam day-by-day but to do something more,\" he said \"Before now users have never had the chance to be a bit more offensive.\"<sep>`\n",
            "GENERATED: `was I would itn atThe they his new£ US(b against about an year from this one But out government wereting:) film UK who theirdIt NewS over numberAedI after we team England first good says think next them which ify did get game former play since partremaner three office growth its admitted music meeting best Brown electioners</s>`\n",
            "------------------------------------------------------------------------------\n",
            "\n",
            "------------------------------------------------------------------------------\n",
            "PROMPT: `households have an interest in having both video-on-demand and PVR,\" he said. Video rental stores may also have to watch their back. \"Video-on-demand is better than having a video-store in your living room and is more convenient,\" he said. NTL said it had not ruled out the possibility of offering a PVR but for the moment is concentrating on video-on-demand. \"PVR is a recording mechanism whereas what we are offering is truly on demand,\" said a spokesman for the company. Video-on-demand has the added advantage of not requiring a separate set-top box or extra remote controls, he added. Adam Thomas, an analyst at research firm Informa Media believes the time is ripe for video-on-demand to flourish. \"While Sky will remain the dominant force in UK pay TV for some time to come, NTL and Telewest seem well placed to successfully ride this second wave of VOD enthusiasm and, if marketed correctly, this could help them eat into Sky's lead,\" he said.<sep>`\n",
            "GENERATED: `The was that be as I Mr by withn wouldThe last they his new£ US(b against about year from one Butm government been wereting: people) film whodIt NewS over numberAedI only after team England first good up says think next now whichy did get game former play since partremaner three office growth its admitted music meeting</s>`\n",
            "------------------------------------------------------------------------------\n",
            "\n",
            "------------------------------------------------------------------------------\n",
            "PROMPT: `, with disks costing between $20 (£10.40) to $30 (£15.60) for new titles and $10 (£5.20) to $20 for older films. \"When we first saw the machine and started talking to Sony, we immediately decided it was going to be a winner, both from the gaming perspective and from the perspective of people watching movies on the go,\" Mr Beeks said. The disks, which are smaller than DVDs, only work in Sony's PSP and can hold up to 1.8GB of data. \"We actually believe people who buy the UMD would not have bought it on DVD,\" he said. \"There are people who will want UMD because of the portability. Maybe they're already taking the games with them out of the house, and they're bigger gamers than they are movie watchers.\" Four movies have already been announced for PSP. They are: XXX, Hellboy, Resident Evil: Apocalypse and Once Upon a Time in Mexico.<sep>`\n",
            "GENERATED: `- has that is as I by butn atThe last had his USb against about an year this one Butm government wereting film more UK theirdIt NewS over numberAedI after team England good says think next now ify did get former play since partmaner three office growth its admitted music meeting best Brown election two A years quarter country companyll</s>`\n",
            "------------------------------------------------------------------------------\n",
            "\n",
            "------------------------------------------------------------------------------\n",
            "PROMPT: `. Equally, phones let you navigate through contacts by name so many people have completely forgotten their friends' numbers and could not reconstruct them if they had to. This growing habit of losing gadgets explains the rise of firms such as Retrofone which lets people buy a cheap old-fashioned phone to replace the tiny, shiny expensive one they have just lost. Briton's growing love of phones has also led to the creation of the Mobile Equipment National Database that lets you register the unique ID number of your phone so it can be returned to you in the event of it being lost or stolen. According to statistics 50% of all muggings and snatch theft offences involve mobiles. Millions of gadgets are now logged in the database and organisations such as Transport For London regularly consult it when trying to re-unite folk with their phones and other gadgets. For the drivers, finding a mobile in the back of their cab is one of the more pleasant things many have found. The survey of what else has been left behind included a harp, a dog, a hamster and a baby.<sep>`\n",
            "GENERATED: `\" said for was will on he I Mr butn would atThe last his new£ US(b against about an year from this But outm government wereting:) film UK whodIt NewS overAedI only after we team England first good up says think nexty did get game former play since partmaner three office growth its admitted music meeting best</s>`\n",
            "------------------------------------------------------------------------------\n",
            "\n",
            "------------------------------------------------------------------------------\n",
            "PROMPT: `thrown out, but only after months of uncertainty and millions of dollars. But small companies, and the free and open software movement do not have any patents to trade. Much of the really useful software we use every day, programs like the Apache web server, the GNU/Linux operating system and the fearsomely popular Firefox browser, is developed outside company structures by people who do not have legal departments to check for patent infringements. The damage to software will not happen overnight, of course. If the directive goes through it has to be written into national laws and then there will be a steady stream of legal actions against small companies and open source products. Eventually someone will decide to attack Linux directly, probably with some secret funding from one or two large players. The new directive will limit innovation by forcing programmers to spend time checking for patent infringements or simply avoiding working in potentially competitive areas. And it will damage Europe's computer industry. We can only hope that the Council of Ministers has the integrity and strength to reject this bad law. Bill Thompson is a regular commentator on the BBC World Service programme Go Digital.<sep>`\n",
            "GENERATED: `- \" said was as he I Mrn would atThe last had they his£ US(b about an year arem government been wereting:) film more UK theirdIt NewS over numberAedI team England first good up says think next now them which ify did get game former play since partremaner three office growth its admitted music meeting</s>`\n",
            "------------------------------------------------------------------------------\n",
            "\n",
            "------------------------------------------------------------------------------\n",
            "PROMPT: `BBC News website. \"We are very bullish about it. The fact that I can put photos on here too and share them is super-cool to the consumer,\" he added. The fact that Europeans are far larger public transport users than Americans is one reason why portable media will take off in the coming year too. There is a burgeoning market there for commuters to watch news and other programmes on their way to work. Although Microsoft's content distribution deals are for the US market at the moment, talks were \"always on-going\" with European content suppliers to offer similar services. Various rights management issues have to be ironed out first however. But that does not prevent people from finding ways to create their own content to share online and swap on portable devices, particularly via those which are wi-fi enabled. The possibility is open for non-professional makers of video and audio to take advantage of the growing portable media market to distribute their work. CES, which runs from 6 to 9 January, showcases more than 50,000 new gadgets that will be hitting the shelves in 2005.<sep>`\n",
            "GENERATED: `said was has as Mr by butn wouldThe last had they his£(b against an thism government beenting:) film UK whodIt NewS over numberAI only after we team England good up says think next now ify did get game former play since partremaner three office growth its admitted music meeting best Brown electioners going two A years</s>`\n",
            "------------------------------------------------------------------------------\n",
            "\n",
            "------------------------------------------------------------------------------\n",
            "PROMPT: `on the Patentability of Computer-Implemented Inventions changed so that it excludes the patenting of software. The planned law has ignited angry debate about whether the EU should allow the patenting of computer programs and internet business methods as currently happens in the US. So, for instance, US-based Amazon.com holds a patent on 'one-click shopping'. Critics claim the law, which the EU says is needed to harmonise with the US, is little more than a law on ideas. \"Patent rights, it is claimed, protect inventors but in this case it is exclusively the interests of the big companies that are protected,\" Eva Lichtenberg, a Austrian Green member of the European Parliament said in a statement. \"Smaller, innovative firms cannot afford the patenting and legal costs that the directive would inflict on them,\" she added. The European Parliament has already clashed with the European Union on the issue and there have been accusations that the process to decide the issue has been undemocratic. The directive has been subject to several previous delays.<sep>`\n",
            "GENERATED: `was he will be I Mr by notn atThe last had they his new£(b against an year from one But outm government weret: people) film UK who theirdIt NewS over numberA only after we team England first good up think next now ify did get game former play since partreman three office growth its admitted music meeting best Brown election</s>`\n",
            "------------------------------------------------------------------------------\n",
            "\n",
            "------------------------------------------------------------------------------\n",
            "PROMPT: `. This is not the first attempt to cash in on the outpouring of goodwill that has accompanied appeals for tsunami aid. One e-mail sent out in early January came from someone who claimed that he had lost his parents in the disaster and was asking for help moving an inheritance from a bank account in the Netherlands. The con was very similar to the familiar Nigerian forward fee fraud e-mails that milk money out of people by promising them a cut of a much larger cash pile. Other scam e-mails included a link to a website that supposedly let people donate money but instead loaded spyware on their computers that grabbed confidential information. In a monthly report anti-virus firm Sophos said that two e-mail messages about the tsunami made it to the top 10 hoax list during January. Another tsunami-related e-mail is also circulating that carries the Zar worm which tries to spread via the familiar route of Microsoft's Outlook e-mail program. Anyone opening the attachment of the mail will have their contact list plundered by the worm keen to find new addresses to send itself to.<sep>`\n",
            "GENERATED: `as,\" be I Mr withn would atThe last they£ US(b against year are this one Butm government been wereting:) film more UKdIt NewS over numberAI only after we team England good up says think next now ify did get game former play since partremaner three office growth its admitted music meeting best Brown electioners</s>`\n",
            "------------------------------------------------------------------------------\n",
            "\n",
            "------------------------------------------------------------------------------\n",
            "PROMPT: `part of the service we provide, that customers notify us of anything they have in advance that would give us forewarning.\" Once an attack is spotted dedicated net hardware takes over to remove the attack traffic and ensure that sites stay up. Energis took a similar approach, said Mr Seagrave. \"We have technology out there that allows us to detect attacks in minutes rather than let network engineers spend hours pulling the information together,\" said Mr Seagrave. Also net firms were starting to work more closely together on the problem of DDoS attacks and pool information about where they are coming from. Information gathered on attacks and where they originated has led to some arrests. He said Energis also did its own intelligence work to get in insight into which sites criminal gangs plan to target. \"We have people in places where they shouldn't be, monitoring tech sites,\" he said. Sometimes though, he said, spotting the next victim was easy. \"You can see them going alphabetically through the list with the gambling sites, trying one after another,\" said Mr Seagrave.<sep>`\n",
            "GENERATED: `wills- The as I by but it notn atThe last had his new£ US(b against year this Butm government beening:) film UK who theirdIt New numberAedI only team England first good says think now ify game former play sinceremaner three office growth admitted music meeting best Brown electioners two A years quarter country companyll</s>`\n",
            "------------------------------------------------------------------------------\n",
            "\n",
            "------------------------------------------------------------------------------\n",
            "PROMPT: `\" Of the 50,000 new gadgets and technologies being showcased at CES, many of them are about enhancing the TV-watching experience. High-definition TV sets are everywhere and many new models of LCD (Liquid Crystal Display) TVs have been launched with DVR capability built into them, instead of being external boxes. One such example launched at the show is Humax's 26-inch LCD TV with an 80-hour TiVo DVR and DVD recorder. One of the US's biggest satellite TV companies, DirectTV, has even launched its own branded DVR at the show with 100-hours of recording capability, instant replay, and a search function. The set can pause and rewind TV for up to 90 hours. And Microsoft chief Bill Gates announced in his pre-show keynote speech a partnership with TiVo, called TiVoToGo, which means people can play recorded programmes on Windows PCs and mobile devices. All these reflect the increasing trend of freeing up multimedia so that people can watch what they want, when they want.<sep>`\n",
            "GENERATED: `said be was will as he I Mr by but it notn wouldThe last had£b against year from this one But outm government weret: film more UK who theirIt NewS over numberAedI only after we team England first good says think next now ify did get game former since partmaner three office growth admitted music meeting best Brown electioners going</s>`\n",
            "------------------------------------------------------------------------------\n",
            "\n",
            "------------------------------------------------------------------------------\n",
            "PROMPT: `ink cartridges use a chip technology to sense when they are low on ink and advise the user to make a change. But the suit claims the chips also shut down the cartridges at a predetermined date regardless of whether they are empty. \"The smart chip is dually engineered to prematurely register ink depletion and to render a cartridge unusable through the use of a built-in expiration date that is not revealed to the consumer,\" the suit said. The lawsuit is asking for restitution, damages and other compensation. The cost of printer cartridges has been a contentious issue in Europe for the last 18 months. The price of inkjet printers has come down to as little as £34 but it could cost up to £1,700 in running costs over an 18-month period due to cartridge, a study by Computeractive Magazine revealed last year. The inkjet printer market has been the subject of an investigation by the UK's Office of Fair Trading (OFT), which concluded in a 2002 report that retailers and manufacturers needed to make pricing more transparent for consumers.<sep>`\n",
            "GENERATED: `was be he will I Mr withn would had have his new USb against about from this one outm government wereting: people film who theirdIt NewS numberAI only after we team England first good says think next now them ify did get game former play since partremaner three office growth its admitted music meeting best Brown electioners going two A</s>`\n",
            "------------------------------------------------------------------------------\n",
            "\n",
            "------------------------------------------------------------------------------\n",
            "PROMPT: `May 2001, thinks Mr Weiner. His business savvy, coupled with the technical genius of founder Jerry Yang has proved a winning combination, he says. So as the internet giant emerges from its first decade as a survivor, how will it fare as it enters its teenage years? \"The game is theirs to lose and MSN is the only one that stands in the way of Yahoo's domination,\" predicted Mr Weiner. Nick Hazel, Yahoo's head of consumer services in the UK, thinks the fact that Yahoo has grown up with the first wave of the internet generation will stand it in good stead. Search will be a key focus as will making Yahoo Messenger available on mobiles, forging new broadband partnerships such as that with BT in the UK and continuing to provide a range of services beyond the desktop, he says. Mr Weiner thinks Yahoo's vision of becoming the ultimate gateway to the web will move increasing towards movies and television as more and more people get broadband access. \"It will spread its portal wings to expand into rich media,\" he predicts.<sep>`\n",
            "GENERATED: `said The- was I by but notn would at last had have they his£ US(b against about an year are this But outm government been wereting:) film whod NewS over numberAedI after we team England think next now them which ify did former play since partremaner three office growth admitted music meeting best Brown electioners going</s>`\n",
            "------------------------------------------------------------------------------\n",
            "\n",
            "------------------------------------------------------------------------------\n",
            "PROMPT: `so much with the position we are in today with manufacturers,\" said Mr Oudendijk. \"There may well be a number of dissatisfied customers in the next few months.\" The European Broadcast Union (EBU) is testing different flavours of HD formats to prepare for even better HDTV further down the line. It is similarly concerned that people get the right information on HDTV formats, as well as which devices will support the formats. \"We believe consumers buying expensive displays need to ensure their investment is worthwhile,\" said Phil Laven, technical director for the EBU. The TV display manufacturers want us to watch HD on screens that are at least 42in (106cm), to get the \"true impact\" of HD, they say, although smaller displays suffice. What may convince people to spend money on HD-ready devices is the falling prices, which continue to tumble across Europe. The prices are dropping an average of 20% every year, according to analysts. LCD prices dropped by 43% in Europe as a whole last year, according to Mr Oudendijk.<sep>`\n",
            "GENERATED: `has' and was he I but it notn wouldThe had have his new£ USb against about from this one But outm government been wereting: film more UK whoIt NewS overAedI only after team England first good up says think now them ify did game former play since partremaner three office growth its admitted music meeting best Brown election</s>`\n",
            "------------------------------------------------------------------------------\n",
            "\n",
            "------------------------------------------------------------------------------\n",
            "PROMPT: `the team saw 'bot nets used to launch 226 distributed denial-of-service attacks on 99 separate targets. These attacks bombard websites with data in an attempt to overwhelm the target. Using a 'bot net of machines spread around different networks and nations makes such attacks hard to defend against. One DDoS attack was used by one firm to knock its competitors offline. Other 'bot nets were used to abuse the Google Adsense program that rewards websites for displaying adverts from the search engine. Some networks were used to abuse or manipulate online polls and games. Criminals also seem to be starting to use 'bot nets for mass identity theft, to host websites that look like those of banks so confidential information can be gathered and to peep into online traffic to steal sensitive data. \"Leveraging the power of several thousand bots, it is viable to take down almost any website or network instantly,\" said the researchers. \"Even in unskilled hands, it should be obvious that 'bot nets are a loaded and powerful weapon.\"<sep>`\n",
            "GENERATED: `as has The will he I Mr but notn would atThe last had have they his new£ US(b about year this But outm government beenting: people) film more UK who theirdIt New over numberAI only after we England first good up says think next now them which ify did get game former play since partremaner three office growth</s>`\n",
            "------------------------------------------------------------------------------\n",
            "\n",
            "------------------------------------------------------------------------------\n",
            "PROMPT: `the team saw 'bot nets used to launch 226 distributed denial-of-service attacks on 99 separate targets. These attacks bombard websites with data in an attempt to overwhelm the target. Using a 'bot net of machines spread around different networks and nations makes such attacks hard to defend against. One DDoS attack was used by one firm to knock its competitors offline. Other 'bot nets were used to abuse the Google Adsense program that rewards websites for displaying adverts from the search engine. Some networks were used to abuse or manipulate online polls and games. Criminals also seem to be starting to use 'bot nets for mass identity theft, to host websites that look like those of banks so confidential information can be gathered and to peep into online traffic to steal sensitive data. \"Leveraging the power of several thousand bots, it is viable to take down almost any website or network instantly,\" said the researchers. \"Even in unskilled hands, it should be obvious that 'bot nets are a loaded and powerful weapon.\"<sep>`\n",
            "GENERATED: `as has The will he I Mr but notn would atThe last had have they his new£ US(b about year this But outm government beenting: people) film more UK who theirdIt New over numberAI only after we England first good up says think next now them which ify did get game former play since partremaner three office growth</s>`\n",
            "------------------------------------------------------------------------------\n",
            "\n",
            "------------------------------------------------------------------------------\n",
            "PROMPT: `Ben Verwaayen, BT's chief executive. \"We will be in a very strong position to hit our five million target by summer 2006 much earlier than we had previously expected.\" The last million connections were made over the past four months, with thousands of people being added to the total every day of the week. Those signing up to broadband include those that get their service direct from BT or via the many companies that re-sell BT lines under their own name. Part of the surge in people signing up was due to BT stretching the reach of ADSL - the UK's most widely used way of getting broadband - beyond six kilometres. Asymmetric Digital Subscriber Line technology lets ordinary copper phone lines support high data speeds. The standard speed is 512kbps, though faster connections are available. According to BT, more than 95% of UK homes and businesses can receive broadband over the phone line. It aims to extend this figure to 99.4% by next summer. There are also an estimated 1.7 million cable broadband customers in the UK.<sep>`\n",
            "GENERATED: `said for on has as he I Mr but it notn would atThe have they his new£ US(b against about year one But outm government beenting:) film whodIt NewS numberAedI only after team England first good says think now them which ify did game former play since partmaner three office growth its admitted music meeting best Brown</s>`\n",
            "------------------------------------------------------------------------------\n",
            "\n",
            "------------------------------------------------------------------------------\n",
            "PROMPT: `rnova site, were the discussion forums and net chat channels. The site is thought to have closed following an announcement by the Motion Picture Association of America that it was launching legal action against those operating BitTorrent servers rather than end users. Because of the way that BitTorrent works, server sites do not host the actual file being shared, instead they host a link that points people to others that have it. By targeting servers, the MPAA hopes to cripple BitTorrent's ability to share files. In the opening days of the MPAA campaign, the organisation filed 100 lawsuits against operators of BitTorrent server site. The launching of the legal seems to be having an effect. Phoenix Torrents, another popular BitTorrent site, has also decided to shut down and, though it gave no reasons for the closure, it is thought to be motivated by the threat of legal action. Last week Finnish police raided a BitTorrent site based in the country that, according to reports, let 10,000 users shared pirated films, software, music and games.<sep>`\n",
            "GENERATED: `\" said- will on as he I Mr but withn would atThe last had his new£ US(b about year are from this one But outm government beenting:) film more UK who theirIt NewS over numberAedI only after we team England first good up says think next now them which ify did get game former play since partreman</s>`\n",
            "------------------------------------------------------------------------------\n",
            "\n",
            "------------------------------------------------------------------------------\n",
            "PROMPT: `island includes a gigantic abandoned castle and beautiful beaches which are described as ripe for developing beachfront property. Deathifier will make money from his investment as he is able to tax other gamers who come to his virtual land to hunt or mine for gold. He has also begun to sell plots to people who wish to build virtual homes. \"This type of investment will definitely become a trend in online gaming,\" said Deathifier. The Entopia economy lets gamers exchange real currency into PED (Project Entropia Dollars) and back again into real money. Ten PEDs are the equivalent to one US dollar and typical items sold include iron ingots ($5) and shogun armour ($1.70) Gamers can theoretically earn money by accumulating PEDs through the acquisition of goods, buildings, and land in the Entropia universe. MMORPGs have become enormously popular in the last 10 years with hundreds of thousands of gamers living out alternate lives in fantasy worlds. Almost 200,000 people are registered players on Project Entropia.<sep>`\n",
            "GENERATED: `-' was that be I Mr but it notn would atThe had they new£b against about an year this Butm government been wereing: film more UK theirdIt NewS over numberAedI only after we team England first good up says think next now them ify did get former play since partremaner three office growth its admitted music meeting best</s>`\n",
            "------------------------------------------------------------------------------\n",
            "\n",
            "------------------------------------------------------------------------------\n",
            "PROMPT: `'t really miss search engines if they did not exist. The remaining 33% said they could not live without search sites. More than two-thirds of those questioned, 68%, said they thought that the results they were presented with were a fair and unbiased selection of the information on a topic that can be found on the net. Alongside the growing sophistication of net users is a lack of awareness about paid-for results that many search engines provide alongside lists of websites found by indexing the web. Of those asked, 62% were unaware that someone has paid for some of the results they see when they carry out a search. Only 18% of all searchers say they can tell which results are paid for and which are not. Said the Pew report: \"This finding is ironic, since nearly half of all users say they would stop using search engines if they thought engines were not being clear about how they presented paid results.\" Commenting Mr Macklin said sponsored results must be clearly marked and though they might help with some queries user testing showed that people need to be able to spot the difference.<sep>`\n",
            "GENERATED: `ins was will as he I but itn atThe last had have his new£ US(b against an year from this one Butm government been) film more UK who theirdIt NewS over numberAedI only after we team England first good up says think next now themy get game former play partremaner three office growth its admitted music meeting best</s>`\n",
            "------------------------------------------------------------------------------\n",
            "\n",
            "------------------------------------------------------------------------------\n",
            "PROMPT: `software includes tools for restoring colour and removing red eye, as well as sharpening images. Photos can then be uploaded to sites such as Ofoto. Many people use the sites to edit and improve their favourite photographs before ordering prints. Mr Hawkins added: \"The growth area is that you can order your prints online. Friends and family can also access pictures you want them to see and they can print them out too. \"Rather than just a place to dump your pictures, it's about sharing them.\" The vast majority of pictures remain on a PC's hard drive, which is why search tools, such as those offered by Google, become increasingly important. But some historians and archivists are concerned that the need for perfect pictures will mean that those poor quality prints which offered a tantilising glimpse of the past may disappear forever. \"It's one thing taking pictures, it's another finding them,\" said Mr Hawkins. \"But this is the same problem that has always existed - how many of us have photos in wallets tucked away somewhere?\"<sep>`\n",
            "GENERATED: `was he but I with notn would at last had his new£ US(b against an year fromm government been weret) film more UK whod NewS over numberAedI only after we team England first good up says think next now ify did get game former play since partremaner three office its admitted music meeting best Brown electioners going two A</s>`\n",
            "------------------------------------------------------------------------------\n",
            "\n",
            "------------------------------------------------------------------------------\n",
            "PROMPT: `Connect peer-to-peer network. The piracy group called itself the Underground Network and membership of it demanded that users share between one and 100 gigabytes of files. Direct Connect allows users to set themselves up as central servers that act as co-ordinating spots for sharers. Users would swap files, such as films and music, by exchanging data over the network. During its investigation FBI agents reportedly downloaded 84 movies, 40 software programs, 13 games and 178 \"sound recordings\" from the five hubs that made up the larger piracy group. The raids were organised under the umbrella of Operation Digital Gridlock which was aimed at fighting \"criminal copyright theft on peer-to-peer networks\". In total, six raids were carried out in August. Five were on the homes of suspected copyright thieves and one on a net service firm. The Department of Justice said that both men pleaded guilty to one count of conspiracy to commit felony copyright infringement. They also pleaded guilty to acting for commercial advantage. The two men are due to be sentenced on 29 April.<sep>`\n",
            "GENERATED: `' has he is will I Mr but with notnThe last had have they his new£ US(b against about an year this Butm government beenting: people) film more UK who theirdIt NewS numberAedI only after we team England first good says think next now them ify did get game former play since partreman three office growth admitted</s>`\n",
            "------------------------------------------------------------------------------\n",
            "\n",
            "------------------------------------------------------------------------------\n",
            "PROMPT: `. Finnish anti-virus firm F-Secure said that, so far, it had not seen many copies of the Bofra virus and its variants in circulation. Tim Warner, spokesman for anti-virus firm Finjan, said: \"You have people getting very creative now to deliver the virus and get it propagating.\" Mr Warner said organisations needed to prepare deep defences to keep out the modern form of malicious mobile code. \"Most firms have secured their e-mail gateway,\" said Mr Warner, \"but the irony is that most of them let malicious content through the web gateways.\" He said behavioural systems that monitor what users do can help to spot when viruses have penetrated organisations and have started hunting for other victims. The Bofra family of viruses, which were originally thought to be offshoots of the MyDoom bug, can infect machines running Windows 2000, 95, 98, Me, NT, XP and Server 2003. Users running Windows XP that have applied the SP2 update are not vulnerable to the loophole that Bofra exploits.<sep>`\n",
            "GENERATED: `a was' has will on as he I by but withn would atThe last they his new£ US(b against about an year from this one But government beenting) film more UK whoIt New over numberAedI only after we team England first good up says think next ify did game former play since partmaner three office growth admitted music meeting best</s>`\n",
            "------------------------------------------------------------------------------\n",
            "\n",
            "------------------------------------------------------------------------------\n",
            "PROMPT: `\"PS3 will provide graphics indistinguishable from movies,\" said Mr Florin. He said the distribution method for games would also change radically in the next round of consoles. \"A gamer could buy a starter disc for 10 euros. When he goes home he goes online and he could buy AI and levels as you go. \"It's much smarter if you can get levels as you go.\" Mr Armes warned that developers still had to learn how to tell stories effectively in the medium. \"In some ways we are trying to forget about the hardware, go in the opposite direction. We have been very bad at letting technology design our creativity. \"What we have to do as a company is start ignoring the technology and learning our craft in telling stories.\" Mr Gardner agreed: \"We can thrown more polygons around and have better AI but if it doesn't make for a better game then that's not very useful.\" Developers will certainly have the tools with the new machines, but how they employ them is still to be decided.<sep>`\n",
            "GENERATED: `was has- The on I byThe last his£ US(b against an year this one But outm government wereing people) film UK who theird NewS over numbered only after team England first good up says think now whichy did former play since partremaner three office growth its admitted music meeting best Brown electioners going two years quarter country thanll take</s>`\n",
            "------------------------------------------------------------------------------\n",
            "\n",
            "------------------------------------------------------------------------------\n",
            "PROMPT: `intellectual property was adequately protected would European inventors prosper. He said the benefits of the bill had been obscured by special interest groups which muddied debate over the rights and wrongs of software patents. Other proponents of the bill said it was a good compromise that avoided the excesses of the American system which allows the patenting of business practices as well as software. But opponents of the bill said that it could stifle innovation, be abused by firms keen to protect existing monopolies and could hamper the growth of the open source movement. The proposed law had a troubled passage through the European parliament. Its progress was delayed twice when Polish MEPs rejected plans to adopt it. Also earlier this month the influential European Legal Affairs Committee (JURI) said the law should be re-drafted after it failed to win the support of MEPs. To become law both the European Parliament and a qualified majority of EU states have to approve of the draft wording of the bill. The latest rejection means that now the bill on computer inventions must go back to the EU for re-consideration.<sep>`\n",
            "GENERATED: `\" in' has is will he I Mr but with notn atThe last they his new£ USb against about an year are from one outm government weret: people film more UK who theirIt NewS numberAI only we team England first up says think next them ify did get game former play since partmaner three office its admitted music meeting best Brown</s>`\n",
            "------------------------------------------------------------------------------\n",
            "\n",
            "------------------------------------------------------------------------------\n",
            "PROMPT: `. Downloadable ringtones are still proving highly popular, but so is mobile chat. BandAid was the fastest ever-selling ringtone this year, according to the MDA, and chat was given some publicity when Prime Minister Tony Blair answered questions through mobile text chat. Multimedia messaging services also looked brighter with 32% of all mobiles in the UK able to send or receive picture messages. This is a 14% rise from last September's figures. But a recent report from Continental Research reflects the continuing battle mobile companies have to actually persuade people to go online and to use MMS. It said that 36% of UK camera phone users had never sent a multimedia message, or MMS. That was 7% more than in 2003. Mobile companies are keen for people to use multimedia functions their phones, like sending MMS and going online, as this generates more money for them. But critics say that MMS is confusing and some mobiles are too difficult to use. There have also been some issues over interoperability, and being able to send MMS form a mobile using one network to a different one.<sep>`\n",
            "GENERATED: `\" will has The be on he I Mr by it notn would atThe they his new£ US(b against about an outm government wereting:) film whodIt NewS numberedI only after we team England first good up says think next now which ify did get game former play since partremaner three office growth its admitted music meeting best</s>`\n",
            "------------------------------------------------------------------------------\n",
            "\n",
            "------------------------------------------------------------------------------\n",
            "PROMPT: `home have players, compared to 9% of those who have dial-up access. MP3 players are still the gadget of choice for younger adults. Almost one in five US citizens aged under 30 have one. This compares to 14% of those aged 30-39 and 14% of those aged 40-48. The influence of children also plays a part. Sixteen percent of parents living with children under 18 have digital players compared to 9% of those who don't. The ease of use and growth of music available on the net are the main factors for the upsurge in ownership, the survey found. People are beginning to use them as instruments of social activity - sharing songs and taking part in podcasting - the survey found. \"IPods and MP3 players are becoming a mainstream technology for consumers\" said Lee Rainie, director of the Pew Internet and American Life Project. \"More growth in the market is inevitable as new devices become available, as new players enter the market, and as new social uses for iPods/MP3 players become popular,\" he added.<sep>`\n",
            "GENERATED: `was has be that will I Mr by but it notn would atThe last had they his£(b against about an year from this But outm government been were: people) film more UK theirdIt NewS over numberAedI only after we team England first good says think next now which ify did get game former play sinceremaner three office its</s>`\n",
            "------------------------------------------------------------------------------\n",
            "\n",
            "------------------------------------------------------------------------------\n",
            "PROMPT: `in the UK can already download football and music clips on their handsets. Some 1,000 fans of the London-based band will have to pay five pounds for a ticket and need a 3G handset. \"Once you have paid, you can come and go as much as you like, because we expect the customers to be mobile,\" said 3 spokesperson Belinda Henderson. \"It's like going to a concert hall, except that you are virtually there.\" The company behind the trial hopes to learn more about how people use their video phones. \"We are looking on how long people will stay on average on the streams. Some people may stay the whole time, some may dip in and out,\" said Ms Henderson. \"We actually expect people to dip in and out because they are mobile and they will be doing other things.\" 3 is looking to music as a way of persuading more people to take up the latest video phones. It is already planning regular gigs throughout 2005. And during the intermission, of course, you would still be able to make a phone call.<sep>`\n",
            "GENERATED: `I was has he Mr by but with it notn atThe last had his new£ US(b against an year from this one Butm government been wereting:) film whod NewS over numberAedI only after team England first good says think next now them which ify did get game former play since partremaner three office growth its admitted meeting</s>`\n",
            "------------------------------------------------------------------------------\n",
            "\n",
            "------------------------------------------------------------------------------\n",
            "PROMPT: `and are thus more suitable for playing games. Furthermore, the adoption of mobile phones continues to spread across the world. It's predicted that by 2006 two billion people will own a mobile phone. The growing importance of mobile gaming was reflected by a keynote given by John Batter, general manager at EA Mobile. EA Mobile is a division of Electronic Arts, the biggest games publisher. Until recently Electronic Arts had been dismissive of games for phones. \"The last time you checked, EA wasn't in this business,\" Mr Batter admitted. But he said EA now planned on dominating the market by releasing mobile versions of its most popular franchises. EA plans to release up to 20 mobile games over the next 12 months. The first will be a version of its Need for Speed racing game, created by EA Mobile's 30-person development team. Mr Batter predicted that by 2006, mobile phones would be capable of running games of comparable quality to those on Sony's upcoming PSP handheld console. Owain Bennallack is the editor of Develop magazine.<sep>`\n",
            "GENERATED: `has I as but with it notn have they his new£ US(b against about an year from one outm government wereing:) film UK who theirdIt NewS numberAedI only after we England good says think them which ify did get former play since partremaner three office growth music meeting best Brown electioners going A years quarter country company</s>`\n",
            "------------------------------------------------------------------------------\n",
            "\n",
            "------------------------------------------------------------------------------\n",
            "PROMPT: `a part to play in this.\" The market for full-track music downloads was worth just $20 million (£10.5 million) in 2004, but is set to be worth $1.8 billion (£94 million) by 2009, according to Juniper Research. Sony Ericsson just released its Walkman branded mobile phone, the W800, which combines a digital music player with up to 30 hours' battery life, and a two megapixel camera. In July last year, Motorola and Apple announced a version of iTunes online music downloading service would be released which would be compatible with Motorola mobile phones. Apple said the new iTunes music player would become Motorola's standard music application for its music phones. But the challenge will be balancing storage capacity with battery life if mobile music hopes to compete with digital music players like the iPod. Ms Milanesi said more models would likely be released in the coming year with hard drives. But they would be more likely to compete with the smaller capacity music players that have around four gigabyte storage capacity, which would not put too much strain on battery life.<sep>`\n",
            "GENERATED: `has as I he Mr itn atThe had his USb against about an are from one outm government been wereting: people film UK who theirdIt NewS over numberAedI only after we team England first good says think next now themy did get game former sincereer three office growth admitted meeting best Brown electioners going A years quarter country company</s>`\n",
            "------------------------------------------------------------------------------\n",
            "\n",
            "------------------------------------------------------------------------------\n",
            "PROMPT: `n't help myself). In future, I'm going to regulate my time far more strictly. Great game! Having played MMORPG games for some years I agree that these type of games can be life sucking. But my concern is for the younger generation of gamers that play for hours on end in an adult enviroment. Most MMORPG games you need a credit card to play but I dont think parents know just what they are letting there children into. Unless there is undeniable medical proof that staring at a computer screens for hours at a time can damage a person&#191;s health, you can expect this not to decline but to get worse. These people are pathetic. They need to get off their machines and notice that our world is being swiftly overcome by issues and troubles that make the trifling worries of and \"online universe\" absolutely meaningless. 24hours, when i was a kid at school and i was on half term, Ultima Online was the game, ahhhh them was the days! LOL<sep>`\n",
            "GENERATED: `has- said The will as he Mr with it wouldThe last had have his new£ US(b against about year from one out government been wereing: film UK whodIt NewS over numberAedI only after we team England first good up says next now which ify did former since partremaner three office growth its admitted music meeting best Brown electioners</s>`\n",
            "------------------------------------------------------------------------------\n",
            "\n",
            "------------------------------------------------------------------------------\n",
            "PROMPT: `you use automatic techniques, it would be feasible to build a larger image,\" said Jurgen den Hartog, one of the TNO researchers behind the project. \"We were not competing with Mr Lyons, but it started as a lunchtime bet.\" The Dutch team used already available technologies, although it had to upgrade them to be able to handle the high-resolution image. \"We had to rewrite almost all the tools,\" Me den Hartog told the BBC News website. \"All standard Windows viewers available would not be able to load such a large image, so we had to develop one ourselves.\" The 600 component pictures were taken on July 2004 by a computer-controlled camera with a 400 mm lens. Each image was made to slightly overlap so they could be accurately arranged into a composite. The stitching process was also done automatically using five powerful PCs over three days. Following the success of this project, and with promises of help from others, the TNO team is considering creating a full 360-degree panoramic view of another Dutch city, with even higher resolution.<sep>`\n",
            "GENERATED: `' in for has that will he In atThe last have his new£ US(b against about an year are But outm government beent: people) film more UK who theirdIt NewS numberAedI only after England first good up says think next now which ify did get game former play since partremaner office growth its admitted music meeting best</s>`\n",
            "------------------------------------------------------------------------------\n",
            "\n",
            "------------------------------------------------------------------------------\n",
            "PROMPT: `mobile carriers will grow with 3G, thinks Paolo Pescatore mobile industry specialist for analysts IDC. \"Wireless is a medium that is being exploited with a number of features and services. One is chatting and the dating element is key there,\" he said. \"The foundation has been set by SMS and companies are using media like MMS and video to grow the market further.\" But carriers need to be wary and ensure that if they do launch such 3G dating services, they ensure mechanism are in place to monitor and be aware who is registers and accesses these services on regular basis, he cautioned. In July, Vodafone introduced a content control system to protect children from such adult content. The move was as a result of a code of practice agreed by the UK's six largest mobile phone operators in January. The system means Vodafone users need to prove they are over 18 before firewalls are lifted on explicit websites or chat rooms dealing with adult themes. The impetus was the growing number of people with handsets that could access the net, and the growth of 3G technologies.<sep>`\n",
            "GENERATED: `Mr- but it notn would at last had have his new£ US(b against about an year this one outm government wereting:) film more theirdIt NewSAedI only after we team England first good up says think next now them whichy did get game former play since partremaner three office its admitted music meeting best Brown electioners</s>`\n",
            "------------------------------------------------------------------------------\n",
            "\n",
            "------------------------------------------------------------------------------\n",
            "PROMPT: `£35 for a monthly pass. The study, conducted by consultancy Building Zones, found that 16% of visitors came to the Library to sit down and use it as a business centre. This could be because of its proximity to busy mainline stations such as Kings Cross and Euston. The study also found that people were spending an average of six hours in the building, making it an ideal wireless hotspot. Since May the service has registered 1,200 sessions per week, making it London's most active public hotspot. The majority of visitors wanted to be able to access their e-mail as well as the British Library catalogue. The service has been rolled out in partnership with wireless provider The Cloud and Hewlett Packard. It will operate independently from the Library's existing network. The British Library receives around 3,000 visitors each day and serves around 500,000 readers each year. People come to view resources which include the world's largest collection of patents and the UK's most extensive collection of science, technology and medical information. The Library receives between three and four million requests from remote users around the world each year.<sep>`\n",
            "GENERATED: `\" said was is on he I Mr but notn would atThe last had have they his new US(b against about are this one Butm governmentting:) film more whodIt NewS over numberAedI only after we team England first good up says think next now them ify did get game former play since partremaner office growth admitted music</s>`\n",
            "------------------------------------------------------------------------------\n",
            "\n",
            "------------------------------------------------------------------------------\n",
            "PROMPT: `er. \"Consumers are hungry for it and we will discover new models together,\" agreed Mr Morgenstern. But many net users will continue to ignore the entertainment industry's potential controlling grip on content and P2P technology by continuing to use it for their own creations. Unsigned bands, for example, use P2P networks to distribute their music effectively, which also draws the attention of record companies looking for new artists to sign. \"Increasingly, what you are seeing on P2P is consumer-created content,\" said Derek Broes, from Microsoft. \"They will probably play an increasing role in helping P2P spread,\" he said. Looking into P2P's future, file sharing is just the beginning for P2P networks, as far as Mr Broes is concerned. \"Once some of these issues are resolved, you are going to see aggressive movement to protect content, but also in ways that are unimaginable now,\" he said. \"File-sharing is the tip of the iceberg.\"<sep>`\n",
            "GENERATED: `a has was The be I with notn would atThe last had have they his£ US(b against about year this one outm government been wereting: people) film more UK whodIt NewS over numberAedI only after team England first good up says think next them ify did get game former since partreman three office growth its admitted meeting</s>`\n",
            "------------------------------------------------------------------------------\n",
            "\n",
            "------------------------------------------------------------------------------\n",
            "PROMPT: `that while file-trading software can be used to illegally trade movies and music, conceptually the technology had \"some really excellent uses\". Based on Tuesday's hearing it seems unlikely that the Betamax ruling will be overturned but file-sharing firms might still be held responsible for encouraging or inducing piracy. Grokster's lawyer argued that the company should be judged by its current behaviour rather than what it did when it first set up. But this argument was dismissed as \"ridiculous\" by Justice David Souter. CEA boss Mr Shapiro thinks the case is the most important that the Supreme Court will hear this year. \"It's about preserving America's proud history of technological innovation and protecting the ability of consumers to access and utilise technology,\" he said. The case has already been heard by two lower courts and both found in favour of the peer-to-peer networks. They ruled that despite being used to distribute millions of illegal songs, file-sharing could also be used to cheaply distribute software, government documents and promotional copies of music.<sep>`\n",
            "GENERATED: `with a I notn would atThe last have they his new£ US(b against an are from one outm wereting: people) film more UK who theird NewS over numberAedI only after we team England good says think next now them which ify get game former play since partreman three office growth admitted meeting best Brown electioners going A</s>`\n",
            "------------------------------------------------------------------------------\n",
            "\n",
            "------------------------------------------------------------------------------\n",
            "PROMPT: `easier, said Nokia. Transport systems around the world are seeing the advantage of using ticketless smartcards. Using a mobile phone is the next step, said Gerhard Romen, head of market development at Nokia. The ticketless trial will start early in 2005 and people will also be able to access transport information and timetables via their phones. Nokia has worked with electronics giant Philips to develop a shell for the mobile phone that will be compatible with Hanau's existing ticketing system. The system opens up possibilities for mobile devices to be interact with everyday environments, said Mr Romen. \"It could be used in shops to get product information, at bus-stops to get information about the next bus or, for example, by being passed over an advert of a rock star to find out details of concerts or get ringtones,\" he told the BBC News website. He is confident that the trial being run in Germany could be extended to transport systems in other countries. \"The technology offers access to a lot of services and makes it easy to get the information you want,\" he said.<sep>`\n",
            "GENERATED: `as was on I but not would last had have they his new£ US(b against year from this one Butm government been weret:) film more UK whod NewS numberAedI only after we team England first good says think now them which ify did game former play since partremaner three office growth its admitted music meeting best Brown electioners going</s>`\n",
            "------------------------------------------------------------------------------\n",
            "\n",
            "------------------------------------------------------------------------------\n",
            "PROMPT: `that my monthly bill had risen from its normal £3 to £5, to £320. This was because of the scam. They simply billed me. What particularly galls me, over and above having over £300 stolen, is that the supplier and the government (through VAT) are profiting from this crime and will not reimburse me their portion of my losses. How about an automatic monthly cap of say £20 on premium rate calls that you would have to contact your provider to have lifted? That way you could use legitimate premium rate numbers while limiting fraudulent usage. At least any disputed amount would be limited, far easier for a telecoms operator to write off £20 than it is £750. A few years back I was also the target of such scams but thank God I have already upgraded to broadband and nothing was connected to my modem so all I heard was the sound of an attempted connection. How about home users take some responsibility and ensure their anti-virus and firewall software is up to date? That should prevent the vast majority of these scams.<sep>`\n",
            "GENERATED: `\"' in said has The as he Mr by withn atThe last they his new USb against year one But outm been weret: people film more UK whodIt NewS numberAedI only after we team England first good says think next now them which ify did get game former play since partremaner three office growth admitted music meeting best Brown</s>`\n",
            "------------------------------------------------------------------------------\n",
            "\n",
            "------------------------------------------------------------------------------\n",
            "PROMPT: `tell recipients that they have accessed illegal websites. The messages warn that their internet use has been monitored by the FBI's Internet Fraud Complaint Center. An attachment in the e-mail contains the virus, the FBI said. The message asks recipients to click on the attachment and answer some questions about their internet use. But rather than being a questionnaire, the attachment contains a virus that infects the recipient's computer, according to the agency. It is not clear what the virus does once it has infected a computer. Users are warned never to open attachment from unsolicited e-mails or from people they do not know. \"Recipients of this or similar solicitations should know that the FBI does not engage in the practice of sending unsolicited e-mails to the public in this manner,\" the FBI said in a statement. The bureau is investigating the phoney e-mails. The agency earlier this month shut down fbi.gov accounts, used to communicate with the public, because of a security breach. A spokeswoman said the two incidents appear to be unrelated.<sep>`\n",
            "GENERATED: `for was as will he I Mr butn would atThe last had his new£ US(b against an year one outm government wereing:) film more UK whodIt NewS over numberAedI only after we team England first good up says think next now them which if did get game former play since partremaner three office growth its admitted music meeting</s>`\n",
            "------------------------------------------------------------------------------\n",
            "\n",
            "------------------------------------------------------------------------------\n",
            "PROMPT: `dubbed PanaVox, which takes web text and converts it into synthesised speech. In the past speech technology has only been compatible with broadband because of the huge files it downloads but CEC says its compression technology means it will also work on slower dial-up connections. Visitors to Speegle may notice that the look and feel of the site bears more than a passing resemblance to the better known, if silent, search engine Google. Google has no connection with Speegle and the use of bright colours is simply to make the site more visible for those with visual impairments, said Mr Renton. \"It is not a rip-off. We are doing something that Google does not do and is not planning to do and there is truth in the saying that imitation is the sincerest form of flattery,\" he said. Speegle is proving popular with those learning English in countries such as Japan and China. \"The site is bombarded by people just listening to the words. The repetition could be useful although they may all end up talking like robots,\" said Mr Renton.<sep>`\n",
            "GENERATED: `' I wasn would at last had have his new£ US(b against about an year from this one But outm government wereting:) film UK who theird NewS over numberAI after we team England first good think next now them did get game former play partremaner three office growth admitted music meeting best Brown electioners going two A years quarter</s>`\n",
            "------------------------------------------------------------------------------\n",
            "\n",
            "------------------------------------------------------------------------------\n",
            "PROMPT: `organisations could protect themselves against these attacks. The Cyber Security Division also audited US government networks to discover exactly what was sitting on which network. The next step was to be the creation of a scanning system to identify vulnerabilities that made federal networks and machines susceptible to attack by malicious hackers and virus writers. Mr Yoran's division was also doing work to identify the networks and machines that had been broken into by cyber criminals. Despite this success Mr Yoran left his post abruptly at the end of last week, reportedly only giving one day's notice to bosses at the Department of Homeland Security. \"Amit Yoran has been a valuable contributor on cyber security issues over the past year, and we appreciate his efforts in starting the department's cybersecurity program,\" said a Department of Homeland Security spokeswoman. Some reports have suggested that Mr Yoran felt frustrated by the lack of prominence given to work to protect against net-based threats in the wider homeland organisation. An attempt by US politicians to pass a law to promote Mr Yoran and raise the profile of his department's work is now mired in Congress.<sep>`\n",
            "GENERATED: `for will he as I but with it notn wouldThe they new£(b about an are from But outm wereting: people) film more UK who theirdIt NewS numberI after team England first good up says think them ify did get game former play since partremaner three office growth its admitted music meeting best Brown electioners going two A</s>`\n",
            "------------------------------------------------------------------------------\n",
            "\n",
            "------------------------------------------------------------------------------\n",
            "PROMPT: `\" said Alyn Hockey, Clearswift's director of research. Sexually explicit terms make up 14% of security firm Sophos' top 50 word that spammers most commonly try to disguise in order to beat anti-spam filters. Spammers will deliberately misspell a word or use digits instead of letters in an attempt to by-pass anti-spam software, said Graham Cluley, senior technology consultant for security firm Sophos. \"The list of words most commonly hidden by the spammers from anti-spam software reveals that most spam is about the old favourites: money, drugs and sex,\" said Mr Cluley. But anti-spam filters can only be part of the solution to the menace of junk e-mail. \"People must resist their basic instincts to buy from spam mails. Spammers are criminals, plain and simple. If no-one responded to junk e-mail and didn't buy products sold in this way, then spam would be as extinct as the dinosaurs,\" he said.<sep>`\n",
            "GENERATED: `was The has on I but with it notn at last had have they his new£ US(b against year one outm government been wereing people) film more UK whodIt NewS over numberAedI after we team England first good says think next now them which ify did get game former play sinceremaner three office growth its admitted music meeting best</s>`\n",
            "------------------------------------------------------------------------------\n",
            "\n",
            "------------------------------------------------------------------------------\n",
            "PROMPT: `<pad><pad><pad><pad><pad><pad><pad><pad><pad><s> Hacker threat to Apple's iTunes Users of Apple's music jukebox iTunes need to update the software to avoid a potential security threat. Hackers can build malicious playlist files which could crash the program and let them seize control of the computer by inserting Trojan code. A new version of iTunes is now available from the Apple website which solves the problem. Security firm iDefence, which notified users of the problem, recommended that users upgrade to iTunes version 4.7.1. The problem affects all users of iTunes - Windows and Mac OS - running versions 4.7 and earlier. Users can automatically upgrade iTunes by opening the \"look for updates\" window in the program. The security firm says users should avoid clicking on or accessing playlist files - which have the file extension of.pls or.m3u - which have come from unknown sources. Itunes is the world's most popular online music store with more than 200 million songs downloaded since it launched in 2003.<sep>`\n",
            "GENERATED: `was has said be will as he Mr but notn would atThe last had they his£ US(b against about an year are this one But out government been weret: people) film UK who theirdIt NewS over numberAedI only after we team England first good up think next ify did get game former partreman three office growth its admitted meeting</s>`\n",
            "------------------------------------------------------------------------------\n",
            "\n",
            "------------------------------------------------------------------------------\n",
            "PROMPT: `phones have even made it into the art world. An exhibition next month in aid of the charity Mencap, will feature snaps taken from the camera phones of top artists. The exhibition, Fonetography, will feature images taken by photographers David Bailey, Rankin and Nan Goldin, and artists Sir Peter Blake, Tracey Emin and Jack Vettriano. But some uses for them have worried many organisations. Intel, Samsung, the UK's Foreign Office and Lawrence Livermore National Laboratories in the US, have decided to ban camera phones from their buildings for fear of sensitive information being snapped and leaked. Many schools, fitness centres and local councils have also banned them over fears about privacy and misuse. Italy's information commissioner has also voiced concern and has issued guidelines on where and how the phones can be used. But camera phone fears have not dampened the manufacturers' profits. According to recent figures, Sony Ericsson's profits tripled in the third-quarter because of new camera phones. Over 60% of mobiles sold during the three months through to September featured integrated cameras, it said.<sep>`\n",
            "GENERATED: `\"  a was that is as he I Mr but withn would atThe last had they his£(b against an year are this one outm government been wereing: people) film more whoIt NewS numberAI only after we team England first good up says think now which if did get game former play since partremaner office growth its admitted music meeting</s>`\n",
            "------------------------------------------------------------------------------\n",
            "\n",
            "------------------------------------------------------------------------------\n",
            "PROMPT: `that my monthly bill had risen from its normal £3 to £5, to £320. This was because of the scam. They simply billed me. What particularly galls me, over and above having over £300 stolen, is that the supplier and the government (through VAT) are profiting from this crime and will not reimburse me their portion of my losses. How about an automatic monthly cap of say £20 on premium rate calls that you would have to contact your provider to have lifted? That way you could use legitimate premium rate numbers while limiting fraudulent usage. At least any disputed amount would be limited, far easier for a telecoms operator to write off £20 than it is £750. A few years back I was also the target of such scams but thank God I have already upgraded to broadband and nothing was connected to my modem so all I heard was the sound of an attempted connection. How about home users take some responsibility and ensure their anti-virus and firewall software is up to date? That should prevent the vast majority of these scams.<sep>`\n",
            "GENERATED: `\"' in said has The as he Mr by withn atThe last they his new USb against year one But outm been weret: people film more UK whodIt NewS numberAedI only after we team England first good says think next now them which ify did get game former play since partremaner three office growth admitted music meeting best Brown</s>`\n",
            "------------------------------------------------------------------------------\n",
            "\n",
            "------------------------------------------------------------------------------\n",
            "PROMPT: `so that limited his activities and we were able to take corrective action immediately,\" Peter Dobrow, a T-Mobile spokesperson said. It is thought that Mr Jacobsen's hacking campaign took place over at least seven months during which time he read e-mails and personal computer files, according to court records. Although Mr Jacobsen, 21, managed to get hold of some data, it is thought he failed to get customer credit card numbers which are stored on a separate computer system, said Mr Dobrow. T-Mobile confirmed that the US Secret Service was also looking into whether the hacker accessed photos that T-Mobile subscribers had taken with their camera phones. The Associated Press agency reported that Mr Jacobsen also read personal files on the Secret Service agent who was apparently investigating the case. A Los Angeles grand jury indicted Mr Jacobsen with intentionally accessing a computer system without authorisation and with the unauthorised impairment of a protected computer between March and October 2004. He is currently on bail. T-Mobile is a subsidiary company of Deutsche Telekom and has about 16.3 million subscribers in the US.<sep>`\n",
            "GENERATED: `for be will as I by but notn wouldThe last have they new£(b against an year from this one But outm government beenting: people) film more UKdIt NewS numberAedI only after team England first good up says think next now them ify did game former play since partreman three office growth its admitted music meeting best Brown</s>`\n",
            "------------------------------------------------------------------------------\n",
            "\n",
            "------------------------------------------------------------------------------\n",
            "PROMPT: `informed of her suspension. \"I never meant it as something to harm my company and don't understand how they think it did harm them,\" Ms Simonetti said. A legal expert in the US speculated that Delta might be concerned that the fictional content on the blog may be linked back to the airline after the images were posted. Delta has been hit recently by pressures of rising fuel costs and fierce competition. It has said it needs to cut between 6,000 and 7,000 jobs and reduce costs by $5bn (£2.7bn) a year. Analysts had warned recently that the airline might have to seek Chapter 11 bankruptcy prevention. Last week, it struck a $1bn cost-cutting deal with its pilots which could save it from bankruptcy. The deal would see pilots accept a 32% pay cut in return for the right to buy 30 million Delta shares, unions said. And on Monday, it negotiated a deal to defer about $135m in debt which was due next year, until 2007. The airline also said it had agreed the terms of a $600m loan from American Express.<sep>`\n",
            "GENERATED: `s he is will I Mr but not atThe last his new against an are this one But out governmenting: people film more UK who theirdIt NewS over numberAed only we team England first good up says now ify get game former play since partremaner three office growth admitted music meeting best Brown electioners going two years quarter country thanll take November</s>`\n",
            "------------------------------------------------------------------------------\n",
            "\n",
            "------------------------------------------------------------------------------\n",
            "PROMPT: `BT Retail's trials, which is initially for employees and later in the summer for customers, with interest. For BT Retail, she said, the super-fast service could be a way of differentiating it from other players. \"It has been losing market share and this could be one way of gaining some of that back,\" said Ms Finger. Wanadoo is set to trial an 8Mbps service in the summer and also plans to roll out unbundled services - which means it takes over the network from BT - which will provide speeds of up to 15Mbps. There is no timetable for this at the moment. Cable firms ntl and Telewest are also bound to increase bandwidth at some time in the future and, according to an ntl spokesman, are in a better position than BT in the long term. \"BT's network is limited compared to that of cable. With all the other services coming on stream such as video on demand, the question is will 8Mbps be enough?\" he asked.<sep>`\n",
            "GENERATED: `Mr was The I by but notn wouldThe last had have they his new£ US(b against about year Butm government wereting: people) film more UK who theird NewS numberAedI only after we team England first good says think next now them ify did get game former play since partremaner three office growth its admitted music meeting best</s>`\n",
            "------------------------------------------------------------------------------\n",
            "\n",
            "------------------------------------------------------------------------------\n",
            "PROMPT: `pen and tablet device is used. The software then assigns one of 88 piano notes to individually coloured pixels - ranging from blue at the lower end of this scale to red at the upper end. Mr Wong says the application is still very much in its infancy and is only useful for reading images that have been created digitally. \"If I took a random picture and scanned it and then used my software to recognise it, it wouldn't work that well.\" Mr Wong has been blind from the age of seven and he thinks that having a \"colour memory\" makes the software more useful than it would be to a scientist who had never had any vision. \"As the notes increase in pitch I know the colour's getting redder and redder, and in my mind's eye a patch of red appears.\" The colour to music software has not yet been made available commercially, and Mr Wong believes that several people would have to work together to make it viable. But he hopes that one day it can be developed to give blind people access to photographs and other images.<sep>`\n",
            "GENERATED: `said will was on as by but withnThe last they his new£ US(b against about an year are outm government wereing:) film UK theirdIt NewS over numberAI after we team England first good up think next now them which ify did get game former play since partremaner three office growth admitted meeting best Brown electioners going two</s>`\n",
            "------------------------------------------------------------------------------\n",
            "\n",
            "------------------------------------------------------------------------------\n",
            "PROMPT: `said it was still working out pricing and licensing issues. Charging for future versions has not been discounted, he said. \"We'll come up with a plan and roll that out,\" he said. The plan could turn out to be a lucrative one for Microsoft. A recent survey by Earthlink and Webroot found that 90% of PCs are infested with the surreptitious software and that, on average, each one is harbouring 28 separate spyware programs. Currently users wanting protection from spyware have turned to free programs such as Spybot and Ad-Aware. Spyware comes in many forms and at its most benign exploits lazy browsing habits to install itself and subject users to unwanted adverts. Other forms hijack net browser settings to force people to view pages they would otherwise never visit. At its most malign, spyware watches everything that people do with their PC and steals login information and other personal data. Microsoft's announcement about spyware comes after it bought small New York software firm Giant Company Software. Terms of the acquisition were not disclosed.<sep>`\n",
            "GENERATED: `I Mr will butnThe last had his new£ US(b against an year this But governmentt:) film more UK whodItS over numberedI only we team England first good says think next now them which ify did get game former play since partmaner three office growth admitted music meeting best Brown electioners going two years quarter country company than take November</s>`\n",
            "------------------------------------------------------------------------------\n",
            "\n",
            "------------------------------------------------------------------------------\n",
            "PROMPT: `to websites considered harmful or subversive. \"China is censoring Google News to force internet users to use the Chinese version of the site which has been purged of the most critical news reports,\" said the group in a statement. \"By agreeing to launch a news service that excludes publications disliked by the government, Google has let itself be used by Beijing,\" it said. For its part, the search giant said it was looking into the issue. \"It appears that many users in China are having difficulty accessing Google News sites in China and we are working to understand and resolve the issue,\" said a Google spokesperson. Google News gathers information from some 4,500 news sources. Headlines are selected for display entirely by a computer algorithm, with no human editorial intervention. It offers 15 editions of the service, including one tailored for China and one for Hong Kong. Google launched a version in simplified Chinese in September. The site does not filter news results to remove politically sensitive information. But Google does not link to news sources which are inaccessible from within China as this would result in broken links.<sep>`\n",
            "GENERATED: `will-' on he I Mr butn atThe last had have they his new£ US(b against about an year outm weret: people) film more UK who their NewS over numberAedI only after team England first good up says think next now them ify did get game former play sinceremaner three office growth admitted music meeting best Brown election</s>`\n",
            "------------------------------------------------------------------------------\n"
          ],
          "name": "stdout"
        }
      ]
    },
    {
      "cell_type": "code",
      "metadata": {
        "id": "dt9OeIXVMIMP"
      },
      "source": [
        "# Because the actual output (500~1000 words) is usually much longer than the\n",
        "# predicted output, instead of how many n-grams are matched in the actual\n",
        "# output, we compute the number of bigrams in the predicted output that also\n",
        "# appear in the actual output.\n",
        "#\n",
        "# Params\n",
        "# n: n-gram to compare.\n",
        "def computeCustomizedRougeN(predicted_output: str, actual_output: str, n: int):\n",
        "  predicted_words = predicted_output.split()\n",
        "  actual_words = actual_output.split()\n",
        "  assert n <= len(predicted_words) and n <= len(actual_words)\n",
        "  predicted_ngrams = [''.join(predicted_words[i : i + n]) for i in range(len(predicted_words) - n + 1)]\n",
        "  actual_ngrams = set([''.join(actual_words[i : i + n]) for i in range(len(actual_words) - n + 1)])\n",
        "  num_matches = 0\n",
        "  for predicted_ngram in predicted_ngrams:\n",
        "    if predicted_ngram in actual_ngrams:\n",
        "      num_matches += 1\n",
        "  return num_matches / len(predicted_ngrams)"
      ],
      "execution_count": 26,
      "outputs": []
    },
    {
      "cell_type": "code",
      "metadata": {
        "colab": {
          "base_uri": "https://localhost:8080/"
        },
        "id": "jw299zvGTXT6",
        "outputId": "e36747e7-2f83-40be-e105-5346037436af"
      },
      "source": [
        "# result = { \"prompt\": [], \"generated\": [], \"actual\": [] }\n",
        "for i in range(20):\n",
        "  print(computeCustomizedRougeN(result['generated'][i][0], result['actual'][i], 1))"
      ],
      "execution_count": 31,
      "outputs": [
        {
          "output_type": "stream",
          "text": [
            "0.0\n",
            "0.0\n",
            "0.0\n",
            "0.0\n",
            "0.03389830508474576\n",
            "0.03389830508474576\n",
            "0.03508771929824561\n",
            "0.0\n",
            "0.0\n",
            "0.0\n",
            "0.034482758620689655\n",
            "0.03571428571428571\n",
            "0.0\n",
            "0.0\n",
            "0.01818181818181818\n",
            "0.0\n",
            "0.01694915254237288\n",
            "0.0\n",
            "0.0\n",
            "0.0\n"
          ],
          "name": "stdout"
        }
      ]
    },
    {
      "cell_type": "code",
      "metadata": {
        "id": "pEiKpvbVUIug"
      },
      "source": [
        ""
      ],
      "execution_count": null,
      "outputs": []
    }
  ]
}